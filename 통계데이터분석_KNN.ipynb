{
  "nbformat": 4,
  "nbformat_minor": 0,
  "metadata": {
    "colab": {
      "name": "통계데이터분석_KNN.ipynb",
      "provenance": [],
      "authorship_tag": "ABX9TyMpnv8u+MgQpaNPp1gO3sHb",
      "include_colab_link": true
    },
    "kernelspec": {
      "name": "python3",
      "display_name": "Python 3"
    },
    "language_info": {
      "name": "python"
    }
  },
  "cells": [
    {
      "cell_type": "markdown",
      "metadata": {
        "id": "view-in-github",
        "colab_type": "text"
      },
      "source": [
        "<a href=\"https://colab.research.google.com/github/serinss/seSAC_Python_Class/blob/main/%ED%86%B5%EA%B3%84%EB%8D%B0%EC%9D%B4%ED%84%B0%EB%B6%84%EC%84%9D_KNN.ipynb\" target=\"_parent\"><img src=\"https://colab.research.google.com/assets/colab-badge.svg\" alt=\"Open In Colab\"/></a>"
      ]
    },
    {
      "cell_type": "code",
      "execution_count": 28,
      "metadata": {
        "id": "VWSz7zdHkk8t"
      },
      "outputs": [],
      "source": [
        "from sklearn.datasets import load_iris\n",
        "import matplotlib.pyplot as plt\n",
        "import numpy as np\n",
        "from sklearn.neighbors import KNeighborsRegressor"
      ]
    },
    {
      "cell_type": "code",
      "source": [
        "iris_data = load_iris()\n",
        "iris_data"
      ],
      "metadata": {
        "id": "k9seuLR5lcB0"
      },
      "execution_count": null,
      "outputs": []
    },
    {
      "cell_type": "code",
      "source": [
        "data = iris_data['data']\n",
        "target = iris_data['target'] #0,1,2\n",
        "tnames = iris_data['target_names']\n",
        "for i,y in enumerate(target):\n",
        "  print(f\"{i}:{tnames[y]}\") #각각의 클래스마다 50개의 데이터로 이루어져 있음을 알 수 있다"
      ],
      "metadata": {
        "id": "lJb14C61l3Wa"
      },
      "execution_count": null,
      "outputs": []
    },
    {
      "cell_type": "code",
      "source": [
        "sepal_lengths = data[:50,[0]] #setosa 품종의 sepal_length만 추출 (독립 변수로 사용하기 위해 2차원 배열로) - 150개\n",
        "#sepal_lengths\n",
        "sepal_widths = data[:50,1] #setosa 품종의 sepal_length만 추출 (종속 변수로 사용하기 위해 2차원 배열로)\n",
        "#sepal_widths"
      ],
      "metadata": {
        "id": "1u7RtKUQmYnq"
      },
      "execution_count": 30,
      "outputs": []
    },
    {
      "cell_type": "code",
      "source": [
        "import matplotlib.pyplot as plt\n",
        "plt.plot(sepal_lengths[:,0],sepal_widths,'ro',label='setosa')\n",
        "plt.yticks([0,max(sepal_widths)]) #y축 ticks값 수치로 지정 가능 -> y값들이 축에 표시되지 않음\n",
        "plt.xlabel('sepal-length')\n",
        "plt.ylabel('sepal-width')\n",
        "plt.title('iris - setosa')\n",
        "plt.show()\n",
        "#너비가 커지면 길이도 커지는 약한 정비례 관계임을 유추할 수 있음"
      ],
      "metadata": {
        "colab": {
          "base_uri": "https://localhost:8080/",
          "height": 295
        },
        "id": "XtmNLuMmm3hO",
        "outputId": "2baa604c-add6-4c42-ef34-7c6d2f720671"
      },
      "execution_count": 31,
      "outputs": [
        {
          "output_type": "display_data",
          "data": {
            "image/png": "[encoded data removed]",
            "text/plain": [
              "<Figure size 432x288 with 1 Axes>"
            ]
          },
          "metadata": {
            "needs_background": "light"
          }
        }
      ]
    },
    {
      "cell_type": "code",
      "source": [
        "#기존의 fit함수를 사용하지 않고 직접 학습용과 테스트용을 나눔\n",
        "\n",
        "train_xs = sepal_lengths[:len(sepal_lengths)*2//3]\n",
        "train_ys = sepal_widths[:len(sepal_widths)*2//3]\n",
        "test_xs = sepal_lengths[len(sepal_lengths)*2//3:]\n",
        "test_ys = sepal_widths[len(sepal_widths)*2//3:]\n",
        "print(f\"학습용 길이:{len(train_ys)} 테스트용 길이:{len(test_ys)}\")"
      ],
      "metadata": {
        "colab": {
          "base_uri": "https://localhost:8080/"
        },
        "id": "g3dayqdAnnV8",
        "outputId": "ad5a4bbd-c472-4c6f-aafc-b0fff9065024"
      },
      "execution_count": 32,
      "outputs": [
        {
          "output_type": "stream",
          "name": "stdout",
          "text": [
            "학습용 길이:33 테스트용 길이:17\n"
          ]
        }
      ]
    },
    {
      "cell_type": "markdown",
      "source": [
        "#거리 계산"
      ],
      "metadata": {
        "id": "aOx7zqwoCNgv"
      }
    },
    {
      "cell_type": "code",
      "source": [
        "import numpy as np\n",
        "\n",
        "def distance(x1,x2):\n",
        "  if isinstance(x1,int) and isinstance(x2,int): # 두 개의 값이 모두 int형식일 때\n",
        "    return np.abs(x2-x1) #차이의 절대값을 반환\n",
        "  if isinstance(x1,list) and isinstance(x2,list):\n",
        "    x1 = np.array(x1)\n",
        "    x2 = np.array(x2)\n",
        "  return sum((x1-x2)**2)**(1/2)"
      ],
      "metadata": {
        "id": "jE86QtOuA41n"
      },
      "execution_count": 33,
      "outputs": []
    },
    {
      "cell_type": "code",
      "source": [
        "na1 = np.array([1,2])\n",
        "na2 = np.array([4,6])\n",
        "assert distance(na1,na2) == 5.0, \"거리 계산 오류\" #제대로 작동하면 출력X, 오류나면 해당 문구 출력\n",
        "#모듈로 만들 때에는 assert로 테스트하는 습관 필요"
      ],
      "metadata": {
        "id": "-x3ga7jQCmKo"
      },
      "execution_count": 34,
      "outputs": []
    },
    {
      "cell_type": "markdown",
      "source": [
        "#K개의 가까운 이웃을 찾기"
      ],
      "metadata": {
        "id": "tGUJHm8hDf_O"
      }
    },
    {
      "cell_type": "code",
      "source": [
        "def find_k_nearest_neighbor(xs, ys, tx, k=5):\n",
        "    \"\"\"\n",
        "    입력:\n",
        "        xs:독립변수(학습데이터)\n",
        "        ys:종속변수(학습데이터)\n",
        "        tx:독립변수(예측에 사용할 신입)\n",
        "        k:찾을 이웃 수\n",
        "    반환:k개의 이웃의 y의 평균값\n",
        "    \"\"\"\n",
        "    sarr = []\n",
        "    for i, x in enumerate(xs):\n",
        "        dis = distance(x, tx)\n",
        "        sarr.append((dis, i))  #계산한 거리와 인덱스를 보관\n",
        "\n",
        "    sarr.sort(key=lambda x:x[0])  #dis순으로 정렬\n",
        "    k = min(k, len(sarr))  #현재 학습데이터 개수와 k 중에 최솟값을 k로 확정\n",
        "    neighbors = [x[1] for x in sarr[:k]]  #거리가 가까운 이웃 k개의 인덱스로 리스트 구성\n",
        "    return sum(ys[neighbors])/k  #이웃의 평균 값을 반환"
      ],
      "metadata": {
        "id": "XTQuZWJbDfLr"
      },
      "execution_count": 38,
      "outputs": []
    },
    {
      "cell_type": "code",
      "source": [
        "def find_k_nearest_neighbors(xs, ys, t_xs, k=5):\n",
        "    return [find_k_nearest_neighbor(xs, ys, tx, k) for tx in t_xs]"
      ],
      "metadata": {
        "id": "NOKRxqibJ2Dy"
      },
      "execution_count": 39,
      "outputs": []
    },
    {
      "cell_type": "code",
      "source": [
        "pred_val = find_k_nearest_neighbors(train_xs, train_ys, test_xs)\n",
        "#print(find_k_nearest_neighbor(train_xs, train_ys, [3]))\n",
        "pred_val"
      ],
      "metadata": {
        "colab": {
          "base_uri": "https://localhost:8080/"
        },
        "id": "EQ--CXYwKA4b",
        "outputId": "60f58f96-61f4-473f-9ef0-48791352a6d2"
      },
      "execution_count": 41,
      "outputs": [
        {
          "output_type": "execute_result",
          "data": {
            "text/plain": [
              "[3.66,\n",
              " 3.22,\n",
              " 3.38,\n",
              " 3.66,\n",
              " 3.22,\n",
              " 3.2,\n",
              " 3.56,\n",
              " 3.38,\n",
              " 3.2399999999999998,\n",
              " 3.2,\n",
              " 3.38,\n",
              " 3.56,\n",
              " 3.22,\n",
              " 3.56,\n",
              " 3.3,\n",
              " 3.72,\n",
              " 3.38]"
            ]
          },
          "metadata": {},
          "execution_count": 41
        }
      ]
    },
    {
      "cell_type": "code",
      "source": [
        "plt.plot(pred_val,'ro',label='predict')\n",
        "plt.plot(test_ys,'b.',label='actual')\n",
        "plt.ylim(0,5)\n",
        "plt.xlabel(\"index\")\n",
        "plt.ylabel(\"sepal-width\")\n",
        "plt.title(\"iris - setosa\")\n",
        "plt.legend()\n",
        "plt.show()\n",
        "\n",
        "#거의 유사하게 예측"
      ],
      "metadata": {
        "colab": {
          "base_uri": "https://localhost:8080/",
          "height": 295
        },
        "id": "zht8vkFiLFu-",
        "outputId": "8ef8b373-0e41-4c3f-f881-2b24397c8054"
      },
      "execution_count": 43,
      "outputs": [
        {
          "output_type": "display_data",
          "data": {
            "image/png": "[encoded data removed]",
            "text/plain": [
              "<Figure size 432x288 with 1 Axes>"
            ]
          },
          "metadata": {
            "needs_background": "light"
          }
        }
      ]
    },
    {
      "cell_type": "code",
      "source": [
        "print(np.mean(np.abs(pred_val-test_ys)/test_ys))"
      ],
      "metadata": {
        "colab": {
          "base_uri": "https://localhost:8080/"
        },
        "id": "TlyRRV3hMdDi",
        "outputId": "d773132f-bc07-4fdc-af95-66b97ad7e47a"
      },
      "execution_count": 44,
      "outputs": [
        {
          "output_type": "stream",
          "name": "stdout",
          "text": [
            "0.07213767474452305\n"
          ]
        }
      ]
    },
    {
      "cell_type": "code",
      "source": [
        "from sklearn.neighbors import KNeighborsRegressor\n",
        "\n",
        "knr_model = KNeighborsRegressor(n_neighbors=3) #모델 개체 생성\n",
        "knr_model.fit(train_xs,train_ys) #학습\n",
        "pred_val2 = knr_model.predict(test_xs) #예측"
      ],
      "metadata": {
        "id": "BAzI0XbyNDxb"
      },
      "execution_count": 46,
      "outputs": []
    },
    {
      "cell_type": "code",
      "source": [
        "plt.plot(pred_val,'ro',label='our predict')\n",
        "plt.plot(pred_val2,'b.',label='KNeghborsRegressor')\n",
        "plt.ylim(0,5)\n",
        "plt.xlabel(\"index\")\n",
        "plt.ylabel(\"sepal-width\")\n",
        "plt.title(\"iris - setosa\")\n",
        "plt.legend()\n",
        "plt.show()\n",
        "\n",
        "#거의 유사"
      ],
      "metadata": {
        "colab": {
          "base_uri": "https://localhost:8080/",
          "height": 295
        },
        "id": "UvX4Fg3FNLBd",
        "outputId": "9c294266-ba77-4a44-d16b-b0c44336f9ae"
      },
      "execution_count": 47,
      "outputs": [
        {
          "output_type": "display_data",
          "data": {
            "image/png": "[encoded data removed]",
            "text/plain": [
              "<Figure size 432x288 with 1 Axes>"
            ]
          },
          "metadata": {
            "needs_background": "light"
          }
        }
      ]
    },
    {
      "cell_type": "code",
      "source": [
        "print(find_k_nearest_neighbor(train_xs,train_ys,[3,4]))\n",
        "print(find_k_nearest_neighbor(train_xs,train_ys,[6])) #우리의 표본 범위를 벗어난 경우\n",
        "print(find_k_nearest_neighbor(train_xs,train_ys,[8]))\n",
        "print(find_k_nearest_neighbor(train_xs,train_ys,[80]))"
      ],
      "metadata": {
        "colab": {
          "base_uri": "https://localhost:8080/"
        },
        "id": "DH8kEA2COyr4",
        "outputId": "b60792b8-d70e-4fa7-96b9-5b0f706b2551"
      },
      "execution_count": 48,
      "outputs": [
        {
          "output_type": "stream",
          "name": "stdout",
          "text": [
            "3.2\n",
            "3.9599999999999995\n",
            "3.9599999999999995\n",
            "3.9599999999999995\n"
          ]
        }
      ]
    },
    {
      "cell_type": "markdown",
      "source": [
        "위와 같이 KNN에서 독립변수에 특징이 여러 개이고 특성에 따라 크기의 차이가 상당할 때"
      ],
      "metadata": {
        "id": "Dz-16VBaPmzt"
      }
    },
    {
      "cell_type": "code",
      "source": [
        "train_xs2 = np.array([[180,0.84],[190,0.89],[120,0.32],[150,0.49],[160,0.58],[170,0.65]]) #키와 몸무게\n",
        "train_ys2 = np.array([32,33,24,26,30,31]) #허리둘레 \n",
        "print(find_k_nearest_neighbor(train_xs2,train_ys2,[210,1.10],k=1)) #키가 210, 몸무게가 110kg 일 때, 가장 가까운 허리 둘레값 출력\n",
        "print(find_k_nearest_neighbor(train_xs2,train_ys2,[187,0.84],k=1)) #키가 186, 몸무게가 88kg 일 때, 가장 가까운 허리 둘레값 출력"
      ],
      "metadata": {
        "colab": {
          "base_uri": "https://localhost:8080/"
        },
        "id": "4EMa-lYWPqqL",
        "outputId": "09ad542a-8080-417c-e45d-5f45bee86a1c"
      },
      "execution_count": 60,
      "outputs": [
        {
          "output_type": "stream",
          "name": "stdout",
          "text": [
            "33.0\n",
            "32.0\n"
          ]
        }
      ]
    },
    {
      "cell_type": "code",
      "source": [
        "distance([180,0.84],[186,0.84]),distance([190,0.89],[186,0.84])"
      ],
      "metadata": {
        "colab": {
          "base_uri": "https://localhost:8080/"
        },
        "id": "m48sUQ7wSWv4",
        "outputId": "6ac2018d-4b1c-498a-a12f-a2fd68a18a46"
      },
      "execution_count": 63,
      "outputs": [
        {
          "output_type": "execute_result",
          "data": {
            "text/plain": [
              "(6.0, 4.000312487793923)"
            ]
          },
          "metadata": {},
          "execution_count": 63
        }
      ]
    },
    {
      "cell_type": "code",
      "source": [
        "plt.plot(train_xs2[:,0],train_xs2[:,1],'ro',label='height')\n",
        "plt.plot([186],[0.84],'b^',label=\"test\")\n",
        "plt.xlim(0,210)\n",
        "plt.ylim(0,1.10)\n",
        "plt.xlabel('height')\n",
        "plt.ylabel('weight')\n",
        "plt.title('height - weight correlation')\n",
        "plt.legend()\n",
        "plt.show()"
      ],
      "metadata": {
        "colab": {
          "base_uri": "https://localhost:8080/",
          "height": 295
        },
        "id": "r8nnk83HQ6Gy",
        "outputId": "03d406c5-cd57-48c4-9d8f-15219522c93c"
      },
      "execution_count": 62,
      "outputs": [
        {
          "output_type": "display_data",
          "data": {
            "image/png": "[encoded data removed]",
            "text/plain": [
              "<Figure size 432x288 with 1 Axes>"
            ]
          },
          "metadata": {
            "needs_background": "light"
          }
        }
      ]
    },
    {
      "cell_type": "markdown",
      "source": [
        "# 스케일 조절의 필요성"
      ],
      "metadata": {
        "id": "a_x7IuESWmiL"
      }
    },
    {
      "cell_type": "code",
      "source": [
        "heights = train_xs2[:,0]\n",
        "hm= heights.mean()\n",
        "hs = heights.std()\n",
        "heights2 = heights-hm #수평 이동\n",
        "heights3 = heights2/hs #표준 편차 만큼 비율 조절\n",
        "\n",
        "hm3 = heights3.mean()\n",
        "hs3 = heights3.std()\n",
        "hm3,hs3"
      ],
      "metadata": {
        "colab": {
          "base_uri": "https://localhost:8080/"
        },
        "id": "Ft0WhP7uWY0P",
        "outputId": "b12cefa8-46c9-4da1-ab89-89ce7cb79be7"
      },
      "execution_count": 66,
      "outputs": [
        {
          "output_type": "execute_result",
          "data": {
            "text/plain": [
              "(3.978299171573478e-16, 1.0)"
            ]
          },
          "metadata": {},
          "execution_count": 66
        }
      ]
    },
    {
      "cell_type": "code",
      "source": [
        "weights = train_xs2[:,1]\n",
        "wm= weights.mean()\n",
        "ws = weights.std()\n",
        "\n",
        "weights2 = weights-wm #수평 이동\n",
        "weights3 = weights2/ws #표준 편차 만큼 비율 조절\n",
        "\n",
        "wm3 = weights3.mean()\n",
        "ws3 = weights3.std()\n",
        "wm3,ws3"
      ],
      "metadata": {
        "colab": {
          "base_uri": "https://localhost:8080/"
        },
        "id": "qtIujAF4Wfoh",
        "outputId": "2e77e3bd-4b68-4c17-ec60-ff6583f75c25"
      },
      "execution_count": 68,
      "outputs": [
        {
          "output_type": "execute_result",
          "data": {
            "text/plain": [
              "(1.3415194880887307e-16, 1.0)"
            ]
          },
          "metadata": {},
          "execution_count": 68
        }
      ]
    },
    {
      "cell_type": "code",
      "source": [
        "rescaled_train_xs = np.array([[heights3[i],w] for i,w in enumerate(weights3)])\n",
        "rescaled_train_xs"
      ],
      "metadata": {
        "colab": {
          "base_uri": "https://localhost:8080/"
        },
        "id": "FBjMwO_hXcYJ",
        "outputId": "fafeb36e-b9fe-4e84-8388-e34a769c28f4"
      },
      "execution_count": 70,
      "outputs": [
        {
          "output_type": "execute_result",
          "data": {
            "text/plain": [
              "array([[ 0.80873608,  1.08043052],\n",
              "       [ 1.24986486,  1.33565032],\n",
              "       [-1.83803656, -1.57385548],\n",
              "       [-0.51465024, -0.70610813],\n",
              "       [-0.07352146, -0.24671248],\n",
              "       [ 0.36760731,  0.11059525]])"
            ]
          },
          "metadata": {},
          "execution_count": 70
        }
      ]
    },
    {
      "cell_type": "code",
      "source": [
        "h = 186\n",
        "w = 0.84\n",
        "w3 = (w-wm)/ws\n",
        "h3 = (h-hm)/hs\n",
        "\n",
        "h3,w3 #스케일을 조절한 값으로 검색해야 한다"
      ],
      "metadata": {
        "colab": {
          "base_uri": "https://localhost:8080/"
        },
        "id": "Laqbmqx1YHRA",
        "outputId": "5365b40f-2c1c-48cd-f852-c6f264383a17"
      },
      "execution_count": 72,
      "outputs": [
        {
          "output_type": "execute_result",
          "data": {
            "text/plain": [
              "(1.0734133482569597, 1.08043051632241)"
            ]
          },
          "metadata": {},
          "execution_count": 72
        }
      ]
    },
    {
      "cell_type": "code",
      "source": [
        "print(find_k_nearest_neighbor(rescaled_train_xs,train_ys2,[h3,w3],k=1))"
      ],
      "metadata": {
        "colab": {
          "base_uri": "https://localhost:8080/"
        },
        "id": "I1sf_6LOZC3O",
        "outputId": "15fe5514-20cd-454d-e22e-4d01f25f4bc3"
      },
      "execution_count": 73,
      "outputs": [
        {
          "output_type": "stream",
          "name": "stdout",
          "text": [
            "32.0\n"
          ]
        }
      ]
    },
    {
      "cell_type": "code",
      "source": [
        "plt.figure(figsize=(5,5))\n",
        "plt.plot(rescaled_train_xs[:,0],rescaled_train_xs[:,1],'ro',label='sample')\n",
        "plt.plot([h3],[w3],'b^',label=\"test\")\n",
        "plt.xlim(-2,2)\n",
        "plt.ylim(-2,2)\n",
        "plt.legend()\n",
        "plt.show()"
      ],
      "metadata": {
        "colab": {
          "base_uri": "https://localhost:8080/",
          "height": 324
        },
        "id": "cJQbquHbZNTj",
        "outputId": "948bc2e6-3b3d-4449-a780-51410d0fa538"
      },
      "execution_count": 74,
      "outputs": [
        {
          "output_type": "display_data",
          "data": {
            "image/png": "[encoded data removed]",
            "text/plain": [
              "<Figure size 360x360 with 1 Axes>"
            ]
          },
          "metadata": {
            "needs_background": "light"
          }
        }
      ]
    },
    {
      "cell_type": "markdown",
      "source": [
        "#기계학습\n",
        "1. 지도 학습 : 독립 변수와 종속 변수로 학습  \n",
        "  - 회귀\n",
        "  - 분류\n",
        "2. 비지도 학습 : 종속 변수 X\n",
        "  - 군집화\n",
        "  - 강화\n",
        "  - 이상점"
      ],
      "metadata": {
        "id": "kUlAzYC7bTvt"
      }
    }
  ]
}