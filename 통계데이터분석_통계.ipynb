{
  "nbformat": 4,
  "nbformat_minor": 0,
  "metadata": {
    "colab": {
      "name": "통계데이터분석 - 통계.ipynb",
      "provenance": [],
      "collapsed_sections": [],
      "mount_file_id": "1RVAmAWkvlbLMv7JsxQLg2QfdZKKwKK_T",
      "authorship_tag": "ABX9TyOVUKEGkMwYYEH/nSSmxZ+I",
      "include_colab_link": true
    },
    "kernelspec": {
      "name": "python3",
      "display_name": "Python 3"
    },
    "language_info": {
      "name": "python"
    }
  },
  "cells": [
    {
      "cell_type": "markdown",
      "metadata": {
        "id": "view-in-github",
        "colab_type": "text"
      },
      "source": [
        "<a href=\"https://colab.research.google.com/github/serinss/seSAC_Python_Class/blob/main/%ED%86%B5%EA%B3%84%EB%8D%B0%EC%9D%B4%ED%84%B0%EB%B6%84%EC%84%9D_%ED%86%B5%EA%B3%84.ipynb\" target=\"_parent\"><img src=\"https://colab.research.google.com/assets/colab-badge.svg\" alt=\"Open In Colab\"/></a>"
      ]
    },
    {
      "cell_type": "markdown",
      "source": [
        "#들어가기에 앞서"
      ],
      "metadata": {
        "id": "M_iWnBVHrqly"
      }
    },
    {
      "cell_type": "markdown",
      "source": [
        "- 들여쓰기"
      ],
      "metadata": {
        "id": "DGHKwx6gspYb"
      }
    },
    {
      "cell_type": "code",
      "source": [
        "#C언어\n",
        "#i=0\n",
        "#while(i<10)      //i가 10보다 작다면\n",
        "#{\n",
        "#printf(\"%d\",i)   //i값 출력\n",
        "#i+=1             //i값 1 증가\n",
        "#}                //들여쓰기 필요 X, 블럭을 지정해야 인식\n",
        "\n",
        "i=0\n",
        "while i<10:\n",
        "  print(i,end=' ') #파이썬에서는 들여쓰기 엄격\n",
        "  i+=1"
      ],
      "metadata": {
        "colab": {
          "base_uri": "https://localhost:8080/"
        },
        "id": "74ywaZhssqu6",
        "outputId": "4c139327-aa81-4762-cb29-2242cadb1c71"
      },
      "execution_count": 1,
      "outputs": [
        {
          "output_type": "stream",
          "name": "stdout",
          "text": [
            "0 1 2 3 4 5 6 7 8 9 "
          ]
        }
      ]
    },
    {
      "cell_type": "markdown",
      "source": [
        "- 모듈"
      ],
      "metadata": {
        "id": "BGbt_uEBuzKf"
      }
    },
    {
      "cell_type": "code",
      "source": [
        "import sys\n",
        "sys.path.append('/content/drive/MyDrive/Python Files/')"
      ],
      "metadata": {
        "id": "cnfK4886ujMt"
      },
      "execution_count": 2,
      "outputs": []
    },
    {
      "cell_type": "code",
      "source": [
        "import demo #파이썬 파일 명으로 임포트하여 사용\n",
        "demo.print_n(3,7)"
      ],
      "metadata": {
        "colab": {
          "base_uri": "https://localhost:8080/"
        },
        "id": "6nEQorUKusnb",
        "outputId": "9118b04b-de05-42f5-e1d2-8729e7ca0023"
      },
      "execution_count": 3,
      "outputs": [
        {
          "output_type": "stream",
          "name": "stdout",
          "text": [
            "3 3 3 3 3 3 3 3 "
          ]
        }
      ]
    },
    {
      "cell_type": "code",
      "source": [
        "import demo as d #별명 사용 가능\n",
        "d.print_n(3,5)"
      ],
      "metadata": {
        "colab": {
          "base_uri": "https://localhost:8080/"
        },
        "id": "YHtclNBcvWTA",
        "outputId": "57def21a-edad-453d-ae2f-139484de78c4"
      },
      "execution_count": 4,
      "outputs": [
        {
          "output_type": "stream",
          "name": "stdout",
          "text": [
            "3 3 3 3 3 3 "
          ]
        }
      ]
    },
    {
      "cell_type": "code",
      "source": [
        "from demo import print_n #모듈 내 함수 직접 임포트 가능\n",
        "print_n(3)"
      ],
      "metadata": {
        "colab": {
          "base_uri": "https://localhost:8080/"
        },
        "id": "RPLmwg1XvbSM",
        "outputId": "a14bba88-c44f-40b1-b396-292f3c6eae87"
      },
      "execution_count": 5,
      "outputs": [
        {
          "output_type": "stream",
          "name": "stdout",
          "text": [
            "3 3 "
          ]
        }
      ]
    },
    {
      "cell_type": "markdown",
      "source": [
        "- 함수"
      ],
      "metadata": {
        "id": "s8A-y0XkwPMK"
      }
    },
    {
      "cell_type": "code",
      "source": [
        "#함수 정의\n",
        "def print_k(i,k=1):\n",
        "  \"\"\"\n",
        "  인용문 문법을 이용해서\n",
        "  한 줄 이상의 주석을 다는 것을 선호하고 있다.\n",
        "  함수명: print_k\n",
        "  입력 매개변수 목록: i,k\n",
        "    i: 출력할 인자\n",
        "    k: 출력할 횟수, 디폴트 값: 1\n",
        "  반환: 없음\n",
        "  \"\"\"\n",
        "  for _ in range(k+1):\n",
        "    print(i,end=\",\")\n",
        "  print()"
      ],
      "metadata": {
        "id": "jZaDf3SHwQM0"
      },
      "execution_count": 13,
      "outputs": []
    },
    {
      "cell_type": "code",
      "source": [
        "#일급 함수(first-class function)\n",
        "# - 함수 스스로 객체 취급\n",
        "# 1. 함수 호출의 인자로 사용될 수 있다.\n",
        "# 2. 함수의 결괏값으로 사용될 수 있다.\n",
        "# 3. 대입 연산을 통해서 변수가 가리키는 대상으로 지정될 수 있다.\n",
        "\n",
        "def apply_to_one(f):\n",
        "  \"\"\"\n",
        "  함수명: apply_to_one\n",
        "  입력 매개변수 목록: f\n",
        "    f: 알고리즘(최소 한 개의 입력 인자를 갖음)\n",
        "  반환 f(1)\n",
        "  \"\"\"\n",
        "  return f(1) #입력인자 f를 함수처럼 호출"
      ],
      "metadata": {
        "id": "XOm8latmxkXi"
      },
      "execution_count": 8,
      "outputs": []
    },
    {
      "cell_type": "code",
      "source": [
        "re = apply_to_one(print_k)\n",
        "print(re)"
      ],
      "metadata": {
        "colab": {
          "base_uri": "https://localhost:8080/"
        },
        "id": "zucvhyWlyaYw",
        "outputId": "e3841e3c-5841-472e-930a-749582101d53"
      },
      "execution_count": 9,
      "outputs": [
        {
          "output_type": "stream",
          "name": "stdout",
          "text": [
            "1,1,\n",
            "None\n"
          ]
        }
      ]
    },
    {
      "cell_type": "code",
      "source": [
        "def foo(a):\n",
        "  print(\"foo 수행>\")\n",
        "  return str(a)"
      ],
      "metadata": {
        "id": "j68gqCIPyhzJ"
      },
      "execution_count": 11,
      "outputs": []
    },
    {
      "cell_type": "code",
      "source": [
        "re = apply_to_one(foo)\n",
        "print(re)"
      ],
      "metadata": {
        "colab": {
          "base_uri": "https://localhost:8080/"
        },
        "id": "jHE4e4NYyl_V",
        "outputId": "b09c9f7f-2e6a-41ce-f78f-701a79cec15a"
      },
      "execution_count": 12,
      "outputs": [
        {
          "output_type": "stream",
          "name": "stdout",
          "text": [
            "foo 수행>\n",
            "1\n"
          ]
        }
      ]
    },
    {
      "cell_type": "code",
      "source": [
        "#람다 함수 = 익명 함수(anonymous function)\n",
        "re = apply_to_one(lambda x:x*2)\n",
        "print(re)"
      ],
      "metadata": {
        "colab": {
          "base_uri": "https://localhost:8080/"
        },
        "id": "cqWgFN7LzCid",
        "outputId": "46f602cf-7aa5-43cd-b375-f8144ff8e3b1"
      },
      "execution_count": 14,
      "outputs": [
        {
          "output_type": "stream",
          "name": "stdout",
          "text": [
            "2\n"
          ]
        }
      ]
    },
    {
      "cell_type": "markdown",
      "source": [
        "- 문자열"
      ],
      "metadata": {
        "id": "J8s-qwc9zytZ"
      }
    },
    {
      "cell_type": "code",
      "source": [
        "print(\"a\\tb\\nc\\\\hello\")"
      ],
      "metadata": {
        "colab": {
          "base_uri": "https://localhost:8080/"
        },
        "id": "Yi3380l9zztw",
        "outputId": "8a28490c-5e74-4477-e1e8-c35f9d6a9d14"
      },
      "execution_count": 15,
      "outputs": [
        {
          "output_type": "stream",
          "name": "stdout",
          "text": [
            "a\tb\n",
            "c\\hello\n"
          ]
        }
      ]
    },
    {
      "cell_type": "code",
      "source": [
        "i = input(\"첫 번째 수:\")\n",
        "j = input(\"두 번째 수:\")\n",
        "re = i+j #입력받은 내용은 무조건 문자열 취급\n",
        "print(re)"
      ],
      "metadata": {
        "colab": {
          "base_uri": "https://localhost:8080/"
        },
        "id": "z0gEiuWY0Ed8",
        "outputId": "69d256dd-a1ad-48ca-a2d6-0b666f78d216"
      },
      "execution_count": 16,
      "outputs": [
        {
          "output_type": "stream",
          "name": "stdout",
          "text": [
            "첫 번째 수:1\n",
            "두 번째 수:5\n",
            "15\n"
          ]
        }
      ]
    },
    {
      "cell_type": "code",
      "source": [
        "i = int(input(\"첫 번째 수:\"))\n",
        "j = int(input(\"두 번째 수:\"))\n",
        "re = i+j\n",
        "print(re)"
      ],
      "metadata": {
        "colab": {
          "base_uri": "https://localhost:8080/"
        },
        "id": "RTSXqICn0bUi",
        "outputId": "a7ad84d5-85fd-40eb-ed26-2df7d194fd5a"
      },
      "execution_count": 17,
      "outputs": [
        {
          "output_type": "stream",
          "name": "stdout",
          "text": [
            "첫 번째 수:1\n",
            "두 번째 수:5\n",
            "6\n"
          ]
        }
      ]
    },
    {
      "cell_type": "code",
      "source": [
        "i = 23\n",
        "j = 32\n",
        "\"{0:03d} {1:04d}\".format(i,j)"
      ],
      "metadata": {
        "colab": {
          "base_uri": "https://localhost:8080/",
          "height": 35
        },
        "id": "X_wANjKa0tjH",
        "outputId": "26a0c1fa-0670-44b5-e83d-c4303f530012"
      },
      "execution_count": 20,
      "outputs": [
        {
          "output_type": "execute_result",
          "data": {
            "application/vnd.google.colaboratory.intrinsic+json": {
              "type": "string"
            },
            "text/plain": [
              "'023 0032'"
            ]
          },
          "metadata": {},
          "execution_count": 20
        }
      ]
    },
    {
      "cell_type": "code",
      "source": [
        "f\"{i:03d} {j:04o}\" #f-string 기능으로 쉽게 문자열 합치기\n",
        "# d,o,f 출력 방식 지정\n",
        "# 03d : 총 3칸 출력, 빈 칸은 0으로 지정"
      ],
      "metadata": {
        "colab": {
          "base_uri": "https://localhost:8080/",
          "height": 35
        },
        "id": "PAnKAwCd0y4b",
        "outputId": "83c1548b-0872-4eb2-ed28-57f510ffd083"
      },
      "execution_count": 22,
      "outputs": [
        {
          "output_type": "execute_result",
          "data": {
            "application/vnd.google.colaboratory.intrinsic+json": {
              "type": "string"
            },
            "text/plain": [
              "'023 0040'"
            ]
          },
          "metadata": {},
          "execution_count": 22
        }
      ]
    },
    {
      "cell_type": "code",
      "source": [
        "pre=\"cap\"\n",
        "ext=\".png\"\n",
        "for cnt in range(1,20):\n",
        "  print(f\"{pre}{cnt}{ext}\")"
      ],
      "metadata": {
        "colab": {
          "base_uri": "https://localhost:8080/"
        },
        "id": "yPU1s17_1b1E",
        "outputId": "a857f0af-1d06-4264-9f16-d8526b9381ef"
      },
      "execution_count": 23,
      "outputs": [
        {
          "output_type": "stream",
          "name": "stdout",
          "text": [
            "cap1.png\n",
            "cap2.png\n",
            "cap3.png\n",
            "cap4.png\n",
            "cap5.png\n",
            "cap6.png\n",
            "cap7.png\n",
            "cap8.png\n",
            "cap9.png\n",
            "cap10.png\n",
            "cap11.png\n",
            "cap12.png\n",
            "cap13.png\n",
            "cap14.png\n",
            "cap15.png\n",
            "cap16.png\n",
            "cap17.png\n",
            "cap18.png\n",
            "cap19.png\n"
          ]
        }
      ]
    },
    {
      "cell_type": "markdown",
      "source": [
        "- 예외 처리"
      ],
      "metadata": {
        "id": "4miHpm0j1-Dp"
      }
    },
    {
      "cell_type": "code",
      "source": [
        "try:\n",
        "  i = int(input(\"첫 번째 수:\"))\n",
        "except:\n",
        "  print(\"정수가 아닌 수를 입력하여 1로 처리합니다.\")\n",
        "  i=1\n",
        "try:\n",
        "  j = int(input(\"두 번째 수:\"))\n",
        "except:\n",
        "  print(\"정수가 아닌 수를 입력하여 1로 처리합니다.\")\n",
        "  j=1\n",
        "re = i+j\n",
        "print(f\"두 수의 합은 {re}\")"
      ],
      "metadata": {
        "colab": {
          "base_uri": "https://localhost:8080/"
        },
        "id": "lMdQIk921_Q-",
        "outputId": "83cf748d-04d7-4544-a4ef-b729e63e24c7"
      },
      "execution_count": 24,
      "outputs": [
        {
          "output_type": "stream",
          "name": "stdout",
          "text": [
            "첫 번째 수:d\n",
            "정수가 아닌 수를 입력하여 1로 처리합니다.\n",
            "두 번째 수:2\n",
            "두 수의 합은 3\n"
          ]
        }
      ]
    },
    {
      "cell_type": "markdown",
      "source": [
        "- 리스트, 튜플, 딕셔너리, 디폴트 딕셔너리, 집합"
      ],
      "metadata": {
        "id": "-dXoyEF86fuW"
      }
    },
    {
      "cell_type": "code",
      "source": [
        "x = [1,2,3,4,5,6,7,8,9,10] #리스트\n",
        "print(\"길이:\",len(x))\n",
        "print(\"합계:\",sum(x))"
      ],
      "metadata": {
        "colab": {
          "base_uri": "https://localhost:8080/"
        },
        "id": "v2IqLTz56n24",
        "outputId": "94b3ce90-df25-4bce-c8c8-34f640f1f4fe"
      },
      "execution_count": 25,
      "outputs": [
        {
          "output_type": "stream",
          "name": "stdout",
          "text": [
            "길이: 10\n",
            "합계: 55\n"
          ]
        }
      ]
    },
    {
      "cell_type": "code",
      "source": [
        "for i in range(len(x)):\n",
        "  print(x[i], end=',') #인덱스 연산으로 원소에 접근\n",
        "print()"
      ],
      "metadata": {
        "colab": {
          "base_uri": "https://localhost:8080/"
        },
        "id": "RWHIBeX56395",
        "outputId": "9c2e899e-c1f3-4e2f-8279-8fec93cbe6ab"
      },
      "execution_count": 27,
      "outputs": [
        {
          "output_type": "stream",
          "name": "stdout",
          "text": [
            "1,2,3,4,5,6,7,8,9,10,\n"
          ]
        }
      ]
    },
    {
      "cell_type": "code",
      "source": [
        "for i in range(len(x)):\n",
        "  x[i] = i*i #리스트는 인덱스 연산을 = 좌항에 표현하여 값을 변경할 수 있다.\n",
        "\n",
        "for i in range(len(x)):\n",
        "  print(x[i], end=',') #인덱스 연산으로 원소에 접근\n",
        "print()"
      ],
      "metadata": {
        "colab": {
          "base_uri": "https://localhost:8080/"
        },
        "id": "YuzHpeAu7NfU",
        "outputId": "434bc867-8e17-4fec-e6a9-cff3ca79f65f"
      },
      "execution_count": 28,
      "outputs": [
        {
          "output_type": "stream",
          "name": "stdout",
          "text": [
            "0,1,4,9,16,25,36,49,64,81,\n"
          ]
        }
      ]
    },
    {
      "cell_type": "code",
      "source": [
        "print(\"주어진 리스트: \",x)\n",
        "print(\"1:\",x[2:4])\n",
        "print(\"2:\",x[:4])\n",
        "print(\"3:\",x[2:])\n",
        "print(\"4:\",x[:])\n",
        "print(\"5:\",x[-1])\n",
        "print(\"6:\",x[2:-1])"
      ],
      "metadata": {
        "colab": {
          "base_uri": "https://localhost:8080/"
        },
        "id": "0JwHRYUB7oGD",
        "outputId": "31078d22-9470-47b9-931f-17304c388911"
      },
      "execution_count": 31,
      "outputs": [
        {
          "output_type": "stream",
          "name": "stdout",
          "text": [
            "주어진 리스트:  [0, 1, 4, 9, 16, 25, 36, 49, 64, 81]\n",
            "1: [4, 9]\n",
            "2: [0, 1, 4, 9]\n",
            "3: [4, 9, 16, 25, 36, 49, 64, 81]\n",
            "4: [0, 1, 4, 9, 16, 25, 36, 49, 64, 81]\n",
            "5: 81\n",
            "6: [4, 9, 16, 25, 36, 49, 64]\n"
          ]
        }
      ]
    },
    {
      "cell_type": "code",
      "source": [
        "print(x)\n",
        "for i in range(20):\n",
        "  if i in x:\n",
        "    print(f\"{i} : 리스트 x에 존재함\")\n",
        "  else:\n",
        "    print(f\"{i} : 존재 안함\")"
      ],
      "metadata": {
        "colab": {
          "base_uri": "https://localhost:8080/"
        },
        "id": "6QicbIMd8Y8X",
        "outputId": "c06a8ecf-41d1-4242-9874-28dfb5f05751"
      },
      "execution_count": 35,
      "outputs": [
        {
          "output_type": "stream",
          "name": "stdout",
          "text": [
            "[0, 1, 4, 9, 16, 25, 36, 49, 64, 81]\n",
            "0 : 리스트 x에 존재함\n",
            "1 : 리스트 x에 존재함\n",
            "2 : 존재 안함\n",
            "3 : 존재 안함\n",
            "4 : 리스트 x에 존재함\n",
            "5 : 존재 안함\n",
            "6 : 존재 안함\n",
            "7 : 존재 안함\n",
            "8 : 존재 안함\n",
            "9 : 리스트 x에 존재함\n",
            "10 : 존재 안함\n",
            "11 : 존재 안함\n",
            "12 : 존재 안함\n",
            "13 : 존재 안함\n",
            "14 : 존재 안함\n",
            "15 : 존재 안함\n",
            "16 : 리스트 x에 존재함\n",
            "17 : 존재 안함\n",
            "18 : 존재 안함\n",
            "19 : 존재 안함\n"
          ]
        }
      ]
    },
    {
      "cell_type": "code",
      "source": [
        "ls = [3,4,5]\n",
        "a,b,c = ls\n",
        "print(f\"a:{a},b:{b},c:{c}\")"
      ],
      "metadata": {
        "colab": {
          "base_uri": "https://localhost:8080/"
        },
        "id": "esUIVthJ85se",
        "outputId": "33082de7-6bee-4ecf-95b7-868c660866d2"
      },
      "execution_count": 36,
      "outputs": [
        {
          "output_type": "stream",
          "name": "stdout",
          "text": [
            "a:3,b:4,c:5\n"
          ]
        }
      ]
    },
    {
      "cell_type": "code",
      "source": [
        "def getcal(ls):\n",
        "  sum=0\n",
        "  for i in range(len(ls)):\n",
        "    sum += ls[i]\n",
        "  aver = sum/len(ls)\n",
        "  return [sum,aver]"
      ],
      "metadata": {
        "id": "x-4Ar3Eo9G3T"
      },
      "execution_count": 37,
      "outputs": []
    },
    {
      "cell_type": "code",
      "source": [
        "x = [3,4,8,1,9]\n",
        "sum,aver = getcal(x)\n",
        "print(\"합계:\",sum)\n",
        "print(\"평균:\",aver)"
      ],
      "metadata": {
        "colab": {
          "base_uri": "https://localhost:8080/"
        },
        "id": "uTkXW9vK9UhJ",
        "outputId": "82724398-970c-4e9e-a64c-6c81647fc039"
      },
      "execution_count": 38,
      "outputs": [
        {
          "output_type": "stream",
          "name": "stdout",
          "text": [
            "합계: 25\n",
            "평균: 5.0\n"
          ]
        }
      ]
    },
    {
      "cell_type": "code",
      "source": [
        "x = (1,2,3,4,5) #튜플\n",
        "for i in range(len(x)):\n",
        "  print(x[i],end=\",\")\n",
        "print()"
      ],
      "metadata": {
        "colab": {
          "base_uri": "https://localhost:8080/"
        },
        "id": "nSquq1WA9zgw",
        "outputId": "e7be2c4b-28a4-496a-aac2-029559a61984"
      },
      "execution_count": 40,
      "outputs": [
        {
          "output_type": "stream",
          "name": "stdout",
          "text": [
            "1,2,3,4,5,\n"
          ]
        }
      ]
    },
    {
      "cell_type": "code",
      "source": [
        "try:\n",
        "  for i in range(len(x)):\n",
        "    x[i] = i*i #튜플은 원소 값을 바꿀 수 없다\n",
        "except:\n",
        "  print(\"예외 발생\")"
      ],
      "metadata": {
        "colab": {
          "base_uri": "https://localhost:8080/"
        },
        "id": "rUSFmEll-DZK",
        "outputId": "eddefa6b-154b-4489-dd64-177a7b042e25"
      },
      "execution_count": 41,
      "outputs": [
        {
          "output_type": "stream",
          "name": "stdout",
          "text": [
            "예외 발생\n"
          ]
        }
      ]
    },
    {
      "cell_type": "code",
      "source": [
        "x=(2,3,4)\n",
        "a,b,c=x\n",
        "print(f\"a:{a},b:{b},c:{c}\")"
      ],
      "metadata": {
        "colab": {
          "base_uri": "https://localhost:8080/"
        },
        "id": "YZsJJagu9-KX",
        "outputId": "17e680f4-5ce5-4282-b257-f0ab6cb58703"
      },
      "execution_count": 42,
      "outputs": [
        {
          "output_type": "stream",
          "name": "stdout",
          "text": [
            "a:2,b:3,c:4\n"
          ]
        }
      ]
    },
    {
      "cell_type": "code",
      "source": [
        "x = 1,2,3,4 #이렇게 써도 튜플\n",
        "print(type(x))"
      ],
      "metadata": {
        "colab": {
          "base_uri": "https://localhost:8080/"
        },
        "id": "GQBWMr4x-ufp",
        "outputId": "61278f0f-76ea-4cec-90b9-494e10ca21d1"
      },
      "execution_count": 43,
      "outputs": [
        {
          "output_type": "stream",
          "name": "stdout",
          "text": [
            "<class 'tuple'>\n"
          ]
        }
      ]
    },
    {
      "cell_type": "code",
      "source": [
        "def getcal2(ls):\n",
        "  sum=0\n",
        "  for i in range(len(ls)):\n",
        "    sum += ls[i]\n",
        "  aver = sum/len(ls)\n",
        "  return sum,aver"
      ],
      "metadata": {
        "id": "uCux5_Y1-1zH"
      },
      "execution_count": 46,
      "outputs": []
    },
    {
      "cell_type": "code",
      "source": [
        "re = getcal2([1,2,3,4])\n",
        "print(type(re))\n",
        "s,aver = re\n",
        "print(f\"합계:{s} 평균:{aver}\")"
      ],
      "metadata": {
        "colab": {
          "base_uri": "https://localhost:8080/"
        },
        "id": "Ose-or-G-4Mk",
        "outputId": "0b0af6dc-0b03-4209-9428-558b3a94999c"
      },
      "execution_count": 49,
      "outputs": [
        {
          "output_type": "stream",
          "name": "stdout",
          "text": [
            "<class 'tuple'>\n",
            "합계:10 평균:2.5\n"
          ]
        }
      ]
    },
    {
      "cell_type": "code",
      "source": [
        "mem_dic={}\n",
        "try:\n",
        "  mem_dic[0]+=1\n",
        "except:\n",
        "  print(\"변경 불가\")\n",
        "  print(\"-----------\")\n",
        "\n",
        "mem_dic2={\"홍길동\":[90,84,88],\n",
        "          \"강감찬\":[80,75,45]}\n",
        "print(mem_dic2[\"홍길동\"])\n",
        "\n",
        "my_attr = {\"이름\":\"후추추\",\n",
        "           \"나이\":5,\n",
        "           \"키\":45,\n",
        "           \"몸무게\":5\n",
        "}\n",
        "print(f'{my_attr[\"이름\"]}:{my_attr[\"키\"]}')"
      ],
      "metadata": {
        "colab": {
          "base_uri": "https://localhost:8080/"
        },
        "id": "azMeXnBH_Zsr",
        "outputId": "0fe42d32-6684-4c90-e0ad-a6216581a16a"
      },
      "execution_count": 63,
      "outputs": [
        {
          "output_type": "stream",
          "name": "stdout",
          "text": [
            "변경 불가\n",
            "-----------\n",
            "[90, 84, 88]\n",
            "후추추:45\n"
          ]
        }
      ]
    },
    {
      "cell_type": "markdown",
      "source": [
        "- collections 함수"
      ],
      "metadata": {
        "id": "b2Yu3oCXIPAn"
      }
    },
    {
      "cell_type": "code",
      "source": [
        "from collections import defaultdict\n",
        "word_counts = defaultdict(int)\n",
        "try:\n",
        "  word_counts[0]+=1\n",
        "  print(\"나 살아있어요.\")\n",
        "except:\n",
        "  print(\"예외 발생\")"
      ],
      "metadata": {
        "colab": {
          "base_uri": "https://localhost:8080/"
        },
        "id": "6ZR4c4mdBWUJ",
        "outputId": "86636c43-82cf-45a6-e03a-63cd96990aec"
      },
      "execution_count": 66,
      "outputs": [
        {
          "output_type": "stream",
          "name": "stdout",
          "text": [
            "나 살아있어요.\n"
          ]
        }
      ]
    },
    {
      "cell_type": "code",
      "source": [
        "from collections import Counter\n",
        "c = Counter([0,1,2,1,1,2,3,4,1,2,0])\n",
        "print(c) #시리즈 값의 빈도수 반환"
      ],
      "metadata": {
        "colab": {
          "base_uri": "https://localhost:8080/"
        },
        "id": "lCbbY6qBCJLR",
        "outputId": "67495257-5e6e-4765-b907-315c5cabdd3d"
      },
      "execution_count": 67,
      "outputs": [
        {
          "output_type": "stream",
          "name": "stdout",
          "text": [
            "Counter({1: 4, 2: 3, 0: 2, 3: 1, 4: 1})\n"
          ]
        }
      ]
    },
    {
      "cell_type": "markdown",
      "source": [
        "- set(집합)"
      ],
      "metadata": {
        "id": "NHrnJPlfINNa"
      }
    },
    {
      "cell_type": "code",
      "source": [
        "s = set() #집합: 내부적으로 이진 탐색 트리 구조와 유사하여 빠른 검색 가능, 중복값 불가\n",
        "s.add(1) #원소:1\n",
        "print(len(s))\n",
        "s.add(3) #원소:1,3\n",
        "print(len(s))\n",
        "s.add(3) #무시됨\n",
        "print(len(s))\n",
        "\n",
        "print(1 in s)\n",
        "print(2 in s)\n",
        "print(3 in s)"
      ],
      "metadata": {
        "colab": {
          "base_uri": "https://localhost:8080/"
        },
        "id": "s9zokQtGDk1H",
        "outputId": "0bed1f4c-e068-4cf9-d946-f55dc80cd3ef"
      },
      "execution_count": 70,
      "outputs": [
        {
          "output_type": "stream",
          "name": "stdout",
          "text": [
            "1\n",
            "2\n",
            "2\n",
            "True\n",
            "False\n",
            "True\n"
          ]
        }
      ]
    },
    {
      "cell_type": "markdown",
      "source": [
        "- 정렬"
      ],
      "metadata": {
        "id": "XpSFVGVdIEht"
      }
    },
    {
      "cell_type": "code",
      "source": [
        "x = [5,3,9,2,6,9,4,7]\n",
        "sx = sorted(x) #원본 객체가 변경되는 것 X\n",
        "print(sx)\n",
        "print(x)\n",
        "\n",
        "x.sort() #메서드를 사용하면 원본 변경\n",
        "print(x)"
      ],
      "metadata": {
        "colab": {
          "base_uri": "https://localhost:8080/"
        },
        "id": "S-iixhMFHA2u",
        "outputId": "646c657d-6447-4ec1-cef5-ad94abb500be"
      },
      "execution_count": 73,
      "outputs": [
        {
          "output_type": "stream",
          "name": "stdout",
          "text": [
            "[2, 3, 4, 5, 6, 7, 9, 9]\n",
            "[5, 3, 9, 2, 6, 9, 4, 7]\n",
            "[2, 3, 4, 5, 6, 7, 9, 9]\n"
          ]
        }
      ]
    },
    {
      "cell_type": "markdown",
      "source": [
        "- 리스트 컴프리헨션"
      ],
      "metadata": {
        "id": "0w31VBWGICIX"
      }
    },
    {
      "cell_type": "code",
      "source": [
        "#리스트 컴프리헨션 사용\n",
        "zeros = [0 for _ in range(10)]\n",
        "print(zeros)\n",
        "\n",
        "#기존 방식\n",
        "zeros2 = []\n",
        "for _ in range(10):\n",
        "  zeros2.append(0)\n",
        "print(zeros2)"
      ],
      "metadata": {
        "colab": {
          "base_uri": "https://localhost:8080/"
        },
        "id": "klBgBMjsIT2y",
        "outputId": "a490b9f6-4f68-4130-e598-3029b1b910a0"
      },
      "execution_count": 74,
      "outputs": [
        {
          "output_type": "stream",
          "name": "stdout",
          "text": [
            "[0, 0, 0, 0, 0, 0, 0, 0, 0, 0]\n",
            "[0, 0, 0, 0, 0, 0, 0, 0, 0, 0]\n"
          ]
        }
      ]
    },
    {
      "cell_type": "code",
      "source": [
        "evens = [x for x in range(10) if x%2==0]\n",
        "print(evens)\n",
        "\n",
        "#가독성은 있지만 길다..\n",
        "evens2=[]\n",
        "for x in range(10):\n",
        "  if x%2 == 0:\n",
        "    evens2.append(x)\n",
        "print(evens2)"
      ],
      "metadata": {
        "colab": {
          "base_uri": "https://localhost:8080/"
        },
        "id": "0mQisEJAIl_p",
        "outputId": "a60bf961-1362-44cd-f57f-f8e379a72c77"
      },
      "execution_count": 75,
      "outputs": [
        {
          "output_type": "stream",
          "name": "stdout",
          "text": [
            "[0, 2, 4, 6, 8]\n",
            "[0, 2, 4, 6, 8]\n"
          ]
        }
      ]
    },
    {
      "cell_type": "markdown",
      "source": [
        "- 자동 테스트와 assert"
      ],
      "metadata": {
        "id": "YP6Ung_uJNEb"
      }
    },
    {
      "cell_type": "code",
      "source": [
        "def fibonacci(n):\n",
        "  if n<=0:\n",
        "    return 0\n",
        "  if n==1 or n==2:\n",
        "    return 1\n",
        "  return fibonacci(n-1) + fibonacci(n-2)\n",
        "  \n",
        "#단위 테스트\n",
        "print(\"fibonacci(1):\",fibonacci(1))\n",
        "print(\"fibonacci(1):\",fibonacci(2))\n",
        "print(\"fibonacci(1):\",fibonacci(3))"
      ],
      "metadata": {
        "colab": {
          "base_uri": "https://localhost:8080/"
        },
        "id": "05dGK6_AJOyd",
        "outputId": "463114af-dce3-418b-f17b-c164b030c0f0"
      },
      "execution_count": 76,
      "outputs": [
        {
          "output_type": "stream",
          "name": "stdout",
          "text": [
            "fibonacci(1): 1\n",
            "fibonacci(1): 1\n",
            "fibonacci(1): 2\n"
          ]
        }
      ]
    },
    {
      "cell_type": "code",
      "source": [
        "#위의 코드를 모듈로 저장해둔다 'demo2.py'\n",
        "import demo2 #임포트 하는 순간 테스트 코드도 모두 출력이 됨"
      ],
      "metadata": {
        "colab": {
          "base_uri": "https://localhost:8080/"
        },
        "id": "fAXIb1yrJ0KL",
        "outputId": "ad3a31ac-c961-47c2-d0bf-9c837ceb54d4"
      },
      "execution_count": 77,
      "outputs": [
        {
          "output_type": "stream",
          "name": "stdout",
          "text": [
            "fibonacci(1): 1\n",
            "fibonacci(1): 1\n",
            "fibonacci(1): 2\n"
          ]
        }
      ]
    },
    {
      "cell_type": "code",
      "source": [
        "def fibonacci2(n):\n",
        "  if n<=0:\n",
        "    return 0\n",
        "  if n==1 or n==2:\n",
        "    return 1\n",
        "  return fibonacci2(n-1) + fibonacci2(n-2)\n",
        "  \n",
        "#단위 테스트 -> assert 사용\n",
        "assert fibonacci2(1)==1,\"오류\"\n",
        "assert fibonacci2(2)==1,\"오류\"\n",
        "assert fibonacci2(3)==2,\"오류\"\n",
        "assert fibonacci2(4)==3,\"오류\"\n",
        "assert fibonacci2(5)==5,\"오류\""
      ],
      "metadata": {
        "id": "bjql8mvFKF70"
      },
      "execution_count": 79,
      "outputs": []
    },
    {
      "cell_type": "code",
      "source": [
        "def mygen(ls):\n",
        "  cnt=0\n",
        "  for item in ls:\n",
        "    yield cnt,item #생산자 yield : 호출될 때마다 제너레이터에 해당 값을 생성한다.\n",
        "    cnt+=1"
      ],
      "metadata": {
        "id": "4_WEq2qrKxUQ"
      },
      "execution_count": 82,
      "outputs": []
    },
    {
      "cell_type": "code",
      "source": [
        "for i,e in mygen(['a','b','c']):\n",
        "  print(i,e)"
      ],
      "metadata": {
        "colab": {
          "base_uri": "https://localhost:8080/"
        },
        "id": "7yxYRF7cLEcO",
        "outputId": "c458b3d3-33ad-46a8-a92b-b112eb5587e1"
      },
      "execution_count": 83,
      "outputs": [
        {
          "output_type": "stream",
          "name": "stdout",
          "text": [
            "0 a\n",
            "1 b\n",
            "2 c\n"
          ]
        }
      ]
    },
    {
      "cell_type": "code",
      "source": [
        "for i,e in enumerate(['a','b','c']): #enumerate로 동일하게 작성할 수 있다.\n",
        "  print(i,e)"
      ],
      "metadata": {
        "colab": {
          "base_uri": "https://localhost:8080/"
        },
        "id": "ntfkT1dGLUBz",
        "outputId": "f2815a54-56af-4122-b54a-819c7dca20ef"
      },
      "execution_count": 84,
      "outputs": [
        {
          "output_type": "stream",
          "name": "stdout",
          "text": [
            "0 a\n",
            "1 b\n",
            "2 c\n"
          ]
        }
      ]
    },
    {
      "cell_type": "markdown",
      "source": [
        "- 정규 표현식  \n",
        "[0-9|a-z|A-Z] +  \n",
        "자세한 건 공식 문서 참조"
      ],
      "metadata": {
        "id": "YqRbk6zAMBsg"
      }
    },
    {
      "cell_type": "markdown",
      "source": [
        "- zip 인자 언패킹"
      ],
      "metadata": {
        "id": "ycwJp2IkMvWW"
      }
    },
    {
      "cell_type": "code",
      "source": [
        "ls1 = [1,2,3,4,5]\n",
        "ls2 = ['a','b','c','d','e']\n",
        "for e1,e2 in zip(ls1,ls2): #zip 은 실행 속도가 느리다.\n",
        "  print(e1,e2)\n",
        "\n",
        "print(\"=====\") #속도적 측면에서 유리. 강사님 추천\n",
        "for i,e in enumerate(ls1):\n",
        "  print(e,ls2[i])"
      ],
      "metadata": {
        "colab": {
          "base_uri": "https://localhost:8080/"
        },
        "id": "2D9Nz7YtMvCz",
        "outputId": "4b3cc310-c5b1-4eb5-c177-18b1aa6b0c03"
      },
      "execution_count": 90,
      "outputs": [
        {
          "output_type": "stream",
          "name": "stdout",
          "text": [
            "1 a\n",
            "2 b\n",
            "3 c\n",
            "4 d\n",
            "5 e\n",
            "=====\n",
            "1 a\n",
            "2 b\n",
            "3 c\n",
            "4 d\n",
            "5 e\n"
          ]
        }
      ]
    },
    {
      "cell_type": "markdown",
      "source": [
        "- 타입 어노테이션  \n",
        "타입을 명시적으로 선언해두는 습관은 만들어두면 좋음"
      ],
      "metadata": {
        "id": "Kwax4QYkNq4L"
      }
    },
    {
      "cell_type": "code",
      "source": [
        "def add(a:int, b:int)->int:\n",
        "  return a+b"
      ],
      "metadata": {
        "id": "P3bRbOykNbLV"
      },
      "execution_count": 91,
      "outputs": []
    },
    {
      "cell_type": "code",
      "source": [
        "add(2.3,5)"
      ],
      "metadata": {
        "colab": {
          "base_uri": "https://localhost:8080/"
        },
        "id": "nnZ4vcuCNe4R",
        "outputId": "9b0ba52c-d8f8-4313-9026-a464d7832849"
      },
      "execution_count": 93,
      "outputs": [
        {
          "output_type": "execute_result",
          "data": {
            "text/plain": [
              "7.3"
            ]
          },
          "metadata": {},
          "execution_count": 93
        }
      ]
    },
    {
      "cell_type": "markdown",
      "source": [
        "- map 사용"
      ],
      "metadata": {
        "id": "OZzHhhFkVEZA"
      }
    },
    {
      "cell_type": "code",
      "source": [
        "def foo(a):\n",
        "  \"\"\"\n",
        "  전달받은 값을 10으로 나누었을 때 몫을 반환하는 함수\n",
        "  \"\"\"\n",
        "  return a//10"
      ],
      "metadata": {
        "id": "YmpJ1j0EVDXf"
      },
      "execution_count": 103,
      "outputs": []
    },
    {
      "cell_type": "code",
      "source": [
        "src = [18,23,54,67,99]\n",
        "dst1 = [foo(n) for n in src]\n",
        "print(dst1)"
      ],
      "metadata": {
        "colab": {
          "base_uri": "https://localhost:8080/"
        },
        "id": "QvrQ1wMKVPE_",
        "outputId": "3debd19f-5b0b-47e8-d817-a8736aada415"
      },
      "execution_count": 104,
      "outputs": [
        {
          "output_type": "stream",
          "name": "stdout",
          "text": [
            "[1, 2, 5, 6, 9]\n"
          ]
        }
      ]
    },
    {
      "cell_type": "code",
      "source": [
        "mo = map(foo, src)\n",
        "list(mo)"
      ],
      "metadata": {
        "colab": {
          "base_uri": "https://localhost:8080/"
        },
        "id": "XPDeyYQAVUcq",
        "outputId": "1c7272a4-f348-44ee-d0b3-902837d2d607"
      },
      "execution_count": 107,
      "outputs": [
        {
          "output_type": "execute_result",
          "data": {
            "text/plain": [
              "[1, 2, 5, 6, 9]"
            ]
          },
          "metadata": {},
          "execution_count": 107
        }
      ]
    },
    {
      "cell_type": "code",
      "source": [
        "ls = list(map(foo,src))\n",
        "print(ls)"
      ],
      "metadata": {
        "colab": {
          "base_uri": "https://localhost:8080/"
        },
        "id": "MxCLkAdgVrUo",
        "outputId": "84cef378-e662-4b2d-922f-7fda76b9191a"
      },
      "execution_count": 109,
      "outputs": [
        {
          "output_type": "stream",
          "name": "stdout",
          "text": [
            "[1, 2, 5, 6, 9]\n"
          ]
        }
      ]
    },
    {
      "cell_type": "markdown",
      "source": [
        "#통계\n",
        "평균, 중간값, 사분위값, 최빈값, 분산, 표준편차, 공분산, 상관관계  \n",
        "https://github.com/wesm/pydata-book  \n",
        "https://github.com/hs-krispy/Python-for-data-analysis"
      ],
      "metadata": {
        "id": "PX4nqYp-skXs"
      }
    },
    {
      "cell_type": "code",
      "source": [
        "import matplotlib.pyplot as plt\n",
        "import pandas as pd\n",
        "from scipy.stats import mode"
      ],
      "metadata": {
        "id": "xGfgv5VKX6kx"
      },
      "execution_count": 1,
      "outputs": []
    },
    {
      "cell_type": "code",
      "execution_count": 5,
      "metadata": {
        "id": "VOt5XWbGrnJE"
      },
      "outputs": [],
      "source": [
        "import numpy as np\n",
        "#친구의 수\n",
        "num_friends = np.array([100.0,49,41,40,25,21,21,19,19,18,18,16,15,15,15,15,14,14,13,13,13,13,12,12,11,10,10,10,10,10,10,10,10,10,10,10,10,10,10,10,9,9,9,9,9,9,9,9,9,9,9,9,9,9,9,9,9,9,8,8,8,8,8,8,8,8,8,8,8,8,8,7,7,7,7,7,7,7,7,7,7,7,7,7,7,7,6,6,6,6,6,6,6,6,6,6,6,6,6,6,6,6,6,6,6,6,6,6,5,5,5,5,5,5,5,5,5,5,5,5,5,5,5,5,5,4,4,4,4,4,4,4,4,4,4,4,4,4,4,4,4,4,4,4,4,3,3,3,3,3,3,3,3,3,3,3,3,3,3,3,3,3,3,3,3,2,2,2,2,2,2,2,2,2,2,2,2,2,2,2,2,2,1,1,1,1,1,1,1,1,1,1,1,1,1,1,1,1,1,1,1,1,1,1])\n",
        "#웹서핑 소요 시간(분)\n",
        "daily_minutes = np.array([1,68.77,51.25,52.08,38.36,44.54,57.13,51.4,41.42,31.22,34.76,54.01,38.79,47.59,49.1,27.66,41.03,36.73,48.65,28.12,46.62,35.57,32.98,35,26.07,23.77,39.73,40.57,31.65,31.21,36.32,20.45,21.93,26.02,27.34,23.49,46.94,30.5,33.8,24.23,21.4,27.94,32.24,40.57,25.07,19.42,22.39,18.42,46.96,23.72,26.41,26.97,36.76,40.32,35.02,29.47,30.2,31,38.11,38.18,36.31,21.03,30.86,36.07,28.66,29.08,37.28,15.28,24.17,22.31,30.17,25.53,19.85,35.37,44.6,17.23,13.47,26.33,35.02,32.09,24.81,19.33,28.77,24.26,31.98,25.73,24.86,16.28,34.51,15.23,39.72,40.8,26.06,35.76,34.76,16.13,44.04,18.03,19.65,32.62,35.59,39.43,14.18,35.24,40.13,41.82,35.45,36.07,43.67,24.61,20.9,21.9,18.79,27.61,27.21,26.61,29.77,20.59,27.53,13.82,33.2,25,33.1,36.65,18.63,14.87,22.2,36.81,25.53,24.62,26.25,18.21,28.08,19.42,29.79,32.8,35.99,28.32,27.79,35.88,29.06,36.28,14.1,36.63,37.49,26.9,18.58,38.48,24.48,18.95,33.55,14.24,29.04,32.51,25.63,22.22,19,32.73,15.16,13.9,27.2,32.01,29.27,33,13.74,20.42,27.32,18.23,35.35,28.48,9.08,24.62,20.12,35.26,19.92,31.02,16.49,12.16,30.7,31.22,34.65,13.13,27.51,33.2,31.57,14.1,33.42,17.44,10.12,24.42,9.82,23.39,30.93,15.03,21.67,31.09,33.29,22.61,26.89,23.48,8.38,27.81,32.35,23.84])"
      ]
    },
    {
      "cell_type": "code",
      "source": [
        "import matplotlib.pyplot as plt"
      ],
      "metadata": {
        "id": "SPJPZjztQcbg"
      },
      "execution_count": 96,
      "outputs": []
    },
    {
      "cell_type": "code",
      "source": [
        "plt.plot(num_friends,\"bo\")\n",
        "plt.xlabel(\"index\")\n",
        "plt.ylabel(\"num of friends\")\n",
        "plt.title(\"number of friends\")\n",
        "plt.show()"
      ],
      "metadata": {
        "colab": {
          "base_uri": "https://localhost:8080/",
          "height": 295
        },
        "id": "vPIAH2WlQfYe",
        "outputId": "189b6be3-3cb0-46ef-cc5c-4b590b76e76a"
      },
      "execution_count": 98,
      "outputs": [
        {
          "output_type": "display_data",
          "data": {
            "image/png": "[encoded data removed]",
            "text/plain": [
              "<Figure size 432x288 with 1 Axes>"
            ]
          },
          "metadata": {
            "needs_background": "light"
          }
        }
      ]
    },
    {
      "cell_type": "code",
      "source": [
        "plt.plot(daily_minutes,\"ro\")\n",
        "plt.xlabel(\"index\")\n",
        "plt.ylabel(\"min of web\")\n",
        "plt.title(\"minutes of web\")\n",
        "plt.show()"
      ],
      "metadata": {
        "colab": {
          "base_uri": "https://localhost:8080/",
          "height": 295
        },
        "id": "sWSmeffkQyBa",
        "outputId": "9c6cac1a-c6d2-4c79-87c8-6aa15584b1b7"
      },
      "execution_count": 99,
      "outputs": [
        {
          "output_type": "display_data",
          "data": {
            "image/png": "[encoded data removed]",
            "text/plain": [
              "<Figure size 432x288 with 1 Axes>"
            ]
          },
          "metadata": {
            "needs_background": "light"
          }
        }
      ]
    },
    {
      "cell_type": "code",
      "source": [
        "#한 그래프에 표현\n",
        "plt.plot(num_friends,\"bo\")\n",
        "plt.plot(daily_minutes,\"ro\")\n",
        "plt.xlabel(\"index\")\n",
        "plt.ylabel(\"num of friends and min of web\")\n",
        "plt.title(\"number of friends & minutes of web\")\n",
        "plt.show()\n",
        "\n",
        "#친구 수와 웹서핑 시간은 인과관계가 존재한다?"
      ],
      "metadata": {
        "colab": {
          "base_uri": "https://localhost:8080/",
          "height": 295
        },
        "id": "rR0X4OrpQ5YL",
        "outputId": "030f267b-d6ff-42d9-c2dd-7830d6972272"
      },
      "execution_count": 102,
      "outputs": [
        {
          "output_type": "display_data",
          "data": {
            "image/png": "[encoded data removed]",
            "text/plain": [
              "<Figure size 432x288 with 1 Axes>"
            ]
          },
          "metadata": {
            "needs_background": "light"
          }
        }
      ]
    },
    {
      "cell_type": "code",
      "source": [
        "import pandas as pd"
      ],
      "metadata": {
        "id": "gGS6HycxWFYF"
      },
      "execution_count": 110,
      "outputs": []
    },
    {
      "cell_type": "code",
      "source": [
        "friends_se = pd.Series(num_friends)\n",
        "fvc = friends_se.value_counts()\n",
        "plt.bar(fvc.index,fvc.values)\n",
        "plt.show()"
      ],
      "metadata": {
        "colab": {
          "base_uri": "https://localhost:8080/",
          "height": 265
        },
        "id": "DxttN9iMWHAb",
        "outputId": "c056befc-bc37-49e6-9950-6d402e662e94"
      },
      "execution_count": 111,
      "outputs": [
        {
          "output_type": "display_data",
          "data": {
            "image/png": "[encoded data removed]",
            "text/plain": [
              "<Figure size 432x288 with 1 Axes>"
            ]
          },
          "metadata": {
            "needs_background": "light"
          }
        }
      ]
    },
    {
      "cell_type": "code",
      "source": [
        "friends_se = pd.Series(num_friends)\n",
        "fvc = friends_se.value_counts()\n",
        "fvc_ind_str = [str(int(fc)) for fc in fvc.index] #친구 수가 float형태이므로 정수로 변환한 후, 문자로 변형해서 표현\n",
        "#실수형 -> 정수형 ->문자열 형식으로 형변환-> 그 자체로 틱으로 사용됨. \n",
        "#정수형으로 하면 범주형으로 값이 들어가게 된다.\n",
        "plt.bar(fvc_ind_str,fvc.values)\n",
        "plt.grid(True)\n",
        "plt.show()"
      ],
      "metadata": {
        "colab": {
          "base_uri": "https://localhost:8080/",
          "height": 265
        },
        "id": "fKkBZVw2WaAP",
        "outputId": "9cc98d72-17ec-476c-fcac-7379559069d8"
      },
      "execution_count": 116,
      "outputs": [
        {
          "output_type": "display_data",
          "data": {
            "image/png": "[encoded data removed]",
            "text/plain": [
              "<Figure size 432x288 with 1 Axes>"
            ]
          },
          "metadata": {
            "needs_background": "light"
          }
        }
      ]
    },
    {
      "cell_type": "code",
      "source": [
        "print(\"친구 수===\")\n",
        "print(\"평균:\",num_friends.mean())\n",
        "print(\"중간값:\",np.median(num_friends))\n",
        "print(\"분산:\",num_friends.var())\n",
        "print(\"표준편차:\",num_friends.std())\n",
        "print(\"1/4분위값:\",np.quantile(num_friends,0.25))\n",
        "print(\"1/2분위값:\",np.quantile(num_friends,0.5))\n",
        "print(\"3/4분위값:\",np.quantile(num_friends,0.75))\n",
        "\n",
        "from scipy.stats import mode\n",
        "mf = mode(num_friends)\n",
        "print(f\"최빈값:{mf[0]} 빈도수:{mf[1]}\")"
      ],
      "metadata": {
        "colab": {
          "base_uri": "https://localhost:8080/"
        },
        "id": "okTqF08xXMzD",
        "outputId": "bf101344-8044-407c-b4c9-408f982fab31"
      },
      "execution_count": 118,
      "outputs": [
        {
          "output_type": "stream",
          "name": "stdout",
          "text": [
            "친구 수===\n",
            "평균: 7.333333333333333\n",
            "중간값: 6.0\n",
            "분산: 81.14379084967321\n",
            "표준편차: 9.007984838446012\n",
            "1/4분위값: 3.0\n",
            "1/2분위값: 6.0\n",
            "3/4분위값: 9.0\n",
            "최빈값:[1.] 빈도수:[22]\n"
          ]
        }
      ]
    },
    {
      "cell_type": "markdown",
      "source": [
        "#공분산\n",
        "![공분산.PNG](data:image/png;base64,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)"
      ],
      "metadata": {
        "id": "hfLOGGJ3ZDiU"
      }
    },
    {
      "cell_type": "code",
      "source": [
        "def cov(x,y):\n",
        "  dx = x-x.mean()\n",
        "  dy = y-y.mean()\n",
        "  return np.dot(dx,dy)/(len(x)-1)"
      ],
      "metadata": {
        "id": "C4tsKsS-YstV"
      },
      "execution_count": 2,
      "outputs": []
    },
    {
      "cell_type": "code",
      "source": [
        "print(\"공분산(친구 수, 웹서핑 시간(분)):\",cov(num_friends,daily_minutes))"
      ],
      "metadata": {
        "colab": {
          "base_uri": "https://localhost:8080/"
        },
        "id": "coTnGVvHZGzo",
        "outputId": "0dc169a1-9273-40ca-b2a5-c96c6ade0fd5"
      },
      "execution_count": 120,
      "outputs": [
        {
          "output_type": "stream",
          "name": "stdout",
          "text": [
            "공분산(친구 수, 웹서핑 시간(분)): 22.425435139573057\n"
          ]
        }
      ]
    },
    {
      "cell_type": "code",
      "source": [
        "np.cov(num_friends,daily_minutes)"
      ],
      "metadata": {
        "colab": {
          "base_uri": "https://localhost:8080/"
        },
        "id": "zZiMXwWzZMjy",
        "outputId": "acded9ec-8fc6-48a5-d258-fe652840ae58"
      },
      "execution_count": 121,
      "outputs": [
        {
          "output_type": "execute_result",
          "data": {
            "text/plain": [
              "array([[ 81.54351396,  22.42543514],\n",
              "       [ 22.42543514, 100.78589895]])"
            ]
          },
          "metadata": {},
          "execution_count": 121
        }
      ]
    },
    {
      "cell_type": "code",
      "source": [
        "print(\"0:\",cov(num_friends,num_friends))\n",
        "print(\"1:\",cov(num_friends,daily_minutes))\n",
        "print(\"2:\",cov(daily_minutes,num_friends)) # 1&2는 동일, 내적은 교환법칙 성립\n",
        "print(\"3:\",cov(daily_minutes,daily_minutes))\n",
        "# np.cov 는 각각의 공분산을 모두 나타냄"
      ],
      "metadata": {
        "colab": {
          "base_uri": "https://localhost:8080/"
        },
        "id": "LMPQAJN3ZdPb",
        "outputId": "ca987419-f73f-4e74-ba98-5883f051a378"
      },
      "execution_count": 123,
      "outputs": [
        {
          "output_type": "stream",
          "name": "stdout",
          "text": [
            "0: 81.54351395730706\n",
            "1: 22.425435139573057\n",
            "2: 22.425435139573057\n",
            "3: 100.78589895440932\n"
          ]
        }
      ]
    },
    {
      "cell_type": "markdown",
      "source": [
        "#상관관계\n",
        "![상관관계.PNG](data:image/png;base64,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)"
      ],
      "metadata": {
        "id": "GHzgBjZjaC7R"
      }
    },
    {
      "cell_type": "code",
      "source": [
        "def correlation(x,y):\n",
        "  std_x = x.std()\n",
        "  std_y = y.std()\n",
        "  if std_x>0 and std_y>0:\n",
        "    return cov(x,y)/std_x/std_y\n",
        "  else:\n",
        "    return 0"
      ],
      "metadata": {
        "id": "mergvQyKaDwz"
      },
      "execution_count": 3,
      "outputs": []
    },
    {
      "cell_type": "code",
      "source": [
        "print(\"친구 수와 웹 서핑시간(분)의 상관관계:\",correlation(num_friends,daily_minutes))"
      ],
      "metadata": {
        "colab": {
          "base_uri": "https://localhost:8080/"
        },
        "id": "LFKh3AiSaWEN",
        "outputId": "2bcb8802-724c-4732-945e-b881d14e73ab"
      },
      "execution_count": 6,
      "outputs": [
        {
          "output_type": "stream",
          "name": "stdout",
          "text": [
            "친구 수와 웹 서핑시간(분)의 상관관계: 0.24858814299318005\n"
          ]
        }
      ]
    },
    {
      "cell_type": "code",
      "source": [
        "cv = correlation(num_friends,daily_minutes)\n",
        "plt.figure(figsize=(8,8))\n",
        "plt.plot(num_friends, daily_minutes,\".\")\n",
        "plt.plot([0,100],[0,100*cv])\n",
        "plt.xlabel(\"num of friedns\")\n",
        "plt.ylabel(\"min of web(min)\")\n",
        "plt.xlim(0,110)\n",
        "plt.ylim(0,110)\n",
        "plt.show()"
      ],
      "metadata": {
        "colab": {
          "base_uri": "https://localhost:8080/",
          "height": 497
        },
        "id": "Apw_8zpbcHQg",
        "outputId": "a006a9f7-ac2c-4508-9072-a807847179a3"
      },
      "execution_count": 16,
      "outputs": [
        {
          "output_type": "display_data",
          "data": {
            "image/png": "[encoded data removed]",
            "text/plain": [
              "<Figure size 576x576 with 1 Axes>"
            ]
          },
          "metadata": {
            "needs_background": "light"
          }
        }
      ]
    },
    {
      "cell_type": "code",
      "source": [
        "# 이상점 배제\n",
        "num_friends2 = num_friends[1:] #제일 첫번째 원소 제거\n",
        "daily_minutes2 = daily_minutes[1:]"
      ],
      "metadata": {
        "id": "1W6M4smKdCAv"
      },
      "execution_count": 8,
      "outputs": []
    },
    {
      "cell_type": "code",
      "source": [
        "cv2 = correlation(num_friends2,daily_minutes2)\n",
        "plt.figure(figsize=(8,8))\n",
        "plt.plot(num_friends2, daily_minutes2,\"b.\",label='filtering')\n",
        "plt.plot([0,100],[0,100*cv],\"r-\",label='original corr') #가장 높은 값도 포함되어 있어, 상관관계가 떨어진다\n",
        "plt.plot([0,100],[0,100*cv2],\"b-\",label='filtering corr')\n",
        "plt.xlabel(\"num of friedns\")\n",
        "plt.ylabel(\"min of web(min)\")\n",
        "plt.xlim(0,110)\n",
        "plt.ylim(0,110)\n",
        "plt.legend()\n",
        "plt.show()\n",
        "print(\"\\n조정된 상관관계:\",cv2) #1에 가까워 질수록 상관관계가 커진다"
      ],
      "metadata": {
        "colab": {
          "base_uri": "https://localhost:8080/",
          "height": 534
        },
        "id": "WgF_DfytdMb2",
        "outputId": "dad8560d-c1df-4525-f328-009e5b7b438b"
      },
      "execution_count": 20,
      "outputs": [
        {
          "output_type": "display_data",
          "data": {
            "image/png": "[encoded data removed]",
            "text/plain": [
              "<Figure size 576x576 with 1 Axes>"
            ]
          },
          "metadata": {
            "needs_background": "light"
          }
        },
        {
          "output_type": "stream",
          "name": "stdout",
          "text": [
            "\n",
            "조정된 상관관계: 0.5765192076634241\n"
          ]
        }
      ]
    },
    {
      "cell_type": "markdown",
      "source": [
        "#경사하강법과 선형회귀 - 로지스틱 회귀"
      ],
      "metadata": {
        "id": "xy3hG-D-bnR_"
      }
    },
    {
      "cell_type": "markdown",
      "source": [
        "#KNN - 정규분포, 표준정규분포, rescale"
      ],
      "metadata": {
        "id": "p1JNFSWGb3jW"
      }
    },
    {
      "cell_type": "markdown",
      "source": [
        "#KMeans"
      ],
      "metadata": {
        "id": "UWPyekWnbzt0"
      }
    },
    {
      "cell_type": "markdown",
      "source": [
        "#퍼셉트론 - 활성화함수의 필요성"
      ],
      "metadata": {
        "id": "Hz5rNakdb1DD"
      }
    }
  ]
}