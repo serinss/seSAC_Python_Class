{
  "nbformat": 4,
  "nbformat_minor": 0,
  "metadata": {
    "colab": {
      "name": "파이썬_기초(클래스).ipynb",
      "provenance": [],
      "collapsed_sections": [],
      "include_colab_link": true
    },
    "kernelspec": {
      "name": "python3",
      "display_name": "Python 3"
    },
    "language_info": {
      "name": "python"
    }
  },
  "cells": [
    {
      "cell_type": "markdown",
      "metadata": {
        "id": "view-in-github",
        "colab_type": "text"
      },
      "source": [
        "<a href=\"https://colab.research.google.com/github/serinss/seSAC_Python_Class/blob/main/%ED%8C%8C%EC%9D%B4%EC%8D%AC_%EA%B8%B0%EC%B4%88(%ED%81%B4%EB%9E%98%EC%8A%A4).ipynb\" target=\"_parent\"><img src=\"https://colab.research.google.com/assets/colab-badge.svg\" alt=\"Open In Colab\"/></a>"
      ]
    },
    {
      "cell_type": "markdown",
      "source": [
        "# 구조체 캡슐화\n",
        "\n",
        "데이터를 멤버로 구성하는 캡슐화\n",
        "\n",
        "절차식 언어에서 캡슐화하는 방법"
      ],
      "metadata": {
        "id": "bekFfPnfRLGC"
      }
    },
    {
      "cell_type": "code",
      "source": [
        "from dataclasses import dataclass\n",
        "@dataclass\n",
        "class Product:\n",
        "    weight:int = None\n",
        "    price:int = None"
      ],
      "metadata": {
        "id": "lnihFvNQRS1O"
      },
      "execution_count": 1,
      "outputs": []
    },
    {
      "cell_type": "code",
      "source": [
        "pen = Product()\n",
        "pen.weight = 100\n",
        "pen.price = 1000\n",
        "print(\"무게:\", pen.weight, \"가격:\", pen.price)"
      ],
      "metadata": {
        "id": "ClSYuN9iR1Gv",
        "colab": {
          "base_uri": "https://localhost:8080/"
        },
        "outputId": "aae8336e-4f22-42f1-cf24-2eee4a74a054"
      },
      "execution_count": 2,
      "outputs": [
        {
          "output_type": "stream",
          "name": "stdout",
          "text": [
            "무게: 100 가격: 1000\n"
          ]
        }
      ]
    },
    {
      "cell_type": "markdown",
      "source": [
        "# 클래스 캡슐화\n",
        "\n",
        "멤버 데이터와 멤버 메서드를 캡슐화 할 수 있다\n",
        "\n",
        "OOPL에서 캡슐화하는 방법\n",
        "\n"
      ],
      "metadata": {
        "id": "pSZIpJuhSwJ-"
      }
    },
    {
      "cell_type": "code",
      "source": [
        "class Student:\n",
        "    def __init__(self, num, name):\n",
        "        self.num = num\n",
        "        self.name = name\n",
        "        self.iq = 0\n",
        "    def introduce(self):\n",
        "        print(f\"번호는{self.num}, 이름은{self.name}, 아이큐는{self.iq}\")\n",
        "    def study(self):\n",
        "        self.iq += 1\n",
        "        print(f\"{self.name} 공부합니다.\")"
      ],
      "metadata": {
        "id": "FA6JyJ2vTFQA"
      },
      "execution_count": 3,
      "outputs": []
    },
    {
      "cell_type": "code",
      "source": [
        "s1 = Student(1, \"홍길동\")\n",
        "s1.introduce()\n",
        "s1.study()\n",
        "s1.study()\n",
        "s1.study()\n",
        "s1.introduce()"
      ],
      "metadata": {
        "id": "U5NzKoqtUBnu",
        "colab": {
          "base_uri": "https://localhost:8080/"
        },
        "outputId": "1ad8265b-02e0-4c98-f53f-5ab63018228e"
      },
      "execution_count": 4,
      "outputs": [
        {
          "output_type": "stream",
          "name": "stdout",
          "text": [
            "번호는1, 이름은홍길동, 아이큐는0\n",
            "홍길동 공부합니다.\n",
            "홍길동 공부합니다.\n",
            "홍길동 공부합니다.\n",
            "번호는1, 이름은홍길동, 아이큐는3\n"
          ]
        }
      ]
    },
    {
      "cell_type": "markdown",
      "source": [
        "# 정보 은닉\n",
        "\n",
        "캡슐화 과정에서 특정 멤버의 가시성을 차단하는 방법\n",
        "\n",
        "사용하는 곳에서 직접 사용하지 못하며 형식 내부에서만 사용하게 하는 기법\n",
        "\n",
        "데이터 신뢰성을 높이는 방법으로 사용한다."
      ],
      "metadata": {
        "id": "fHYhqkyIVAmh"
      }
    },
    {
      "cell_type": "code",
      "source": [
        "#시나리오 s:\n",
        "#   학생이 연속으로 5회 공부하면 아이큐가 1 올라간다\n",
        "class Student:\n",
        "    def __init__(self, name):\n",
        "        self.name = name\n",
        "        self.iq = 100\n",
        "        self.__scnt = 0  #연속으로 공부한 횟수\n",
        "    def study(self):\n",
        "        self.__scnt += 1\n",
        "        if self.__scnt == 5:\n",
        "            self.iq += 1\n",
        "            self.__scnt = 0\n",
        "    def introduce(self):\n",
        "        print(f\"이름은{self.name} 아이큐는 {self.iq} scnt:{self.__scnt}\")"
      ],
      "metadata": {
        "id": "uV1gTCNWVP2H"
      },
      "execution_count": 5,
      "outputs": []
    },
    {
      "cell_type": "code",
      "source": [
        "s1 = Student(\"홍길동\")\n",
        "s1.introduce()\n",
        "s1.study()\n",
        "s1.study()\n",
        "s1.study()\n",
        "s1.study()\n",
        "s1.study()\n",
        "#print(s1.iq)  #정보 은닉한 멤버에 접근할 수 없다.\n",
        "s1.introduce()"
      ],
      "metadata": {
        "id": "bTmBlaQsXGGX",
        "colab": {
          "base_uri": "https://localhost:8080/"
        },
        "outputId": "9967f04a-615b-408b-ab4b-5d3d1cc6cfe6"
      },
      "execution_count": 6,
      "outputs": [
        {
          "output_type": "stream",
          "name": "stdout",
          "text": [
            "이름은홍길동 아이큐는 100 scnt:0\n",
            "이름은홍길동 아이큐는 101 scnt:0\n"
          ]
        }
      ]
    },
    {
      "cell_type": "markdown",
      "source": [
        "# 특별한 멤버 - 생성자, 소멸자\n",
        "\n",
        "개체를 생성할 때 생성자(__init__)를 호출한다\n",
        "\n",
        "해당 개체를 소멸하는 것은 가비지 컬렉터가 알아서 수행한다 (c, c++에서는 개발자가 직접 소멸시켜야 하는 부담이있다)"
      ],
      "metadata": {
        "id": "UIqRVIYtYVCU"
      }
    },
    {
      "cell_type": "code",
      "source": [
        "class Student:\n",
        "    def __init__(self):\n",
        "        print(\"__init__\")\n",
        "    def __del__(self):\n",
        "        print(\"__del__\")"
      ],
      "metadata": {
        "id": "pu1Y2ILPYYhi"
      },
      "execution_count": 7,
      "outputs": []
    },
    {
      "cell_type": "code",
      "source": [
        "print(\"==1==\")\n",
        "s1 = Student()\n",
        "print(\"==2==\")\n",
        "s2 = Student()\n",
        "print(\"==3==\")\n",
        "exit(0)"
      ],
      "metadata": {
        "id": "v7SntquLZX4y",
        "colab": {
          "base_uri": "https://localhost:8080/"
        },
        "outputId": "40625b76-4c60-45f9-eb9f-3a66f931bece"
      },
      "execution_count": 8,
      "outputs": [
        {
          "output_type": "stream",
          "name": "stdout",
          "text": [
            "==1==\n",
            "__init__\n",
            "==2==\n",
            "__init__\n",
            "==3==\n"
          ]
        }
      ]
    },
    {
      "cell_type": "markdown",
      "source": [
        "# 데이터 신뢰성을 높이는 멤버 - 설정자, 접근자\n",
        "\n",
        "멤버 필드의 가시성을 차단하고 필요하면 설정자와 접근자를 제공한다.\n",
        "\n",
        "\n",
        "설정자: 멤버 필드에 값을 설정하는 메서드, set_멤버필드명\n",
        "\n",
        "접근자: 멤버 필드에 값을 확인하는 메서드, get_멤버필드명"
      ],
      "metadata": {
        "id": "1oWdtp97acpn"
      }
    },
    {
      "cell_type": "code",
      "source": [
        "class Student:\n",
        "    def __init__(self, name, num):\n",
        "        self.__name = name\n",
        "        self.__num = num\n",
        "        self.__korea = 0\n",
        "        self.__eng = 0\n",
        "        self.__math = 0\n",
        "    def get_name(self):\n",
        "        return self.__name\n",
        "    def get_num(self):\n",
        "        return self.__num\n",
        "    def set_korea(self, score):\n",
        "        self.__korea = score\n",
        "    def set_eng(self, score):\n",
        "        self.__eng = score\n",
        "    def set_math(self, score):\n",
        "        self.__math = score\n",
        "    def get_korea(self):\n",
        "        return self.__korea\n",
        "    def get_eng(self):\n",
        "        return self.__eng\n",
        "    def get_math(self):\n",
        "        return self.__math\n",
        "    def tostr(self):\n",
        "        return f\"이름:{self.__name} 번호:{self.__num} 국어:{self.__korea} 영어:{self.__eng} 수학:{self.__math}\""
      ],
      "metadata": {
        "id": "sH4F-NREa3Ab"
      },
      "execution_count": 2,
      "outputs": []
    },
    {
      "cell_type": "code",
      "source": [
        "s1 = Student(\"홍길동\", 3)\n",
        "print(s1.tostr())\n",
        "s1.set_korea(90)\n",
        "s1.set_eng(100)\n",
        "s1.set_math(80)\n",
        "print(s1.tostr())"
      ],
      "metadata": {
        "id": "xm4fBSz3fsIZ",
        "colab": {
          "base_uri": "https://localhost:8080/"
        },
        "outputId": "3a90ad3e-bf69-40d4-e35d-0761b83f2a91"
      },
      "execution_count": 3,
      "outputs": [
        {
          "output_type": "stream",
          "name": "stdout",
          "text": [
            "이름:홍길동 번호:3 국어:0 영어:0 수학:0\n",
            "이름:홍길동 번호:3 국어:90 영어:100 수학:80\n"
          ]
        }
      ]
    }
  ]
}