{
  "nbformat": 4,
  "nbformat_minor": 0,
  "metadata": {
    "colab": {
      "name": "파이썬-기초(반복문~.ipynb",
      "provenance": [],
      "authorship_tag": "ABX9TyOPn5FWIXlVaBE3vCxKNX5X",
      "include_colab_link": true
    },
    "kernelspec": {
      "name": "python3",
      "display_name": "Python 3"
    },
    "language_info": {
      "name": "python"
    }
  },
  "cells": [
    {
      "cell_type": "markdown",
      "metadata": {
        "id": "view-in-github",
        "colab_type": "text"
      },
      "source": [
        "<a href=\"https://colab.research.google.com/github/serinss/seSAC_Python_Class/blob/main/%ED%8C%8C%EC%9D%B4%EC%8D%AC_%EA%B8%B0%EC%B4%88(%EB%B0%98%EB%B3%B5%EB%AC%B8~.ipynb\" target=\"_parent\"><img src=\"https://colab.research.google.com/assets/colab-badge.svg\" alt=\"Open In Colab\"/></a>"
      ]
    },
    {
      "cell_type": "markdown",
      "source": [
        "#튜플\n",
        "\n",
        "여러 개의 원소로 구성한 자료 구조(컬렉션) -> 서로 다른 타입들 모일 수 있음  \n",
        "원소의 값을 변경할 수 없다.  "
      ],
      "metadata": {
        "id": "S0r9h6JmluSV"
      }
    },
    {
      "cell_type": "code",
      "source": [
        "tup1 = (1,)\n",
        "tup2 = (1, 'a')\n",
        "tup3 = (1, 'abc', (2,3,'ab'))\n",
        "print(tup1)\n",
        "print(tup2)\n",
        "print(tup3)"
      ],
      "metadata": {
        "colab": {
          "base_uri": "https://localhost:8080/"
        },
        "id": "BJ5MFOJSmWFN",
        "outputId": "a1143265-5e9f-469d-fde4-fb275a943b5c"
      },
      "execution_count": 1,
      "outputs": [
        {
          "output_type": "stream",
          "name": "stdout",
          "text": [
            "(1,)\n",
            "(1, 'a')\n",
            "(1, 'abc', (2, 3, 'ab'))\n"
          ]
        }
      ]
    },
    {
      "cell_type": "code",
      "source": [
        "tup1 = (1,2,3)\n",
        "print(tup1[0]) #인덱스 접근 가능\n",
        "print(tup1[1])\n",
        "print(tup1[2])"
      ],
      "metadata": {
        "colab": {
          "base_uri": "https://localhost:8080/"
        },
        "id": "u6MU5tvxmxdB",
        "outputId": "9284a632-fd84-483b-a851-239e3052a41d"
      },
      "execution_count": 2,
      "outputs": [
        {
          "output_type": "stream",
          "name": "stdout",
          "text": [
            "1\n",
            "2\n",
            "3\n"
          ]
        }
      ]
    },
    {
      "cell_type": "code",
      "source": [
        "#tup1[0] = 7 튜플은 원소의 값을 변경할 수 없다.\n",
        "#나머지 부분은 리스트와 사용법 동일"
      ],
      "metadata": {
        "id": "iBzCI5IAnHd-"
      },
      "execution_count": null,
      "outputs": []
    },
    {
      "cell_type": "markdown",
      "source": [
        "#리스트\n",
        "\n",
        "여러 개의 원소,요소(element)로 구성한 자료 구조(컬렉션) -> 변수의 타입이 통일되지 않아도 된다  \n",
        "튜플과 다르게 원소의 값을 변경할 수 있다.  "
      ],
      "metadata": {
        "id": "yQeOxl0vnPoZ"
      }
    },
    {
      "cell_type": "code",
      "source": [
        "ls1 = [1,2,3,4]\n",
        "print(ls1)"
      ],
      "metadata": {
        "colab": {
          "base_uri": "https://localhost:8080/"
        },
        "id": "u3ljbtrVnWad",
        "outputId": "e8a74f40-f426-4748-c05f-31732ae5b312"
      },
      "execution_count": 3,
      "outputs": [
        {
          "output_type": "stream",
          "name": "stdout",
          "text": [
            "[1, 2, 3, 4]\n"
          ]
        }
      ]
    },
    {
      "cell_type": "code",
      "source": [
        "ls2 = [1,2,3,'a',[1,2,3],(1,2,'a')]\n",
        "print(ls2)"
      ],
      "metadata": {
        "colab": {
          "base_uri": "https://localhost:8080/"
        },
        "id": "JaH2Fev4npl2",
        "outputId": "5b1c1cdb-2c50-4fbd-b474-f9e5d4ee52d0"
      },
      "execution_count": 4,
      "outputs": [
        {
          "output_type": "stream",
          "name": "stdout",
          "text": [
            "[1, 2, 3, 'a', [1, 2, 3], (1, 2, 'a')]\n"
          ]
        }
      ]
    },
    {
      "cell_type": "code",
      "source": [
        "ls1 = [1,2,3,4,5,'a','b']\n",
        "print(ls1[0])\n",
        "print(ls1[1])\n",
        "print(ls1[2])\n",
        "print(ls1[3])\n",
        "print(ls1[4])\n",
        "print(ls1[5])\n",
        "print(ls1[6])\n",
        "# print(ls1[7]) list index out of range 경계의 오류"
      ],
      "metadata": {
        "colab": {
          "base_uri": "https://localhost:8080/"
        },
        "id": "YW8e_blOoXxH",
        "outputId": "96be087c-b0dc-43d0-9776-336ea6455fec"
      },
      "execution_count": 6,
      "outputs": [
        {
          "output_type": "stream",
          "name": "stdout",
          "text": [
            "1\n",
            "2\n",
            "3\n",
            "4\n",
            "5\n",
            "a\n",
            "b\n"
          ]
        }
      ]
    },
    {
      "cell_type": "code",
      "source": [
        "s = \"abcdefg\"\n",
        "print(s[1:3])"
      ],
      "metadata": {
        "colab": {
          "base_uri": "https://localhost:8080/"
        },
        "id": "ikSWNybootJk",
        "outputId": "714b562e-aae5-4fa5-b67c-067161d628ab"
      },
      "execution_count": 7,
      "outputs": [
        {
          "output_type": "stream",
          "name": "stdout",
          "text": [
            "bc\n"
          ]
        }
      ]
    },
    {
      "cell_type": "code",
      "source": [
        "s1 = [1,2,3,'a','b']\n",
        "print(ls1[1:3]) #list도 slice 가능\n",
        "print(ls1[:3]) #처음부터 3번째 원소까지\n",
        "print(ls1[1:]) #1번째 원소부터 마지막까지"
      ],
      "metadata": {
        "colab": {
          "base_uri": "https://localhost:8080/"
        },
        "id": "XzBSaT6Gozt6",
        "outputId": "fe3e7cf2-d5f9-435d-925d-fbdea7a9995e"
      },
      "execution_count": 9,
      "outputs": [
        {
          "output_type": "stream",
          "name": "stdout",
          "text": [
            "[2, 3]\n",
            "[1, 2, 3]\n",
            "[2, 3, 4, 5, 'a', 'b']\n"
          ]
        }
      ]
    },
    {
      "cell_type": "code",
      "source": [
        "tup1 = (1,2,3)\n",
        "ls1 = [1,2,3]\n",
        "\n",
        "#tup1[0]=3 #'tuple' object does not support item assignment\n",
        "ls1[0]=3 # list는 원소의 값을 변경할 수 있음 -> 튜플은 잘 사용되지 않음\n",
        "print(ls1)"
      ],
      "metadata": {
        "colab": {
          "base_uri": "https://localhost:8080/"
        },
        "id": "ERBanUH9pPMK",
        "outputId": "91998c93-4252-4daa-f7ed-e31c6ff38716"
      },
      "execution_count": 13,
      "outputs": [
        {
          "output_type": "stream",
          "name": "stdout",
          "text": [
            "[3, 2, 3]\n"
          ]
        }
      ]
    },
    {
      "cell_type": "code",
      "source": [
        "ls1 = [1,2,3,4,5,6]\n",
        "print(ls1[-1]) #마지막 원소\n",
        "print(ls1[-2])\n",
        "print(ls1[-3])\n",
        "print(ls1[-4])\n",
        "print(ls1[-5])\n",
        "print(ls1[-6])"
      ],
      "metadata": {
        "colab": {
          "base_uri": "https://localhost:8080/"
        },
        "id": "VpE0OMxZpqMy",
        "outputId": "ca428373-64fc-4d34-f3dc-e87f3114d944"
      },
      "execution_count": 14,
      "outputs": [
        {
          "output_type": "stream",
          "name": "stdout",
          "text": [
            "6\n",
            "5\n",
            "4\n",
            "3\n",
            "2\n",
            "1\n"
          ]
        }
      ]
    },
    {
      "cell_type": "code",
      "source": [
        "ls1 = [[90,80,45],[88,95,64],[99,64,89]] #텐서? 머신러닝, 딥러닝에서는 텐서를 가장 많이 사용한다\n",
        "#TensorFlow, n차원 배열로 이해할 수 있다.\n",
        "print(ls1[0])\n",
        "print(ls1[0][2])"
      ],
      "metadata": {
        "colab": {
          "base_uri": "https://localhost:8080/"
        },
        "id": "4iVaPzneqE9U",
        "outputId": "ca6919ac-9015-4c0c-b8d2-9f8d3caf3edd"
      },
      "execution_count": 15,
      "outputs": [
        {
          "output_type": "stream",
          "name": "stdout",
          "text": [
            "[90, 80, 45]\n",
            "45\n"
          ]
        }
      ]
    },
    {
      "cell_type": "code",
      "source": [
        "ls1 = [1,2,3]\n",
        "ls2 = ['a','b','c']\n",
        "print(ls1+ls2) #다른 타입이어도 리스트 더하기 연산 가능\n",
        "print(ls1) #원본 리스트는 변경되지 않는다.\n",
        "print(ls2)\n",
        "ls3 = ls1 + ls2 #별도의 변수를 선언하여 사용\n",
        "print(ls3)"
      ],
      "metadata": {
        "colab": {
          "base_uri": "https://localhost:8080/"
        },
        "id": "C9FhQ3TtrQpo",
        "outputId": "93a66696-8dd4-40f6-ddd4-63258bd63292"
      },
      "execution_count": 18,
      "outputs": [
        {
          "output_type": "stream",
          "name": "stdout",
          "text": [
            "[1, 2, 3, 'a', 'b', 'c']\n",
            "[1, 2, 3]\n",
            "['a', 'b', 'c']\n",
            "[1, 2, 3, 'a', 'b', 'c']\n"
          ]
        }
      ]
    },
    {
      "cell_type": "code",
      "source": [
        "ls1 = [1,2,3]\n",
        "ls2 = ['a','b','c']\n",
        "print(ls1*3) #곱하기 연산\n",
        "s1 = \"홍길동\"\n",
        "print(s1*3)"
      ],
      "metadata": {
        "colab": {
          "base_uri": "https://localhost:8080/"
        },
        "id": "Z2Z5A8trr-yM",
        "outputId": "209b9874-996c-422e-ceb5-950ad366b11a"
      },
      "execution_count": 19,
      "outputs": [
        {
          "output_type": "stream",
          "name": "stdout",
          "text": [
            "[1, 2, 3, 1, 2, 3, 1, 2, 3]\n",
            "홍길동홍길동홍길동\n"
          ]
        }
      ]
    },
    {
      "cell_type": "code",
      "source": [
        "print(len('abcdefghijklmnopqrstuvwxyz'))\n",
        "print(len([1,2,3,4,5,6,7,8,9,10,'a','b']))"
      ],
      "metadata": {
        "colab": {
          "base_uri": "https://localhost:8080/"
        },
        "id": "11dW9J8HsME9",
        "outputId": "a7546899-dc54-40c2-c1d1-912b0aeb20cc"
      },
      "execution_count": 21,
      "outputs": [
        {
          "output_type": "stream",
          "name": "stdout",
          "text": [
            "26\n",
            "12\n"
          ]
        }
      ]
    },
    {
      "cell_type": "code",
      "source": [
        "ls1 = list() #빈 리스트 생성\n",
        "print(ls1)\n",
        "print(type(ls1))"
      ],
      "metadata": {
        "colab": {
          "base_uri": "https://localhost:8080/"
        },
        "id": "qjVpWM8itWpa",
        "outputId": "47d95c43-dcf0-4aa1-87da-a82f96ef327c"
      },
      "execution_count": 22,
      "outputs": [
        {
          "output_type": "stream",
          "name": "stdout",
          "text": [
            "[]\n",
            "<class 'list'>\n"
          ]
        }
      ]
    },
    {
      "cell_type": "code",
      "source": [
        "ls1.append(3) #순차 보관(위치, 인덱스 지정 불가)\n",
        "ls1.append(7)\n",
        "ls1.append(2)\n",
        "ls1.append(8)\n",
        "ls1.append(9)\n",
        "ls1.append(10)\n",
        "print(ls1)"
      ],
      "metadata": {
        "colab": {
          "base_uri": "https://localhost:8080/"
        },
        "id": "o9K08xxntiUF",
        "outputId": "6d4f50ca-e277-4fb7-e6a6-e1d2f10e7846"
      },
      "execution_count": 24,
      "outputs": [
        {
          "output_type": "stream",
          "name": "stdout",
          "text": [
            "[3, 7, 2, 8, 9, 310, 3, 7, 2, 8, 9, 10]\n"
          ]
        }
      ]
    },
    {
      "cell_type": "code",
      "source": [
        "ls = [1,2,3,4,5,6,7]\n",
        "num = 3\n",
        "ls.insert(2,num) #index(2) 위치에 삽입\n",
        "print(ls)"
      ],
      "metadata": {
        "colab": {
          "base_uri": "https://localhost:8080/"
        },
        "id": "pQ5xhkSDtyOa",
        "outputId": "59066e09-be92-4ad1-84eb-16d8fb1ba4c3"
      },
      "execution_count": 25,
      "outputs": [
        {
          "output_type": "stream",
          "name": "stdout",
          "text": [
            "[1, 2, 3, 3, 4, 5, 6, 7]\n"
          ]
        }
      ]
    },
    {
      "cell_type": "markdown",
      "source": [
        "리스트 병합"
      ],
      "metadata": {
        "id": "sXYizwhJunqW"
      }
    },
    {
      "cell_type": "code",
      "source": [
        "ls1 = [1,2,3]\n",
        "ls2 = ['a','b','c']\n",
        "ls1.extend(ls2) #ls1을 ls2만큼 확장\n",
        "print(ls1) #변경됨\n",
        "print(ls2) #그대로"
      ],
      "metadata": {
        "colab": {
          "base_uri": "https://localhost:8080/"
        },
        "id": "tPmieOXeum5H",
        "outputId": "0270b8bf-37e9-4591-bab6-41144b572897"
      },
      "execution_count": 27,
      "outputs": [
        {
          "output_type": "stream",
          "name": "stdout",
          "text": [
            "[1, 2, 3, 'a', 'b', 'c']\n",
            "['a', 'b', 'c']\n"
          ]
        }
      ]
    },
    {
      "cell_type": "markdown",
      "source": [
        "리스트 요소 제거하기  \n",
        "append로 추가하고 pop으로 꺼내면 stack처럼 동작한다.  \n",
        "LIFO(Last In First Out)"
      ],
      "metadata": {
        "id": "rrGK0Vux0iXY"
      }
    },
    {
      "cell_type": "code",
      "source": [
        "ls1 = [1,2,3,4,5,6,7,8]\n",
        "print(ls1)\n",
        "re = ls1.pop() #'지워진다' 보다는 '꺼낸다'는 표현 많이 사용\n",
        "print(re)\n",
        "print(ls1)\n",
        "re = ls1.pop(3) #인덱스 지정 가능\n",
        "print(re)\n",
        "print(ls1)"
      ],
      "metadata": {
        "colab": {
          "base_uri": "https://localhost:8080/"
        },
        "id": "6sq2aMJI0kgd",
        "outputId": "09b63c6d-03e9-4093-a595-9d842c1b0e5b"
      },
      "execution_count": 30,
      "outputs": [
        {
          "output_type": "stream",
          "name": "stdout",
          "text": [
            "[1, 2, 3, 4, 5, 6, 7, 8]\n",
            "8\n",
            "[1, 2, 3, 4, 5, 6, 7]\n",
            "4\n",
            "[1, 2, 3, 5, 6, 7]\n"
          ]
        }
      ]
    },
    {
      "cell_type": "code",
      "source": [
        "ls1 = [1,2,3,4,5,6,7,8]\n",
        "print(ls1)\n",
        "del ls1[2] #'지운다'는 개념\n",
        "print(ls1)\n",
        "del ls1[2]\n",
        "print(ls1)\n",
        "del ls1[2:]\n",
        "print(ls1) #대괄호를 사용하므로 범위 지정 가능"
      ],
      "metadata": {
        "colab": {
          "base_uri": "https://localhost:8080/"
        },
        "id": "bBfPTrTo1RrF",
        "outputId": "5157ad15-ed9f-4344-e2d1-73d436940367"
      },
      "execution_count": 33,
      "outputs": [
        {
          "output_type": "stream",
          "name": "stdout",
          "text": [
            "[1, 2, 3, 4, 5, 6, 7, 8]\n",
            "[1, 2, 4, 5, 6, 7, 8]\n",
            "[1, 2, 5, 6, 7, 8]\n",
            "[1, 2]\n"
          ]
        }
      ]
    },
    {
      "cell_type": "code",
      "source": [
        "member_list = ['홍길동','강감찬','을지문덕','고길동','김구']\n",
        "\n",
        "print(member_list)\n",
        "name = input(\"지울 회원 : \")\n",
        "member_list.remove(name) #인덱스가 아닌 값으로 지우기\n",
        "print(member_list)"
      ],
      "metadata": {
        "colab": {
          "base_uri": "https://localhost:8080/"
        },
        "id": "rucHPGnG1z0L",
        "outputId": "a01f88d3-4f4c-4f77-af71-1718360d5886"
      },
      "execution_count": 35,
      "outputs": [
        {
          "output_type": "stream",
          "name": "stdout",
          "text": [
            "['홍길동', '강감찬', '을지문덕', '고길동', '김구']\n",
            "지울 회원 : 고길동\n",
            "['홍길동', '강감찬', '을지문덕', '김구']\n"
          ]
        }
      ]
    },
    {
      "cell_type": "code",
      "source": [
        "member_list = ['홍길동','강감찬','을지문덕','고길동','김구']\n",
        "\n",
        "print(member_list)\n",
        "member_list.clear() #완전 삭제\n",
        "print(member_list)"
      ],
      "metadata": {
        "colab": {
          "base_uri": "https://localhost:8080/"
        },
        "id": "a8KO_N7n2bbD",
        "outputId": "9b90b820-d932-4666-d10a-f7d3252a0101"
      },
      "execution_count": 36,
      "outputs": [
        {
          "output_type": "stream",
          "name": "stdout",
          "text": [
            "['홍길동', '강감찬', '을지문덕', '고길동', '김구']\n",
            "[]\n"
          ]
        }
      ]
    }
  ]
}