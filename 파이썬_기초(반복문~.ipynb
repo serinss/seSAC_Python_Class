{
  "nbformat": 4,
  "nbformat_minor": 0,
  "metadata": {
    "colab": {
      "name": "파이썬-기초(반복문~.ipynb",
      "provenance": [],
      "collapsed_sections": [],
      "authorship_tag": "ABX9TyMP0ibgQYCo/gx6snnf/bFc",
      "include_colab_link": true
    },
    "kernelspec": {
      "name": "python3",
      "display_name": "Python 3"
    },
    "language_info": {
      "name": "python"
    }
  },
  "cells": [
    {
      "cell_type": "markdown",
      "metadata": {
        "id": "view-in-github",
        "colab_type": "text"
      },
      "source": [
        "<a href=\"https://colab.research.google.com/github/serinss/seSAC_Python_Class/blob/main/%ED%8C%8C%EC%9D%B4%EC%8D%AC_%EA%B8%B0%EC%B4%88(%EB%B0%98%EB%B3%B5%EB%AC%B8~.ipynb\" target=\"_parent\"><img src=\"https://colab.research.google.com/assets/colab-badge.svg\" alt=\"Open In Colab\"/></a>"
      ]
    },
    {
      "cell_type": "markdown",
      "source": [
        "#튜플\n",
        "\n",
        "여러 개의 원소로 구성한 자료 구조(컬렉션) -> 서로 다른 타입들 모일 수 있음  \n",
        "원소의 값을 변경할 수 없다.  "
      ],
      "metadata": {
        "id": "S0r9h6JmluSV"
      }
    },
    {
      "cell_type": "code",
      "source": [
        "tup1 = (1,)\n",
        "tup2 = (1, 'a')\n",
        "tup3 = (1, 'abc', (2,3,'ab'))\n",
        "print(tup1)\n",
        "print(tup2)\n",
        "print(tup3)"
      ],
      "metadata": {
        "colab": {
          "base_uri": "https://localhost:8080/"
        },
        "id": "BJ5MFOJSmWFN",
        "outputId": "a1143265-5e9f-469d-fde4-fb275a943b5c"
      },
      "execution_count": null,
      "outputs": [
        {
          "output_type": "stream",
          "name": "stdout",
          "text": [
            "(1,)\n",
            "(1, 'a')\n",
            "(1, 'abc', (2, 3, 'ab'))\n"
          ]
        }
      ]
    },
    {
      "cell_type": "code",
      "source": [
        "tup1 = (1,2,3)\n",
        "print(tup1[0]) #인덱스 접근 가능\n",
        "print(tup1[1])\n",
        "print(tup1[2])"
      ],
      "metadata": {
        "colab": {
          "base_uri": "https://localhost:8080/"
        },
        "id": "u6MU5tvxmxdB",
        "outputId": "9284a632-fd84-483b-a851-239e3052a41d"
      },
      "execution_count": null,
      "outputs": [
        {
          "output_type": "stream",
          "name": "stdout",
          "text": [
            "1\n",
            "2\n",
            "3\n"
          ]
        }
      ]
    },
    {
      "cell_type": "code",
      "source": [
        "#tup1[0] = 7 튜플은 원소의 값을 변경할 수 없다.\n",
        "#나머지 부분은 리스트와 사용법 동일"
      ],
      "metadata": {
        "id": "iBzCI5IAnHd-"
      },
      "execution_count": null,
      "outputs": []
    },
    {
      "cell_type": "markdown",
      "source": [
        "#리스트\n",
        "\n",
        "여러 개의 원소,요소(element)로 구성한 자료 구조(컬렉션) -> 변수의 타입이 통일되지 않아도 된다  \n",
        "튜플과 다르게 원소의 값을 변경할 수 있다.  "
      ],
      "metadata": {
        "id": "yQeOxl0vnPoZ"
      }
    },
    {
      "cell_type": "code",
      "source": [
        "ls1 = [1,2,3,4]\n",
        "print(ls1)"
      ],
      "metadata": {
        "colab": {
          "base_uri": "https://localhost:8080/"
        },
        "id": "u3ljbtrVnWad",
        "outputId": "e8a74f40-f426-4748-c05f-31732ae5b312"
      },
      "execution_count": null,
      "outputs": [
        {
          "output_type": "stream",
          "name": "stdout",
          "text": [
            "[1, 2, 3, 4]\n"
          ]
        }
      ]
    },
    {
      "cell_type": "code",
      "source": [
        "ls2 = [1,2,3,'a',[1,2,3],(1,2,'a')]\n",
        "print(ls2)"
      ],
      "metadata": {
        "colab": {
          "base_uri": "https://localhost:8080/"
        },
        "id": "JaH2Fev4npl2",
        "outputId": "5b1c1cdb-2c50-4fbd-b474-f9e5d4ee52d0"
      },
      "execution_count": null,
      "outputs": [
        {
          "output_type": "stream",
          "name": "stdout",
          "text": [
            "[1, 2, 3, 'a', [1, 2, 3], (1, 2, 'a')]\n"
          ]
        }
      ]
    },
    {
      "cell_type": "code",
      "source": [
        "ls1 = [1,2,3,4,5,'a','b']\n",
        "print(ls1[0])\n",
        "print(ls1[1])\n",
        "print(ls1[2])\n",
        "print(ls1[3])\n",
        "print(ls1[4])\n",
        "print(ls1[5])\n",
        "print(ls1[6])\n",
        "# print(ls1[7]) list index out of range 경계의 오류"
      ],
      "metadata": {
        "colab": {
          "base_uri": "https://localhost:8080/"
        },
        "id": "YW8e_blOoXxH",
        "outputId": "96be087c-b0dc-43d0-9776-336ea6455fec"
      },
      "execution_count": null,
      "outputs": [
        {
          "output_type": "stream",
          "name": "stdout",
          "text": [
            "1\n",
            "2\n",
            "3\n",
            "4\n",
            "5\n",
            "a\n",
            "b\n"
          ]
        }
      ]
    },
    {
      "cell_type": "code",
      "source": [
        "s = \"abcdefg\"\n",
        "print(s[1:3])"
      ],
      "metadata": {
        "colab": {
          "base_uri": "https://localhost:8080/"
        },
        "id": "ikSWNybootJk",
        "outputId": "714b562e-aae5-4fa5-b67c-067161d628ab"
      },
      "execution_count": null,
      "outputs": [
        {
          "output_type": "stream",
          "name": "stdout",
          "text": [
            "bc\n"
          ]
        }
      ]
    },
    {
      "cell_type": "code",
      "source": [
        "s1 = [1,2,3,'a','b']\n",
        "print(ls1[1:3]) #list도 slice 가능\n",
        "print(ls1[:3]) #처음부터 3번째 원소까지\n",
        "print(ls1[1:]) #1번째 원소부터 마지막까지"
      ],
      "metadata": {
        "colab": {
          "base_uri": "https://localhost:8080/"
        },
        "id": "XzBSaT6Gozt6",
        "outputId": "fe3e7cf2-d5f9-435d-925d-fbdea7a9995e"
      },
      "execution_count": null,
      "outputs": [
        {
          "output_type": "stream",
          "name": "stdout",
          "text": [
            "[2, 3]\n",
            "[1, 2, 3]\n",
            "[2, 3, 4, 5, 'a', 'b']\n"
          ]
        }
      ]
    },
    {
      "cell_type": "code",
      "source": [
        "tup1 = (1,2,3)\n",
        "ls1 = [1,2,3]\n",
        "\n",
        "#tup1[0]=3 #'tuple' object does not support item assignment\n",
        "ls1[0]=3 # list는 원소의 값을 변경할 수 있음 -> 튜플은 잘 사용되지 않음\n",
        "print(ls1)"
      ],
      "metadata": {
        "colab": {
          "base_uri": "https://localhost:8080/"
        },
        "id": "ERBanUH9pPMK",
        "outputId": "91998c93-4252-4daa-f7ed-e31c6ff38716"
      },
      "execution_count": null,
      "outputs": [
        {
          "output_type": "stream",
          "name": "stdout",
          "text": [
            "[3, 2, 3]\n"
          ]
        }
      ]
    },
    {
      "cell_type": "code",
      "source": [
        "ls1 = [1,2,3,4,5,6]\n",
        "print(ls1[-1]) #마지막 원소\n",
        "print(ls1[-2])\n",
        "print(ls1[-3])\n",
        "print(ls1[-4])\n",
        "print(ls1[-5])\n",
        "print(ls1[-6])"
      ],
      "metadata": {
        "colab": {
          "base_uri": "https://localhost:8080/"
        },
        "id": "VpE0OMxZpqMy",
        "outputId": "ca428373-64fc-4d34-f3dc-e87f3114d944"
      },
      "execution_count": null,
      "outputs": [
        {
          "output_type": "stream",
          "name": "stdout",
          "text": [
            "6\n",
            "5\n",
            "4\n",
            "3\n",
            "2\n",
            "1\n"
          ]
        }
      ]
    },
    {
      "cell_type": "code",
      "source": [
        "ls1 = [[90,80,45],[88,95,64],[99,64,89]] #텐서? 머신러닝, 딥러닝에서는 텐서를 가장 많이 사용한다\n",
        "#TensorFlow, n차원 배열로 이해할 수 있다.\n",
        "print(ls1[0])\n",
        "print(ls1[0][2])"
      ],
      "metadata": {
        "colab": {
          "base_uri": "https://localhost:8080/"
        },
        "id": "4iVaPzneqE9U",
        "outputId": "ca6919ac-9015-4c0c-b8d2-9f8d3caf3edd"
      },
      "execution_count": null,
      "outputs": [
        {
          "output_type": "stream",
          "name": "stdout",
          "text": [
            "[90, 80, 45]\n",
            "45\n"
          ]
        }
      ]
    },
    {
      "cell_type": "code",
      "source": [
        "ls1 = [1,2,3]\n",
        "ls2 = ['a','b','c']\n",
        "print(ls1+ls2) #다른 타입이어도 리스트 더하기 연산 가능\n",
        "print(ls1) #원본 리스트는 변경되지 않는다.\n",
        "print(ls2)\n",
        "ls3 = ls1 + ls2 #별도의 변수를 선언하여 사용\n",
        "print(ls3)"
      ],
      "metadata": {
        "colab": {
          "base_uri": "https://localhost:8080/"
        },
        "id": "C9FhQ3TtrQpo",
        "outputId": "93a66696-8dd4-40f6-ddd4-63258bd63292"
      },
      "execution_count": null,
      "outputs": [
        {
          "output_type": "stream",
          "name": "stdout",
          "text": [
            "[1, 2, 3, 'a', 'b', 'c']\n",
            "[1, 2, 3]\n",
            "['a', 'b', 'c']\n",
            "[1, 2, 3, 'a', 'b', 'c']\n"
          ]
        }
      ]
    },
    {
      "cell_type": "code",
      "source": [
        "ls1 = [1,2,3]\n",
        "ls2 = ['a','b','c']\n",
        "print(ls1*3) #곱하기 연산\n",
        "s1 = \"홍길동\"\n",
        "print(s1*3)"
      ],
      "metadata": {
        "colab": {
          "base_uri": "https://localhost:8080/"
        },
        "id": "Z2Z5A8trr-yM",
        "outputId": "209b9874-996c-422e-ceb5-950ad366b11a"
      },
      "execution_count": null,
      "outputs": [
        {
          "output_type": "stream",
          "name": "stdout",
          "text": [
            "[1, 2, 3, 1, 2, 3, 1, 2, 3]\n",
            "홍길동홍길동홍길동\n"
          ]
        }
      ]
    },
    {
      "cell_type": "code",
      "source": [
        "print(len('abcdefghijklmnopqrstuvwxyz'))\n",
        "print(len([1,2,3,4,5,6,7,8,9,10,'a','b']))"
      ],
      "metadata": {
        "colab": {
          "base_uri": "https://localhost:8080/"
        },
        "id": "11dW9J8HsME9",
        "outputId": "a7546899-dc54-40c2-c1d1-912b0aeb20cc"
      },
      "execution_count": null,
      "outputs": [
        {
          "output_type": "stream",
          "name": "stdout",
          "text": [
            "26\n",
            "12\n"
          ]
        }
      ]
    },
    {
      "cell_type": "code",
      "source": [
        "ls1 = list() #빈 리스트 생성\n",
        "print(ls1)\n",
        "print(type(ls1))"
      ],
      "metadata": {
        "colab": {
          "base_uri": "https://localhost:8080/"
        },
        "id": "qjVpWM8itWpa",
        "outputId": "47d95c43-dcf0-4aa1-87da-a82f96ef327c"
      },
      "execution_count": null,
      "outputs": [
        {
          "output_type": "stream",
          "name": "stdout",
          "text": [
            "[]\n",
            "<class 'list'>\n"
          ]
        }
      ]
    },
    {
      "cell_type": "code",
      "source": [
        "ls1.append(3) #순차 보관(위치, 인덱스 지정 불가)\n",
        "ls1.append(7)\n",
        "ls1.append(2)\n",
        "ls1.append(8)\n",
        "ls1.append(9)\n",
        "ls1.append(10)\n",
        "print(ls1)"
      ],
      "metadata": {
        "colab": {
          "base_uri": "https://localhost:8080/"
        },
        "id": "o9K08xxntiUF",
        "outputId": "6d4f50ca-e277-4fb7-e6a6-e1d2f10e7846"
      },
      "execution_count": null,
      "outputs": [
        {
          "output_type": "stream",
          "name": "stdout",
          "text": [
            "[3, 7, 2, 8, 9, 310, 3, 7, 2, 8, 9, 10]\n"
          ]
        }
      ]
    },
    {
      "cell_type": "code",
      "source": [
        "ls = [1,2,3,4,5,6,7]\n",
        "num = 3\n",
        "ls.insert(2,num) #index(2) 위치에 삽입\n",
        "print(ls)"
      ],
      "metadata": {
        "colab": {
          "base_uri": "https://localhost:8080/"
        },
        "id": "pQ5xhkSDtyOa",
        "outputId": "59066e09-be92-4ad1-84eb-16d8fb1ba4c3"
      },
      "execution_count": null,
      "outputs": [
        {
          "output_type": "stream",
          "name": "stdout",
          "text": [
            "[1, 2, 3, 3, 4, 5, 6, 7]\n"
          ]
        }
      ]
    },
    {
      "cell_type": "markdown",
      "source": [
        "리스트 병합"
      ],
      "metadata": {
        "id": "sXYizwhJunqW"
      }
    },
    {
      "cell_type": "code",
      "source": [
        "ls1 = [1,2,3]\n",
        "ls2 = ['a','b','c']\n",
        "ls1.extend(ls2) #ls1을 ls2만큼 확장\n",
        "print(ls1) #변경됨\n",
        "print(ls2) #그대로"
      ],
      "metadata": {
        "colab": {
          "base_uri": "https://localhost:8080/"
        },
        "id": "tPmieOXeum5H",
        "outputId": "0270b8bf-37e9-4591-bab6-41144b572897"
      },
      "execution_count": null,
      "outputs": [
        {
          "output_type": "stream",
          "name": "stdout",
          "text": [
            "[1, 2, 3, 'a', 'b', 'c']\n",
            "['a', 'b', 'c']\n"
          ]
        }
      ]
    },
    {
      "cell_type": "markdown",
      "source": [
        "리스트 요소 제거하기  \n",
        "append로 추가하고 pop으로 꺼내면 stack처럼 동작한다.  \n",
        "LIFO(Last In First Out)"
      ],
      "metadata": {
        "id": "rrGK0Vux0iXY"
      }
    },
    {
      "cell_type": "code",
      "source": [
        "ls1 = [1,2,3,4,5,6,7,8]\n",
        "print(ls1)\n",
        "re = ls1.pop() #'지워진다' 보다는 '꺼낸다'는 표현 많이 사용\n",
        "print(re)\n",
        "print(ls1)\n",
        "re = ls1.pop(3) #인덱스 지정 가능\n",
        "print(re)\n",
        "print(ls1)"
      ],
      "metadata": {
        "colab": {
          "base_uri": "https://localhost:8080/"
        },
        "id": "6sq2aMJI0kgd",
        "outputId": "09b63c6d-03e9-4093-a595-9d842c1b0e5b"
      },
      "execution_count": null,
      "outputs": [
        {
          "output_type": "stream",
          "name": "stdout",
          "text": [
            "[1, 2, 3, 4, 5, 6, 7, 8]\n",
            "8\n",
            "[1, 2, 3, 4, 5, 6, 7]\n",
            "4\n",
            "[1, 2, 3, 5, 6, 7]\n"
          ]
        }
      ]
    },
    {
      "cell_type": "code",
      "source": [
        "ls1 = [1,2,3,4,5,6,7,8]\n",
        "print(ls1)\n",
        "del ls1[2] #'지운다'는 개념\n",
        "print(ls1)\n",
        "del ls1[2]\n",
        "print(ls1)\n",
        "del ls1[2:]\n",
        "print(ls1) #대괄호를 사용하므로 범위 지정 가능"
      ],
      "metadata": {
        "colab": {
          "base_uri": "https://localhost:8080/"
        },
        "id": "bBfPTrTo1RrF",
        "outputId": "5157ad15-ed9f-4344-e2d1-73d436940367"
      },
      "execution_count": null,
      "outputs": [
        {
          "output_type": "stream",
          "name": "stdout",
          "text": [
            "[1, 2, 3, 4, 5, 6, 7, 8]\n",
            "[1, 2, 4, 5, 6, 7, 8]\n",
            "[1, 2, 5, 6, 7, 8]\n",
            "[1, 2]\n"
          ]
        }
      ]
    },
    {
      "cell_type": "code",
      "source": [
        "member_list = ['홍길동','강감찬','을지문덕','고길동','김구']\n",
        "\n",
        "print(member_list)\n",
        "name = input(\"지울 회원 : \")\n",
        "member_list.remove(name) #인덱스가 아닌 값으로 지우기\n",
        "print(member_list)"
      ],
      "metadata": {
        "colab": {
          "base_uri": "https://localhost:8080/"
        },
        "id": "rucHPGnG1z0L",
        "outputId": "a01f88d3-4f4c-4f77-af71-1718360d5886"
      },
      "execution_count": null,
      "outputs": [
        {
          "output_type": "stream",
          "name": "stdout",
          "text": [
            "['홍길동', '강감찬', '을지문덕', '고길동', '김구']\n",
            "지울 회원 : 고길동\n",
            "['홍길동', '강감찬', '을지문덕', '김구']\n"
          ]
        }
      ]
    },
    {
      "cell_type": "code",
      "source": [
        "member_list = ['홍길동','강감찬','을지문덕','고길동','김구']\n",
        "\n",
        "print(member_list)\n",
        "member_list.clear() #완전 삭제\n",
        "print(member_list)"
      ],
      "metadata": {
        "colab": {
          "base_uri": "https://localhost:8080/"
        },
        "id": "a8KO_N7n2bbD",
        "outputId": "9b90b820-d932-4666-d10a-f7d3252a0101"
      },
      "execution_count": null,
      "outputs": [
        {
          "output_type": "stream",
          "name": "stdout",
          "text": [
            "['홍길동', '강감찬', '을지문덕', '고길동', '김구']\n",
            "[]\n"
          ]
        }
      ]
    },
    {
      "cell_type": "code",
      "source": [
        "s = \"나는 집에 간다. 그리고 나는 잠을 잔다.\"\n",
        "print(\"간다\" in s) #문자열 내부에 있는지 확인하기"
      ],
      "metadata": {
        "colab": {
          "base_uri": "https://localhost:8080/"
        },
        "id": "EO-P_lWw3DIu",
        "outputId": "77417962-9d40-46c9-c5bd-fea2b125e1f7"
      },
      "execution_count": null,
      "outputs": [
        {
          "output_type": "stream",
          "name": "stdout",
          "text": [
            "True\n"
          ]
        }
      ]
    },
    {
      "cell_type": "code",
      "source": [
        "member_list = ['홍길동','강감찬','을지문덕','고길동','김구']\n",
        "name = input(\"검색할 회원 : \")\n",
        "if name in member_list:\n",
        "  print(\"존재합니다.\")\n",
        "else:\n",
        "  print(\"아직 회원이 아닙니다.\")"
      ],
      "metadata": {
        "colab": {
          "base_uri": "https://localhost:8080/"
        },
        "id": "DoSjWn5t3OVC",
        "outputId": "e33366d2-7884-4bf4-cd72-9c3127c062ab"
      },
      "execution_count": null,
      "outputs": [
        {
          "output_type": "stream",
          "name": "stdout",
          "text": [
            "검색할 회원 : 홍길동\n",
            "존재합니다.\n"
          ]
        }
      ]
    },
    {
      "cell_type": "markdown",
      "source": [
        "#반복문(for문)\n",
        "list, dictionary 자료구조와 연계되어 90% 이상이 for문을 사용한다.  "
      ],
      "metadata": {
        "id": "SjVMViJR3sG-"
      }
    },
    {
      "cell_type": "code",
      "source": [
        "for i in range(10):\n",
        "  print(i, end=' ')"
      ],
      "metadata": {
        "colab": {
          "base_uri": "https://localhost:8080/"
        },
        "id": "5IzLegkN3tPt",
        "outputId": "aced33d3-3f9d-42bb-c3e8-bd4f81f75a89"
      },
      "execution_count": null,
      "outputs": [
        {
          "output_type": "stream",
          "name": "stdout",
          "text": [
            "0 1 2 3 4 5 6 7 8 9 "
          ]
        }
      ]
    },
    {
      "cell_type": "code",
      "source": [
        "ls = [3,4,8,9]\n",
        "for i in ls:\n",
        "  print(i, end=' ')"
      ],
      "metadata": {
        "colab": {
          "base_uri": "https://localhost:8080/"
        },
        "id": "etMKRCXJ4ws8",
        "outputId": "84e4ef80-938e-4e32-870f-8eff374a0189"
      },
      "execution_count": null,
      "outputs": [
        {
          "output_type": "stream",
          "name": "stdout",
          "text": [
            "3 4 8 9 "
          ]
        }
      ]
    },
    {
      "cell_type": "markdown",
      "source": [
        "#연습문제   \n",
        "10명의 회원 이름을 받아 출력하시오."
      ],
      "metadata": {
        "id": "BdYmE9y76t1b"
      }
    },
    {
      "cell_type": "code",
      "source": [
        "member_names=[]\n",
        "for i in range(10):\n",
        "  name = input(f\"{i+1}번째 이름 : \")\n",
        "  member_names.append(name)\n",
        "print(member_names)"
      ],
      "metadata": {
        "colab": {
          "base_uri": "https://localhost:8080/"
        },
        "id": "TfO771MQ6wsy",
        "outputId": "cd0f12d1-1209-4330-c95e-f06ee54181f2"
      },
      "execution_count": null,
      "outputs": [
        {
          "output_type": "stream",
          "name": "stdout",
          "text": [
            "1번째 이름 : 1\n",
            "2번째 이름 : 2\n",
            "3번째 이름 : 3\n",
            "4번째 이름 : 4\n",
            "5번째 이름 : 5\n",
            "6번째 이름 : 6\n",
            "7번째 이름 : 7\n",
            "8번째 이름 : 8\n",
            "9번째 이름 : 9\n",
            "10번째 이름 : 10\n",
            "['1', '2', '3', '4', '5', '6', '7', '8', '9', '10']\n"
          ]
        }
      ]
    },
    {
      "cell_type": "markdown",
      "source": [
        "국어, 영어, 수학 점수를 입력 받아 평균을 구하여 출력하시오.  \n",
        "단, 점수는 리스트에 보관"
      ],
      "metadata": {
        "id": "C08pZKK97l0c"
      }
    },
    {
      "cell_type": "code",
      "source": [
        "score_list = [] #점수를 기억할 컬렉션 생성\n",
        "subjects=(\"국어\",\"영어\",\"수학\")\n",
        "sum = 0\n",
        "for i in range(len(subjects)): #반복(3과목)\n",
        "  score = int(input(f\"{subjects[i]} 점수 입력:\")) #점수 입력\n",
        "  score_list.append(score) #컬렉션에 보관\n",
        "  sum += score_list[i]\n",
        "avg = sum/3 #평균 출력\n",
        "print(\"==> 평균:\",avg)"
      ],
      "metadata": {
        "colab": {
          "base_uri": "https://localhost:8080/"
        },
        "id": "xFpe-EV07tQj",
        "outputId": "d7dbde9e-1620-4ed2-f8e5-77f42790d9dc"
      },
      "execution_count": null,
      "outputs": [
        {
          "output_type": "stream",
          "name": "stdout",
          "text": [
            "국어 점수 입력:98\n",
            "영어 점수 입력:80\n",
            "수학 점수 입력:95\n",
            "==> 평균: 91.0\n"
          ]
        }
      ]
    },
    {
      "cell_type": "markdown",
      "source": [
        "#딕셔너리  \n",
        "키와 값을 쌍으로 갖는 요소를 보관하는 자료구조(컬렉션"
      ],
      "metadata": {
        "id": "mGENXKKaC8SU"
      }
    },
    {
      "cell_type": "code",
      "source": [
        "member_states = {\"홍길동\":23,\n",
        "                 \"강감찬\":17,\n",
        "                 \"을지문덕\":89}\n",
        "print(member_states)                 "
      ],
      "metadata": {
        "colab": {
          "base_uri": "https://localhost:8080/"
        },
        "id": "cdDlPuoGDBdv",
        "outputId": "99c9312d-ac04-4e2d-e790-284aea2384e3"
      },
      "execution_count": null,
      "outputs": [
        {
          "output_type": "stream",
          "name": "stdout",
          "text": [
            "{'홍길동': 23, '강감찬': 17, '을지문덕': 89}\n"
          ]
        }
      ]
    },
    {
      "cell_type": "code",
      "source": [
        "print(member_states[\"홍길동\"])"
      ],
      "metadata": {
        "colab": {
          "base_uri": "https://localhost:8080/"
        },
        "id": "_L0-YJEDDX8b",
        "outputId": "debe0f8b-529b-4ca3-e04b-7eeb8e68ee05"
      },
      "execution_count": null,
      "outputs": [
        {
          "output_type": "stream",
          "name": "stdout",
          "text": [
            "23\n"
          ]
        }
      ]
    },
    {
      "cell_type": "code",
      "source": [
        "subjects = (\"국어\",\"영어\",\"수학\")\n",
        "scores_dic = {}\n",
        "for i in range(3):\n",
        "  name = input(f\"{i+1}번째 학생 이름 :\") #같은 키 값은 사용할 수 없다\n",
        "  scores=[]\n",
        "  for s in subjects:\n",
        "    socre = int(input(f\"{s}:\"))\n",
        "    scores.append(score)\n",
        "  scores_dic[name] = scores #값 추가 or 변경\n",
        "print(scores_dic)"
      ],
      "metadata": {
        "colab": {
          "base_uri": "https://localhost:8080/"
        },
        "id": "05G7DinzDoTV",
        "outputId": "6b55bebd-e334-439c-8998-e395021b90ff"
      },
      "execution_count": null,
      "outputs": [
        {
          "output_type": "stream",
          "name": "stdout",
          "text": [
            "1번째 학생 이름 :세링\n",
            "국어:80\n",
            "영어:90\n",
            "수학:88\n",
            "2번째 학생 이름 :세린\n",
            "국어:98\n",
            "영어:80\n",
            "수학:94\n",
            "3번째 학생 이름 :세릭\n",
            "국어:97\n",
            "영어:88\n",
            "수학:75\n",
            "{'세링': [95, 95, 95], '세린': [95, 95, 95], '세릭': [95, 95, 95]}\n"
          ]
        }
      ]
    },
    {
      "cell_type": "code",
      "source": [
        "name = input(\"삭제할 학생:\")\n",
        "del scores_dic[name]\n",
        "print(scores_dic)"
      ],
      "metadata": {
        "colab": {
          "base_uri": "https://localhost:8080/"
        },
        "id": "EM9vEG4LFLBg",
        "outputId": "5c1991b3-7337-49af-9d4e-f9984b806388"
      },
      "execution_count": null,
      "outputs": [
        {
          "output_type": "stream",
          "name": "stdout",
          "text": [
            "삭제할 학생:세릭\n",
            "{'세링': [95, 95, 95], '세린': [95, 95, 95]}\n"
          ]
        }
      ]
    },
    {
      "cell_type": "code",
      "source": [
        "eh_att_dic = {}\n",
        "eh_att_dic[\"title\"]=\"언제나휴일\"\n",
        "eh_att_dic[\"url\"]=\"http://ehpub.co.kr\"\n",
        "eh_att_dic[\"desc\"]=\"어자구저저구\"\n",
        "print(eh_att_dic) #목적에 따라 다양하게 사용할 수 있음"
      ],
      "metadata": {
        "colab": {
          "base_uri": "https://localhost:8080/"
        },
        "id": "jZBA-IzNFjb2",
        "outputId": "eee2702f-350f-44ff-d5de-a21db0a8a377"
      },
      "execution_count": 65,
      "outputs": [
        {
          "output_type": "stream",
          "name": "stdout",
          "text": [
            "{'title': '언제나휴일', 'url': 'http://ehpub.co.kr', 'desc': '어자구저저구'}\n"
          ]
        }
      ]
    },
    {
      "cell_type": "code",
      "source": [
        "if \"url\" in eh_att_dic:\n",
        "  print(f'존재합니다. url: {eh_att_dic[\"url\"]}')\n",
        "else:\n",
        "  print(\"url 정보가 없습니다\")\n",
        "  # --> 존재하지 않는 키를 인덱스 연산으로 사용하면 KeyError 발생\n",
        "  # 사용하기 전에 미리 확인하자"
      ],
      "metadata": {
        "colab": {
          "base_uri": "https://localhost:8080/"
        },
        "id": "YQnXLhafGKMs",
        "outputId": "a7b58799-c655-4cd5-c7b1-d90eccc48018"
      },
      "execution_count": 66,
      "outputs": [
        {
          "output_type": "stream",
          "name": "stdout",
          "text": [
            "존재합니다. url: http://ehpub.co.kr\n"
          ]
        }
      ]
    },
    {
      "cell_type": "code",
      "source": [
        "value = eh_att_dic.get(\"url\")\n",
        "if value == None:\n",
        "  print(\"url 정보가 없습니다\")\n",
        "else:\n",
        "  print(f\"url:{value}\")"
      ],
      "metadata": {
        "colab": {
          "base_uri": "https://localhost:8080/"
        },
        "id": "q-UY-RyAG2z2",
        "outputId": "c126b4da-c8e2-4236-afde-531ed38ce799"
      },
      "execution_count": 68,
      "outputs": [
        {
          "output_type": "stream",
          "name": "stdout",
          "text": [
            "url:http://ehpub.co.kr\n"
          ]
        }
      ]
    },
    {
      "cell_type": "markdown",
      "source": [
        "#while 반복문   \n",
        "특정 조건이 참일 때 반복"
      ],
      "metadata": {
        "id": "z41XvBy8I8AN"
      }
    },
    {
      "cell_type": "code",
      "source": [
        "#사용자로부터 정수를 입력 받아 합계를 계산하여 출력하시오.\n",
        "#사용자가 음수를 입력하면더 이상 입력받지 않는다.\n",
        "\n",
        "#방법1\n",
        "\n",
        "sum = 0 #합계:=0\n",
        "number = 0\n",
        "while number >= 0: #반복 number:=사용자로부터 정수를 입력받은 number가 음수가 아니라면\n",
        "  sum += number #합계:= 합계 + number\n",
        "  number = int(input(\"정수 :\"))\n",
        "print(sum) #합계 출력"
      ],
      "metadata": {
        "colab": {
          "base_uri": "https://localhost:8080/"
        },
        "id": "9FJpca_iJBg7",
        "outputId": "a8444bbf-fec1-4632-a26e-63a93494232b"
      },
      "execution_count": 69,
      "outputs": [
        {
          "output_type": "stream",
          "name": "stdout",
          "text": [
            "정수 :9\n",
            "정수 :8\n",
            "정수 :4\n",
            "정수 :5\n",
            "정수 :-1\n",
            "26\n"
          ]
        }
      ]
    },
    {
      "cell_type": "code",
      "source": [
        "#방법2\n",
        "\n",
        "sum = 0 #합계:=0\n",
        "while True: #무한 루프\n",
        "  number = int(input(\"정수 :\"))\n",
        "  if number < 0:\n",
        "    break #반복문(루프) 탈출\n",
        "  sum += number #합계:= 합계 + number\n",
        "print(sum) #합계 출력"
      ],
      "metadata": {
        "colab": {
          "base_uri": "https://localhost:8080/"
        },
        "id": "9Jv2vhZxKSWL",
        "outputId": "945a718e-1fcc-4599-db4c-e901ac298c89"
      },
      "execution_count": 70,
      "outputs": [
        {
          "output_type": "stream",
          "name": "stdout",
          "text": [
            "정수 :95\n",
            "정수 :774\n",
            "정수 :15\n",
            "정수 :-8\n",
            "884\n"
          ]
        }
      ]
    },
    {
      "cell_type": "code",
      "source": [
        "for i in range(10):\n",
        "  print(i, end=' ')"
      ],
      "metadata": {
        "colab": {
          "base_uri": "https://localhost:8080/"
        },
        "id": "DW9R-b6sLUX7",
        "outputId": "4f96e1e1-b282-4a90-de9d-7d0ae0a4ef21"
      },
      "execution_count": 71,
      "outputs": [
        {
          "output_type": "stream",
          "name": "stdout",
          "text": [
            "0 1 2 3 4 5 6 7 8 9 "
          ]
        }
      ]
    },
    {
      "cell_type": "code",
      "source": [
        "#위와 동일\n",
        "i = 0\n",
        "while i<10:\n",
        "  print(i, end=' ')\n",
        "  i+=1"
      ],
      "metadata": {
        "colab": {
          "base_uri": "https://localhost:8080/"
        },
        "id": "KLqsVz2yLZ0m",
        "outputId": "b281bf72-22d5-4601-e18e-6654d158f64b"
      },
      "execution_count": 72,
      "outputs": [
        {
          "output_type": "stream",
          "name": "stdout",
          "text": [
            "0 1 2 3 4 5 6 7 8 9 "
          ]
        }
      ]
    },
    {
      "cell_type": "code",
      "source": [
        "i = 0\n",
        "while i<100:\n",
        "  i += 1\n",
        "  if i % 2 == 0:\n",
        "    print(i, end=' ') #3의 배수 이면서 2의 배수인 것들은 출력\n",
        "  elif i % 3 == 0: #온전히 3의 배수인 것은 미출력\n",
        "    continue\n",
        "  else:\n",
        "    print(f'/{i}/')"
      ],
      "metadata": {
        "colab": {
          "base_uri": "https://localhost:8080/"
        },
        "id": "BiOISNOxMAKG",
        "outputId": "66de9abe-07c8-40f5-bb94-565f5782ad06"
      },
      "execution_count": 77,
      "outputs": [
        {
          "output_type": "stream",
          "name": "stdout",
          "text": [
            "/1/\n",
            "2 4 /5/\n",
            "6 /7/\n",
            "8 10 /11/\n",
            "12 /13/\n",
            "14 16 /17/\n",
            "18 /19/\n",
            "20 22 /23/\n",
            "24 /25/\n",
            "26 28 /29/\n",
            "30 /31/\n",
            "32 34 /35/\n",
            "36 /37/\n",
            "38 40 /41/\n",
            "42 /43/\n",
            "44 46 /47/\n",
            "48 /49/\n",
            "50 52 /53/\n",
            "54 /55/\n",
            "56 58 /59/\n",
            "60 /61/\n",
            "62 64 /65/\n",
            "66 /67/\n",
            "68 70 /71/\n",
            "72 /73/\n",
            "74 76 /77/\n",
            "78 /79/\n",
            "80 82 /83/\n",
            "84 /85/\n",
            "86 88 /89/\n",
            "90 /91/\n",
            "92 94 /95/\n",
            "96 /97/\n",
            "98 100 "
          ]
        }
      ]
    },
    {
      "cell_type": "markdown",
      "source": [
        "#리스트 관련 함수"
      ],
      "metadata": {
        "id": "TsdsL8zCP90c"
      }
    },
    {
      "cell_type": "code",
      "source": [
        "ls = [10,98,11,23,45,77,8]\n",
        "print(\"최솟값:\", min(ls))\n",
        "print(\"최댓값:\", max(ls))\n",
        "print(\"합계:\", sum(ls))"
      ],
      "metadata": {
        "colab": {
          "base_uri": "https://localhost:8080/"
        },
        "id": "i6-vgPAmP_-W",
        "outputId": "2026ea3b-bd8c-4544-8495-cb4f37385ee8"
      },
      "execution_count": 1,
      "outputs": [
        {
          "output_type": "stream",
          "name": "stdout",
          "text": [
            "최솟값: 8\n",
            "최댓값: 98\n",
            "합계: 272\n"
          ]
        }
      ]
    },
    {
      "cell_type": "code",
      "source": [
        "ls.sort() #요소 정렬\n",
        "print(ls)\n",
        "ls.reverse()\n",
        "print(ls) #요소 역순 정렬"
      ],
      "metadata": {
        "colab": {
          "base_uri": "https://localhost:8080/"
        },
        "id": "ERgQiR7gQXmf",
        "outputId": "9ed13610-fe75-4a94-ecb2-e0f4dc5b9a25"
      },
      "execution_count": 83,
      "outputs": [
        {
          "output_type": "stream",
          "name": "stdout",
          "text": [
            "[8, 10, 11, 23, 45, 77, 98]\n",
            "[98, 77, 45, 23, 11, 10, 8]\n"
          ]
        }
      ]
    },
    {
      "cell_type": "code",
      "source": [
        "rls = reversed(ls)\n",
        "for elem in rls: #element\n",
        "  print(elem, end=' ')\n",
        "print()\n",
        "print(ls) #리스트 자체가 변하진 않는다"
      ],
      "metadata": {
        "colab": {
          "base_uri": "https://localhost:8080/"
        },
        "id": "OZMnOhPBQzgZ",
        "outputId": "86399ad9-07f7-40c6-a4c0-ced5eb9108d3"
      },
      "execution_count": 5,
      "outputs": [
        {
          "output_type": "stream",
          "name": "stdout",
          "text": [
            "8 77 45 23 11 98 10 \n",
            "[10, 98, 11, 23, 45, 77, 8]\n"
          ]
        }
      ]
    },
    {
      "cell_type": "code",
      "source": [
        "ls = [3,4,5,10,23,45,9]\n",
        "els = enumerate(ls) #열거하다\n",
        "print(els)\n",
        "print(list(els)) #(인덱스,값) 형태의 튜플로 출력된다"
      ],
      "metadata": {
        "colab": {
          "base_uri": "https://localhost:8080/"
        },
        "id": "6Kbqn84RRSs0",
        "outputId": "2eec11a6-efeb-46e4-f1bd-9e9d0196508c"
      },
      "execution_count": 7,
      "outputs": [
        {
          "output_type": "stream",
          "name": "stdout",
          "text": [
            "<enumerate object at 0x7faa06af9780>\n",
            "[(0, 3), (1, 4), (2, 5), (3, 10), (4, 23), (5, 45), (6, 9)]\n"
          ]
        }
      ]
    },
    {
      "cell_type": "code",
      "source": [
        "ls = [3,4,5,10,23,45,9] #위 코드형태는 사용하지 않고, 이 형태가 아주 많이(언제나..) 사용된다\n",
        "for index, elem in enumerate(ls):\n",
        "  print(f\"{index}:{elem}\")"
      ],
      "metadata": {
        "colab": {
          "base_uri": "https://localhost:8080/"
        },
        "id": "FqUXfRfcRr4C",
        "outputId": "7b4cdc81-19c9-4ed6-b1e0-111cec740668"
      },
      "execution_count": 8,
      "outputs": [
        {
          "output_type": "stream",
          "name": "stdout",
          "text": [
            "0:3\n",
            "1:4\n",
            "2:5\n",
            "3:10\n",
            "4:23\n",
            "5:45\n",
            "6:9\n"
          ]
        }
      ]
    },
    {
      "cell_type": "markdown",
      "source": [
        "#딕셔너리"
      ],
      "metadata": {
        "id": "42WKAeeCSIHN"
      }
    },
    {
      "cell_type": "code",
      "source": [
        "ex_dict = {}\n",
        "ex_dict[\"홍길동\"]=78\n",
        "ex_dict[\"김길동\"]=88\n",
        "ex_dict[\"강길동\"]=98\n",
        "ex_dict[\"고길동\"]=77\n",
        "print(ex_dict)"
      ],
      "metadata": {
        "colab": {
          "base_uri": "https://localhost:8080/"
        },
        "id": "eBPD-E5cSJKo",
        "outputId": "549d88ab-b070-4adc-e24d-0b48e8da6118"
      },
      "execution_count": 9,
      "outputs": [
        {
          "output_type": "stream",
          "name": "stdout",
          "text": [
            "{'홍길동': 78, '김길동': 88, '강길동': 98, '고길동': 77}\n"
          ]
        }
      ]
    },
    {
      "cell_type": "code",
      "source": [
        "print(ex_dict.items()) #items() 함수 접근가능"
      ],
      "metadata": {
        "colab": {
          "base_uri": "https://localhost:8080/"
        },
        "id": "UOBAz73tSYj3",
        "outputId": "6c407795-6116-4412-c3e5-0582b00151a0"
      },
      "execution_count": 10,
      "outputs": [
        {
          "output_type": "stream",
          "name": "stdout",
          "text": [
            "dict_items([('홍길동', 78), ('김길동', 88), ('강길동', 98), ('고길동', 77)])\n"
          ]
        }
      ]
    },
    {
      "cell_type": "code",
      "source": [
        "for key, value in ex_dict.items():\n",
        "  print(f\"key:{key} value:{value}\")"
      ],
      "metadata": {
        "colab": {
          "base_uri": "https://localhost:8080/"
        },
        "id": "-pQ--FE4Shmv",
        "outputId": "53d1783b-f26f-4ba6-aacc-849d984780ff"
      },
      "execution_count": 11,
      "outputs": [
        {
          "output_type": "stream",
          "name": "stdout",
          "text": [
            "key:홍길동 value:78\n",
            "key:김길동 value:88\n",
            "key:강길동 value:98\n",
            "key:고길동 value:77\n"
          ]
        }
      ]
    },
    {
      "cell_type": "code",
      "source": [
        "sdict = sorted(ex_dict) #키 값만 정령할 수 있다\n",
        "print(sdict)"
      ],
      "metadata": {
        "colab": {
          "base_uri": "https://localhost:8080/"
        },
        "id": "pDBg_gjAS5qx",
        "outputId": "262fe15e-5f28-4ecd-dd45-0b60229cf372"
      },
      "execution_count": 12,
      "outputs": [
        {
          "output_type": "stream",
          "name": "stdout",
          "text": [
            "['강길동', '고길동', '김길동', '홍길동']\n"
          ]
        }
      ]
    },
    {
      "cell_type": "markdown",
      "source": [
        "#고급 리스트 컴프리핸션"
      ],
      "metadata": {
        "id": "NfNYBeg8THaf"
      }
    },
    {
      "cell_type": "markdown",
      "source": [
        "1~100까지 정수로 구성한 리스트 만들기"
      ],
      "metadata": {
        "id": "n-1CTZj-UULQ"
      }
    },
    {
      "cell_type": "code",
      "source": [
        "#방법1\n",
        "ls = []\n",
        "for i in range(1,100):\n",
        "  ls.append(i)\n",
        "print(ls)"
      ],
      "metadata": {
        "colab": {
          "base_uri": "https://localhost:8080/"
        },
        "id": "c2WJO3iyUJ3Y",
        "outputId": "e78db41a-8a4c-406e-ac32-e801d8556728"
      },
      "execution_count": 18,
      "outputs": [
        {
          "output_type": "stream",
          "name": "stdout",
          "text": [
            "[1, 2, 3, 4, 5, 6, 7, 8, 9, 10, 11, 12, 13, 14, 15, 16, 17, 18, 19, 20, 21, 22, 23, 24, 25, 26, 27, 28, 29, 30, 31, 32, 33, 34, 35, 36, 37, 38, 39, 40, 41, 42, 43, 44, 45, 46, 47, 48, 49, 50, 51, 52, 53, 54, 55, 56, 57, 58, 59, 60, 61, 62, 63, 64, 65, 66, 67, 68, 69, 70, 71, 72, 73, 74, 75, 76, 77, 78, 79, 80, 81, 82, 83, 84, 85, 86, 87, 88, 89, 90, 91, 92, 93, 94, 95, 96, 97, 98, 99]\n"
          ]
        }
      ]
    },
    {
      "cell_type": "code",
      "source": [
        "#방법2\n",
        "ls = [i for i in range(1,100)]\n",
        "print(ls)"
      ],
      "metadata": {
        "colab": {
          "base_uri": "https://localhost:8080/"
        },
        "id": "0MjK_0A7UY7K",
        "outputId": "4b27c5b1-980f-4615-99ad-cabc74e9df27"
      },
      "execution_count": 17,
      "outputs": [
        {
          "output_type": "stream",
          "name": "stdout",
          "text": [
            "[1, 2, 3, 4, 5, 6, 7, 8, 9, 10, 11, 12, 13, 14, 15, 16, 17, 18, 19, 20, 21, 22, 23, 24, 25, 26, 27, 28, 29, 30, 31, 32, 33, 34, 35, 36, 37, 38, 39, 40, 41, 42, 43, 44, 45, 46, 47, 48, 49, 50, 51, 52, 53, 54, 55, 56, 57, 58, 59, 60, 61, 62, 63, 64, 65, 66, 67, 68, 69, 70, 71, 72, 73, 74, 75, 76, 77, 78, 79, 80, 81, 82, 83, 84, 85, 86, 87, 88, 89, 90, 91, 92, 93, 94, 95, 96, 97, 98, 99]\n"
          ]
        }
      ]
    },
    {
      "cell_type": "markdown",
      "source": [
        "1~100 사이의 정수로 3의 배수인 리스트 만들기"
      ],
      "metadata": {
        "id": "jQRNxr8EVKZn"
      }
    },
    {
      "cell_type": "code",
      "source": [
        "ls = [] #원초적인 방법\n",
        "for i in range(1,100):\n",
        "  if i % 3 == 0:\n",
        "    ls.append(i)\n",
        "print(ls)"
      ],
      "metadata": {
        "colab": {
          "base_uri": "https://localhost:8080/"
        },
        "id": "ohRYCdxqTS7a",
        "outputId": "704c32f8-6785-4c6c-edfa-bd1fb221c011"
      },
      "execution_count": 14,
      "outputs": [
        {
          "output_type": "stream",
          "name": "stdout",
          "text": [
            "[3, 6, 9, 12, 15, 18, 21, 24, 27, 30, 33, 36, 39, 42, 45, 48, 51, 54, 57, 60, 63, 66, 69, 72, 75, 78, 81, 84, 87, 90, 93, 96, 99]\n"
          ]
        }
      ]
    },
    {
      "cell_type": "code",
      "source": [
        "#list comprehension (리스트 내포)\n",
        "#아주 많이 쓰는 표현이다\n",
        "ls = [i for i in range(1,100) if i%3==0] #리스트 이름 = [표현식 for 반복자 in 반복할 수 있는 것 if 조건문]\n",
        "print(ls)"
      ],
      "metadata": {
        "colab": {
          "base_uri": "https://localhost:8080/"
        },
        "id": "v_p2J072TqNB",
        "outputId": "2592826f-4927-45a0-e9dd-220d561f8a98"
      },
      "execution_count": 16,
      "outputs": [
        {
          "output_type": "stream",
          "name": "stdout",
          "text": [
            "[3, 6, 9, 12, 15, 18, 21, 24, 27, 30, 33, 36, 39, 42, 45, 48, 51, 54, 57, 60, 63, 66, 69, 72, 75, 78, 81, 84, 87, 90, 93, 96, 99]\n"
          ]
        }
      ]
    },
    {
      "cell_type": "markdown",
      "source": [
        "#과제\n",
        "소개 ~ 반복문 실습\n",
        "\n",
        "1. 사용자로부터 삼각형의 밑변과 높이를 입력받아 넓이를 출력하시오.  \n",
        "   밑변과 높이는 실수를 입력할 수 있으며 넓이는 소수점 이하 2째 자리까지 출력하시오.\n",
        "\n",
        "2. 두 개의 정수를 입력받아 작은 수가 큰 수의 약수인지 아닌지를 출력하시오.\n",
        "\n",
        "3. 두 개의 정수를 입력받아 두 개의 정수 사이의 정수의 합계를 구하여 출력하시오.\n",
        "\n",
        "4. n개의 정수를 입력받아 평균과 표준 편차를 구하시오.\n",
        "  -> n개를 사용자가 지정한다.\n",
        "\n",
        "5. n명의 국어, 영어, 수학 점수를 입력받아 출력하시오.\n",
        "\n",
        "6. n명의 국어, 영어, 수학 점수를 입력받아 과목별 합계, 평균, 표준 편차를 출력하시오.\n"
      ],
      "metadata": {
        "id": "pe10o3YHV2T4"
      }
    },
    {
      "cell_type": "code",
      "source": [
        "#1번. 사용자로부터 삼각형의 밑변과 높이를 입력받아 넓이를 출력하시오.  \n",
        "#     밑변과 높이는 실수를 입력할 수 있으며 넓이는 소수점 이하 2째 자리까지 출력하시오.\n",
        "\n",
        "width = float(input(\"밑변 :\"))\n",
        "height = float(input(\"높이 :\"))\n",
        "area = width*height/2\n",
        "print(\"==> 넓이 = {:.2f}\".format(area))"
      ],
      "metadata": {
        "colab": {
          "base_uri": "https://localhost:8080/"
        },
        "id": "6mVeeyEuWD1I",
        "outputId": "cae5a265-47cf-42e0-c5ac-c530ed237ec5"
      },
      "execution_count": 21,
      "outputs": [
        {
          "output_type": "stream",
          "name": "stdout",
          "text": [
            "밑변 :12.2\n",
            "높이 :15.38\n",
            "==> 넓이 = 93.82\n"
          ]
        }
      ]
    },
    {
      "cell_type": "code",
      "source": [
        "#2번. 두 개의 정수를 입력받아 작은 수가 큰 수의 약수인지 아닌지를 출력하시오.\n",
        "\n",
        "num1 = int(input(\"숫자1 :\"))\n",
        "num2 = int(input(\"숫자2 :\"))\n",
        "if(num1 > num2):\n",
        "  temp = num1\n",
        "  num1=num2\n",
        "  num2=temp # num1,num2 = num2,num1\n",
        "if(num2 % num1 == 0):\n",
        "  print(f\"{num1}은(는) {num2}의 약수입니다.\")\n",
        "else:\n",
        "  print(f\"{num1}은 {num2}의 약수가 아닙니다.\")"
      ],
      "metadata": {
        "colab": {
          "base_uri": "https://localhost:8080/"
        },
        "id": "vB33HKVOXEWN",
        "outputId": "28a136a7-c6f0-4929-fb6e-5e6624ff9bc9"
      },
      "execution_count": 29,
      "outputs": [
        {
          "output_type": "stream",
          "name": "stdout",
          "text": [
            "숫자1 :6\n",
            "숫자2 :2\n",
            "2은(는) 6의 약수입니다.\n"
          ]
        }
      ]
    },
    {
      "cell_type": "code",
      "source": [
        "#3번. 두 개의 정수를 입력받아 두 개의 정수 사이의 정수의 합계를 구하여 출력하시오. (단, 범위 끝 수는 포함)\n",
        "\n",
        "num1 = int(input(\"숫자1 :\"))\n",
        "num2 = int(input(\"숫자2 :\"))\n",
        "if(num1 > num2):\n",
        "  temp = num1\n",
        "  num1=num2\n",
        "  num2=temp\n",
        "\n",
        "sum = 0\n",
        "for i in range(num1, num2+1):\n",
        "  sum += i\n",
        "print(f\"{num1} 과 {num2}사이의 정수의 합은 {sum}입니다.\")"
      ],
      "metadata": {
        "colab": {
          "base_uri": "https://localhost:8080/"
        },
        "id": "9VN_9joor_qP",
        "outputId": "27ecd2b0-7be7-4adb-fc2b-8292d0ccc9a6"
      },
      "execution_count": 35,
      "outputs": [
        {
          "output_type": "stream",
          "name": "stdout",
          "text": [
            "숫자1 :2\n",
            "숫자2 :10\n",
            "2 과 10사이의 정수의 합은 54입니다.\n"
          ]
        }
      ]
    },
    {
      "cell_type": "code",
      "source": [
        "#4번. n개의 정수를 입력받아 평균과 표준 편차를 구하시오. 단, n개를 사용자가 지정한다.\n",
        "\n",
        "import math\n",
        "\n",
        "num_list = []\n",
        "nums = int(input(\"계산할 정수의 개수를 입력하세요 :\"))\n",
        "for i in range(nums):\n",
        "  num = int(input(f\"숫자{i+1} :\"))\n",
        "  num_list.append(num)\n",
        "\n",
        "avg = sum(num_list)/num\n",
        "print(\"==> 평균 :\", avg)\n",
        "\n",
        "var = 0\n",
        "for i in range(nums):\n",
        "  var += (num_list[i]-avg)**2\n",
        "\n",
        "var = var/nums\n",
        "stddev = math.sqrt(var)\n",
        "print()\n",
        "print(\"==> 분산 : \",format(var,\".3f\"))\n",
        "print(\"==> 표준 편차 : \", format(stddev,\".3f\"))"
      ],
      "metadata": {
        "colab": {
          "base_uri": "https://localhost:8080/"
        },
        "id": "2f6Wd5Z0wYY9",
        "outputId": "5a703991-8365-4973-a779-eeb745f9b092"
      },
      "execution_count": 3,
      "outputs": [
        {
          "output_type": "stream",
          "name": "stdout",
          "text": [
            "계산할 정수의 개수를 입력하세요 :3\n",
            "숫자1 :1\n",
            "숫자2 :2\n",
            "숫자3 :3\n",
            "==> 평균 : 2.0\n",
            "==> 분산 :  0.667\n",
            "==> 표준 편차 :  0.816\n"
          ]
        }
      ]
    },
    {
      "cell_type": "code",
      "source": [
        "#5번. n명의 국어, 영어, 수학 점수를 입력받아 출력하시오.\n",
        "\n",
        "subjects = (\"국어\",\"영어\",\"수학\")\n",
        "scores_dic = {}\n",
        "\n",
        "nums = int(input(\"등록하실 학생의 수를 입력하세요 :\"))\n",
        "for i in range(nums):\n",
        "  name = input(f\"{i+1}번째 학생 이름 :\")\n",
        "  scores = []\n",
        "  for s in subjects:\n",
        "    score = int(input(f\"{s} 점수 :\"))\n",
        "    scores.append(score)\n",
        "  scores_dic[name] = scores\n",
        "print(scores_dic)"
      ],
      "metadata": {
        "colab": {
          "base_uri": "https://localhost:8080/"
        },
        "id": "qpbknMOSxsiR",
        "outputId": "8aba608f-0998-40b2-d053-d7133f996f1d"
      },
      "execution_count": 5,
      "outputs": [
        {
          "output_type": "stream",
          "name": "stdout",
          "text": [
            "등록하실 학생의 수를 입력하세요 :2\n",
            "1번째 학생 이름 :세린\n",
            "국어 점수 :20\n",
            "영어 점수 :50\n",
            "수학 점수 :40\n",
            "2번째 학생 이름 :세링\n",
            "국어 점수 :20\n",
            "영어 점수 :80\n",
            "수학 점수 :50\n",
            "{'세린': [20, 50, 40], '세링': [20, 80, 50]}\n"
          ]
        }
      ]
    },
    {
      "cell_type": "code",
      "source": [
        "#6번. n명의 국어, 영어, 수학 점수를 입력받아 과목별 합계, 평균, 표준 편차를 출력하시오.\n",
        "\n",
        "import math\n",
        "subjects = (\"국어\",\"영어\",\"수학\")\n",
        "n = int(input(\"등록하실 학생의 수를 입력하세요 :\"))\n",
        "\n",
        "scores = []\n",
        "scores.append([]) #국어\n",
        "scores.append([]) #영어\n",
        "scores.append([]) #수학\n",
        "\n",
        "for i in range(n):\n",
        "  for si, subject in enumerate(subjects): #국어 점수끼리, 영어 점수끼리, 수학 점수끼리 넣기\n",
        "    score = int(input(f\"{subject} 점수 :\"))\n",
        "    scores[si].append(score)\n",
        "#print(scores_dic)\n",
        "\n",
        "for si, subject in enumerate(subjects):\n",
        "  avg = sum(scores[si])/len(scores[si])\n",
        "  print(f\"{subjects[si]} 평균: {avg:.2f}\")\n",
        "  ss=0\n",
        "  for score in scores[si]:\n",
        "    ss += (avg - score)**2\n",
        "  var = ss/n #분산\n",
        "  stddev = math.sqrt(var) #표준편차\n",
        "  print(f\"{subjects[si]} 표준편차: {stddev:.2f}\")\n"
      ],
      "metadata": {
        "colab": {
          "base_uri": "https://localhost:8080/"
        },
        "id": "zKgSRYuSZnW-",
        "outputId": "6f92a923-7537-4983-eb41-8ce7bbd7ff25"
      },
      "execution_count": 3,
      "outputs": [
        {
          "output_type": "stream",
          "name": "stdout",
          "text": [
            "등록하실 학생의 수를 입력하세요 :2\n",
            "국어 점수 :50\n",
            "영어 점수 :80\n",
            "수학 점수 :60\n",
            "국어 점수 :40\n",
            "영어 점수 :80\n",
            "수학 점수 :70\n",
            "국어 평균: 45.00\n",
            "국어 표준편차: 5.00\n",
            "영어 평균: 80.00\n",
            "영어 표준편차: 0.00\n",
            "수학 평균: 65.00\n",
            "수학 표준편차: 5.00\n"
          ]
        }
      ]
    },
    {
      "cell_type": "code",
      "source": [
        "#6번. n명의 국어, 영어, 수학 점수를 입력받아 과목별 합계, 평균, 표준 편차를 출력하시오.(numpy mean,std 함수 사용)\n",
        "\n",
        "import math\n",
        "import numpy\n",
        "\n",
        "kor = []\n",
        "eng = []\n",
        "math = []\n",
        "\n",
        "nums = int(input(\"등록할 학생의 수를 입력하세요 :\"))\n",
        "for i in range(nums):\n",
        "  kor.append(int(input(\"국어 점수 :\")))\n",
        "  eng.append(int(input(\"영어 점수 :\")))\n",
        "  math.append(int(input(\"수학 점수 :\")))\n",
        "\n",
        "print(\"국어별 평균 : {0:.2f}, 국어별 표준 편차 : {1:.2f} \".format(numpy.mean(kor), numpy.std(kor)))\n",
        "print(\"영어 평균 : {0:.2f}, 영어 표준 편차 : {1:.2f} \".format(numpy.mean(eng), numpy.std(eng)))\n",
        "print(\"수학 평균 : {0:.2f}, 수학 표준 편차 : {1:.2f} \".format(numpy.mean(math), numpy.std(math)))"
      ],
      "metadata": {
        "colab": {
          "base_uri": "https://localhost:8080/"
        },
        "id": "1xMWxaznBtlS",
        "outputId": "3f9b4c1b-7087-4ccf-db4f-09984b850788"
      },
      "execution_count": 15,
      "outputs": [
        {
          "output_type": "stream",
          "name": "stdout",
          "text": [
            "등록할 학생의 수를 입력하세요 :2\n",
            "국어 점수 :50\n",
            "영어 점수 :80\n",
            "수학 점수 :60\n",
            "국어 점수 :40\n",
            "영어 점수 :80\n",
            "수학 점수 :0\n",
            "국어별 평균 : 45.00, 국어별 표준 편차 : 5.00 \n",
            "영어 평균 : 80.00, 영어 표준 편차 : 0.00 \n",
            "수학 평균 : 30.00, 수학 표준 편차 : 30.00 \n"
          ]
        }
      ]
    }
  ]
}