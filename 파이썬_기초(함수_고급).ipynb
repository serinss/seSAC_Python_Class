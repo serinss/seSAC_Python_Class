{
  "nbformat": 4,
  "nbformat_minor": 0,
  "metadata": {
    "colab": {
      "name": "파이썬-기초(함수 고급).ipynb",
      "provenance": [],
      "collapsed_sections": [],
      "authorship_tag": "ABX9TyPCYBvj+G8POUqJirZgPDPk",
      "include_colab_link": true
    },
    "kernelspec": {
      "name": "python3",
      "display_name": "Python 3"
    },
    "language_info": {
      "name": "python"
    }
  },
  "cells": [
    {
      "cell_type": "markdown",
      "metadata": {
        "id": "view-in-github",
        "colab_type": "text"
      },
      "source": [
        "<a href=\"https://colab.research.google.com/github/serinss/seSAC_Python_Class/blob/main/%ED%8C%8C%EC%9D%B4%EC%8D%AC_%EA%B8%B0%EC%B4%88(%ED%95%A8%EC%88%98_%EA%B3%A0%EA%B8%89).ipynb\" target=\"_parent\"><img src=\"https://colab.research.google.com/assets/colab-badge.svg\" alt=\"Open In Colab\"/></a>"
      ]
    },
    {
      "cell_type": "markdown",
      "source": [
        "#튜플\n",
        "\n",
        "여러 개의 요소로 구성한 컬렉션  \n",
        "요소의 값을 변경할 수 없다."
      ],
      "metadata": {
        "id": "Rb8loneSTLgX"
      }
    },
    {
      "cell_type": "code",
      "source": [
        "t1 = (1,2,3)\n",
        "print(type(t1))"
      ],
      "metadata": {
        "colab": {
          "base_uri": "https://localhost:8080/"
        },
        "id": "hHJX3qVES8WE",
        "outputId": "421a1196-d8e3-48bb-a8bf-cd3469c50846"
      },
      "execution_count": 1,
      "outputs": [
        {
          "output_type": "stream",
          "name": "stdout",
          "text": [
            "<class 'tuple'>\n"
          ]
        }
      ]
    },
    {
      "cell_type": "code",
      "source": [
        "print(t1[0]) #인덱스 접근 가능"
      ],
      "metadata": {
        "colab": {
          "base_uri": "https://localhost:8080/"
        },
        "id": "jI2yqbV7TBp2",
        "outputId": "4c5dc73b-5195-4dbc-8dc1-78b6b0c2fe69"
      },
      "execution_count": 2,
      "outputs": [
        {
          "output_type": "stream",
          "name": "stdout",
          "text": [
            "1\n"
          ]
        }
      ]
    },
    {
      "cell_type": "code",
      "source": [
        "a,b = (2,3)\n",
        "print(a,b)"
      ],
      "metadata": {
        "colab": {
          "base_uri": "https://localhost:8080/"
        },
        "id": "Aog9Fkt6YMSG",
        "outputId": "9d74dd85-8c17-47d9-fc54-16539a5787a0"
      },
      "execution_count": 10,
      "outputs": [
        {
          "output_type": "stream",
          "name": "stdout",
          "text": [
            "2 3\n"
          ]
        }
      ]
    },
    {
      "cell_type": "code",
      "source": [
        "t = 1,2,3,4 #굳이 소괄호를 추가하지 않아도 튜플로 인식한다\n",
        "print(type(t))"
      ],
      "metadata": {
        "colab": {
          "base_uri": "https://localhost:8080/"
        },
        "id": "Yze88WdXYaA9",
        "outputId": "75bfe027-de03-4325-fb24-9bc5ed68fdff"
      },
      "execution_count": 11,
      "outputs": [
        {
          "output_type": "stream",
          "name": "stdout",
          "text": [
            "<class 'tuple'>\n"
          ]
        }
      ]
    },
    {
      "cell_type": "code",
      "source": [
        "a,b,c = 1,2,3 #1,2,3은 튜플이 맞지만 원소 하나를 출력하면 int값\n",
        "print(type(a))"
      ],
      "metadata": {
        "colab": {
          "base_uri": "https://localhost:8080/"
        },
        "id": "tM80KSKlYj4M",
        "outputId": "e0091743-8b08-45aa-e022-90e1de0994f3"
      },
      "execution_count": 14,
      "outputs": [
        {
          "output_type": "stream",
          "name": "stdout",
          "text": [
            "<class 'int'>\n"
          ]
        }
      ]
    },
    {
      "cell_type": "code",
      "source": [
        "#t1[0] = 7\n",
        "#'tuple' object does not support item assignment"
      ],
      "metadata": {
        "id": "s9seOodYTE0H"
      },
      "execution_count": 4,
      "outputs": []
    },
    {
      "cell_type": "code",
      "source": [
        "def get_sum_average(numbers):\n",
        "  s=0\n",
        "  for number in numbers:\n",
        "    s += number\n",
        "  return s, s/len(numbers)"
      ],
      "metadata": {
        "id": "pm8wNyqOTSgJ"
      },
      "execution_count": 5,
      "outputs": []
    },
    {
      "cell_type": "code",
      "source": [
        "s,aver = get_sum_average([1,2,3,54,5,6])\n",
        "print(f\"합계:{s} 평균:{aver:.2f}\") #여러개 값을 반환하여 출력할 수 있다"
      ],
      "metadata": {
        "colab": {
          "base_uri": "https://localhost:8080/"
        },
        "id": "u010MPQ9TwXq",
        "outputId": "84f2297a-ae76-4ee5-e3f7-a6f1f707cc86"
      },
      "execution_count": 7,
      "outputs": [
        {
          "output_type": "stream",
          "name": "stdout",
          "text": [
            "합계:71 평균:11.83\n"
          ]
        }
      ]
    },
    {
      "cell_type": "code",
      "source": [
        "re = get_sum_average([1,2,3,54,5,6])\n",
        "print(re)"
      ],
      "metadata": {
        "colab": {
          "base_uri": "https://localhost:8080/"
        },
        "id": "ULswBu_vT8hf",
        "outputId": "91438924-55dc-4482-e191-98e66df4fa9e"
      },
      "execution_count": 9,
      "outputs": [
        {
          "output_type": "stream",
          "name": "stdout",
          "text": [
            "(71, 11.833333333333334)\n"
          ]
        }
      ]
    },
    {
      "cell_type": "markdown",
      "source": [
        "#람다"
      ],
      "metadata": {
        "id": "ogzkzOKeaj0N"
      }
    },
    {
      "cell_type": "code",
      "source": [
        "def square(x):\n",
        "  return x*x"
      ],
      "metadata": {
        "id": "fXPleu_ZaktB"
      },
      "execution_count": 16,
      "outputs": []
    },
    {
      "cell_type": "code",
      "source": [
        "sq = lambda x:x*x #람다식을 변수에 전달 가능"
      ],
      "metadata": {
        "id": "Z_AQyexZaoGW"
      },
      "execution_count": 15,
      "outputs": []
    },
    {
      "cell_type": "code",
      "source": [
        "def foo(x):\n",
        "  print(f\"foo({x})\")\n",
        "  return 2*x"
      ],
      "metadata": {
        "id": "KdaC0exzazls"
      },
      "execution_count": 17,
      "outputs": []
    },
    {
      "cell_type": "code",
      "source": [
        "#map(함수, 리스트)\n",
        "#: 리스트의 요소를 함수에 넣고 리턴된 값으로 새로운 리스트를 구성해주는 함수\n",
        "\n",
        "re = map(foo,[1,2,3,4]) #각 원소 순서대로 -> 함수 실행 -> 리턴한 값이 반환된다\n",
        "for e in re:\n",
        "  print(e)"
      ],
      "metadata": {
        "colab": {
          "base_uri": "https://localhost:8080/"
        },
        "id": "xKR7dNcsa8Vd",
        "outputId": "9ad707cc-4401-483c-e0d4-5539b8bd7943"
      },
      "execution_count": 20,
      "outputs": [
        {
          "output_type": "stream",
          "name": "stdout",
          "text": [
            "foo(1)\n",
            "2\n",
            "foo(2)\n",
            "4\n",
            "foo(3)\n",
            "6\n",
            "foo(4)\n",
            "8\n"
          ]
        }
      ]
    },
    {
      "cell_type": "code",
      "source": [
        "re = map(sq,[1,2,3,4]) #함수명, 호출 가능한 코드면 모두 가능 -> 람다식도 가능\n",
        "for e in re:\n",
        "  print(e)"
      ],
      "metadata": {
        "colab": {
          "base_uri": "https://localhost:8080/"
        },
        "id": "4UxX8a4PbhZ7",
        "outputId": "e74d3b9b-7f9c-44b1-ec57-2e0135424368"
      },
      "execution_count": 21,
      "outputs": [
        {
          "output_type": "stream",
          "name": "stdout",
          "text": [
            "1\n",
            "4\n",
            "9\n",
            "16\n"
          ]
        }
      ]
    },
    {
      "cell_type": "code",
      "source": [
        "re = map(lambda x:x+2,[1,2,3,4])\n",
        "for e in re:\n",
        "  print(e)"
      ],
      "metadata": {
        "colab": {
          "base_uri": "https://localhost:8080/"
        },
        "id": "wTLvYRFfb13s",
        "outputId": "6a87d3b2-cf2f-4a90-f545-9bb769ec5cce"
      },
      "execution_count": 22,
      "outputs": [
        {
          "output_type": "stream",
          "name": "stdout",
          "text": [
            "3\n",
            "4\n",
            "5\n",
            "6\n"
          ]
        }
      ]
    },
    {
      "cell_type": "code",
      "source": [
        "#filter(함수, 리스트)\n",
        "#: 리스트의 요소를 함수에 넣고 리턴된 값이 True인 것으로 새로운 리스트를 구성해주는 함수\n",
        "\n",
        "def is_odd(x):\n",
        "  return x%2==1"
      ],
      "metadata": {
        "id": "UZkOKFvZb72C"
      },
      "execution_count": 23,
      "outputs": []
    },
    {
      "cell_type": "code",
      "source": [
        "re = filter(is_odd,[1,2,3,4,5,6,7,8,10,23,4,23,11])\n",
        "for e in re:\n",
        "  print(e) #참인 값=홀수 만 리스트에 남는다"
      ],
      "metadata": {
        "colab": {
          "base_uri": "https://localhost:8080/"
        },
        "id": "goZAYtnacIP3",
        "outputId": "5f31f3c4-14fa-40c3-8ee2-d55af806270f"
      },
      "execution_count": 27,
      "outputs": [
        {
          "output_type": "stream",
          "name": "stdout",
          "text": [
            "1\n",
            "3\n",
            "5\n",
            "7\n",
            "23\n",
            "23\n",
            "11\n"
          ]
        }
      ]
    },
    {
      "cell_type": "code",
      "source": [
        "re = filter(lambda x:x%2==1,[1,2,3,4,5,6,7,8,10,23,4,23,11]) #람다식도 가능\n",
        "for e in re:\n",
        "  print(e)"
      ],
      "metadata": {
        "colab": {
          "base_uri": "https://localhost:8080/"
        },
        "id": "e9iHQLk0car8",
        "outputId": "cb0116fc-57da-4491-d1c7-5e88a377d400"
      },
      "execution_count": 28,
      "outputs": [
        {
          "output_type": "stream",
          "name": "stdout",
          "text": [
            "1\n",
            "3\n",
            "5\n",
            "7\n",
            "23\n",
            "23\n",
            "11\n"
          ]
        }
      ]
    }
  ]
}