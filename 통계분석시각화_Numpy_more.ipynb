{
  "nbformat": 4,
  "nbformat_minor": 0,
  "metadata": {
    "colab": {
      "name": "통계분석시각화-Numpy_more.ipynb",
      "provenance": [],
      "collapsed_sections": [],
      "authorship_tag": "ABX9TyMc5lJFTDUKkk/bTj4hcUIJ",
      "include_colab_link": true
    },
    "kernelspec": {
      "name": "python3",
      "display_name": "Python 3"
    },
    "language_info": {
      "name": "python"
    }
  },
  "cells": [
    {
      "cell_type": "markdown",
      "metadata": {
        "id": "view-in-github",
        "colab_type": "text"
      },
      "source": [
        "<a href=\"https://colab.research.google.com/github/serinss/seSAC_Python_Class/blob/main/%ED%86%B5%EA%B3%84%EB%B6%84%EC%84%9D%EC%8B%9C%EA%B0%81%ED%99%94_Numpy_more.ipynb\" target=\"_parent\"><img src=\"https://colab.research.google.com/assets/colab-badge.svg\" alt=\"Open In Colab\"/></a>"
      ]
    },
    {
      "cell_type": "code",
      "execution_count": null,
      "metadata": {
        "id": "fJdPjoI9nakk"
      },
      "outputs": [],
      "source": [
        "#행렬의 기본 연산"
      ]
    },
    {
      "cell_type": "code",
      "source": [
        "import numpy as np"
      ],
      "metadata": {
        "id": "JDFXnxxOnldU"
      },
      "execution_count": null,
      "outputs": []
    },
    {
      "cell_type": "code",
      "source": [
        "ls1 = [1,2]\n",
        "ls2 = [3,4]\n",
        "ls3 = ls1 + ls2 \n",
        "print(ls3)"
      ],
      "metadata": {
        "colab": {
          "base_uri": "https://localhost:8080/"
        },
        "id": "MtUsI4xxnpIJ",
        "outputId": "32881ece-793f-4f86-efea-dee8c4e1c6fc"
      },
      "execution_count": null,
      "outputs": [
        {
          "output_type": "stream",
          "name": "stdout",
          "text": [
            "[1, 2, 3, 4]\n"
          ]
        }
      ]
    },
    {
      "cell_type": "code",
      "source": [
        "s=0\n",
        "for i in range(10):\n",
        "  s += i\n",
        "\n",
        "#assert 조건, '메시지' <-만든 함수를 테스트하는 용도로 사용한다.\n",
        "assert s==55, \"s는 45여야 합니다\" #AssertionError:\"입력한 구문\" --> 에러 메세지 출력 기능(assert는 뒤의 조건이 True가 아니면 AssertError를 발생한다.)"
      ],
      "metadata": {
        "id": "vWO1HBbBoQrB"
      },
      "execution_count": null,
      "outputs": []
    },
    {
      "cell_type": "code",
      "source": [
        "#ls 목록에 있는 요소의 합계를 구하는 함수\n",
        "def calsum(ls):\n",
        "  s = 0\n",
        "  for e in ls:\n",
        "    s += e\n",
        "  return s"
      ],
      "metadata": {
        "id": "1QLO-EBFouda"
      },
      "execution_count": null,
      "outputs": []
    },
    {
      "cell_type": "code",
      "source": [
        "assert calsum([1,2,3,2])==8, \"\""
      ],
      "metadata": {
        "id": "3HZ-A2bro5pa"
      },
      "execution_count": null,
      "outputs": []
    },
    {
      "cell_type": "code",
      "source": [
        "def add(l1,l2):\n",
        "  assert len(l1) == len(l2), \"더하기 연산을 위해서는 요소의 길이가 같아야 합니다.\" #구조가 같아야 덧셈 가능\n",
        "  re = []\n",
        "  for i in range(len(l1)):\n",
        "    re.append(l1[i]+l2[i])\n",
        "  return re"
      ],
      "metadata": {
        "id": "aXmo7-2FoK-N"
      },
      "execution_count": null,
      "outputs": []
    },
    {
      "cell_type": "code",
      "source": [
        "ls1 = [1,2]\n",
        "ls2 = [3,4]\n",
        "ls3 = add(ls1,ls2)\n",
        "print(ls3)"
      ],
      "metadata": {
        "colab": {
          "base_uri": "https://localhost:8080/"
        },
        "id": "39EWmMBgptgV",
        "outputId": "74ceb15d-dc3d-4e1b-cc76-8d2b54bf145a"
      },
      "execution_count": null,
      "outputs": [
        {
          "output_type": "stream",
          "name": "stdout",
          "text": [
            "[4, 6]\n"
          ]
        }
      ]
    },
    {
      "cell_type": "code",
      "source": [
        "ls1 = [1,2]\n",
        "ls2 = [3,4,5]\n",
        "ls3 = add(ls1,ls2) #AssertionError: 더하기 연산을 위해서는 요소의 길이가 같아야 합니다.\n",
        "print(ls3)"
      ],
      "metadata": {
        "id": "Wc8onc38p0aD"
      },
      "execution_count": null,
      "outputs": []
    },
    {
      "cell_type": "code",
      "source": [
        "#numpy로 하는 경우 직접 함수를 정의하지 않아도 된다.\n",
        "\n",
        "n1 = np.array([1,2])\n",
        "n2 = np.array([3,4])\n",
        "n3 = n1 + n2\n",
        "print(n3)"
      ],
      "metadata": {
        "colab": {
          "base_uri": "https://localhost:8080/"
        },
        "id": "ltAQHBwKp8wt",
        "outputId": "1191d1f1-c689-4d6d-c971-2aecf64125a1"
      },
      "execution_count": null,
      "outputs": [
        {
          "output_type": "stream",
          "name": "stdout",
          "text": [
            "[4 6]\n"
          ]
        }
      ]
    },
    {
      "cell_type": "code",
      "source": [
        "n3 = n1 - n2\n",
        "print(n3)"
      ],
      "metadata": {
        "colab": {
          "base_uri": "https://localhost:8080/"
        },
        "id": "uLMh9yVOqxcc",
        "outputId": "c2bca8c9-24cb-4024-d253-18740f200d35"
      },
      "execution_count": null,
      "outputs": [
        {
          "output_type": "stream",
          "name": "stdout",
          "text": [
            "[-2 -2]\n"
          ]
        }
      ]
    },
    {
      "cell_type": "code",
      "source": [
        "n1 = np.array([1,2,3,4])\n",
        "n2 = n1 * 3\n",
        "print(n2)\n",
        "#표준정규분포화 작업할 때 연산 사용"
      ],
      "metadata": {
        "colab": {
          "base_uri": "https://localhost:8080/"
        },
        "id": "zsmV0AdCq6Qk",
        "outputId": "7e5984da-fe3c-4005-d79d-d61604c073f1"
      },
      "execution_count": null,
      "outputs": [
        {
          "output_type": "stream",
          "name": "stdout",
          "text": [
            "[ 3  6  9 12]\n"
          ]
        }
      ]
    },
    {
      "cell_type": "code",
      "source": [
        "n2 = n1/2\n",
        "print(n2)"
      ],
      "metadata": {
        "colab": {
          "base_uri": "https://localhost:8080/"
        },
        "id": "ophVDEkRsI7g",
        "outputId": "9da867a2-0d81-4047-ca59-8004819ca257"
      },
      "execution_count": null,
      "outputs": [
        {
          "output_type": "stream",
          "name": "stdout",
          "text": [
            "[0.5 1.  1.5 2. ]\n"
          ]
        }
      ]
    },
    {
      "cell_type": "code",
      "source": [
        "n1 = np.random.randint(1,1000,100,dtype=int)\n",
        "print(n1)"
      ],
      "metadata": {
        "colab": {
          "base_uri": "https://localhost:8080/"
        },
        "id": "dWwzUJrCshDm",
        "outputId": "56ba01f1-1751-4a49-c83b-3c065a550d2f"
      },
      "execution_count": null,
      "outputs": [
        {
          "output_type": "stream",
          "name": "stdout",
          "text": [
            "[362 529 733 730 890 494 537 132 789 451 287 131 242 271 201 375 633 113\n",
            " 369 711 302 638 986  94  61 400 575 299 893 814  60 142 213 140  63 714\n",
            " 620 333 367 738  69 285 489 837 514 539 567 925 278 508 688 692 466 648\n",
            " 203  60 943 472  26 608 241 145  45 796 428 847 924 825 155 425 471 505\n",
            " 513 602 659 674  30 975 756 364 890 577 666 256 716 901 247 852 786 538\n",
            " 805 692 625 421 714 702 651 365 658 581]\n"
          ]
        }
      ]
    },
    {
      "cell_type": "code",
      "source": [
        "n2 = n1 > 500\n",
        "print(n2)"
      ],
      "metadata": {
        "colab": {
          "base_uri": "https://localhost:8080/"
        },
        "id": "9L2GVoAjsp80",
        "outputId": "b43da092-7523-4796-9dd2-960ba7e1f2dc"
      },
      "execution_count": null,
      "outputs": [
        {
          "output_type": "stream",
          "name": "stdout",
          "text": [
            "[False  True  True  True  True False  True False  True False False False\n",
            " False False False False  True False False  True False  True  True False\n",
            " False False  True False  True  True False False False False False  True\n",
            "  True False False  True False False False  True  True  True  True  True\n",
            " False  True  True  True False  True False False  True False False  True\n",
            " False False False  True False  True  True  True False False False  True\n",
            "  True  True  True  True False  True  True False  True  True  True False\n",
            "  True  True False  True  True  True  True  True  True False  True  True\n",
            "  True False  True  True]\n"
          ]
        }
      ]
    },
    {
      "cell_type": "code",
      "source": [
        "n3 = n1[n2]\n",
        "print(n3) #True값만 추출\n",
        "\n",
        "# https://nittaku.tistory.com/107\n",
        "# 인덱스 자리 [] 에 마스크값(조건문, boolean array)을 넣으면 true에 해당하는 행 or 열만 뽑아내는 특징이 있다."
      ],
      "metadata": {
        "colab": {
          "base_uri": "https://localhost:8080/"
        },
        "id": "2ZElSX93s6A4",
        "outputId": "dc6b65cc-30f8-4323-9a49-cdabf42d05a0"
      },
      "execution_count": null,
      "outputs": [
        {
          "output_type": "stream",
          "name": "stdout",
          "text": [
            "[529 733 730 890 537 789 633 711 638 986 575 893 814 714 620 738 837 514\n",
            " 539 567 925 508 688 692 648 943 608 796 847 924 825 505 513 602 659 674\n",
            " 975 756 890 577 666 716 901 852 786 538 805 692 625 714 702 651 658 581]\n"
          ]
        }
      ]
    },
    {
      "cell_type": "code",
      "source": [
        "n1 = np.array([[1,2],[3,4]])\n",
        "n2 = np.array([4,5])\n",
        "n3 = n1.dot(n2)\n",
        "print(n3)\n",
        "\n",
        "#내적"
      ],
      "metadata": {
        "colab": {
          "base_uri": "https://localhost:8080/"
        },
        "id": "kPc3S5Jwu6j4",
        "outputId": "626a0f81-d1a2-43b7-d821-460447125063"
      },
      "execution_count": null,
      "outputs": [
        {
          "output_type": "stream",
          "name": "stdout",
          "text": [
            "[14 32]\n"
          ]
        }
      ]
    },
    {
      "cell_type": "code",
      "source": [
        "n1 = np.array([1,2,3,4])\n",
        "n2 = n1.reshape((2,2))\n",
        "print(n2)"
      ],
      "metadata": {
        "colab": {
          "base_uri": "https://localhost:8080/"
        },
        "id": "oldvY7YSwMqp",
        "outputId": "af30e578-19bf-4de0-c883-bd01fe4dc3bd"
      },
      "execution_count": null,
      "outputs": [
        {
          "output_type": "stream",
          "name": "stdout",
          "text": [
            "[[1 2]\n",
            " [3 4]]\n"
          ]
        }
      ]
    },
    {
      "cell_type": "code",
      "source": [
        "n3 = np.transpose(n2) #transport matrix : 전치행렬 - 축을 기준으로 요소를 바꾼다\n",
        "print(n3)"
      ],
      "metadata": {
        "colab": {
          "base_uri": "https://localhost:8080/"
        },
        "id": "-duZLLqtwTXj",
        "outputId": "9f82d0fe-aad2-4a72-bcd7-0b2382d8aa8e"
      },
      "execution_count": null,
      "outputs": [
        {
          "output_type": "stream",
          "name": "stdout",
          "text": [
            "[[1 3]\n",
            " [2 4]]\n"
          ]
        }
      ]
    },
    {
      "cell_type": "code",
      "source": [
        "n3 = np.invert(n2) #invert matrix : 역행렬아님 - 반전행렬(원소의 메모리)\n",
        "print(n3)\n",
        "# 요소별로 비트별 반전 또는 비트별 비트를 계산합니다.\n",
        "# NOT 연산 (0->1,1->0)으로 반전시킨 값을 요소로 반환"
      ],
      "metadata": {
        "colab": {
          "base_uri": "https://localhost:8080/"
        },
        "id": "dXTGZA7xw7oi",
        "outputId": "50fc4b30-2156-4f8f-f94a-2ba18b8a3eb1"
      },
      "execution_count": null,
      "outputs": [
        {
          "output_type": "stream",
          "name": "stdout",
          "text": [
            "[[-2 -3]\n",
            " [-4 -5]]\n"
          ]
        }
      ]
    },
    {
      "cell_type": "code",
      "source": [
        "n3 = np.linalg.inv(n2) #역행렬\n",
        "print(n3)"
      ],
      "metadata": {
        "colab": {
          "base_uri": "https://localhost:8080/"
        },
        "id": "X57oudUb1g0F",
        "outputId": "eba95141-0f31-49cb-99f3-58484c5f3463"
      },
      "execution_count": null,
      "outputs": [
        {
          "output_type": "stream",
          "name": "stdout",
          "text": [
            "[[-2.   1. ]\n",
            " [ 1.5 -0.5]]\n"
          ]
        }
      ]
    },
    {
      "cell_type": "code",
      "source": [
        "n4 = n2.dot(n3)\n",
        "print(n4)\n",
        "# 내적 -> 선형 회귀에서 방정식 계산 등에 활용 가능 (신경망)\n",
        "# y = w1*x1 + w2*x2 + b"
      ],
      "metadata": {
        "colab": {
          "base_uri": "https://localhost:8080/"
        },
        "id": "6i49Sb5f56AY",
        "outputId": "6ce4c2a1-ce57-4a17-eac0-029b11d7df4a"
      },
      "execution_count": null,
      "outputs": [
        {
          "output_type": "stream",
          "name": "stdout",
          "text": [
            "[[1.0000000e+00 0.0000000e+00]\n",
            " [8.8817842e-16 1.0000000e+00]]\n"
          ]
        }
      ]
    },
    {
      "cell_type": "markdown",
      "source": [
        "#통계 관련"
      ],
      "metadata": {
        "id": "hagDU4KC6YB9"
      }
    },
    {
      "cell_type": "code",
      "source": [
        "n1 = np.random.randint(1,100,30,dtype=int)\n",
        "print(n1)"
      ],
      "metadata": {
        "colab": {
          "base_uri": "https://localhost:8080/"
        },
        "id": "MkBHA_Ym6Zm-",
        "outputId": "a252c6ee-dcea-4206-bca2-c54a91c280d9"
      },
      "execution_count": null,
      "outputs": [
        {
          "output_type": "stream",
          "name": "stdout",
          "text": [
            "[17 43 95 81 55 84 88 13 31 19 94 35  7 10 81 59 14 14 96 51 83 96 60 71\n",
            " 30 19 29 29 37 34]\n"
          ]
        }
      ]
    },
    {
      "cell_type": "code",
      "source": [
        "print(\"길이:\",len(n1))"
      ],
      "metadata": {
        "colab": {
          "base_uri": "https://localhost:8080/"
        },
        "id": "q8mvs59569fI",
        "outputId": "7e8433e5-b87a-4a2c-a785-9e1049cf42b6"
      },
      "execution_count": null,
      "outputs": [
        {
          "output_type": "stream",
          "name": "stdout",
          "text": [
            "길이: 30\n"
          ]
        }
      ]
    },
    {
      "cell_type": "code",
      "source": [
        "print(\"평균:\",n1.mean())"
      ],
      "metadata": {
        "colab": {
          "base_uri": "https://localhost:8080/"
        },
        "id": "fd6vluOX7k2o",
        "outputId": "f8c3cd3a-22bf-44ec-b556-e4b2d3dffaa8"
      },
      "execution_count": null,
      "outputs": [
        {
          "output_type": "stream",
          "name": "stdout",
          "text": [
            "평균: 52.266666666666666\n"
          ]
        }
      ]
    },
    {
      "cell_type": "code",
      "source": [
        "n2 = n1 - n1.mean()\n",
        "print(\"수평 이동한 후 평균:\",n2.mean())"
      ],
      "metadata": {
        "colab": {
          "base_uri": "https://localhost:8080/"
        },
        "id": "nHgaMvzm7fXD",
        "outputId": "f3a5a450-db69-4262-eb3f-24b10f8bf881"
      },
      "execution_count": null,
      "outputs": [
        {
          "output_type": "stream",
          "name": "stdout",
          "text": [
            "수평 이동한 후 평균: 9.473903143468002e-16\n"
          ]
        }
      ]
    },
    {
      "cell_type": "code",
      "source": [
        "print(\"최대값 위치\",n1.argmax())\n",
        "print(\"최대값:\",n1[16])\n",
        "print(\"최대값:\",n1.max())"
      ],
      "metadata": {
        "colab": {
          "base_uri": "https://localhost:8080/"
        },
        "id": "hXIz9jex7p_s",
        "outputId": "147898c6-dde5-4637-e6c5-cba3b005ba55"
      },
      "execution_count": null,
      "outputs": [
        {
          "output_type": "stream",
          "name": "stdout",
          "text": [
            "최대값 위치 26\n",
            "최대값: 62\n",
            "최대값: 95\n"
          ]
        }
      ]
    },
    {
      "cell_type": "code",
      "source": [
        "print(\"표준편차:\",n1.std())"
      ],
      "metadata": {
        "colab": {
          "base_uri": "https://localhost:8080/"
        },
        "id": "QJfXggcT8kqU",
        "outputId": "f45eb01f-4974-4910-f909-fc74afedab52"
      },
      "execution_count": null,
      "outputs": [
        {
          "output_type": "stream",
          "name": "stdout",
          "text": [
            "표준편차: 25.451828137789153\n"
          ]
        }
      ]
    },
    {
      "cell_type": "code",
      "source": [
        "n2 = n1/n1.std()\n",
        "print(\"스케일 조절한 후 표준편차:\",n2.std())"
      ],
      "metadata": {
        "colab": {
          "base_uri": "https://localhost:8080/"
        },
        "id": "pMO5jdCR8nkk",
        "outputId": "1152937c-5505-42c8-e36d-6d4bcbbce7a5"
      },
      "execution_count": null,
      "outputs": [
        {
          "output_type": "stream",
          "name": "stdout",
          "text": [
            "스케일 조절한 후 표준편차: 0.9999999999999998\n"
          ]
        }
      ]
    },
    {
      "cell_type": "code",
      "source": [
        "print(\"최솟값:\",n1.min())\n",
        "print(\"중앙값:\",np.median(n1))\n",
        "print(\"1/4분위값:\",np.percentile(n1,25))\n",
        "print(\"3/4분위값:\",np.percentile(n1,75))"
      ],
      "metadata": {
        "colab": {
          "base_uri": "https://localhost:8080/"
        },
        "id": "syKQfDY18sqF",
        "outputId": "326d3634-fa7a-4162-de1e-1a59202fe742"
      },
      "execution_count": null,
      "outputs": [
        {
          "output_type": "stream",
          "name": "stdout",
          "text": [
            "최솟값: 7\n",
            "중앙값: 40.0\n",
            "1/4분위값: 21.5\n",
            "3/4분위값: 81.0\n"
          ]
        }
      ]
    },
    {
      "cell_type": "code",
      "source": [
        "print(\"누적 합:\", np.cumsum(n1))"
      ],
      "metadata": {
        "colab": {
          "base_uri": "https://localhost:8080/"
        },
        "id": "M9iZOwGv9Pyi",
        "outputId": "1ca0f638-8aea-44e0-de12-2ca14baa7504"
      },
      "execution_count": null,
      "outputs": [
        {
          "output_type": "stream",
          "name": "stdout",
          "text": [
            "누적 합: [  58  148  192  261  336  390  416  481  535  584  647  732  799  807\n",
            "  820  893  955 1009 1032 1039 1067 1113 1161 1194 1272 1341 1436 1468\n",
            " 1561 1568]\n"
          ]
        }
      ]
    },
    {
      "cell_type": "code",
      "source": [
        "n1 = np.arange(1,10)\n",
        "print(n1)\n",
        "print(\"누적 곱:\",np.cumprod(n1))"
      ],
      "metadata": {
        "colab": {
          "base_uri": "https://localhost:8080/"
        },
        "id": "gyA2MMyD9cTF",
        "outputId": "01a953a7-6c9b-46f0-ef2e-4525e3b289b2"
      },
      "execution_count": null,
      "outputs": [
        {
          "output_type": "stream",
          "name": "stdout",
          "text": [
            "[1 2 3 4 5 6 7 8 9]\n",
            "누적 곱: [     1      2      6     24    120    720   5040  40320 362880]\n"
          ]
        }
      ]
    }
  ]
}