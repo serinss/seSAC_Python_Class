{
  "nbformat": 4,
  "nbformat_minor": 0,
  "metadata": {
    "colab": {
      "name": "통계데이터분석 - KNN 분류.ipynb",
      "provenance": [],
      "authorship_tag": "ABX9TyPEQG6csun1ZjMp/XlbjHOM",
      "include_colab_link": true
    },
    "kernelspec": {
      "name": "python3",
      "display_name": "Python 3"
    },
    "language_info": {
      "name": "python"
    }
  },
  "cells": [
    {
      "cell_type": "markdown",
      "metadata": {
        "id": "view-in-github",
        "colab_type": "text"
      },
      "source": [
        "<a href=\"https://colab.research.google.com/github/serinss/seSAC_Python_Class/blob/main/%ED%86%B5%EA%B3%84%EB%8D%B0%EC%9D%B4%ED%84%B0%EB%B6%84%EC%84%9D_KNN_%EB%B6%84%EB%A5%98.ipynb\" target=\"_parent\"><img src=\"https://colab.research.google.com/assets/colab-badge.svg\" alt=\"Open In Colab\"/></a>"
      ]
    },
    {
      "cell_type": "markdown",
      "source": [
        "#KNN 분류에 사용할 데이터 - 붓꽃 데이터"
      ],
      "metadata": {
        "id": "B9CnhlJEm2Zg"
      }
    },
    {
      "cell_type": "code",
      "source": [
        "from sklearn.datasets import load_iris\n",
        "import numpy as np\n",
        "import matplotlib.pyplot as plt\n",
        "from sklearn.neighbors import KNeighborsClassifier"
      ],
      "metadata": {
        "id": "G2vay0nhpMJv"
      },
      "execution_count": null,
      "outputs": []
    },
    {
      "cell_type": "code",
      "execution_count": null,
      "metadata": {
        "id": "qMjOu75emzey"
      },
      "outputs": [],
      "source": [
        "from sklearn.datasets import load_iris\n",
        "iris_data = load_iris()\n",
        "print(iris_data)"
      ]
    },
    {
      "cell_type": "code",
      "source": [
        "data = iris_data['data'] #독립변수\n",
        "data.shape #150개 X (petal-length, petal-width, sepal-length, sepal-width)"
      ],
      "metadata": {
        "colab": {
          "base_uri": "https://localhost:8080/"
        },
        "id": "JJT5LzrpnVK0",
        "outputId": "e0fb3ecb-889d-4d6c-badf-b469ab02a167"
      },
      "execution_count": 4,
      "outputs": [
        {
          "output_type": "execute_result",
          "data": {
            "text/plain": [
              "(150, 4)"
            ]
          },
          "metadata": {},
          "execution_count": 4
        }
      ]
    },
    {
      "cell_type": "code",
      "source": [
        "target = iris_data['target'] #종속변수\n",
        "target.shape #150개 ([0:50]>=0, [50:100]>=1, [100:]>=2)"
      ],
      "metadata": {
        "colab": {
          "base_uri": "https://localhost:8080/"
        },
        "id": "YzRXf6ocnc-M",
        "outputId": "b45f659d-71db-45b6-a2fd-9a71d13659db"
      },
      "execution_count": 5,
      "outputs": [
        {
          "output_type": "execute_result",
          "data": {
            "text/plain": [
              "(150,)"
            ]
          },
          "metadata": {},
          "execution_count": 5
        }
      ]
    },
    {
      "cell_type": "code",
      "source": [
        "tname = iris_data['target_names']\n",
        "tname # 0:setosa, 1:versicolor, 3:virginica"
      ],
      "metadata": {
        "colab": {
          "base_uri": "https://localhost:8080/"
        },
        "id": "Turk10tRngFR",
        "outputId": "2c90d017-38c2-429d-8708-adde2de3ccd0"
      },
      "execution_count": 6,
      "outputs": [
        {
          "output_type": "execute_result",
          "data": {
            "text/plain": [
              "array(['setosa', 'versicolor', 'virginica'], dtype='<U10')"
            ]
          },
          "metadata": {},
          "execution_count": 6
        }
      ]
    },
    {
      "cell_type": "code",
      "source": [
        "for i,t in enumerate(target):\n",
        "  print(f\"{i}:{tname[t]}\")"
      ],
      "metadata": {
        "id": "g76_wHkXn1ZN"
      },
      "execution_count": null,
      "outputs": []
    },
    {
      "cell_type": "code",
      "source": [
        "def distance(x1,x2):\n",
        "  return sum((x1-x2)**2)**(1/2)"
      ],
      "metadata": {
        "id": "mHBiW5iHozPk"
      },
      "execution_count": 10,
      "outputs": []
    },
    {
      "cell_type": "code",
      "source": [
        "import numpy as np\n",
        "na1 = np.array([1,2])\n",
        "na2 = np.array([5,5])\n",
        "print(distance(na1,na2))"
      ],
      "metadata": {
        "colab": {
          "base_uri": "https://localhost:8080/"
        },
        "id": "zaiFab5Po5_t",
        "outputId": "12c6da10-eeae-4f25-de85-c9c32899632f"
      },
      "execution_count": 11,
      "outputs": [
        {
          "output_type": "stream",
          "name": "stdout",
          "text": [
            "5.0\n"
          ]
        }
      ]
    },
    {
      "cell_type": "code",
      "source": [
        "def find_k_nearest_neighbor_c(xs,ys,tx,k=5): #k개 이웃 중, 가장 많이 분포되어 있는 값 찾기\n",
        "  sarr = []\n",
        "  for i,x in enumerate(xs):\n",
        "    dis = distance(x,tx)\n",
        "    sarr.append((dis,i)) #거리순으로 정렬한 이후에도 몇 번째 요소인지 기억하기 위해 (dis,i)를 보관\n",
        "  sarr.sort(key= lambda x:x[0])\n",
        "  nd = {} #어떠한 클래스에 속하는지 분포를 파악해서 보관하기 위한 용도 --> 여기부터 지난번 방법과 차이남\n",
        "  for x in sarr[:k]:\n",
        "    neighbor = ys[x[1]] #x[0]은 거리 x[1]은 인덱스이므로, 원하는 값은 ys[인덱스]\n",
        "    if neighbor in nd:\n",
        "      nd[neighbor] += 1\n",
        "    else:\n",
        "      nd[neighbor] = 0\n",
        "  return max(nd, key=nd.get) #가장 많이 나온 클래스를 반환"
      ],
      "metadata": {
        "id": "lK72mu6rpf2f"
      },
      "execution_count": 13,
      "outputs": []
    },
    {
      "cell_type": "code",
      "source": [
        "def find_k_nearest_neighbors_c(xs,ys,t_xs,k=5): #테스트용\n",
        "  return np.array([find_k_nearest_neighbor_c(xs,ys,tx,k) for tx in t_xs])"
      ],
      "metadata": {
        "id": "1H-6IkzvrNRJ"
      },
      "execution_count": 14,
      "outputs": []
    },
    {
      "cell_type": "code",
      "source": [
        "data.shape, target.shape #두 자료의 행의 개수가 동일하므로, 사용 가능"
      ],
      "metadata": {
        "colab": {
          "base_uri": "https://localhost:8080/"
        },
        "id": "EzYWjRdqrrn6",
        "outputId": "9efc8368-9746-44e6-c114-01fb5ac16512"
      },
      "execution_count": 16,
      "outputs": [
        {
          "output_type": "execute_result",
          "data": {
            "text/plain": [
              "((150, 4), (150,))"
            ]
          },
          "metadata": {},
          "execution_count": 16
        }
      ]
    },
    {
      "cell_type": "code",
      "source": [
        "from sklearn.model_selection import train_test_split\n",
        "train_xs, test_xs, train_ys, test_ys = train_test_split(data,target) #학습 데이터와 테스트 데이터로 분리\n",
        "train_xs.shape, test_xs.shape, train_ys.shape, test_ys.shape"
      ],
      "metadata": {
        "colab": {
          "base_uri": "https://localhost:8080/"
        },
        "id": "mSta3cUsrxc6",
        "outputId": "433c9045-acd0-4051-a33a-418db694576c"
      },
      "execution_count": 17,
      "outputs": [
        {
          "output_type": "execute_result",
          "data": {
            "text/plain": [
              "((112, 4), (38, 4), (112,), (38,))"
            ]
          },
          "metadata": {},
          "execution_count": 17
        }
      ]
    },
    {
      "cell_type": "code",
      "source": [
        "pred_val = find_k_nearest_neighbors_c(train_xs,train_ys,test_xs) #학습 후 예측하시오"
      ],
      "metadata": {
        "id": "1ln0VCjDsFr7"
      },
      "execution_count": 21,
      "outputs": []
    },
    {
      "cell_type": "code",
      "source": [
        "print(f\"예측 결과:{pred_val}\")\n",
        "print(f\"실제 결과:{test_ys}\") #두 값을 비교하여 얼마나 동일한지 확인"
      ],
      "metadata": {
        "colab": {
          "base_uri": "https://localhost:8080/"
        },
        "id": "xgRLx088sRy0",
        "outputId": "fc48803e-b2e3-4d41-e809-502b2572272d"
      },
      "execution_count": 23,
      "outputs": [
        {
          "output_type": "stream",
          "name": "stdout",
          "text": [
            "예측 결과:[1 2 0 1 1 0 0 2 1 2 0 1 1 2 2 2 1 2 1 0 1 2 2 0 2 0 0 0 2 1 0 0 2 2 1 2 1\n",
            " 0]\n",
            "실제 결과:[2 2 0 1 1 0 0 2 1 2 0 1 1 2 2 2 1 1 1 0 1 2 2 0 2 0 0 0 2 1 0 0 2 2 1 2 1\n",
            " 0]\n"
          ]
        }
      ]
    },
    {
      "cell_type": "code",
      "source": [
        "import matplotlib.pyplot as plt"
      ],
      "metadata": {
        "id": "xp84nxJxyHW7"
      },
      "execution_count": 24,
      "outputs": []
    },
    {
      "cell_type": "code",
      "source": [
        "plt.plot(pred_val, 'ro', label='predict')\n",
        "plt.plot(test_ys, 'b^', label='actual')\n",
        "plt.xlabel(\"test index\")\n",
        "plt.ylabel(\"classes\")\n",
        "plt.legend()\n",
        "plt.show()"
      ],
      "metadata": {
        "colab": {
          "base_uri": "https://localhost:8080/",
          "height": 279
        },
        "id": "3KZnl7XNyM4y",
        "outputId": "0d6601c1-c4c6-4f74-f31b-a86c064db390"
      },
      "execution_count": 28,
      "outputs": [
        {
          "output_type": "display_data",
          "data": {
            "image/png": "[encoded data removed]",
            "text/plain": [
              "<Figure size 432x288 with 1 Axes>"
            ]
          },
          "metadata": {
            "needs_background": "light"
          }
        }
      ]
    },
    {
      "cell_type": "code",
      "source": [
        "def evaluate(actual_ys, predict_ys):\n",
        "  correct_cnt = 0\n",
        "  for i,y in enumerate(actual_ys):\n",
        "    if predict_ys[i] == y:\n",
        "      correct_cnt += 1\n",
        "  return correct_cnt/len(actual_ys)"
      ],
      "metadata": {
        "id": "Vq7XIb6ozITe"
      },
      "execution_count": 30,
      "outputs": []
    },
    {
      "cell_type": "code",
      "source": [
        "print(evaluate(test_ys, pred_val))"
      ],
      "metadata": {
        "colab": {
          "base_uri": "https://localhost:8080/"
        },
        "id": "Mdv0VNj7zXAr",
        "outputId": "ef3fb541-37d2-4dc3-b342-e100ce99c7aa"
      },
      "execution_count": 32,
      "outputs": [
        {
          "output_type": "stream",
          "name": "stdout",
          "text": [
            "0.9473684210526315\n"
          ]
        }
      ]
    },
    {
      "cell_type": "markdown",
      "source": [
        "#ML 개체 사용(사이킷 런의 KNN분류 모델)"
      ],
      "metadata": {
        "id": "8ysjHL0gz9DP"
      }
    },
    {
      "cell_type": "code",
      "source": [
        "from sklearn.neighbors import KNeighborsClassifier #KNN분류모델\n",
        "\n",
        "knc_model = KNeighborsClassifier() #모델 개체 생성\n",
        "knc_model.fit(train_xs,train_ys) #학습\n",
        "pred_val2 = knc_model.predict(test_xs) #예측하시오"
      ],
      "metadata": {
        "id": "b9_bs6x_z8Kl"
      },
      "execution_count": 34,
      "outputs": []
    },
    {
      "cell_type": "code",
      "source": [
        "print(f\"예측 결과1:{pred_val}\")\n",
        "print(f\"예측 결과2:{pred_val2}\")\n",
        "print(f\"실제 결과:{test_ys}\")"
      ],
      "metadata": {
        "colab": {
          "base_uri": "https://localhost:8080/"
        },
        "id": "hfWJ8zyp0LdS",
        "outputId": "6509d9e7-ffdb-4aad-b368-daff03b71579"
      },
      "execution_count": 36,
      "outputs": [
        {
          "output_type": "stream",
          "name": "stdout",
          "text": [
            "예측 결과1:[1 2 0 1 1 0 0 2 1 2 0 1 1 2 2 2 1 2 1 0 1 2 2 0 2 0 0 0 2 1 0 0 2 2 1 2 1\n",
            " 0]\n",
            "예측 결과2:[1 2 0 1 1 0 0 2 1 2 0 1 1 2 2 2 1 2 1 0 1 2 2 0 2 0 0 0 2 1 0 0 2 2 1 2 1\n",
            " 0]\n",
            "실제 결과:[2 2 0 1 1 0 0 2 1 2 0 1 1 2 2 2 1 1 1 0 1 2 2 0 2 0 0 0 2 1 0 0 2 2 1 2 1\n",
            " 0]\n"
          ]
        }
      ]
    },
    {
      "cell_type": "code",
      "source": [
        "plt.plot(pred_val, 'ro', label='redict')\n",
        "plt.plot(pred_val2, 'g*', label='redict2')\n",
        "plt.plot(test_ys, 'b.', label='actual')\n",
        "plt.xlabel(\"test index\")\n",
        "plt.ylabel('classes')\n",
        "plt.legend()\n",
        "plt.show()"
      ],
      "metadata": {
        "colab": {
          "base_uri": "https://localhost:8080/",
          "height": 279
        },
        "id": "dV5HNPF-1nuR",
        "outputId": "11ec6bb5-b44d-4369-a4c1-93041b62a1b0"
      },
      "execution_count": 37,
      "outputs": [
        {
          "output_type": "display_data",
          "data": {
            "image/png": "[encoded data removed]",
            "text/plain": [
              "<Figure size 432x288 with 1 Axes>"
            ]
          },
          "metadata": {
            "needs_background": "light"
          }
        }
      ]
    },
    {
      "cell_type": "markdown",
      "source": [
        "###1. 이항 분류(이진 분류)  \n",
        ": 둘 중 하나를 결정하는 문제 / T or F를 결정하는 문제  \n",
        "  - sigmoid(선형 회귀) => 로지스틱 회귀  \n",
        "    - -1 <= sigmoid(x) <= 1 (그래프 확인)\n",
        "    - 0.5 <= sigmoid(x) <= 1 ===> T  \n",
        "    - 0 < sigmoid(x) <= 0.5 ===> F"
      ],
      "metadata": {
        "id": "1yXkngdd2vKZ"
      }
    },
    {
      "cell_type": "markdown",
      "source": [
        "###2. 다항 분류(KNN 분류)  \n",
        ": 로지스틱 회귀 응용, 클래스가 n개 있을 때  \n",
        "  클래스 1일 확률 : P1    \n",
        "  클래스 2일 확률 : P2  \n",
        "  클래스 3일 확률 : P3  \n",
        "  클래스 4일 확률 : P4  \n",
        "  클래스 n일 확률 : Pn   \n",
        "  -> 해당 로지스틱 회귀를 n번 수행한다  \n",
        "     P1 + P2 + P3 + ... + Pn = Sp  \n",
        "     P1 + P2 + P3 + ... + Pn / Sp = 1  \n",
        "     = soft max (https://en.wikipedia.org/wiki/Softmax_function)\n",
        "  \n"
      ],
      "metadata": {
        "id": "OrtZg5uS3w1u"
      }
    },
    {
      "cell_type": "markdown",
      "source": [
        "###3. ML 의 분류 기준에 따른 분류\n",
        "- ML(Machin Learning)  \n",
        "- DL(Deep Learning)  \n",
        "https://bangu4.tistory.com/95\n",
        "-----------------------------------\n",
        "- 지도 L(Learning, 학습) : 실행해야 할 작업을 쌓아두기 -> 학습 -> 예측\n",
        "  - 회귀\n",
        "  - 분류\n",
        "- 비지도 L\n",
        "  - 강화\n",
        "  - 군집\n",
        "  - 이상점"
      ],
      "metadata": {
        "id": "8vO7014x52lf"
      }
    },
    {
      "cell_type": "markdown",
      "source": [
        "###4. 평면상의 점들을 근처 모임끼리 3개로 군집화  \n",
        "1. 3개의 랜덤한 중심점 선택  \n",
        "2. 모든 점을 3개의 중심점과 거리 계산하여 군집화  \n",
        "3. 중심점 계산"
      ],
      "metadata": {
        "id": "7n8Npjq8OjOA"
      }
    },
    {
      "cell_type": "markdown",
      "source": [
        "###5. KMeans\n",
        "k-평균 알고리즘(K-means clustering algorithm)은 주어진 데이터를 k개의 클러스터로 묶는 알고리즘으로, 각 클러스터와 거리 차이의 분산을 최소화하는 방식으로 동작한다. 이 알고리즘은 자율 학습의 일종으로, 레이블이 달려 있지 않은 입력 데이터에 레이블을 달아주는 역할을 수행한다. 이 알고리즘은 EM 알고리즘을 이용한 클러스터링과 비슷한 구조를 가지고 있다."
      ],
      "metadata": {
        "id": "OuieM5zDQb0y"
      }
    }
  ]
}