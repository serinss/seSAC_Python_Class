{
  "nbformat": 4,
  "nbformat_minor": 0,
  "metadata": {
    "colab": {
      "name": "파이썬_빅데이터_머신러닝_딥러닝_총괄.ipynb",
      "provenance": [],
      "collapsed_sections": [],
      "include_colab_link": true
    },
    "kernelspec": {
      "name": "python3",
      "display_name": "Python 3"
    },
    "language_info": {
      "name": "python"
    }
  },
  "cells": [
    {
      "cell_type": "markdown",
      "metadata": {
        "id": "view-in-github",
        "colab_type": "text"
      },
      "source": [
        "<a href=\"https://colab.research.google.com/github/serinss/seSAC_Python_Class/blob/main/%ED%8C%8C%EC%9D%B4%EC%8D%AC_%EB%B9%85%EB%8D%B0%EC%9D%B4%ED%84%B0_%EB%A8%B8%EC%8B%A0%EB%9F%AC%EB%8B%9D_%EB%94%A5%EB%9F%AC%EB%8B%9D_%EC%B4%9D%EA%B4%84.ipynb\" target=\"_parent\"><img src=\"https://colab.research.google.com/assets/colab-badge.svg\" alt=\"Open In Colab\"/></a>"
      ]
    },
    {
      "cell_type": "markdown",
      "source": [
        "# Why? 파이썬"
      ],
      "metadata": {
        "id": "pJfmRsmfzxiY"
      }
    },
    {
      "cell_type": "code",
      "execution_count": null,
      "metadata": {
        "colab": {
          "base_uri": "https://localhost:8080/"
        },
        "id": "nUXgbUPKvUIb",
        "outputId": "22b9ee6c-08b7-4aae-bab4-f3acede16529"
      },
      "outputs": [
        {
          "output_type": "execute_result",
          "data": {
            "text/plain": [
              "([0, 1, 2, 3, 4, 5, 6, 7, 8, 9],\n",
              " [0, 2, 4, 6, 8],\n",
              " [0, -1, 2, -1, 4, -1, 6, -1, 8, -1])"
            ]
          },
          "metadata": {},
          "execution_count": 1
        }
      ],
      "source": [
        "ls1 = [x for x in range(10)]\n",
        "ls2 = [x for x in range(10) if x%2==0]\n",
        "ls3 = [x if x%2==0 else (-1) for x in range(10)]\n",
        "\n",
        "ls1, ls2, ls3"
      ]
    },
    {
      "cell_type": "code",
      "source": [
        "def calculate(xs):\n",
        "    s = 0\n",
        "    for x in xs:\n",
        "        s += x\n",
        "    return s, s/len(xs)"
      ],
      "metadata": {
        "id": "_PaHEhzj0vo-"
      },
      "execution_count": null,
      "outputs": []
    },
    {
      "cell_type": "code",
      "source": [
        "s, _ = calculate([1, 2, 3, 4, 5, 6, 7, 8, 9, 10])\n",
        "print(f\"합계:{s:010d}\")"
      ],
      "metadata": {
        "colab": {
          "base_uri": "https://localhost:8080/"
        },
        "id": "lyj4kdvw0-Ei",
        "outputId": "de6cf9db-8706-492c-b66e-30686089da3f"
      },
      "execution_count": null,
      "outputs": [
        {
          "output_type": "stream",
          "name": "stdout",
          "text": [
            "합계:0000000055\n"
          ]
        }
      ]
    },
    {
      "cell_type": "code",
      "source": [
        "data = 2, 3\n",
        "print(type(data))"
      ],
      "metadata": {
        "colab": {
          "base_uri": "https://localhost:8080/"
        },
        "id": "vFXPpQwm1IUK",
        "outputId": "2b34877e-ad7f-4f9a-c202-4123e60ab1ec"
      },
      "execution_count": null,
      "outputs": [
        {
          "output_type": "stream",
          "name": "stdout",
          "text": [
            "<class 'tuple'>\n"
          ]
        }
      ]
    },
    {
      "cell_type": "code",
      "source": [
        "a, b = data\n",
        "a, b"
      ],
      "metadata": {
        "colab": {
          "base_uri": "https://localhost:8080/"
        },
        "id": "G9qBy2iE1gY6",
        "outputId": "05909d4a-f18f-4f8d-c075-99b196502741"
      },
      "execution_count": null,
      "outputs": [
        {
          "output_type": "execute_result",
          "data": {
            "text/plain": [
              "(2, 3)"
            ]
          },
          "metadata": {},
          "execution_count": 5
        }
      ]
    },
    {
      "cell_type": "code",
      "source": [
        "import sys\n",
        "sys.path.append('/content/sample_data')"
      ],
      "metadata": {
        "id": "veW7YkoP3EbZ"
      },
      "execution_count": null,
      "outputs": []
    },
    {
      "cell_type": "markdown",
      "source": [
        "#대표 모듈"
      ],
      "metadata": {
        "id": "fiyHtAeu8odV"
      }
    },
    {
      "cell_type": "markdown",
      "source": [
        "from 모듈이름 import 모듈 내 있는 것 중에 간단히 사용할 이름"
      ],
      "metadata": {
        "id": "DTAvWifo5R2h"
      }
    },
    {
      "cell_type": "code",
      "source": [
        "import numpy as np"
      ],
      "metadata": {
        "id": "qSt6U2Ad8NPO"
      },
      "execution_count": 3,
      "outputs": []
    },
    {
      "cell_type": "code",
      "source": [
        "ls1 = [1,2,3,4]\n",
        "ls2 = [3,4,5,6]\n",
        "\n",
        "ls3 = ls1 + ls2 # + 연산은 제공하지만 행렬 간의 더하기 연산은 아님\n",
        "ls3"
      ],
      "metadata": {
        "colab": {
          "base_uri": "https://localhost:8080/"
        },
        "id": "bqIbPZvB8rnY",
        "outputId": "5d859869-548f-4e88-894b-79b2a585d9df"
      },
      "execution_count": 4,
      "outputs": [
        {
          "output_type": "execute_result",
          "data": {
            "text/plain": [
              "[1, 2, 3, 4, 3, 4, 5, 6]"
            ]
          },
          "metadata": {},
          "execution_count": 4
        }
      ]
    },
    {
      "cell_type": "code",
      "source": [
        "#ls3 = ls1 - ls2 #행렬 사이의 빼기 연산은 제공하지 않음"
      ],
      "metadata": {
        "id": "9UtFXcmB8vn6"
      },
      "execution_count": null,
      "outputs": []
    },
    {
      "cell_type": "code",
      "source": [
        "ls3 = ls1*4 # * 연산도 행렬과 정수 사이의 연산 아님\n",
        "ls3"
      ],
      "metadata": {
        "colab": {
          "base_uri": "https://localhost:8080/"
        },
        "id": "EYRnRJky8_Un",
        "outputId": "e0152c07-fad2-4de3-89bb-bf7a66a8e7eb"
      },
      "execution_count": 5,
      "outputs": [
        {
          "output_type": "execute_result",
          "data": {
            "text/plain": [
              "[1, 2, 3, 4, 1, 2, 3, 4, 1, 2, 3, 4, 1, 2, 3, 4]"
            ]
          },
          "metadata": {},
          "execution_count": 5
        }
      ]
    },
    {
      "cell_type": "code",
      "source": [
        "ar1 = np.array(ls1)\n",
        "ar2 = np.array(ls2)\n",
        "ar3 = ar1 + ar2 #행렬 사이의 + 연산 제공\n",
        "ar3"
      ],
      "metadata": {
        "colab": {
          "base_uri": "https://localhost:8080/"
        },
        "id": "lOx1iz939EuG",
        "outputId": "bee7b5bc-5c3a-48ad-9eed-3f88673643ce"
      },
      "execution_count": 6,
      "outputs": [
        {
          "output_type": "execute_result",
          "data": {
            "text/plain": [
              "array([ 4,  6,  8, 10])"
            ]
          },
          "metadata": {},
          "execution_count": 6
        }
      ]
    },
    {
      "cell_type": "code",
      "source": [
        "ar3 = ar2 - ar1 #행렬 사이의 - 연산 제공\n",
        "ar3"
      ],
      "metadata": {
        "colab": {
          "base_uri": "https://localhost:8080/"
        },
        "id": "T48K753Z9S8f",
        "outputId": "82a406f0-0402-4ef1-b40d-aa81595a7608"
      },
      "execution_count": 7,
      "outputs": [
        {
          "output_type": "execute_result",
          "data": {
            "text/plain": [
              "array([2, 2, 2, 2])"
            ]
          },
          "metadata": {},
          "execution_count": 7
        }
      ]
    },
    {
      "cell_type": "code",
      "source": [
        "ar3 = ar2 * 4 #행렬과 행렬 사이의 x연산 제공\n",
        "ar3"
      ],
      "metadata": {
        "colab": {
          "base_uri": "https://localhost:8080/"
        },
        "id": "A0bP_eal9W24",
        "outputId": "947b0e11-f99f-43f1-cebf-a9fd95d05bcf"
      },
      "execution_count": 8,
      "outputs": [
        {
          "output_type": "execute_result",
          "data": {
            "text/plain": [
              "array([12, 16, 20, 24])"
            ]
          },
          "metadata": {},
          "execution_count": 8
        }
      ]
    },
    {
      "cell_type": "code",
      "source": [
        "ar3 = ar1 * ar2 #행렬 사이의 곱하기 연산\n",
        "ar3"
      ],
      "metadata": {
        "colab": {
          "base_uri": "https://localhost:8080/"
        },
        "id": "4nnAwT2F9zkt",
        "outputId": "17336c9e-4922-4796-a475-770934ff7aad"
      },
      "execution_count": 11,
      "outputs": [
        {
          "output_type": "execute_result",
          "data": {
            "text/plain": [
              "array([ 3,  8, 15, 24])"
            ]
          },
          "metadata": {},
          "execution_count": 11
        }
      ]
    },
    {
      "cell_type": "code",
      "source": [
        "ar3 = ar1 @ ar2 #행렬과 행렬 사이의 내적\n",
        "ar3"
      ],
      "metadata": {
        "colab": {
          "base_uri": "https://localhost:8080/"
        },
        "id": "4Thrpqpp9eBt",
        "outputId": "3b008573-315d-4d9c-c35d-bbf3067f2704"
      },
      "execution_count": 9,
      "outputs": [
        {
          "output_type": "execute_result",
          "data": {
            "text/plain": [
              "50"
            ]
          },
          "metadata": {},
          "execution_count": 9
        }
      ]
    },
    {
      "cell_type": "code",
      "source": [
        "ar3 = ar1.dot(ar2) #행렬 내적\n",
        "ar3"
      ],
      "metadata": {
        "colab": {
          "base_uri": "https://localhost:8080/"
        },
        "id": "QBDn860X9qrM",
        "outputId": "eff640ee-fe44-4dd0-e5eb-48776780f5f4"
      },
      "execution_count": 10,
      "outputs": [
        {
          "output_type": "execute_result",
          "data": {
            "text/plain": [
              "50"
            ]
          },
          "metadata": {},
          "execution_count": 10
        }
      ]
    },
    {
      "cell_type": "code",
      "source": [
        "ls = [[1,2,3],[2],4,5,6,7,8]\n",
        "ls"
      ],
      "metadata": {
        "colab": {
          "base_uri": "https://localhost:8080/"
        },
        "id": "87L77-Jr-wUf",
        "outputId": "2763104f-b9d2-49e6-ddab-c978be38bbe5"
      },
      "execution_count": 17,
      "outputs": [
        {
          "output_type": "execute_result",
          "data": {
            "text/plain": [
              "[[1, 2, 3], [2], 4, 5, 6, 7, 8]"
            ]
          },
          "metadata": {},
          "execution_count": 17
        }
      ]
    },
    {
      "cell_type": "code",
      "source": [
        "ar = np.arange(100)\n",
        "ar.shape"
      ],
      "metadata": {
        "colab": {
          "base_uri": "https://localhost:8080/"
        },
        "id": "k4ef_ADA-bHV",
        "outputId": "322af4a3-ee83-4c37-a48f-1f54f4223227"
      },
      "execution_count": 12,
      "outputs": [
        {
          "output_type": "execute_result",
          "data": {
            "text/plain": [
              "(100,)"
            ]
          },
          "metadata": {},
          "execution_count": 12
        }
      ]
    },
    {
      "cell_type": "code",
      "source": [
        "ar2 = ar.reshape(2,50)\n",
        "ar2.shape"
      ],
      "metadata": {
        "colab": {
          "base_uri": "https://localhost:8080/"
        },
        "id": "swDpPlaG-d4S",
        "outputId": "9398ef0c-7011-4064-ec3b-158277ed4c78"
      },
      "execution_count": 14,
      "outputs": [
        {
          "output_type": "execute_result",
          "data": {
            "text/plain": [
              "(2, 50)"
            ]
          },
          "metadata": {},
          "execution_count": 14
        }
      ]
    },
    {
      "cell_type": "code",
      "source": [
        "ar2.dtype"
      ],
      "metadata": {
        "colab": {
          "base_uri": "https://localhost:8080/"
        },
        "id": "5aW3Ewoh-gh3",
        "outputId": "97b6c2ab-63c3-4bdf-890a-7723e3d8036a"
      },
      "execution_count": 16,
      "outputs": [
        {
          "output_type": "execute_result",
          "data": {
            "text/plain": [
              "dtype('int64')"
            ]
          },
          "metadata": {},
          "execution_count": 16
        }
      ]
    },
    {
      "cell_type": "code",
      "source": [
        "ar = np.array([1,2,3,5.]) #ar[3]만 float임에도 불구하고 ar[0]도 float으로 나옴\n",
        "print(type(ar[0]))"
      ],
      "metadata": {
        "colab": {
          "base_uri": "https://localhost:8080/"
        },
        "id": "JyHPVZEU_EVi",
        "outputId": "c455eeac-35d5-4063-9550-c65b41aaa119"
      },
      "execution_count": 18,
      "outputs": [
        {
          "output_type": "stream",
          "name": "stdout",
          "text": [
            "<class 'numpy.float64'>\n"
          ]
        }
      ]
    },
    {
      "cell_type": "code",
      "source": [
        "ls = [1,2,3,5.]\n",
        "print(type(ls[0]))"
      ],
      "metadata": {
        "colab": {
          "base_uri": "https://localhost:8080/"
        },
        "id": "iM6eBftE_Unl",
        "outputId": "d0e453e3-cab4-46f0-d874-74d8e9801c3a"
      },
      "execution_count": 19,
      "outputs": [
        {
          "output_type": "stream",
          "name": "stdout",
          "text": [
            "<class 'int'>\n"
          ]
        }
      ]
    },
    {
      "cell_type": "code",
      "source": [
        "ar = np.random.randn(1000)\n",
        "ar.sum(), ar.mean(), np.median(ar), np.quantile(ar,0.25)"
      ],
      "metadata": {
        "colab": {
          "base_uri": "https://localhost:8080/"
        },
        "id": "nyUeu96L_nGp",
        "outputId": "2572975b-90e1-4495-97e6-310d9559b93e"
      },
      "execution_count": 21,
      "outputs": [
        {
          "output_type": "execute_result",
          "data": {
            "text/plain": [
              "(-28.34274905138123,\n",
              " -0.02834274905138123,\n",
              " -0.013421926956800077,\n",
              " -0.7493681695909326)"
            ]
          },
          "metadata": {},
          "execution_count": 21
        }
      ]
    },
    {
      "cell_type": "code",
      "source": [
        "ar1 = [1,2,3,4]\n",
        "ar2 = [4,5,6,7]\n",
        "cv = np.cov(ar1,ar2)\n",
        "print(cv[0,0]) #ar1 과 ar1사이의 공분산\n",
        "print(cv[0,1]) #ar1 과 ar2사이의 공분산\n",
        "print(cv[1,0]) #ar2 과 ar1사이의 공분산\n",
        "print(cv[1,1]) #ar2 과 ar2사이의 공분산"
      ],
      "metadata": {
        "colab": {
          "base_uri": "https://localhost:8080/"
        },
        "id": "zrlPwdAQAcI0",
        "outputId": "c3864a1b-0c99-4a3b-839c-de5b7a7a04d9"
      },
      "execution_count": 23,
      "outputs": [
        {
          "output_type": "stream",
          "name": "stdout",
          "text": [
            "1.6666666666666665\n",
            "1.6666666666666665\n",
            "1.6666666666666665\n",
            "1.6666666666666665\n"
          ]
        }
      ]
    },
    {
      "cell_type": "code",
      "source": [
        "cv[0,1]/(np.std(ar1)*np.std(ar2)) #상관계수"
      ],
      "metadata": {
        "colab": {
          "base_uri": "https://localhost:8080/"
        },
        "id": "v0lMw06NA6_D",
        "outputId": "25252df5-5768-49c5-9f16-4dd364f13bba"
      },
      "execution_count": 25,
      "outputs": [
        {
          "output_type": "execute_result",
          "data": {
            "text/plain": [
              "1.333333333333333"
            ]
          },
          "metadata": {},
          "execution_count": 25
        }
      ]
    },
    {
      "cell_type": "code",
      "source": [
        "import pandas as pd"
      ],
      "metadata": {
        "id": "vQULVPNWBaiR"
      },
      "execution_count": 26,
      "outputs": []
    },
    {
      "cell_type": "code",
      "source": [
        "df = pd.read_csv('/content/sample_data/california_housing_train.csv')"
      ],
      "metadata": {
        "id": "FzqrIucVBgy7"
      },
      "execution_count": 31,
      "outputs": []
    },
    {
      "cell_type": "code",
      "source": [
        "df.info()"
      ],
      "metadata": {
        "colab": {
          "base_uri": "https://localhost:8080/"
        },
        "id": "Yq7bOQ3SB7sy",
        "outputId": "d34d10ab-45bf-4705-f60c-71322957a7a1"
      },
      "execution_count": 32,
      "outputs": [
        {
          "output_type": "stream",
          "name": "stdout",
          "text": [
            "<class 'pandas.core.frame.DataFrame'>\n",
            "RangeIndex: 17000 entries, 0 to 16999\n",
            "Data columns (total 9 columns):\n",
            " #   Column              Non-Null Count  Dtype  \n",
            "---  ------              --------------  -----  \n",
            " 0   longitude           17000 non-null  float64\n",
            " 1   latitude            17000 non-null  float64\n",
            " 2   housing_median_age  17000 non-null  float64\n",
            " 3   total_rooms         17000 non-null  float64\n",
            " 4   total_bedrooms      17000 non-null  float64\n",
            " 5   population          17000 non-null  float64\n",
            " 6   households          17000 non-null  float64\n",
            " 7   median_income       17000 non-null  float64\n",
            " 8   median_house_value  17000 non-null  float64\n",
            "dtypes: float64(9)\n",
            "memory usage: 1.2 MB\n"
          ]
        }
      ]
    },
    {
      "cell_type": "code",
      "source": [
        "df.describe()"
      ],
      "metadata": {
        "colab": {
          "base_uri": "https://localhost:8080/",
          "height": 300
        },
        "id": "-UkfSSInCI7l",
        "outputId": "3c7ded52-a3df-47d2-885e-2b7aec945e71"
      },
      "execution_count": 33,
      "outputs": [
        {
          "output_type": "execute_result",
          "data": {
            "text/plain": [
              "          longitude      latitude  housing_median_age   total_rooms  \\\n",
              "count  17000.000000  17000.000000        17000.000000  17000.000000   \n",
              "mean    -119.562108     35.625225           28.589353   2643.664412   \n",
              "std        2.005166      2.137340           12.586937   2179.947071   \n",
              "min     -124.350000     32.540000            1.000000      2.000000   \n",
              "25%     -121.790000     33.930000           18.000000   1462.000000   \n",
              "50%     -118.490000     34.250000           29.000000   2127.000000   \n",
              "75%     -118.000000     37.720000           37.000000   3151.250000   \n",
              "max     -114.310000     41.950000           52.000000  37937.000000   \n",
              "\n",
              "       total_bedrooms    population    households  median_income  \\\n",
              "count    17000.000000  17000.000000  17000.000000   17000.000000   \n",
              "mean       539.410824   1429.573941    501.221941       3.883578   \n",
              "std        421.499452   1147.852959    384.520841       1.908157   \n",
              "min          1.000000      3.000000      1.000000       0.499900   \n",
              "25%        297.000000    790.000000    282.000000       2.566375   \n",
              "50%        434.000000   1167.000000    409.000000       3.544600   \n",
              "75%        648.250000   1721.000000    605.250000       4.767000   \n",
              "max       6445.000000  35682.000000   6082.000000      15.000100   \n",
              "\n",
              "       median_house_value  \n",
              "count        17000.000000  \n",
              "mean        207300.912353  \n",
              "std         115983.764387  \n",
              "min          14999.000000  \n",
              "25%         119400.000000  \n",
              "50%         180400.000000  \n",
              "75%         265000.000000  \n",
              "max         500001.000000  "
            ],
            "text/html": [
              "\n",
              "  <div id=\"df-af1d72db-2356-4628-8e97-9df84b183276\">\n",
              "    <div class=\"colab-df-container\">\n",
              "      <div>\n",
              "<style scoped>\n",
              "    .dataframe tbody tr th:only-of-type {\n",
              "        vertical-align: middle;\n",
              "    }\n",
              "\n",
              "    .dataframe tbody tr th {\n",
              "        vertical-align: top;\n",
              "    }\n",
              "\n",
              "    .dataframe thead th {\n",
              "        text-align: right;\n",
              "    }\n",
              "</style>\n",
              "<table border=\"1\" class=\"dataframe\">\n",
              "  <thead>\n",
              "    <tr style=\"text-align: right;\">\n",
              "      <th></th>\n",
              "      <th>longitude</th>\n",
              "      <th>latitude</th>\n",
              "      <th>housing_median_age</th>\n",
              "      <th>total_rooms</th>\n",
              "      <th>total_bedrooms</th>\n",
              "      <th>population</th>\n",
              "      <th>households</th>\n",
              "      <th>median_income</th>\n",
              "      <th>median_house_value</th>\n",
              "    </tr>\n",
              "  </thead>\n",
              "  <tbody>\n",
              "    <tr>\n",
              "      <th>count</th>\n",
              "      <td>17000.000000</td>\n",
              "      <td>17000.000000</td>\n",
              "      <td>17000.000000</td>\n",
              "      <td>17000.000000</td>\n",
              "      <td>17000.000000</td>\n",
              "      <td>17000.000000</td>\n",
              "      <td>17000.000000</td>\n",
              "      <td>17000.000000</td>\n",
              "      <td>17000.000000</td>\n",
              "    </tr>\n",
              "    <tr>\n",
              "      <th>mean</th>\n",
              "      <td>-119.562108</td>\n",
              "      <td>35.625225</td>\n",
              "      <td>28.589353</td>\n",
              "      <td>2643.664412</td>\n",
              "      <td>539.410824</td>\n",
              "      <td>1429.573941</td>\n",
              "      <td>501.221941</td>\n",
              "      <td>3.883578</td>\n",
              "      <td>207300.912353</td>\n",
              "    </tr>\n",
              "    <tr>\n",
              "      <th>std</th>\n",
              "      <td>2.005166</td>\n",
              "      <td>2.137340</td>\n",
              "      <td>12.586937</td>\n",
              "      <td>2179.947071</td>\n",
              "      <td>421.499452</td>\n",
              "      <td>1147.852959</td>\n",
              "      <td>384.520841</td>\n",
              "      <td>1.908157</td>\n",
              "      <td>115983.764387</td>\n",
              "    </tr>\n",
              "    <tr>\n",
              "      <th>min</th>\n",
              "      <td>-124.350000</td>\n",
              "      <td>32.540000</td>\n",
              "      <td>1.000000</td>\n",
              "      <td>2.000000</td>\n",
              "      <td>1.000000</td>\n",
              "      <td>3.000000</td>\n",
              "      <td>1.000000</td>\n",
              "      <td>0.499900</td>\n",
              "      <td>14999.000000</td>\n",
              "    </tr>\n",
              "    <tr>\n",
              "      <th>25%</th>\n",
              "      <td>-121.790000</td>\n",
              "      <td>33.930000</td>\n",
              "      <td>18.000000</td>\n",
              "      <td>1462.000000</td>\n",
              "      <td>297.000000</td>\n",
              "      <td>790.000000</td>\n",
              "      <td>282.000000</td>\n",
              "      <td>2.566375</td>\n",
              "      <td>119400.000000</td>\n",
              "    </tr>\n",
              "    <tr>\n",
              "      <th>50%</th>\n",
              "      <td>-118.490000</td>\n",
              "      <td>34.250000</td>\n",
              "      <td>29.000000</td>\n",
              "      <td>2127.000000</td>\n",
              "      <td>434.000000</td>\n",
              "      <td>1167.000000</td>\n",
              "      <td>409.000000</td>\n",
              "      <td>3.544600</td>\n",
              "      <td>180400.000000</td>\n",
              "    </tr>\n",
              "    <tr>\n",
              "      <th>75%</th>\n",
              "      <td>-118.000000</td>\n",
              "      <td>37.720000</td>\n",
              "      <td>37.000000</td>\n",
              "      <td>3151.250000</td>\n",
              "      <td>648.250000</td>\n",
              "      <td>1721.000000</td>\n",
              "      <td>605.250000</td>\n",
              "      <td>4.767000</td>\n",
              "      <td>265000.000000</td>\n",
              "    </tr>\n",
              "    <tr>\n",
              "      <th>max</th>\n",
              "      <td>-114.310000</td>\n",
              "      <td>41.950000</td>\n",
              "      <td>52.000000</td>\n",
              "      <td>37937.000000</td>\n",
              "      <td>6445.000000</td>\n",
              "      <td>35682.000000</td>\n",
              "      <td>6082.000000</td>\n",
              "      <td>15.000100</td>\n",
              "      <td>500001.000000</td>\n",
              "    </tr>\n",
              "  </tbody>\n",
              "</table>\n",
              "</div>\n",
              "      <button class=\"colab-df-convert\" onclick=\"convertToInteractive('df-af1d72db-2356-4628-8e97-9df84b183276')\"\n",
              "              title=\"Convert this dataframe to an interactive table.\"\n",
              "              style=\"display:none;\">\n",
              "        \n",
              "  <svg xmlns=\"http://www.w3.org/2000/svg\" height=\"24px\"viewBox=\"0 0 24 24\"\n",
              "       width=\"24px\">\n",
              "    <path d=\"M0 0h24v24H0V0z\" fill=\"none\"/>\n",
              "    <path d=\"M18.56 5.44l.94 2.06.94-2.06 2.06-.94-2.06-.94-.94-2.06-.94 2.06-2.06.94zm-11 1L8.5 8.5l.94-2.06 2.06-.94-2.06-.94L8.5 2.5l-.94 2.06-2.06.94zm10 10l.94 2.06.94-2.06 2.06-.94-2.06-.94-.94-2.06-.94 2.06-2.06.94z\"/><path d=\"M17.41 7.96l-1.37-1.37c-.4-.4-.92-.59-1.43-.59-.52 0-1.04.2-1.43.59L10.3 9.45l-7.72 7.72c-.78.78-.78 2.05 0 2.83L4 21.41c.39.39.9.59 1.41.59.51 0 1.02-.2 1.41-.59l7.78-7.78 2.81-2.81c.8-.78.8-2.07 0-2.86zM5.41 20L4 18.59l7.72-7.72 1.47 1.35L5.41 20z\"/>\n",
              "  </svg>\n",
              "      </button>\n",
              "      \n",
              "  <style>\n",
              "    .colab-df-container {\n",
              "      display:flex;\n",
              "      flex-wrap:wrap;\n",
              "      gap: 12px;\n",
              "    }\n",
              "\n",
              "    .colab-df-convert {\n",
              "      background-color: #E8F0FE;\n",
              "      border: none;\n",
              "      border-radius: 50%;\n",
              "      cursor: pointer;\n",
              "      display: none;\n",
              "      fill: #1967D2;\n",
              "      height: 32px;\n",
              "      padding: 0 0 0 0;\n",
              "      width: 32px;\n",
              "    }\n",
              "\n",
              "    .colab-df-convert:hover {\n",
              "      background-color: #E2EBFA;\n",
              "      box-shadow: 0px 1px 2px rgba(60, 64, 67, 0.3), 0px 1px 3px 1px rgba(60, 64, 67, 0.15);\n",
              "      fill: #174EA6;\n",
              "    }\n",
              "\n",
              "    [theme=dark] .colab-df-convert {\n",
              "      background-color: #3B4455;\n",
              "      fill: #D2E3FC;\n",
              "    }\n",
              "\n",
              "    [theme=dark] .colab-df-convert:hover {\n",
              "      background-color: #434B5C;\n",
              "      box-shadow: 0px 1px 3px 1px rgba(0, 0, 0, 0.15);\n",
              "      filter: drop-shadow(0px 1px 2px rgba(0, 0, 0, 0.3));\n",
              "      fill: #FFFFFF;\n",
              "    }\n",
              "  </style>\n",
              "\n",
              "      <script>\n",
              "        const buttonEl =\n",
              "          document.querySelector('#df-af1d72db-2356-4628-8e97-9df84b183276 button.colab-df-convert');\n",
              "        buttonEl.style.display =\n",
              "          google.colab.kernel.accessAllowed ? 'block' : 'none';\n",
              "\n",
              "        async function convertToInteractive(key) {\n",
              "          const element = document.querySelector('#df-af1d72db-2356-4628-8e97-9df84b183276');\n",
              "          const dataTable =\n",
              "            await google.colab.kernel.invokeFunction('convertToInteractive',\n",
              "                                                     [key], {});\n",
              "          if (!dataTable) return;\n",
              "\n",
              "          const docLinkHtml = 'Like what you see? Visit the ' +\n",
              "            '<a target=\"_blank\" href=https://colab.research.google.com/notebooks/data_table.ipynb>data table notebook</a>'\n",
              "            + ' to learn more about interactive tables.';\n",
              "          element.innerHTML = '';\n",
              "          dataTable['output_type'] = 'display_data';\n",
              "          await google.colab.output.renderOutput(dataTable, element);\n",
              "          const docLink = document.createElement('div');\n",
              "          docLink.innerHTML = docLinkHtml;\n",
              "          element.appendChild(docLink);\n",
              "        }\n",
              "      </script>\n",
              "    </div>\n",
              "  </div>\n",
              "  "
            ]
          },
          "metadata": {},
          "execution_count": 33
        }
      ]
    },
    {
      "cell_type": "code",
      "source": [
        "ar1 = np.array([1,2,3,-4,5,-2])\n",
        "filter = ar1>=0\n",
        "far = ar1[filter]\n",
        "far"
      ],
      "metadata": {
        "colab": {
          "base_uri": "https://localhost:8080/"
        },
        "id": "dkYXxk5pCVmW",
        "outputId": "bcc8b758-4c0e-415c-9f19-4ab004bec972"
      },
      "execution_count": 36,
      "outputs": [
        {
          "output_type": "execute_result",
          "data": {
            "text/plain": [
              "array([1, 2, 3, 5])"
            ]
          },
          "metadata": {},
          "execution_count": 36
        }
      ]
    },
    {
      "cell_type": "code",
      "source": [
        "temp = ar1>= 0 #먼저 확인을 한 후에 filter에 넣어보기\n",
        "temp"
      ],
      "metadata": {
        "colab": {
          "base_uri": "https://localhost:8080/"
        },
        "id": "_DVYcZnoC3k5",
        "outputId": "cd06a2cd-bbdc-4747-c890-cc60b9575b13"
      },
      "execution_count": 37,
      "outputs": [
        {
          "output_type": "execute_result",
          "data": {
            "text/plain": [
              "array([ True,  True,  True, False,  True, False])"
            ]
          },
          "metadata": {},
          "execution_count": 37
        }
      ]
    },
    {
      "cell_type": "code",
      "source": [
        "far = ar1[temp]\n",
        "far"
      ],
      "metadata": {
        "colab": {
          "base_uri": "https://localhost:8080/"
        },
        "id": "qpBP0kJKC_Ei",
        "outputId": "d5eb6453-f4ef-4976-c263-1b5cc623b7e4"
      },
      "execution_count": 38,
      "outputs": [
        {
          "output_type": "execute_result",
          "data": {
            "text/plain": [
              "array([1, 2, 3, 5])"
            ]
          },
          "metadata": {},
          "execution_count": 38
        }
      ]
    },
    {
      "cell_type": "code",
      "source": [
        "l_temp = df[['longitude', 'latitude']]\n",
        "print(type(l_temp))\n",
        "l_temp"
      ],
      "metadata": {
        "colab": {
          "base_uri": "https://localhost:8080/",
          "height": 442
        },
        "id": "mrhlkf2PDjrR",
        "outputId": "a31f0170-6856-4549-d805-f5a918a42369"
      },
      "execution_count": 43,
      "outputs": [
        {
          "output_type": "stream",
          "name": "stdout",
          "text": [
            "<class 'pandas.core.frame.DataFrame'>\n"
          ]
        },
        {
          "output_type": "execute_result",
          "data": {
            "text/plain": [
              "       longitude  latitude\n",
              "0        -114.31     34.19\n",
              "1        -114.47     34.40\n",
              "2        -114.56     33.69\n",
              "3        -114.57     33.64\n",
              "4        -114.57     33.57\n",
              "...          ...       ...\n",
              "16995    -124.26     40.58\n",
              "16996    -124.27     40.69\n",
              "16997    -124.30     41.84\n",
              "16998    -124.30     41.80\n",
              "16999    -124.35     40.54\n",
              "\n",
              "[17000 rows x 2 columns]"
            ],
            "text/html": [
              "\n",
              "  <div id=\"df-35341652-da43-4bf3-9950-6408106f8f4f\">\n",
              "    <div class=\"colab-df-container\">\n",
              "      <div>\n",
              "<style scoped>\n",
              "    .dataframe tbody tr th:only-of-type {\n",
              "        vertical-align: middle;\n",
              "    }\n",
              "\n",
              "    .dataframe tbody tr th {\n",
              "        vertical-align: top;\n",
              "    }\n",
              "\n",
              "    .dataframe thead th {\n",
              "        text-align: right;\n",
              "    }\n",
              "</style>\n",
              "<table border=\"1\" class=\"dataframe\">\n",
              "  <thead>\n",
              "    <tr style=\"text-align: right;\">\n",
              "      <th></th>\n",
              "      <th>longitude</th>\n",
              "      <th>latitude</th>\n",
              "    </tr>\n",
              "  </thead>\n",
              "  <tbody>\n",
              "    <tr>\n",
              "      <th>0</th>\n",
              "      <td>-114.31</td>\n",
              "      <td>34.19</td>\n",
              "    </tr>\n",
              "    <tr>\n",
              "      <th>1</th>\n",
              "      <td>-114.47</td>\n",
              "      <td>34.40</td>\n",
              "    </tr>\n",
              "    <tr>\n",
              "      <th>2</th>\n",
              "      <td>-114.56</td>\n",
              "      <td>33.69</td>\n",
              "    </tr>\n",
              "    <tr>\n",
              "      <th>3</th>\n",
              "      <td>-114.57</td>\n",
              "      <td>33.64</td>\n",
              "    </tr>\n",
              "    <tr>\n",
              "      <th>4</th>\n",
              "      <td>-114.57</td>\n",
              "      <td>33.57</td>\n",
              "    </tr>\n",
              "    <tr>\n",
              "      <th>...</th>\n",
              "      <td>...</td>\n",
              "      <td>...</td>\n",
              "    </tr>\n",
              "    <tr>\n",
              "      <th>16995</th>\n",
              "      <td>-124.26</td>\n",
              "      <td>40.58</td>\n",
              "    </tr>\n",
              "    <tr>\n",
              "      <th>16996</th>\n",
              "      <td>-124.27</td>\n",
              "      <td>40.69</td>\n",
              "    </tr>\n",
              "    <tr>\n",
              "      <th>16997</th>\n",
              "      <td>-124.30</td>\n",
              "      <td>41.84</td>\n",
              "    </tr>\n",
              "    <tr>\n",
              "      <th>16998</th>\n",
              "      <td>-124.30</td>\n",
              "      <td>41.80</td>\n",
              "    </tr>\n",
              "    <tr>\n",
              "      <th>16999</th>\n",
              "      <td>-124.35</td>\n",
              "      <td>40.54</td>\n",
              "    </tr>\n",
              "  </tbody>\n",
              "</table>\n",
              "<p>17000 rows × 2 columns</p>\n",
              "</div>\n",
              "      <button class=\"colab-df-convert\" onclick=\"convertToInteractive('df-35341652-da43-4bf3-9950-6408106f8f4f')\"\n",
              "              title=\"Convert this dataframe to an interactive table.\"\n",
              "              style=\"display:none;\">\n",
              "        \n",
              "  <svg xmlns=\"http://www.w3.org/2000/svg\" height=\"24px\"viewBox=\"0 0 24 24\"\n",
              "       width=\"24px\">\n",
              "    <path d=\"M0 0h24v24H0V0z\" fill=\"none\"/>\n",
              "    <path d=\"M18.56 5.44l.94 2.06.94-2.06 2.06-.94-2.06-.94-.94-2.06-.94 2.06-2.06.94zm-11 1L8.5 8.5l.94-2.06 2.06-.94-2.06-.94L8.5 2.5l-.94 2.06-2.06.94zm10 10l.94 2.06.94-2.06 2.06-.94-2.06-.94-.94-2.06-.94 2.06-2.06.94z\"/><path d=\"M17.41 7.96l-1.37-1.37c-.4-.4-.92-.59-1.43-.59-.52 0-1.04.2-1.43.59L10.3 9.45l-7.72 7.72c-.78.78-.78 2.05 0 2.83L4 21.41c.39.39.9.59 1.41.59.51 0 1.02-.2 1.41-.59l7.78-7.78 2.81-2.81c.8-.78.8-2.07 0-2.86zM5.41 20L4 18.59l7.72-7.72 1.47 1.35L5.41 20z\"/>\n",
              "  </svg>\n",
              "      </button>\n",
              "      \n",
              "  <style>\n",
              "    .colab-df-container {\n",
              "      display:flex;\n",
              "      flex-wrap:wrap;\n",
              "      gap: 12px;\n",
              "    }\n",
              "\n",
              "    .colab-df-convert {\n",
              "      background-color: #E8F0FE;\n",
              "      border: none;\n",
              "      border-radius: 50%;\n",
              "      cursor: pointer;\n",
              "      display: none;\n",
              "      fill: #1967D2;\n",
              "      height: 32px;\n",
              "      padding: 0 0 0 0;\n",
              "      width: 32px;\n",
              "    }\n",
              "\n",
              "    .colab-df-convert:hover {\n",
              "      background-color: #E2EBFA;\n",
              "      box-shadow: 0px 1px 2px rgba(60, 64, 67, 0.3), 0px 1px 3px 1px rgba(60, 64, 67, 0.15);\n",
              "      fill: #174EA6;\n",
              "    }\n",
              "\n",
              "    [theme=dark] .colab-df-convert {\n",
              "      background-color: #3B4455;\n",
              "      fill: #D2E3FC;\n",
              "    }\n",
              "\n",
              "    [theme=dark] .colab-df-convert:hover {\n",
              "      background-color: #434B5C;\n",
              "      box-shadow: 0px 1px 3px 1px rgba(0, 0, 0, 0.15);\n",
              "      filter: drop-shadow(0px 1px 2px rgba(0, 0, 0, 0.3));\n",
              "      fill: #FFFFFF;\n",
              "    }\n",
              "  </style>\n",
              "\n",
              "      <script>\n",
              "        const buttonEl =\n",
              "          document.querySelector('#df-35341652-da43-4bf3-9950-6408106f8f4f button.colab-df-convert');\n",
              "        buttonEl.style.display =\n",
              "          google.colab.kernel.accessAllowed ? 'block' : 'none';\n",
              "\n",
              "        async function convertToInteractive(key) {\n",
              "          const element = document.querySelector('#df-35341652-da43-4bf3-9950-6408106f8f4f');\n",
              "          const dataTable =\n",
              "            await google.colab.kernel.invokeFunction('convertToInteractive',\n",
              "                                                     [key], {});\n",
              "          if (!dataTable) return;\n",
              "\n",
              "          const docLinkHtml = 'Like what you see? Visit the ' +\n",
              "            '<a target=\"_blank\" href=https://colab.research.google.com/notebooks/data_table.ipynb>data table notebook</a>'\n",
              "            + ' to learn more about interactive tables.';\n",
              "          element.innerHTML = '';\n",
              "          dataTable['output_type'] = 'display_data';\n",
              "          await google.colab.output.renderOutput(dataTable, element);\n",
              "          const docLink = document.createElement('div');\n",
              "          docLink.innerHTML = docLinkHtml;\n",
              "          element.appendChild(docLink);\n",
              "        }\n",
              "      </script>\n",
              "    </div>\n",
              "  </div>\n",
              "  "
            ]
          },
          "metadata": {},
          "execution_count": 43
        }
      ]
    },
    {
      "cell_type": "code",
      "source": [
        "l_arr = l_temp.to_numpy()\n",
        "print(type(l_arr))\n",
        "l_arr"
      ],
      "metadata": {
        "colab": {
          "base_uri": "https://localhost:8080/"
        },
        "id": "GH_xuvT7Dwt7",
        "outputId": "c779e9df-918c-4f4a-8fdd-3d545128f735"
      },
      "execution_count": 44,
      "outputs": [
        {
          "output_type": "stream",
          "name": "stdout",
          "text": [
            "<class 'numpy.ndarray'>\n"
          ]
        },
        {
          "output_type": "execute_result",
          "data": {
            "text/plain": [
              "array([[-114.31,   34.19],\n",
              "       [-114.47,   34.4 ],\n",
              "       [-114.56,   33.69],\n",
              "       ...,\n",
              "       [-124.3 ,   41.84],\n",
              "       [-124.3 ,   41.8 ],\n",
              "       [-124.35,   40.54]])"
            ]
          },
          "metadata": {},
          "execution_count": 44
        }
      ]
    },
    {
      "cell_type": "code",
      "source": [
        "ls = l_arr.tolist()\n",
        "print(type(ls))\n",
        "ls"
      ],
      "metadata": {
        "colab": {
          "base_uri": "https://localhost:8080/"
        },
        "id": "fVP7n7wlEfBN",
        "outputId": "f01160ff-9e0a-4dc6-f58f-30c6d2f9c6e9"
      },
      "execution_count": 45,
      "outputs": [
        {
          "output_type": "stream",
          "name": "stdout",
          "text": [
            "<class 'list'>\n"
          ]
        },
        {
          "output_type": "execute_result",
          "data": {
            "text/plain": [
              "[[-114.31, 34.19],\n",
              " [-114.47, 34.4],\n",
              " [-114.56, 33.69],\n",
              " [-114.57, 33.64],\n",
              " [-114.57, 33.57],\n",
              " [-114.58, 33.63],\n",
              " [-114.58, 33.61],\n",
              " [-114.59, 34.83],\n",
              " [-114.59, 33.61],\n",
              " [-114.6, 34.83],\n",
              " [-114.6, 33.62],\n",
              " [-114.6, 33.6],\n",
              " [-114.61, 34.84],\n",
              " [-114.61, 34.83],\n",
              " [-114.63, 32.76],\n",
              " [-114.65, 34.89],\n",
              " [-114.65, 33.6],\n",
              " [-114.65, 32.79],\n",
              " [-114.66, 32.74],\n",
              " [-114.67, 33.92],\n",
              " [-114.68, 33.49],\n",
              " [-114.73, 33.43],\n",
              " [-114.94, 34.55],\n",
              " [-114.98, 33.82],\n",
              " [-115.22, 33.54],\n",
              " [-115.32, 32.82],\n",
              " [-115.37, 32.82],\n",
              " [-115.37, 32.82],\n",
              " [-115.37, 32.81],\n",
              " [-115.37, 32.81],\n",
              " [-115.38, 32.82],\n",
              " [-115.38, 32.81],\n",
              " [-115.39, 32.76],\n",
              " [-115.4, 32.86],\n",
              " [-115.4, 32.7],\n",
              " [-115.41, 32.99],\n",
              " [-115.46, 33.19],\n",
              " [-115.48, 32.8],\n",
              " [-115.48, 32.68],\n",
              " [-115.49, 32.87],\n",
              " [-115.49, 32.69],\n",
              " [-115.49, 32.67],\n",
              " [-115.49, 32.67],\n",
              " [-115.5, 32.75],\n",
              " [-115.5, 32.68],\n",
              " [-115.5, 32.67],\n",
              " [-115.51, 33.24],\n",
              " [-115.51, 33.12],\n",
              " [-115.51, 32.99],\n",
              " [-115.51, 32.68],\n",
              " [-115.52, 34.22],\n",
              " [-115.52, 33.13],\n",
              " [-115.52, 33.12],\n",
              " [-115.52, 32.98],\n",
              " [-115.52, 32.97],\n",
              " [-115.52, 32.97],\n",
              " [-115.52, 32.77],\n",
              " [-115.52, 32.73],\n",
              " [-115.52, 32.67],\n",
              " [-115.53, 34.91],\n",
              " [-115.53, 32.99],\n",
              " [-115.53, 32.97],\n",
              " [-115.53, 32.97],\n",
              " [-115.53, 32.73],\n",
              " [-115.54, 32.99],\n",
              " [-115.54, 32.99],\n",
              " [-115.54, 32.98],\n",
              " [-115.54, 32.97],\n",
              " [-115.54, 32.79],\n",
              " [-115.55, 32.98],\n",
              " [-115.55, 32.98],\n",
              " [-115.55, 32.82],\n",
              " [-115.55, 32.8],\n",
              " [-115.55, 32.79],\n",
              " [-115.55, 32.79],\n",
              " [-115.55, 32.78],\n",
              " [-115.56, 32.96],\n",
              " [-115.56, 32.8],\n",
              " [-115.56, 32.8],\n",
              " [-115.56, 32.8],\n",
              " [-115.56, 32.79],\n",
              " [-115.56, 32.79],\n",
              " [-115.56, 32.78],\n",
              " [-115.56, 32.78],\n",
              " [-115.56, 32.78],\n",
              " [-115.56, 32.76],\n",
              " [-115.57, 32.85],\n",
              " [-115.57, 32.85],\n",
              " [-115.57, 32.84],\n",
              " [-115.57, 32.83],\n",
              " [-115.57, 32.8],\n",
              " [-115.57, 32.79],\n",
              " [-115.57, 32.78],\n",
              " [-115.57, 32.78],\n",
              " [-115.58, 33.88],\n",
              " [-115.58, 32.81],\n",
              " [-115.58, 32.81],\n",
              " [-115.58, 32.79],\n",
              " [-115.58, 32.78],\n",
              " [-115.59, 32.85],\n",
              " [-115.59, 32.79],\n",
              " [-115.59, 32.69],\n",
              " [-115.6, 33.2],\n",
              " [-115.6, 32.87],\n",
              " [-115.62, 33.04],\n",
              " [-115.62, 33.04],\n",
              " [-115.64, 32.8],\n",
              " [-115.69, 32.79],\n",
              " [-115.72, 32.75],\n",
              " [-115.73, 33.36],\n",
              " [-115.73, 33.35],\n",
              " [-115.73, 33.09],\n",
              " [-115.73, 32.8],\n",
              " [-115.8, 33.26],\n",
              " [-115.84, 33.49],\n",
              " [-115.85, 34.2],\n",
              " [-115.88, 32.93],\n",
              " [-115.9, 33.34],\n",
              " [-115.91, 33.36],\n",
              " [-115.93, 35.55],\n",
              " [-115.94, 33.38],\n",
              " [-115.95, 33.28],\n",
              " [-115.96, 33.3],\n",
              " [-115.98, 33.32],\n",
              " [-115.99, 33.4],\n",
              " [-116.0, 33.19],\n",
              " [-116.0, 32.74],\n",
              " [-116.01, 33.51],\n",
              " [-116.01, 33.41],\n",
              " [-116.02, 34.18],\n",
              " [-116.05, 34.12],\n",
              " [-116.05, 33.33],\n",
              " [-116.06, 34.2],\n",
              " [-116.06, 34.15],\n",
              " [-116.08, 33.86],\n",
              " [-116.09, 34.15],\n",
              " [-116.11, 33.64],\n",
              " [-116.12, 33.53],\n",
              " [-116.14, 34.22],\n",
              " [-116.15, 34.14],\n",
              " [-116.15, 33.69],\n",
              " [-116.15, 33.64],\n",
              " [-116.16, 33.68],\n",
              " [-116.17, 33.67],\n",
              " [-116.17, 33.66],\n",
              " [-116.17, 33.53],\n",
              " [-116.18, 33.69],\n",
              " [-116.18, 33.67],\n",
              " [-116.19, 33.67],\n",
              " [-116.2, 33.7],\n",
              " [-116.2, 33.63],\n",
              " [-116.2, 32.64],\n",
              " [-116.21, 33.75],\n",
              " [-116.21, 33.72],\n",
              " [-116.21, 33.71],\n",
              " [-116.21, 33.68],\n",
              " [-116.21, 33.66],\n",
              " [-116.22, 36.0],\n",
              " [-116.22, 34.21],\n",
              " [-116.22, 33.74],\n",
              " [-116.22, 33.73],\n",
              " [-116.22, 33.72],\n",
              " [-116.22, 33.7],\n",
              " [-116.23, 33.73],\n",
              " [-116.23, 33.72],\n",
              " [-116.23, 33.71],\n",
              " [-116.24, 33.73],\n",
              " [-116.24, 33.72],\n",
              " [-116.24, 33.71],\n",
              " [-116.25, 33.81],\n",
              " [-116.25, 33.75],\n",
              " [-116.25, 33.69],\n",
              " [-116.26, 33.65],\n",
              " [-116.26, 33.07],\n",
              " [-116.27, 34.13],\n",
              " [-116.29, 33.74],\n",
              " [-116.29, 33.72],\n",
              " [-116.3, 33.68],\n",
              " [-116.31, 34.13],\n",
              " [-116.31, 33.67],\n",
              " [-116.31, 33.67],\n",
              " [-116.31, 33.66],\n",
              " [-116.32, 34.14],\n",
              " [-116.32, 34.1],\n",
              " [-116.32, 33.28],\n",
              " [-116.33, 34.15],\n",
              " [-116.33, 33.75],\n",
              " [-116.33, 33.72],\n",
              " [-116.34, 33.36],\n",
              " [-116.35, 34.13],\n",
              " [-116.35, 32.74],\n",
              " [-116.36, 33.88],\n",
              " [-116.37, 33.72],\n",
              " [-116.37, 33.69],\n",
              " [-116.37, 33.19],\n",
              " [-116.38, 34.2],\n",
              " [-116.38, 34.1],\n",
              " [-116.38, 33.74],\n",
              " [-116.38, 33.73],\n",
              " [-116.38, 33.71],\n",
              " [-116.39, 34.15],\n",
              " [-116.39, 33.82],\n",
              " [-116.39, 33.72],\n",
              " [-116.39, 33.69],\n",
              " [-116.4, 34.12],\n",
              " [-116.4, 34.09],\n",
              " [-116.4, 33.78],\n",
              " [-116.41, 33.74],\n",
              " [-116.41, 33.74],\n",
              " [-116.42, 33.79],\n",
              " [-116.42, 33.76],\n",
              " [-116.42, 33.68],\n",
              " [-116.42, 33.51],\n",
              " [-116.43, 34.1],\n",
              " [-116.43, 33.81],\n",
              " [-116.43, 33.75],\n",
              " [-116.44, 34.16],\n",
              " [-116.44, 34.12],\n",
              " [-116.44, 33.93],\n",
              " [-116.44, 33.77],\n",
              " [-116.44, 33.74],\n",
              " [-116.45, 33.8],\n",
              " [-116.45, 33.78],\n",
              " [-116.45, 32.65],\n",
              " [-116.46, 33.82],\n",
              " [-116.46, 33.78],\n",
              " [-116.47, 34.07],\n",
              " [-116.47, 33.94],\n",
              " [-116.47, 33.84],\n",
              " [-116.47, 33.81],\n",
              " [-116.47, 33.78],\n",
              " [-116.48, 33.94],\n",
              " [-116.48, 33.79],\n",
              " [-116.48, 33.61],\n",
              " [-116.49, 33.82],\n",
              " [-116.49, 33.8],\n",
              " [-116.5, 33.98],\n",
              " [-116.5, 33.95],\n",
              " [-116.5, 33.82],\n",
              " [-116.5, 33.81],\n",
              " [-116.5, 33.69],\n",
              " [-116.51, 34.85],\n",
              " [-116.51, 34.45],\n",
              " [-116.51, 33.96],\n",
              " [-116.51, 33.94],\n",
              " [-116.51, 33.89],\n",
              " [-116.52, 33.97],\n",
              " [-116.52, 33.85],\n",
              " [-116.52, 33.84],\n",
              " [-116.52, 33.82],\n",
              " [-116.52, 32.9],\n",
              " [-116.53, 33.95],\n",
              " [-116.53, 33.88],\n",
              " [-116.53, 33.85],\n",
              " [-116.53, 33.84],\n",
              " [-116.53, 33.78],\n",
              " [-116.54, 33.81],\n",
              " [-116.54, 33.81],\n",
              " [-116.54, 33.8],\n",
              " [-116.54, 33.79],\n",
              " [-116.55, 33.84],\n",
              " [-116.56, 34.06],\n",
              " [-116.56, 33.83],\n",
              " [-116.56, 33.05],\n",
              " [-116.57, 35.43],\n",
              " [-116.57, 34.0],\n",
              " [-116.57, 33.94],\n",
              " [-116.57, 33.84],\n",
              " [-116.57, 33.64],\n",
              " [-116.58, 32.69],\n",
              " [-116.6, 33.49],\n",
              " [-116.6, 33.06],\n",
              " [-116.61, 33.04],\n",
              " [-116.62, 34.23],\n",
              " [-116.62, 32.86],\n",
              " [-116.66, 32.79],\n",
              " [-116.67, 32.97],\n",
              " [-116.68, 33.71],\n",
              " [-116.68, 33.16],\n",
              " [-116.71, 33.94],\n",
              " [-116.72, 34.89],\n",
              " [-116.72, 33.56],\n",
              " [-116.74, 33.62],\n",
              " [-116.74, 33.33],\n",
              " [-116.75, 33.83],\n",
              " [-116.75, 32.85],\n",
              " [-116.75, 32.82],\n",
              " [-116.76, 34.29],\n",
              " [-116.76, 34.14],\n",
              " [-116.76, 33.46],\n",
              " [-116.76, 32.84],\n",
              " [-116.76, 32.74],\n",
              " [-116.77, 33.92],\n",
              " [-116.78, 33.0],\n",
              " [-116.79, 33.99],\n",
              " [-116.79, 32.84],\n",
              " [-116.79, 32.61],\n",
              " [-116.8, 33.8],\n",
              " [-116.8, 32.8],\n",
              " [-116.82, 34.24],\n",
              " [-116.83, 34.25],\n",
              " [-116.83, 32.83],\n",
              " [-116.84, 33.01],\n",
              " [-116.84, 32.92],\n",
              " [-116.84, 32.86],\n",
              " [-116.85, 34.98],\n",
              " [-116.85, 34.25],\n",
              " [-116.85, 32.83],\n",
              " [-116.86, 34.23],\n",
              " [-116.86, 33.97],\n",
              " [-116.86, 33.84],\n",
              " [-116.86, 33.73],\n",
              " [-116.86, 33.05],\n",
              " [-116.86, 33.02],\n",
              " [-116.86, 32.87],\n",
              " [-116.86, 32.8],\n",
              " [-116.87, 33.94],\n",
              " [-116.87, 33.93],\n",
              " [-116.87, 33.76],\n",
              " [-116.87, 33.57],\n",
              " [-116.87, 32.75],\n",
              " [-116.87, 32.72],\n",
              " [-116.88, 34.25],\n",
              " [-116.88, 34.24],\n",
              " [-116.88, 34.19],\n",
              " [-116.88, 34.08],\n",
              " [-116.88, 33.93],\n",
              " [-116.88, 33.74],\n",
              " [-116.88, 33.05],\n",
              " [-116.88, 33.02],\n",
              " [-116.88, 32.86],\n",
              " [-116.89, 33.93],\n",
              " [-116.89, 33.92],\n",
              " [-116.89, 33.86],\n",
              " [-116.89, 33.75],\n",
              " [-116.89, 33.48],\n",
              " [-116.89, 32.99],\n",
              " [-116.89, 32.85],\n",
              " [-116.89, 32.85],\n",
              " [-116.89, 32.67],\n",
              " [-116.9, 34.69],\n",
              " [-116.9, 34.52],\n",
              " [-116.9, 34.25],\n",
              " [-116.9, 33.98],\n",
              " [-116.9, 33.93],\n",
              " [-116.9, 33.74],\n",
              " [-116.9, 33.65],\n",
              " [-116.9, 33.22],\n",
              " [-116.9, 33.03],\n",
              " [-116.9, 32.9],\n",
              " [-116.9, 32.84],\n",
              " [-116.9, 32.84],\n",
              " [-116.9, 32.79],\n",
              " [-116.9, 32.77],\n",
              " [-116.91, 34.0],\n",
              " [-116.91, 33.75],\n",
              " [-116.91, 33.71],\n",
              " [-116.91, 32.87],\n",
              " [-116.91, 32.86],\n",
              " [-116.91, 32.86],\n",
              " [-116.91, 32.85],\n",
              " [-116.91, 32.83],\n",
              " [-116.91, 32.82],\n",
              " [-116.91, 32.81],\n",
              " [-116.91, 32.8],\n",
              " [-116.91, 32.78],\n",
              " [-116.91, 32.73],\n",
              " [-116.92, 33.63],\n",
              " [-116.92, 32.85],\n",
              " [-116.92, 32.84],\n",
              " [-116.92, 32.82],\n",
              " [-116.92, 32.82],\n",
              " [-116.92, 32.82],\n",
              " [-116.92, 32.8],\n",
              " [-116.92, 32.78],\n",
              " [-116.92, 32.76],\n",
              " [-116.93, 33.93],\n",
              " [-116.93, 33.75],\n",
              " [-116.93, 33.74],\n",
              " [-116.93, 33.06],\n",
              " [-116.93, 32.87],\n",
              " [-116.93, 32.85],\n",
              " [-116.93, 32.85],\n",
              " [-116.93, 32.83],\n",
              " [-116.93, 32.82],\n",
              " [-116.93, 32.81],\n",
              " [-116.93, 32.79],\n",
              " [-116.93, 32.79],\n",
              " [-116.94, 34.4],\n",
              " [-116.94, 34.24],\n",
              " [-116.94, 33.77],\n",
              " [-116.94, 33.74],\n",
              " [-116.94, 33.73],\n",
              " [-116.94, 32.89],\n",
              " [-116.94, 32.87],\n",
              " [-116.94, 32.84],\n",
              " [-116.94, 32.83],\n",
              " [-116.94, 32.82],\n",
              " [-116.94, 32.8],\n",
              " [-116.94, 32.8],\n",
              " [-116.94, 32.78],\n",
              " [-116.94, 32.75],\n",
              " [-116.95, 33.97],\n",
              " [-116.95, 33.79],\n",
              " [-116.95, 33.78],\n",
              " [-116.95, 33.76],\n",
              " [-116.95, 33.75],\n",
              " [-116.95, 33.75],\n",
              " [-116.95, 33.74],\n",
              " [-116.95, 33.74],\n",
              " [-116.95, 33.73],\n",
              " [-116.95, 33.68],\n",
              " [-116.95, 33.31],\n",
              " [-116.95, 32.96],\n",
              " [-116.95, 32.84],\n",
              " [-116.95, 32.83],\n",
              " [-116.95, 32.82],\n",
              " [-116.95, 32.82],\n",
              " [-116.95, 32.81],\n",
              " [-116.95, 32.81],\n",
              " [-116.95, 32.79],\n",
              " [-116.95, 32.78],\n",
              " [-116.95, 32.78],\n",
              " [-116.95, 32.77],\n",
              " [-116.95, 32.76],\n",
              " [-116.95, 32.73],\n",
              " [-116.96, 34.94],\n",
              " [-116.96, 34.83],\n",
              " [-116.96, 33.94],\n",
              " [-116.96, 33.79],\n",
              " [-116.96, 33.75],\n",
              " [-116.96, 33.74],\n",
              " [-116.96, 33.73],\n",
              " [-116.96, 32.9],\n",
              " [-116.96, 32.87],\n",
              " [-116.96, 32.86],\n",
              " [-116.96, 32.85],\n",
              " [-116.96, 32.81],\n",
              " [-116.96, 32.8],\n",
              " [-116.96, 32.8],\n",
              " [-116.96, 32.8],\n",
              " [-116.96, 32.79],\n",
              " [-116.96, 32.79],\n",
              " [-116.96, 32.79],\n",
              " [-116.96, 32.78],\n",
              " [-116.97, 33.96],\n",
              " [-116.97, 33.94],\n",
              " [-116.97, 33.93],\n",
              " [-116.97, 33.78],\n",
              " [-116.97, 33.74],\n",
              " [-116.97, 33.74],\n",
              " [-116.97, 33.13],\n",
              " [-116.97, 32.83],\n",
              " [-116.97, 32.8],\n",
              " [-116.97, 32.79],\n",
              " [-116.97, 32.79],\n",
              " [-116.97, 32.78],\n",
              " [-116.97, 32.78],\n",
              " [-116.97, 32.78],\n",
              " [-116.97, 32.76],\n",
              " [-116.97, 32.76],\n",
              " [-116.97, 32.75],\n",
              " [-116.97, 32.74],\n",
              " [-116.97, 32.65],\n",
              " [-116.97, 32.56],\n",
              " [-116.98, 34.13],\n",
              " [-116.98, 34.07],\n",
              " [-116.98, 34.05],\n",
              " [-116.98, 33.94],\n",
              " [-116.98, 33.93],\n",
              " [-116.98, 33.93],\n",
              " [-116.98, 33.83],\n",
              " [-116.98, 33.77],\n",
              " [-116.98, 33.74],\n",
              " [-116.98, 32.88],\n",
              " [-116.98, 32.86],\n",
              " [-116.98, 32.86],\n",
              " [-116.98, 32.85],\n",
              " [-116.98, 32.8],\n",
              " [-116.98, 32.79],\n",
              " [-116.98, 32.77],\n",
              " [-116.98, 32.75],\n",
              " [-116.98, 32.75],\n",
              " [-116.98, 32.74],\n",
              " [-116.98, 32.74],\n",
              " [-116.98, 32.73],\n",
              " [-116.98, 32.72],\n",
              " [-116.98, 32.71],\n",
              " [-116.99, 34.89],\n",
              " [-116.99, 34.88],\n",
              " [-116.99, 34.3],\n",
              " [-116.99, 33.99],\n",
              " [-116.99, 33.92],\n",
              " [-116.99, 33.77],\n",
              " [-116.99, 33.76],\n",
              " [-116.99, 33.75],\n",
              " [-116.99, 33.73],\n",
              " [-116.99, 33.46],\n",
              " [-116.99, 32.96],\n",
              " [-116.99, 32.85],\n",
              " [-116.99, 32.83],\n",
              " [-116.99, 32.81],\n",
              " [-116.99, 32.81],\n",
              " [-116.99, 32.8],\n",
              " [-116.99, 32.79],\n",
              " [-116.99, 32.79],\n",
              " [-116.99, 32.78],\n",
              " [-116.99, 32.77],\n",
              " [-116.99, 32.74],\n",
              " [-116.99, 32.74],\n",
              " [-116.99, 32.73],\n",
              " [-116.99, 32.72],\n",
              " [-116.99, 32.72],\n",
              " [-116.99, 32.72],\n",
              " [-116.99, 32.72],\n",
              " [-116.99, 32.71],\n",
              " [-116.99, 32.7],\n",
              " [-116.99, 32.64],\n",
              " [-117.0, 34.89],\n",
              " [-117.0, 34.87],\n",
              " [-117.0, 33.74],\n",
              " [-117.0, 33.29],\n",
              " [-117.0, 32.87],\n",
              " [-117.0, 32.85],\n",
              " [-117.0, 32.8],\n",
              " [-117.0, 32.77],\n",
              " [-117.0, 32.77],\n",
              " [-117.0, 32.76],\n",
              " [-117.0, 32.76],\n",
              " [-117.0, 32.74],\n",
              " [-117.0, 32.72],\n",
              " [-117.0, 32.71],\n",
              " [-117.0, 32.7],\n",
              " [-117.0, 32.67],\n",
              " [-117.0, 32.64],\n",
              " [-117.01, 34.9],\n",
              " [-117.01, 34.9],\n",
              " [-117.01, 34.89],\n",
              " [-117.01, 34.01],\n",
              " [-117.01, 33.97],\n",
              " [-117.01, 33.04],\n",
              " [-117.01, 32.99],\n",
              " [-117.01, 32.85],\n",
              " [-117.01, 32.84],\n",
              " [-117.01, 32.83],\n",
              " [-117.01, 32.81],\n",
              " [-117.01, 32.81],\n",
              " [-117.01, 32.8],\n",
              " [-117.01, 32.8],\n",
              " [-117.01, 32.8],\n",
              " [-117.01, 32.79],\n",
              " [-117.01, 32.79],\n",
              " [-117.01, 32.78],\n",
              " [-117.01, 32.77],\n",
              " [-117.01, 32.77],\n",
              " [-117.01, 32.76],\n",
              " [-117.01, 32.76],\n",
              " [-117.01, 32.75],\n",
              " [-117.01, 32.75],\n",
              " [-117.01, 32.74],\n",
              " [-117.01, 32.73],\n",
              " [-117.01, 32.72],\n",
              " [-117.01, 32.71],\n",
              " [-117.01, 32.7],\n",
              " [-117.01, 32.7],\n",
              " [-117.01, 32.67],\n",
              " [-117.01, 32.66],\n",
              " [-117.01, 32.63],\n",
              " [-117.02, 36.4],\n",
              " [-117.02, 34.9],\n",
              " [-117.02, 34.89],\n",
              " [-117.02, 34.03],\n",
              " [-117.02, 33.95],\n",
              " [-117.02, 33.81],\n",
              " [-117.02, 33.76],\n",
              " [-117.02, 33.73],\n",
              " [-117.02, 33.71],\n",
              " [-117.02, 33.6],\n",
              " [-117.02, 32.95],\n",
              " [-117.02, 32.84],\n",
              " [-117.02, 32.81],\n",
              " [-117.02, 32.81],\n",
              " [-117.02, 32.81],\n",
              " [-117.02, 32.8],\n",
              " [-117.02, 32.8],\n",
              " [-117.02, 32.79],\n",
              " [-117.02, 32.78],\n",
              " [-117.02, 32.78],\n",
              " [-117.02, 32.76],\n",
              " [-117.02, 32.76],\n",
              " [-117.02, 32.75],\n",
              " [-117.02, 32.74],\n",
              " [-117.02, 32.74],\n",
              " [-117.02, 32.73],\n",
              " [-117.02, 32.72],\n",
              " [-117.02, 32.71],\n",
              " [-117.02, 32.7],\n",
              " [-117.02, 32.68],\n",
              " [-117.02, 32.67],\n",
              " [-117.02, 32.66],\n",
              " [-117.02, 32.64],\n",
              " [-117.02, 32.59],\n",
              " [-117.03, 34.91],\n",
              " [-117.03, 34.87],\n",
              " [-117.03, 34.07],\n",
              " [-117.03, 34.03],\n",
              " [-117.03, 33.89],\n",
              " [-117.03, 33.32],\n",
              " [-117.03, 33.18],\n",
              " [-117.03, 33.12],\n",
              " [-117.03, 32.96],\n",
              " [-117.03, 32.82],\n",
              " [-117.03, 32.8],\n",
              " [-117.03, 32.79],\n",
              " [-117.03, 32.79],\n",
              " [-117.03, 32.78],\n",
              " [-117.03, 32.77],\n",
              " [-117.03, 32.77],\n",
              " [-117.03, 32.75],\n",
              " [-117.03, 32.74],\n",
              " [-117.03, 32.74],\n",
              " [-117.03, 32.73],\n",
              " [-117.03, 32.73],\n",
              " [-117.03, 32.73],\n",
              " [-117.03, 32.72],\n",
              " [-117.03, 32.72],\n",
              " [-117.03, 32.71],\n",
              " [-117.03, 32.71],\n",
              " [-117.03, 32.7],\n",
              " [-117.03, 32.69],\n",
              " [-117.03, 32.69],\n",
              " [-117.03, 32.69],\n",
              " [-117.03, 32.67],\n",
              " [-117.03, 32.65],\n",
              " [-117.03, 32.63],\n",
              " [-117.03, 32.63],\n",
              " [-117.03, 32.61],\n",
              " [-117.04, 34.89],\n",
              " [-117.04, 34.04],\n",
              " [-117.04, 34.03],\n",
              " [-117.04, 34.02],\n",
              " [-117.04, 34.0],\n",
              " [-117.04, 34.0],\n",
              " [-117.04, 33.15],\n",
              " [-117.04, 33.09],\n",
              " [-117.04, 33.03],\n",
              " [-117.04, 33.01],\n",
              " [-117.04, 32.99],\n",
              " [-117.04, 32.98],\n",
              " [-117.04, 32.97],\n",
              " [-117.04, 32.9],\n",
              " [-117.04, 32.83],\n",
              " [-117.04, 32.81],\n",
              " [-117.04, 32.8],\n",
              " [-117.04, 32.8],\n",
              " [-117.04, 32.79],\n",
              " [-117.04, 32.77],\n",
              " [-117.04, 32.77],\n",
              " [-117.04, 32.76],\n",
              " [-117.04, 32.76],\n",
              " [-117.04, 32.75],\n",
              " [-117.04, 32.74],\n",
              " [-117.04, 32.74],\n",
              " [-117.04, 32.72],\n",
              " [-117.04, 32.71],\n",
              " [-117.04, 32.69],\n",
              " [-117.04, 32.68],\n",
              " [-117.04, 32.68],\n",
              " [-117.04, 32.67],\n",
              " [-117.04, 32.66],\n",
              " [-117.04, 32.65],\n",
              " [-117.04, 32.64],\n",
              " [-117.04, 32.63],\n",
              " [-117.04, 32.63],\n",
              " [-117.04, 32.62],\n",
              " [-117.04, 32.6],\n",
              " [-117.04, 32.6],\n",
              " [-117.04, 32.58],\n",
              " [-117.04, 32.58],\n",
              " [-117.04, 32.55],\n",
              " [-117.04, 32.54],\n",
              " [-117.05, 34.89],\n",
              " [-117.05, 34.04],\n",
              " [-117.05, 34.03],\n",
              " [-117.05, 34.02],\n",
              " [-117.05, 34.01],\n",
              " [-117.05, 33.52],\n",
              " [-117.05, 33.29],\n",
              " [-117.05, 33.26],\n",
              " [-117.05, 33.14],\n",
              " [-117.05, 33.13],\n",
              " [-117.05, 33.13],\n",
              " [-117.05, 33.13],\n",
              " [-117.05, 33.11],\n",
              " [-117.05, 33.05],\n",
              " [-117.05, 33.04],\n",
              " [-117.05, 33.02],\n",
              " [-117.05, 33.01],\n",
              " [-117.05, 33.01],\n",
              " [-117.05, 32.97],\n",
              " [-117.05, 32.96],\n",
              " [-117.05, 32.95],\n",
              " [-117.05, 32.95],\n",
              " [-117.05, 32.82],\n",
              " [-117.05, 32.81],\n",
              " [-117.05, 32.8],\n",
              " [-117.05, 32.8],\n",
              " [-117.05, 32.8],\n",
              " [-117.05, 32.8],\n",
              " [-117.05, 32.78],\n",
              " [-117.05, 32.77],\n",
              " [-117.05, 32.77],\n",
              " [-117.05, 32.76],\n",
              " [-117.05, 32.75],\n",
              " [-117.05, 32.75],\n",
              " [-117.05, 32.75],\n",
              " [-117.05, 32.75],\n",
              " [-117.05, 32.74],\n",
              " [-117.05, 32.73],\n",
              " [-117.05, 32.72],\n",
              " [-117.05, 32.72],\n",
              " [-117.05, 32.69],\n",
              " [-117.05, 32.69],\n",
              " [-117.05, 32.69],\n",
              " [-117.05, 32.68],\n",
              " [-117.05, 32.68],\n",
              " [-117.05, 32.68],\n",
              " [-117.05, 32.67],\n",
              " [-117.05, 32.67],\n",
              " [-117.05, 32.63],\n",
              " [-117.05, 32.62],\n",
              " [-117.05, 32.61],\n",
              " [-117.05, 32.61],\n",
              " [-117.05, 32.59],\n",
              " [-117.05, 32.59],\n",
              " [-117.05, 32.58],\n",
              " [-117.05, 32.58],\n",
              " [-117.05, 32.56],\n",
              " [-117.05, 32.56],\n",
              " [-117.05, 32.56],\n",
              " [-117.06, 34.9],\n",
              " [-117.06, 34.17],\n",
              " [-117.06, 34.03],\n",
              " [-117.06, 34.02],\n",
              " [-117.06, 34.0],\n",
              " [-117.06, 33.78],\n",
              " [-117.06, 33.17],\n",
              " [-117.06, 33.15],\n",
              " [-117.06, 33.13],\n",
              " [-117.06, 33.09],\n",
              " [-117.06, 33.04],\n",
              " [-117.06, 33.03],\n",
              " [-117.06, 33.02],\n",
              " [-117.06, 33.02],\n",
              " [-117.06, 33.01],\n",
              " [-117.06, 32.99],\n",
              " [-117.06, 32.97],\n",
              " [-117.06, 32.81],\n",
              " [-117.06, 32.8],\n",
              " [-117.06, 32.79],\n",
              " [-117.06, 32.79],\n",
              " [-117.06, 32.77],\n",
              " [-117.06, 32.77],\n",
              " [-117.06, 32.76],\n",
              " [-117.06, 32.76],\n",
              " [-117.06, 32.75],\n",
              " [-117.06, 32.75],\n",
              " [-117.06, 32.73],\n",
              " [-117.06, 32.72],\n",
              " [-117.06, 32.71],\n",
              " [-117.06, 32.71],\n",
              " [-117.06, 32.69],\n",
              " [-117.06, 32.69],\n",
              " [-117.06, 32.69],\n",
              " [-117.06, 32.68],\n",
              " [-117.06, 32.68],\n",
              " [-117.06, 32.68],\n",
              " [-117.06, 32.67],\n",
              " [-117.06, 32.66],\n",
              " [-117.06, 32.64],\n",
              " [-117.06, 32.63],\n",
              " [-117.06, 32.63],\n",
              " [-117.06, 32.62],\n",
              " [-117.06, 32.61],\n",
              " [-117.06, 32.6],\n",
              " [-117.06, 32.6],\n",
              " [-117.06, 32.6],\n",
              " [-117.06, 32.58],\n",
              " [-117.06, 32.58],\n",
              " [-117.06, 32.58],\n",
              " [-117.06, 32.57],\n",
              " [-117.06, 32.57],\n",
              " [-117.06, 32.57],\n",
              " [-117.06, 32.57],\n",
              " [-117.06, 32.56],\n",
              " [-117.06, 32.56],\n",
              " [-117.06, 32.55],\n",
              " [-117.07, 34.24],\n",
              " [-117.07, 33.72],\n",
              " [-117.07, 33.15],\n",
              " [-117.07, 33.15],\n",
              " [-117.07, 33.14],\n",
              " [-117.07, 33.13],\n",
              " [-117.07, 33.13],\n",
              " [-117.07, 33.12],\n",
              " [-117.07, 33.12],\n",
              " [-117.07, 33.12],\n",
              " [-117.07, 33.11],\n",
              " [-117.07, 33.11],\n",
              " [-117.07, 33.07],\n",
              " [-117.07, 33.04],\n",
              " [-117.07, 33.03],\n",
              " [-117.07, 33.03],\n",
              " [-117.07, 33.02],\n",
              " [-117.07, 33.01],\n",
              " [-117.07, 33.01],\n",
              " [-117.07, 33.0],\n",
              " [-117.07, 33.0],\n",
              " [-117.07, 32.91],\n",
              " [-117.07, 32.8],\n",
              " [-117.07, 32.8],\n",
              " [-117.07, 32.8],\n",
              " [-117.07, 32.78],\n",
              " [-117.07, 32.78],\n",
              " [-117.07, 32.77],\n",
              " [-117.07, 32.77],\n",
              " [-117.07, 32.77],\n",
              " [-117.07, 32.76],\n",
              " [-117.07, 32.76],\n",
              " [-117.07, 32.75],\n",
              " [-117.07, 32.75],\n",
              " [-117.07, 32.75],\n",
              " [-117.07, 32.75],\n",
              " [-117.07, 32.74],\n",
              " [-117.07, 32.73],\n",
              " [-117.07, 32.72],\n",
              " [-117.07, 32.71],\n",
              " [-117.07, 32.71],\n",
              " [-117.07, 32.71],\n",
              " [-117.07, 32.7],\n",
              " [-117.07, 32.69],\n",
              " [-117.07, 32.69],\n",
              " [-117.07, 32.69],\n",
              " [-117.07, 32.68],\n",
              " [-117.07, 32.67],\n",
              " [-117.07, 32.67],\n",
              " [-117.07, 32.65],\n",
              " [-117.07, 32.64],\n",
              " [-117.07, 32.64],\n",
              " [-117.07, 32.64],\n",
              " [-117.07, 32.63],\n",
              " [-117.07, 32.63],\n",
              " [-117.07, 32.63],\n",
              " [-117.07, 32.62],\n",
              " [-117.07, 32.61],\n",
              " [-117.07, 32.61],\n",
              " [-117.07, 32.6],\n",
              " [-117.07, 32.59],\n",
              " [-117.07, 32.57],\n",
              " [-117.07, 32.57],\n",
              " [-117.07, 32.56],\n",
              " [-117.08, 34.96],\n",
              " [-117.08, 34.08],\n",
              " [-117.08, 34.03],\n",
              " [-117.08, 34.02],\n",
              " [-117.08, 33.82],\n",
              " [-117.08, 33.23],\n",
              " [-117.08, 33.14],\n",
              " [-117.08, 33.14],\n",
              " [-117.08, 33.14],\n",
              " [-117.08, 33.13],\n",
              " [-117.08, 33.12],\n",
              " [-117.08, 33.12],\n",
              " [-117.08, 33.11],\n",
              " [-117.08, 33.11],\n",
              " [-117.08, 33.11],\n",
              " [-117.08, 33.09],\n",
              " [-117.08, 33.08],\n",
              " [-117.08, 33.04],\n",
              " [-117.08, 33.03],\n",
              " [-117.08, 33.03],\n",
              " [-117.08, 33.03],\n",
              " [-117.08, 33.03],\n",
              " [-117.08, 33.01],\n",
              " [-117.08, 32.97],\n",
              " [-117.08, 32.93],\n",
              " [-117.08, 32.91],\n",
              " [-117.08, 32.91],\n",
              " [-117.08, 32.83],\n",
              " [-117.08, 32.82],\n",
              " [-117.08, 32.8],\n",
              " [-117.08, 32.78],\n",
              " [-117.08, 32.77],\n",
              " [-117.08, 32.77],\n",
              " [-117.08, 32.76],\n",
              " [-117.08, 32.76],\n",
              " [-117.08, 32.76],\n",
              " [-117.08, 32.75],\n",
              " [-117.08, 32.75],\n",
              " [-117.08, 32.75],\n",
              " [-117.08, 32.74],\n",
              " [-117.08, 32.74],\n",
              " [-117.08, 32.73],\n",
              " [-117.08, 32.73],\n",
              " [-117.08, 32.73],\n",
              " [-117.08, 32.71],\n",
              " [-117.08, 32.7],\n",
              " [-117.08, 32.7],\n",
              " [-117.08, 32.69],\n",
              " [-117.08, 32.69],\n",
              " [-117.08, 32.68],\n",
              " [-117.08, 32.68],\n",
              " [-117.08, 32.67],\n",
              " [-117.08, 32.66],\n",
              " [-117.08, 32.65],\n",
              " [-117.08, 32.65],\n",
              " [-117.08, 32.64],\n",
              " [-117.08, 32.64],\n",
              " [-117.08, 32.63],\n",
              " [-117.08, 32.63],\n",
              " [-117.08, 32.63],\n",
              " [-117.08, 32.62],\n",
              " [-117.08, 32.62],\n",
              " [-117.08, 32.62],\n",
              " [-117.08, 32.61],\n",
              " [-117.08, 32.6],\n",
              " [-117.08, 32.59],\n",
              " [-117.08, 32.59],\n",
              " [-117.08, 32.58],\n",
              " [-117.08, 32.57],\n",
              " [-117.09, 34.22],\n",
              " [-117.09, 34.07],\n",
              " [-117.09, 33.71],\n",
              " [-117.09, 33.15],\n",
              " [-117.09, 33.13],\n",
              " [-117.09, 33.12],\n",
              " [-117.09, 33.11],\n",
              " [-117.09, 33.1],\n",
              " [-117.09, 32.99],\n",
              " [-117.09, 32.99],\n",
              " [-117.09, 32.98],\n",
              " [-117.09, 32.91],\n",
              " [-117.09, 32.91],\n",
              " [-117.09, 32.9],\n",
              " [-117.09, 32.83],\n",
              " [-117.09, 32.81],\n",
              " [-117.09, 32.8],\n",
              " [-117.09, 32.8],\n",
              " [-117.09, 32.79],\n",
              " [-117.09, 32.79],\n",
              " [-117.09, 32.79],\n",
              " [-117.09, 32.78],\n",
              " [-117.09, 32.77],\n",
              " [-117.09, 32.77],\n",
              " [-117.09, 32.76],\n",
              " [-117.09, 32.76],\n",
              " [-117.09, 32.76],\n",
              " [-117.09, 32.76],\n",
              " [-117.09, 32.76],\n",
              " [-117.09, 32.75],\n",
              " [-117.09, 32.75],\n",
              " [-117.09, 32.75],\n",
              " [-117.09, 32.75],\n",
              " [-117.09, 32.74],\n",
              " [-117.09, 32.73],\n",
              " [-117.09, 32.72],\n",
              " [-117.09, 32.72],\n",
              " [-117.09, 32.71],\n",
              " [-117.09, 32.71],\n",
              " [-117.09, 32.7],\n",
              " [-117.09, 32.69],\n",
              " [-117.09, 32.69],\n",
              " [-117.09, 32.68],\n",
              " [-117.09, 32.68],\n",
              " [-117.09, 32.68],\n",
              " [-117.09, 32.67],\n",
              " [-117.09, 32.67],\n",
              " [-117.09, 32.66],\n",
              " [-117.09, 32.66],\n",
              " [-117.09, 32.65],\n",
              " [-117.09, 32.65],\n",
              " [-117.09, 32.64],\n",
              " [-117.09, 32.64],\n",
              " [-117.09, 32.64],\n",
              " [-117.09, 32.64],\n",
              " [-117.09, 32.63],\n",
              " [-117.09, 32.63],\n",
              " [-117.09, 32.62],\n",
              " [-117.09, 32.62],\n",
              " [-117.09, 32.61],\n",
              " [-117.09, 32.61],\n",
              " [-117.09, 32.58],\n",
              " [-117.09, 32.57],\n",
              " [-117.09, 32.57],\n",
              " [-117.09, 32.57],\n",
              " [-117.09, 32.55],\n",
              " [-117.1, 34.57],\n",
              " [-117.1, 34.21],\n",
              " [-117.1, 34.03],\n",
              " [-117.1, 33.56],\n",
              " ...]"
            ]
          },
          "metadata": {},
          "execution_count": 45
        }
      ]
    },
    {
      "cell_type": "code",
      "source": [
        "ar1 = [1,2,3,4]\n",
        "ar2 = [4,5,6,7]\n",
        "\n",
        "se1 = pd.Series(ar1)\n",
        "se2 = pd.Series(ar2)\n",
        "\n",
        "print(se1.corr(se2))"
      ],
      "metadata": {
        "colab": {
          "base_uri": "https://localhost:8080/"
        },
        "id": "Ei1Qv4xTEyZr",
        "outputId": "49afa3bc-e9e1-42e4-a0fd-36df904714ee"
      },
      "execution_count": 46,
      "outputs": [
        {
          "output_type": "stream",
          "name": "stdout",
          "text": [
            "1.0\n"
          ]
        }
      ]
    },
    {
      "cell_type": "markdown",
      "source": [
        "# AI, ML, DL의 내부 원리(수학,엔진)\n",
        "####머신러닝이란?\n",
        ": ML, 즉 기계학습  \n",
        "이하 이전의 필기와 동일함"
      ],
      "metadata": {
        "id": "qgGFtBusGKN0"
      }
    },
    {
      "cell_type": "code",
      "source": [
        "from sklearn.linear_model import LinearRegression\n",
        "import matplotlib.pyplot as plt"
      ],
      "metadata": {
        "id": "zajo1E1JGOE6"
      },
      "execution_count": 48,
      "outputs": []
    },
    {
      "cell_type": "code",
      "source": [
        "xs = [x for x in range(100)]\n",
        "ys = [(2+np.random.uniform(-0.1,0.1))*x + 3+np.random.uniform(-2,2) for x in xs]\n",
        "plt.figure(figsize=(5,5))\n",
        "plt.plot(xs,ys,'b.')\n",
        "plt.xlim((0,200))\n",
        "plt.ylim((0,200))\n",
        "plt.show()"
      ],
      "metadata": {
        "colab": {
          "base_uri": "https://localhost:8080/",
          "height": 324
        },
        "id": "zxVgH2XvPg3W",
        "outputId": "8659bf57-d571-4612-d106-d6467cfeb481"
      },
      "execution_count": 49,
      "outputs": [
        {
          "output_type": "display_data",
          "data": {
            "text/plain": [
              "<Figure size 360x360 with 1 Axes>"
            ],
            "image/png": "[encoded data removed]"
          },
          "metadata": {
            "needs_background": "light"
          }
        }
      ]
    },
    {
      "cell_type": "code",
      "source": [
        "xs2 = [[x] for x in xs]\n",
        "model = LinearRegression() #선형 모델 개체 생성\n",
        "model.fit(xs2, ys) #학습하기\n",
        "print(model.coef_, model.intercept_) #선형회귀 함수의 가중치, 편향 출력"
      ],
      "metadata": {
        "colab": {
          "base_uri": "https://localhost:8080/"
        },
        "id": "WvHxUQ2BQTpx",
        "outputId": "62aeb1b7-7ce2-4c9e-d1c9-61e83a3e9f4e"
      },
      "execution_count": 50,
      "outputs": [
        {
          "output_type": "stream",
          "name": "stdout",
          "text": [
            "[2.03580719] 2.015654196519165\n"
          ]
        }
      ]
    },
    {
      "cell_type": "markdown",
      "source": [
        "선형회귀 함수 그래프와 실제 값의 손실이 최소가 되도록 하는 것 -> 손실 함수  \n",
        "| yp-y |의 평균 MAE / (yp-y)^2의 평균 MSE 을 구한다  \n",
        "MSE = sum(yp - y)^2/len  \n",
        "    = sum((wx+b)-y)^2/len (w와 mse 관계는 2차함수 그래프 형태)  \n",
        "\n",
        "경사하강법을 통해 최저점을 찾을 수 있음  "
      ],
      "metadata": {
        "id": "-kFUSJJ7RtQJ"
      }
    },
    {
      "cell_type": "code",
      "source": [
        "def mse(yp, y):\n",
        "  \"\"\"\n",
        "  yp: 예측값\n",
        "  y: 실제값\n",
        "  \"\"\"\n",
        "  return sum((yp-y)**2)/len(y)"
      ],
      "metadata": {
        "id": "k8bPI56VYCKe"
      },
      "execution_count": 55,
      "outputs": []
    },
    {
      "cell_type": "code",
      "source": [
        "w1 = 1\n",
        "w2 = 2\n",
        "w3 = 3\n",
        "b1 = 1\n",
        "b2 = 2\n",
        "b3 = 3\n",
        "xarr = np.array(xs)\n",
        "yarr = np.array(ys)\n",
        "yp11 = w1*xarr + b1\n",
        "yp12 = w1*xarr + b2\n",
        "yp13 = w1*xarr + b3\n",
        "#직접 쳐서 넣을 수 있음\n",
        "print(mse(yp11,yarr))\n",
        "print(mse(yp12,yarr))\n",
        "print(mse(yp13,yarr))"
      ],
      "metadata": {
        "colab": {
          "base_uri": "https://localhost:8080/"
        },
        "id": "WpLs7-sGYUDU",
        "outputId": "ef3b569b-8956-443b-eb90-3f5673d401c0"
      },
      "execution_count": 56,
      "outputs": [
        {
          "output_type": "stream",
          "name": "stdout",
          "text": [
            "3638.3100669279415\n",
            "3534.7338465261732\n",
            "3433.1576261244063\n"
          ]
        }
      ]
    },
    {
      "cell_type": "code",
      "source": [
        "b=2\n",
        "ws = [w/10 for w in range(-100,100)] # -10~10, step 0.1\n",
        "\n",
        "mses = []\n",
        "for w in ws:\n",
        "  yp = w*xarr + b\n",
        "  mses.append(mse(yp,yarr))\n",
        "plt.plot(ws,mses)\n",
        "plt.xlabel(\"w\")\n",
        "plt.ylabel(\"mse\")\n",
        "plt.show()"
      ],
      "metadata": {
        "colab": {
          "base_uri": "https://localhost:8080/",
          "height": 279
        },
        "id": "xw0Psl_rZuh3",
        "outputId": "874d7345-7dff-4596-cda5-aee8943ae344"
      },
      "execution_count": 60,
      "outputs": [
        {
          "output_type": "display_data",
          "data": {
            "text/plain": [
              "<Figure size 432x288 with 1 Axes>"
            ],
            "image/png": "[encoded data removed]"
          },
          "metadata": {
            "needs_background": "light"
          }
        }
      ]
    },
    {
      "cell_type": "markdown",
      "source": [
        "###KNN 회귀 그래프\n",
        "중심점 A와 제일 가까운 점들 5개를 선정하여 yp값을 계산\n"
      ],
      "metadata": {
        "id": "sSihBxgPcmFE"
      }
    },
    {
      "cell_type": "code",
      "source": [
        "from sklearn.datasets import load_iris"
      ],
      "metadata": {
        "id": "ALcLoCuOdJlE"
      },
      "execution_count": 64,
      "outputs": []
    },
    {
      "cell_type": "code",
      "source": [
        "iris_data = load_iris()\n",
        "xs = iris_data.data\n",
        "ys = iris_data.target\n",
        "xs.shape, ys.shape"
      ],
      "metadata": {
        "colab": {
          "base_uri": "https://localhost:8080/"
        },
        "id": "I6ZoQ_WGc14D",
        "outputId": "944438e6-c273-42e8-9b67-40af44d51538"
      },
      "execution_count": 65,
      "outputs": [
        {
          "output_type": "execute_result",
          "data": {
            "text/plain": [
              "((150, 4), (150,))"
            ]
          },
          "metadata": {},
          "execution_count": 65
        }
      ]
    },
    {
      "cell_type": "code",
      "source": [
        "xs[9],xs[59],xs[109]"
      ],
      "metadata": {
        "colab": {
          "base_uri": "https://localhost:8080/"
        },
        "id": "ub11Va1adPry",
        "outputId": "8530f9c3-b6e0-4f0a-d2a5-6be09bab1688"
      },
      "execution_count": 66,
      "outputs": [
        {
          "output_type": "execute_result",
          "data": {
            "text/plain": [
              "(array([4.9, 3.1, 1.5, 0.1]),\n",
              " array([5.2, 2.7, 3.9, 1.4]),\n",
              " array([7.2, 3.6, 6.1, 2.5]))"
            ]
          },
          "metadata": {},
          "execution_count": 66
        }
      ]
    },
    {
      "cell_type": "code",
      "source": [
        "from sklearn.neighbors import KNeighborsRegressor"
      ],
      "metadata": {
        "id": "E4Yho4RWcrzq"
      },
      "execution_count": 61,
      "outputs": []
    },
    {
      "cell_type": "code",
      "source": [
        "model = KNeighborsRegressor()\n",
        "model.fit(xs,ys)\n",
        "p_vals = model.predict([[5,3,1.6,1.0],[5.1,2.7,4,1.4],[7,3.5,6,2.5]])\n",
        "p_vals,ys[9],ys[59],ys[109]"
      ],
      "metadata": {
        "colab": {
          "base_uri": "https://localhost:8080/"
        },
        "id": "NpK_0LkDcyWu",
        "outputId": "72e82270-78b1-44e8-dd80-bdd1a96765d2"
      },
      "execution_count": 67,
      "outputs": [
        {
          "output_type": "execute_result",
          "data": {
            "text/plain": [
              "(array([0., 1., 2.]), 0, 1, 2)"
            ]
          },
          "metadata": {},
          "execution_count": 67
        }
      ]
    },
    {
      "cell_type": "markdown",
      "source": [
        "해당 방법으로는 xs가 무시될 수 있다?  \n",
        "rescale = (data-평균)/표준편차 를 통해 편차에 의한 영향을 최소화 할 수 있음  "
      ],
      "metadata": {
        "id": "iqJpXnXOeY6L"
      }
    },
    {
      "cell_type": "code",
      "source": [
        "xs = [[172,0.68],[168,0.70],[168,0.70],[165,0.50],[180,0.73],[170,0.64]]\n",
        "x1 = [x[0] for x in xs]\n",
        "x2 = [x[1] for x in xs]\n",
        "plt.plot(x1,x2,'b.')\n",
        "plt.show()"
      ],
      "metadata": {
        "colab": {
          "base_uri": "https://localhost:8080/",
          "height": 265
        },
        "id": "0yRm7zwAdO0C",
        "outputId": "0b2f5a41-ed6f-4a00-c21d-f03b4108f2f2"
      },
      "execution_count": 68,
      "outputs": [
        {
          "output_type": "display_data",
          "data": {
            "text/plain": [
              "<Figure size 432x288 with 1 Axes>"
            ],
            "image/png": "[encoded data removed]"
          },
          "metadata": {
            "needs_background": "light"
          }
        }
      ]
    },
    {
      "cell_type": "code",
      "source": [
        "xd = [[177,0.50]]\n",
        "xd1 = xd[0][0]\n",
        "xd2 = xd[0][1]"
      ],
      "metadata": {
        "id": "G49iIbW6fAY-"
      },
      "execution_count": 70,
      "outputs": []
    },
    {
      "cell_type": "code",
      "source": [
        "plt.plot(xd1,xd2,'ro')\n",
        "plt.plot(x1,x2,'b.')\n",
        "plt.xlim(0,190)\n",
        "plt.ylim(0,0.80)\n",
        "plt.show()"
      ],
      "metadata": {
        "colab": {
          "base_uri": "https://localhost:8080/",
          "height": 269
        },
        "id": "Pz5SxuSIfI7u",
        "outputId": "8f80943b-946b-444d-c809-b9b48e498528"
      },
      "execution_count": 71,
      "outputs": [
        {
          "output_type": "display_data",
          "data": {
            "text/plain": [
              "<Figure size 432x288 with 1 Axes>"
            ],
            "image/png": "[encoded data removed]"
          },
          "metadata": {
            "needs_background": "light"
          }
        }
      ]
    },
    {
      "cell_type": "code",
      "source": [
        "xarr1 = np.array(x1)\n",
        "xarr2 = np.array(x2)\n",
        "\n",
        "m1 = xarr1.mean()\n",
        "s1 = np.std(xarr1)\n",
        "m2 = xarr2.mean()\n",
        "s2 = np.std(xarr2)\n",
        "\n",
        "xarr1 = (xarr1-xarr1.mean())/np.std(xarr1) #평균을 빼고 표준편차로 나누기 : rescale\n",
        "xarr2 = (xarr2-xarr2.mean())/np.std(xarr2)\n",
        "\n",
        "xdj1 = (xd1 - m1)/s1 #x1의 평균을 빼고 표준편차로 나누기\n",
        "xdj2 = (xd2 - m2)/s2"
      ],
      "metadata": {
        "id": "Ra38hMRQggSB"
      },
      "execution_count": 74,
      "outputs": []
    },
    {
      "cell_type": "code",
      "source": [
        "xarr1.mean(), np.std(xarr1)"
      ],
      "metadata": {
        "colab": {
          "base_uri": "https://localhost:8080/"
        },
        "id": "_t3kw0chhECH",
        "outputId": "6dfb9670-e0a0-4914-8578-d61e74fbbfb6"
      },
      "execution_count": 77,
      "outputs": [
        {
          "output_type": "execute_result",
          "data": {
            "text/plain": [
              "(3.23815048849004e-17, 1.0)"
            ]
          },
          "metadata": {},
          "execution_count": 77
        }
      ]
    },
    {
      "cell_type": "code",
      "source": [
        "plt.plot(xarr1,xarr2,'b.')\n",
        "plt.plot(xdj1,xdj2,'ro')\n",
        "plt.xlim(-3,3)\n",
        "plt.ylim(-3,3)\n",
        "plt.show()"
      ],
      "metadata": {
        "colab": {
          "base_uri": "https://localhost:8080/",
          "height": 269
        },
        "id": "AmbYokXGhHpj",
        "outputId": "a9f2d7ae-c4a6-447f-efc4-f5707d620e94"
      },
      "execution_count": 75,
      "outputs": [
        {
          "output_type": "display_data",
          "data": {
            "text/plain": [
              "<Figure size 432x288 with 1 Axes>"
            ],
            "image/png": "[encoded data removed]"
          },
          "metadata": {
            "needs_background": "light"
          }
        }
      ]
    },
    {
      "cell_type": "markdown",
      "source": [
        "#선형 회귀 vs KNN회귀\n",
        "###선형회귀  \n",
        "- 학습 단계에서 선형회귀 함수를 결정 \n",
        "- 예측할 때는 선형 회귀 함수를 이용하여 회귀값을 예측함  \n",
        "- 비용이 많이 든다  \n",
        "###KNN 회귀  \n",
        "- 학습 단계에서 독립 변수와 종속 변수를 기억하고 \n",
        "- 예측할 때 거릴르 계산하여 이웃들의 평균 값으로 회귀값을 예측함  \n",
        "- 비용이 많이 든다  \n",
        "독립 변수와 종속 변수의 관계가 선형 관계가 아니더라도 KNN회귀는 준수한 예측값을 얻을 수 있다.    \n",
        "\n",
        "학습에 사용한 독립 변수의 특성 값의 범위를 벗어났을 때  \n",
        "선형 회귀에서는 선형 회귀 함수를 이용하여 예측하기 때문에 원하는 예측값을 얻을 수 있다.  \n",
        "\n",
        "KNN회귀에서는 존재하는 학습 데이터들 중에 가까운 이웃을 찾기 때문에 유의미하지 않은 예측값을 얻을 수 있다.  \n"
      ],
      "metadata": {
        "id": "OTBaTFcuz4Wz"
      }
    },
    {
      "cell_type": "markdown",
      "source": [
        "독립변수와 종속변수가 선형 관계가 아니라는 합리적 판단이 들 때, 어떠한 회귀를 사용할까?  \n",
        "\n",
        "독립 변수를 확장하라.  \n",
        "\n",
        "예를 들어, x1,x2가 있을 때  \n",
        "이처럼 다양한 독립변수로 확장하여 사용하라.  \n",
        "[x1, x2, x1 * x2, x1 * x1, x2 * x2]  \n",
        "\n",
        "==> y = w1x1 + w2x2 + w3x1x2 + w4x1x1 + w5x2x2  "
      ],
      "metadata": {
        "id": "tchXodcW1cHJ"
      }
    },
    {
      "cell_type": "code",
      "source": [
        "import numpy as np\n",
        "xs = [x/10 for x in range(-100,100)]\n",
        "xs2 = [x**2 for x in xs]\n",
        "xarr = np.array(xs)\n",
        "xarr2 = np.array(xs2)\n",
        "xarr.shape, xarr2.shape\n",
        "xs[0],xs2[0]"
      ],
      "metadata": {
        "colab": {
          "base_uri": "https://localhost:8080/"
        },
        "id": "PE9IgWgP2byI",
        "outputId": "544b1d07-7213-4586-8e3a-40221b1038a5"
      },
      "execution_count": 79,
      "outputs": [
        {
          "output_type": "execute_result",
          "data": {
            "text/plain": [
              "(-10.0, 100.0)"
            ]
          },
          "metadata": {},
          "execution_count": 79
        }
      ]
    },
    {
      "cell_type": "code",
      "source": [
        "ys = [3*x**2 + 4*x + 7 + np.random.uniform(-5,5) for x in xs]\n",
        "yarr = np.array(ys)\n",
        "yarr.shape"
      ],
      "metadata": {
        "colab": {
          "base_uri": "https://localhost:8080/"
        },
        "id": "AYqX-nkk2_n5",
        "outputId": "a5ff0271-6f50-4489-8d50-f8fed94cb8bc"
      },
      "execution_count": 80,
      "outputs": [
        {
          "output_type": "execute_result",
          "data": {
            "text/plain": [
              "(200,)"
            ]
          },
          "metadata": {},
          "execution_count": 80
        }
      ]
    },
    {
      "cell_type": "code",
      "source": [
        "import matplotlib.pyplot as plt\n",
        "plt.plot(xs,ys,'b.')\n",
        "plt.xlabel('x')\n",
        "plt.ylabel('y')\n",
        "plt.show()"
      ],
      "metadata": {
        "colab": {
          "base_uri": "https://localhost:8080/",
          "height": 280
        },
        "id": "1y9Y5cRP3Lnd",
        "outputId": "2dfb587f-f0e4-4e30-ca21-52fa4f4d1831"
      },
      "execution_count": 83,
      "outputs": [
        {
          "output_type": "display_data",
          "data": {
            "text/plain": [
              "<Figure size 432x288 with 1 Axes>"
            ],
            "image/png": "[encoded data removed]"
          },
          "metadata": {
            "needs_background": "light"
          }
        }
      ]
    },
    {
      "cell_type": "code",
      "source": [
        "xsarr = np.array([[xarr[i],xarr2[i]] for i in range(len(xarr))])\n",
        "xsarr.shape"
      ],
      "metadata": {
        "colab": {
          "base_uri": "https://localhost:8080/"
        },
        "id": "X1G0TyDj3vE4",
        "outputId": "07399dc9-5e5e-4d1c-963b-d7b932c9fd2c"
      },
      "execution_count": 92,
      "outputs": [
        {
          "output_type": "execute_result",
          "data": {
            "text/plain": [
              "(200, 2)"
            ]
          },
          "metadata": {},
          "execution_count": 92
        }
      ]
    },
    {
      "cell_type": "code",
      "source": [
        "from sklearn.linear_model import LinearRegression"
      ],
      "metadata": {
        "id": "nHU9RYfw3hrC"
      },
      "execution_count": 93,
      "outputs": []
    },
    {
      "cell_type": "code",
      "source": [
        "model = LinearRegression()\n",
        "model.fit(xsarr,yarr)\n",
        "model.coef_, model.intercept_"
      ],
      "metadata": {
        "colab": {
          "base_uri": "https://localhost:8080/"
        },
        "id": "-6CMB_Ht3pZE",
        "outputId": "9fb58d30-e54f-4e1f-c2c5-5c0902a2d20d"
      },
      "execution_count": 95,
      "outputs": [
        {
          "output_type": "execute_result",
          "data": {
            "text/plain": [
              "(array([3.95778283, 2.9897309 ]), 6.895232916702554)"
            ]
          },
          "metadata": {},
          "execution_count": 95
        }
      ]
    },
    {
      "cell_type": "markdown",
      "source": [
        "#분류모델\n",
        "- 로지스틱 회귀: 이항분류  \n",
        "- KNN 분류: 다항분류  \n",
        "- softmax: 다항분류"
      ],
      "metadata": {
        "id": "MGWaN4AA44P6"
      }
    },
    {
      "cell_type": "markdown",
      "source": [
        "사건 a가 발생할 확률을 P(a)라고 하자.  \n",
        "\n",
        "P(a and b)는 사건 a와 b가 발생할 확률을 말한다.  \n",
        "\n",
        "P(a|b)는 사건 b가 발생한 상태에서 사건 a가 발생할 확률(조건부 확률)을 말한다.   \n",
        "\n",
        "P(a and b) = P(a|b)*P(b) 이다.  \n",
        "\n",
        "만약, 사건 a와 사건 b가 독립사건이라면  P(a|b) = P(a)  \n",
        "\n",
        "따라서 P(a and b) = P(a|b)P(b) = P(a)P(b)"
      ],
      "metadata": {
        "id": "tVP1CAPI5QSj"
      }
    },
    {
      "cell_type": "markdown",
      "source": [
        "a,b,c,d,e 가 모두 독립 사건 일 때,  \n",
        "P(a and b and c and d and e) = P(a) * P(b) * P(c) * P(d) * P(e)  \n",
        "\n",
        "단, 이 중 하나라도 확률값이 0인 사건이 있으면, 결과는 무조건 0 이다.  \n",
        "\n",
        "확률에 log를 취하는 것을 logit이라 부른다.  \n",
        "logit(P(a and b and c and d and e)) = logit(P(a) * P(b) * P(c) * P(d) * P(e))  "
      ],
      "metadata": {
        "id": "gnvCfV3v6h9h"
      }
    },
    {
      "cell_type": "code",
      "source": [
        "import math"
      ],
      "metadata": {
        "id": "9r-Ogt8X45xY"
      },
      "execution_count": 96,
      "outputs": []
    },
    {
      "cell_type": "code",
      "source": [
        "#log의 특징\n",
        "a=3\n",
        "b=2\n",
        "r = math.log(a) + math.log(b)\n",
        "r2 = math.log(a*b)\n",
        "r,r2"
      ],
      "metadata": {
        "colab": {
          "base_uri": "https://localhost:8080/"
        },
        "id": "WbE_XSfV5PxV",
        "outputId": "e6d6feba-2d19-417a-de44-8e73da380431"
      },
      "execution_count": 97,
      "outputs": [
        {
          "output_type": "execute_result",
          "data": {
            "text/plain": [
              "(1.791759469228055, 1.791759469228055)"
            ]
          },
          "metadata": {},
          "execution_count": 97
        }
      ]
    },
    {
      "cell_type": "code",
      "source": [
        "#log의 역함수 = exp\n",
        "r3 = math.exp(r)\n",
        "r3"
      ],
      "metadata": {
        "colab": {
          "base_uri": "https://localhost:8080/"
        },
        "id": "vDoVvOTy7xLu",
        "outputId": "14f35edd-9e83-4bc0-a55f-2e209e7187a5"
      },
      "execution_count": 98,
      "outputs": [
        {
          "output_type": "execute_result",
          "data": {
            "text/plain": [
              "6.0"
            ]
          },
          "metadata": {},
          "execution_count": 98
        }
      ]
    },
    {
      "cell_type": "code",
      "source": [
        "from sklearn.linear_model import LogisticRegression"
      ],
      "metadata": {
        "id": "B9MB1OJA8Bem"
      },
      "execution_count": 99,
      "outputs": []
    },
    {
      "cell_type": "markdown",
      "source": [
        "#다항 분류  \n",
        "- KNN분류  \n",
        "  : K개의 이웃을 찾아 가장 많은 빈도수에 해당하는 클래스로 예측하는 모델  \n",
        "  \n",
        "- softmax  \n",
        "   우선 모든 분류를 특정 클래스일 확률로 계산한다.(로지스틱 회귀 사용)  \n",
        "   클래스 A의 logistic 회귀 결과를 P(A)  \n",
        "   클래스 B의 logistic 회귀 결과를 P(B)  \n",
        "   클래스 C의 logistic 회귀 결과를 P(C)  \n",
        "   클래스 D의 logistic 회귀 결과를 P(D)  \n",
        "   P(A)+P(B)+P(C)+P(D)+... = 1 이어야 하지만, 실제결과는 1과 비슷한 값일 뿐 정확한 1이 아닐 수 있다.  \n",
        "\n",
        "   SP = P(A)+P(B)+P(C)+P(D)+...  \n",
        "   클래스 A의 logistic 회귀 결과를 P(A)/SP  \n",
        "   클래스 B의 logistic 회귀 결과를 P(B)/SP  \n",
        "   클래스 C의 logistic 회귀 결과를 P(C)/SP  \n",
        "   클래스 D의 logistic 회귀 결과를 P(D)/SP  \n",
        "   로 결정하는 것을 softmax라고 부른다.\n"
      ],
      "metadata": {
        "id": "5Mbdz4VD8nRL"
      }
    },
    {
      "cell_type": "code",
      "source": [
        "import tensorflow as tf\n",
        "\n",
        "arr = np.array([0,1,2,2,3,1,2,3,4,2,1,0]) #종속변수\n",
        "data = tf.keras.utils.to_categorical(arr) #0일 확률, 1일 확률, 2일 확률, 3일 확률, 4일 확률 로 바꿔서 입력해 줘야 함 -> tf.keras.utils 제공\n",
        "data"
      ],
      "metadata": {
        "colab": {
          "base_uri": "https://localhost:8080/"
        },
        "id": "1sdGKB6K8m_9",
        "outputId": "0d9bbd25-776e-4793-d753-dd6c9a4931a7"
      },
      "execution_count": 100,
      "outputs": [
        {
          "output_type": "execute_result",
          "data": {
            "text/plain": [
              "array([[1., 0., 0., 0., 0.],\n",
              "       [0., 1., 0., 0., 0.],\n",
              "       [0., 0., 1., 0., 0.],\n",
              "       [0., 0., 1., 0., 0.],\n",
              "       [0., 0., 0., 1., 0.],\n",
              "       [0., 1., 0., 0., 0.],\n",
              "       [0., 0., 1., 0., 0.],\n",
              "       [0., 0., 0., 1., 0.],\n",
              "       [0., 0., 0., 0., 1.],\n",
              "       [0., 0., 1., 0., 0.],\n",
              "       [0., 1., 0., 0., 0.],\n",
              "       [1., 0., 0., 0., 0.]], dtype=float32)"
            ]
          },
          "metadata": {},
          "execution_count": 100
        }
      ]
    },
    {
      "cell_type": "markdown",
      "source": [
        "https://scikit-learn.org/stable/  \n",
        "해당 사이트에서 확인 가능  "
      ],
      "metadata": {
        "id": "vG2u6GIXB1uz"
      }
    },
    {
      "cell_type": "markdown",
      "source": [
        "#Deep Learning 이란?\n",
        "퍼셉트론  \n",
        "인공 신경망(ANN)  \n",
        "활성화 함수  \n",
        "최적화 함수  \n",
        "역전파 함수  \n",
        "완전 연결 : 노드 n,m개를 모두 연결한다  \n"
      ],
      "metadata": {
        "id": "87GOpmHxC5ks"
      }
    },
    {
      "cell_type": "code",
      "source": [
        ""
      ],
      "metadata": {
        "id": "dnLivVD6BV9x"
      },
      "execution_count": null,
      "outputs": []
    }
  ]
}