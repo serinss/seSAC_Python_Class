{
  "nbformat": 4,
  "nbformat_minor": 0,
  "metadata": {
    "colab": {
      "name": "통계분석시각화 - 응용.ipynb",
      "provenance": [],
      "collapsed_sections": [],
      "authorship_tag": "ABX9TyMI3oW42LxVikTDiUHgMRDQ",
      "include_colab_link": true
    },
    "kernelspec": {
      "name": "python3",
      "display_name": "Python 3"
    },
    "language_info": {
      "name": "python"
    }
  },
  "cells": [
    {
      "cell_type": "markdown",
      "metadata": {
        "id": "view-in-github",
        "colab_type": "text"
      },
      "source": [
        "<a href=\"https://colab.research.google.com/github/serinss/seSAC_Python_Class/blob/main/%ED%86%B5%EA%B3%84%EB%B6%84%EC%84%9D%EC%8B%9C%EA%B0%81%ED%99%94_%EC%9D%91%EC%9A%A9.ipynb\" target=\"_parent\"><img src=\"https://colab.research.google.com/assets/colab-badge.svg\" alt=\"Open In Colab\"/></a>"
      ]
    },
    {
      "cell_type": "markdown",
      "source": [
        "- 파이참 설치 및 모듈 설치(방법만 알려주심)  \n",
        "  - 세팅 → Project:이름 → Python Interpreter → +버튼 ‘matplotlib’ 검색 후 설치  \n",
        "- Json, XML to Pandas\n",
        "- 워드 클라우드\n",
        "- 타이타닉.csv 파일 분석 및 시각화"
      ],
      "metadata": {
        "id": "M3cXi176FHU6"
      }
    },
    {
      "cell_type": "code",
      "source": [
        "#파이참에서 코드 실행해보기\n",
        "\n",
        "import matplotlib.pyplot as plt\n",
        "\n",
        "plt.plot([1,2,3,4])\n",
        "plt.show()"
      ],
      "metadata": {
        "id": "kTS4jGA1JPUS"
      },
      "execution_count": null,
      "outputs": []
    },
    {
      "cell_type": "code",
      "execution_count": 1,
      "metadata": {
        "id": "9D193KfzEtl_"
      },
      "outputs": [],
      "source": [
        "import urllib.request"
      ]
    },
    {
      "cell_type": "code",
      "source": [
        "url = 'https://dapi.kakao.com/v3/search/book' # OpenAPI 서비스 제공 URL\n",
        "target_param = \"target=title\" # 전달 인자\n",
        "page_param = \"page=2\"         # 전달 인자\n",
        "query_in = input(\"검색 질의: \")\n",
        "query_param = \"query=\" + urllib.parse.quote(query_in) # utf-8로 인코딩 (open API에서는 표준화해서 서비스)\n",
        "query_str = url + '?' + target_param + '&' + query_param + '&' + page_param # 쿼리 문자열\n",
        "\n",
        "print(\"요청 url:\",query_str)\n",
        "print()\n",
        "print(\">>검색결과\")\n",
        "\n",
        "#urllib.request.urlopen(query_str) #HTTP Error 401: Unauthorized 인증키를 가지고 있지 않으므로 권한이 없음\n",
        "request = urllib.request.Request(query_str) # 서비스 요청에 사용할 개체를 생성\n",
        "request.add_header(\"Authorization\", \"KakaoAK ee4c503f3cfa3a8198333f0f803f8be3\")\n",
        "response = urllib.request.urlopen(request) # 웹 서버에 요청\n",
        "res = response.read().decode('utf-8')\n",
        "print(res) #JSON 방식으로 반환"
      ],
      "metadata": {
        "id": "qRLtNx3iJZ5F"
      },
      "execution_count": null,
      "outputs": []
    }
  ]
}