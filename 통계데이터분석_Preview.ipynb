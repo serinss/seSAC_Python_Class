{
  "nbformat": 4,
  "nbformat_minor": 0,
  "metadata": {
    "colab": {
      "name": "통계데이터분석-Preview.ipynb",
      "provenance": [],
      "authorship_tag": "ABX9TyNCuqWW2hfw3O5u+xfHJzdH",
      "include_colab_link": true
    },
    "kernelspec": {
      "name": "python3",
      "display_name": "Python 3"
    },
    "language_info": {
      "name": "python"
    }
  },
  "cells": [
    {
      "cell_type": "markdown",
      "metadata": {
        "id": "view-in-github",
        "colab_type": "text"
      },
      "source": [
        "<a href=\"https://colab.research.google.com/github/serinss/seSAC_Python_Class/blob/main/%ED%86%B5%EA%B3%84%EB%8D%B0%EC%9D%B4%ED%84%B0%EB%B6%84%EC%84%9D_Preview.ipynb\" target=\"_parent\"><img src=\"https://colab.research.google.com/assets/colab-badge.svg\" alt=\"Open In Colab\"/></a>"
      ]
    },
    {
      "cell_type": "markdown",
      "source": [
        "#데이터분석에 자주 사용하는 문법 리뷰"
      ],
      "metadata": {
        "id": "mNO6ahFRToDw"
      }
    },
    {
      "cell_type": "code",
      "execution_count": null,
      "metadata": {
        "id": "1cnGEctvTbZX"
      },
      "outputs": [],
      "source": [
        ""
      ]
    },
    {
      "cell_type": "markdown",
      "source": [
        "#벡터"
      ],
      "metadata": {
        "id": "6bAPmLHOTrNE"
      }
    },
    {
      "cell_type": "markdown",
      "source": [
        "#행렬"
      ],
      "metadata": {
        "id": "bf3gJJlmTsSp"
      }
    },
    {
      "cell_type": "markdown",
      "source": [
        "#통계"
      ],
      "metadata": {
        "id": "TwSQHjbjTtGM"
      }
    },
    {
      "cell_type": "markdown",
      "source": [
        "#확률"
      ],
      "metadata": {
        "id": "PuGX9QCMTuWG"
      }
    },
    {
      "cell_type": "markdown",
      "source": [
        "#가설과 추론"
      ],
      "metadata": {
        "id": "E1e2picYTvQb"
      }
    },
    {
      "cell_type": "markdown",
      "source": [
        "#선형 회귀"
      ],
      "metadata": {
        "id": "85te-pqlTwf3"
      }
    },
    {
      "cell_type": "markdown",
      "source": [
        "#로지스틱 회귀"
      ],
      "metadata": {
        "id": "LpJzLOQ2Txe5"
      }
    },
    {
      "cell_type": "markdown",
      "source": [
        "#KNN"
      ],
      "metadata": {
        "id": "QN8F9ezETys6"
      }
    },
    {
      "cell_type": "markdown",
      "source": [
        "#KMeans"
      ],
      "metadata": {
        "id": "O3VSp1f9T0Lw"
      }
    },
    {
      "cell_type": "markdown",
      "source": [
        "#의사결정트리"
      ],
      "metadata": {
        "id": "IIDvGUAFT2Y1"
      }
    }
  ]
}