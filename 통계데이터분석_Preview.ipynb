{
  "nbformat": 4,
  "nbformat_minor": 0,
  "metadata": {
    "colab": {
      "name": "통계데이터분석-Preview.ipynb",
      "provenance": [],
      "authorship_tag": "ABX9TyMpu1hQdW3vobyRqkN+e/tU",
      "include_colab_link": true
    },
    "kernelspec": {
      "name": "python3",
      "display_name": "Python 3"
    },
    "language_info": {
      "name": "python"
    }
  },
  "cells": [
    {
      "cell_type": "markdown",
      "metadata": {
        "id": "view-in-github",
        "colab_type": "text"
      },
      "source": [
        "<a href=\"https://colab.research.google.com/github/serinss/seSAC_Python_Class/blob/main/%ED%86%B5%EA%B3%84%EB%8D%B0%EC%9D%B4%ED%84%B0%EB%B6%84%EC%84%9D_Preview.ipynb\" target=\"_parent\"><img src=\"https://colab.research.google.com/assets/colab-badge.svg\" alt=\"Open In Colab\"/></a>"
      ]
    },
    {
      "cell_type": "markdown",
      "source": [
        "#데이터분석에 자주 사용하는 문법 리뷰"
      ],
      "metadata": {
        "id": "mNO6ahFRToDw"
      }
    },
    {
      "cell_type": "markdown",
      "source": [
        "#벡터\n",
        "스칼라(scalar)는 크기만 가진 물리량, 벡터(vector)는 크기와 방향을 가진 물리량"
      ],
      "metadata": {
        "id": "6bAPmLHOTrNE"
      }
    },
    {
      "cell_type": "markdown",
      "source": [
        "#행렬\n",
        "- 행렬 방정식 생성 가능  \n",
        "x+2y=5  \n",
        "2x+3y=8  \n",
        "해당 연립 방정식의 해 (x,y)를 역행렬을 통해 계산할 수 있음 (아래 코드)  \n",
        "- 역행렬\n",
        "- 브로드캐스팅   \n",
        ":벡터와 스칼라의 경우에는 관례적으로 다음처럼 1-벡터를 사용하여 스칼라를 벡터로 변환한 연산을 허용하는 것  \n",
        "데이터 분석에서는 원래의 데이터 벡터 x가 아니라 그 데이터 벡터의 각 원소의 평균값을 뺀 평균제거(mean removed) 벡터 혹은 0-평균(zero-mean) 벡터를 사용하는 경우가 많다."
      ],
      "metadata": {
        "id": "bf3gJJlmTsSp"
      }
    },
    {
      "cell_type": "code",
      "source": [
        "import numpy as np\n",
        "import pandas as pd\n",
        "import matplotlib.pyplot as plt\n",
        "import math"
      ],
      "metadata": {
        "id": "iO83nO8zVqwz"
      },
      "execution_count": 60,
      "outputs": []
    },
    {
      "cell_type": "code",
      "source": [
        "a = np.array([[1,2],[2,3]])\n",
        "b = np.array([[5],[8]])\n",
        "ar = np.linalg.inv(a) #역행렬\n",
        "answer = ar@b #행렬곱 : @ / 내적 : dot / 스칼라곱 : *\n",
        "answer"
      ],
      "metadata": {
        "colab": {
          "base_uri": "https://localhost:8080/"
        },
        "id": "HbSQmnl7VmzJ",
        "outputId": "677610f8-d1a9-4ccf-aefa-29e1ee811e6d"
      },
      "execution_count": 61,
      "outputs": [
        {
          "output_type": "execute_result",
          "data": {
            "text/plain": [
              "array([[1.],\n",
              "       [2.]])"
            ]
          },
          "metadata": {},
          "execution_count": 61
        }
      ]
    },
    {
      "cell_type": "markdown",
      "source": [
        "#통계"
      ],
      "metadata": {
        "id": "TwSQHjbjTtGM"
      }
    },
    {
      "cell_type": "code",
      "source": [
        "heights = np.random.normal(174,10,size=10000)\n",
        "hs = pd.Series(heights.round())\n",
        "hs.value_counts()"
      ],
      "metadata": {
        "colab": {
          "base_uri": "https://localhost:8080/"
        },
        "id": "Jz2ng9Y-Xjg9",
        "outputId": "e33ae358-04bf-4a58-be48-ed41249be383"
      },
      "execution_count": 7,
      "outputs": [
        {
          "output_type": "execute_result",
          "data": {
            "text/plain": [
              "177.0    403\n",
              "172.0    400\n",
              "175.0    398\n",
              "176.0    396\n",
              "173.0    395\n",
              "        ... \n",
              "139.0      1\n",
              "207.0      1\n",
              "206.0      1\n",
              "208.0      1\n",
              "141.0      1\n",
              "Length: 72, dtype: int64"
            ]
          },
          "metadata": {},
          "execution_count": 7
        }
      ]
    },
    {
      "cell_type": "code",
      "source": [
        "plt.hist(heights,bins=100)\n",
        "plt.show()"
      ],
      "metadata": {
        "colab": {
          "base_uri": "https://localhost:8080/",
          "height": 265
        },
        "id": "Oz3BWzz6YBMa",
        "outputId": "a78cd7a0-e07c-469c-fd7a-8ca4a44f3146"
      },
      "execution_count": 10,
      "outputs": [
        {
          "output_type": "display_data",
          "data": {
            "image/png": "[encoded data removed]",
            "text/plain": [
              "<Figure size 432x288 with 1 Axes>"
            ]
          },
          "metadata": {
            "needs_background": "light"
          }
        }
      ]
    },
    {
      "cell_type": "markdown",
      "source": [
        "#확률\n",
        "\n"
      ],
      "metadata": {
        "id": "PuGX9QCMTuWG"
      }
    },
    {
      "cell_type": "markdown",
      "source": [
        "###Q1.\n",
        "1부터 6까지 쓰여진 6면체의 주사위가 있다.   \n",
        "1이 나올 확률이 1/6  \n",
        "2가 나올 확률이 1/12  \n",
        "3이 나올 확률이 1/12  \n",
        "4가 나올 확률이 1/3  \n",
        "5가 나올 확률이 1/6  \n",
        "6이 나올 확률이 1/6  \n",
        "주사위를 100번 던지는 실험을 해 보세요.(단, 공평하지 않은 주사위)  \n"
      ],
      "metadata": {
        "id": "5i0rbRbmYlbC"
      }
    },
    {
      "cell_type": "markdown",
      "source": [
        "###A1.\n",
        "0부터 11 사이의 랜덤한 수를 발생시킨다.  \n",
        "발생한 수가 0,1 이면 주사위 1  \n",
        "발생한 수가 2 이면 주사위 2  \n",
        "발생한 수가 3 이면 주사위 3  \n",
        "발생한 수가 4,5,6,7 이면 주사위 4  \n",
        "발생한 수가 8,9 이면 주사위 5  \n",
        "발생한 수가 10,11 이면 주사위 6  "
      ],
      "metadata": {
        "id": "EGDX2sj3ZRdB"
      }
    },
    {
      "cell_type": "code",
      "source": [
        "data = np.random.randint(0,12,1000) #시도 횟수가 높아질수록, 각각의 확률에 근접한다\n",
        "cnts = np.zeros(6)\n",
        "for tv in data:\n",
        "  if tv==0 or tv==1:\n",
        "    cnts[0]+=1\n",
        "  elif tv==2:\n",
        "    cnts[1]+=1\n",
        "  elif tv==3:\n",
        "    cnts[2]+=1\n",
        "  elif tv>=4 and tv<=7:\n",
        "    cnts[3]+=1\n",
        "  elif tv==8 or tv==9:\n",
        "    cnts[4]+=1\n",
        "  else:\n",
        "    cnts[5]+=1\n",
        "cnts"
      ],
      "metadata": {
        "colab": {
          "base_uri": "https://localhost:8080/"
        },
        "id": "g8MUaeV_Zxsv",
        "outputId": "d256b24b-2872-4c54-8791-671ce6abe942"
      },
      "execution_count": 13,
      "outputs": [
        {
          "output_type": "execute_result",
          "data": {
            "text/plain": [
              "array([179.,  87.,  96., 311., 149., 178.])"
            ]
          },
          "metadata": {},
          "execution_count": 13
        }
      ]
    },
    {
      "cell_type": "markdown",
      "source": [
        "#가설과 추론"
      ],
      "metadata": {
        "id": "E1e2picYTvQb"
      }
    },
    {
      "cell_type": "markdown",
      "source": [
        "현재는 2029년 Covid 이후에 전 세계에 새로운 전염병이 창궐  \n",
        "바이러스의 이름은 eh, 초기 감염률 0.001  \n",
        "sesac_medical에서는 테스터를 개발하여 발표하였는데  \n",
        "양성인지 음성인지 판별하였을 때, 정확도가 99%라고 한다.  \n",
        "해당 테스터는 유의미한 테스터인지 판별하시오.  "
      ],
      "metadata": {
        "id": "XcEDGEoub0vz"
      }
    },
    {
      "cell_type": "markdown",
      "source": [
        "###거짓 양성과 거짓 음성\n",
        "거짓 양성(false positive) 또는 1종 오류(type I error)는 통계상 실제로는 음성인데 검사 결과는 양성이라고 나오는 것이다. 예를 들어, 어떤 메일이 스팸 메일인지 검사하는 프로그램이 있다고 하자. 이때 어떤 메일이 실제로는 스팸 메일이 아니지만 프로그램 검사 결과 스팸 메일이라고 판정한다면, 이것이 거짓 양성이다. 위양성(僞陽性), 혹은 거짓 경보(false alarm)라고도 한다."
      ],
      "metadata": {
        "id": "j25ueT7sdEaC"
      }
    },
    {
      "cell_type": "code",
      "source": [
        "temperature = [25.2,27.4,22.9,26.2,29.5,33.1,30.4,36.1,34.3,29.1]\n",
        "sales = [236500,357500,203500,365200,446600,574200,453200,675400,598400,463100]\n",
        "dict_data = {'temp':temperature,\"sales\":sales}\n",
        "df_sales = pd.DataFrame(dict_data, columns=['temp','sales'])\n",
        "df_sales.plot.scatter(x='temp',y='sales',grid=True,title='temp by sales data')\n",
        "plt.show()"
      ],
      "metadata": {
        "colab": {
          "base_uri": "https://localhost:8080/",
          "height": 295
        },
        "id": "Ihl8h8zBcHia",
        "outputId": "5c770790-8120-4aa4-999f-4014d0ecc922"
      },
      "execution_count": 15,
      "outputs": [
        {
          "output_type": "display_data",
          "data": {
            "image/png": "[encoded data removed]",
            "text/plain": [
              "<Figure size 432x288 with 1 Axes>"
            ]
          },
          "metadata": {
            "needs_background": "light"
          }
        }
      ]
    },
    {
      "cell_type": "code",
      "source": [
        "#선형 핵을 통해 직선의 방정식을 구하시오\n",
        "\n",
        "#그래프 일대일 형태로 재정의\n",
        "sales2 = np.array(sales)/10000 #10000으로 나눠서 근사치 구하기\n",
        "dict_data2 = {'temp':temperature,\"sales2\":sales2}\n",
        "df_sales2 = pd.DataFrame(dict_data2, columns=['temp','sales2'])\n",
        "plt.figure(figsize=(6,6)) # 1-1\n",
        "plt.plot(temperature,sales2,'o')\n",
        "plt.xlim(0,80) \n",
        "plt.ylim(0,80) # 1-1\n",
        "plt.show()"
      ],
      "metadata": {
        "colab": {
          "base_uri": "https://localhost:8080/",
          "height": 378
        },
        "id": "tmTwnTIbepe5",
        "outputId": "535f2f5f-df56-4f5c-d7ae-8bc2daba4734"
      },
      "execution_count": 17,
      "outputs": [
        {
          "output_type": "display_data",
          "data": {
            "image/png": "[encoded data removed]",
            "text/plain": [
              "<Figure size 432x432 with 1 Axes>"
            ]
          },
          "metadata": {
            "needs_background": "light"
          }
        }
      ]
    },
    {
      "cell_type": "markdown",
      "source": [
        "y = ax + b  \n",
        "y = wx + b : 머신러닝에서 표현하는 방식  \n",
        "- w (weight): 가중치 - 독립변수 x가 종속 변수 y에 영향을 주는 정도  \n",
        "- b (bias): 편향 - 주어진 인자 외에 결과 y에 영향을 주는 정도\n",
        "\n",
        "y = 3x - 5 (예측)  \n",
        "y = 4x - 2 (예측2)  \n",
        "y = 5x - 3 (예측3)  \n",
        "y = 4x - 5 (예측4)  "
      ],
      "metadata": {
        "id": "vZfmMf4tinqJ"
      }
    },
    {
      "cell_type": "code",
      "source": [
        "ales2 = np.array(sales)/10000 #10000으로 나눠서 근사치 구하기\n",
        "dict_data2 = {'temp':temperature,\"sales2\":sales2}\n",
        "df_sales2 = pd.DataFrame(dict_data2, columns=['temp','sales2'])\n",
        "plt.figure(figsize=(6,6)) # 1-1\n",
        "plt.plot(temperature,sales2,'o')\n",
        "plt.plot([0,80],[3*0-5,3*80-5],'-',label='y=3x-5') \n",
        "plt.plot([0,80],[4*0-2,4*80-2],'-',label='y=4x-2') \n",
        "plt.plot([0,80],[5*0-3,5*80-3],'-',label='y=5x-3') \n",
        "plt.plot([0,80],[3.8*0-68,3.8*80-68],'-',label='y=3.8x-68') \n",
        "plt.ylim(0,80) # 1-1\n",
        "plt.xlim(0,80) # 1-1\n",
        "plt.legend()\n",
        "plt.show()"
      ],
      "metadata": {
        "colab": {
          "base_uri": "https://localhost:8080/",
          "height": 378
        },
        "id": "n7mhDrWrign-",
        "outputId": "9ec62bc2-76ff-4a78-ac1f-7b5309b444ed"
      },
      "execution_count": 28,
      "outputs": [
        {
          "output_type": "display_data",
          "data": {
            "image/png": "[encoded data removed]",
            "text/plain": [
              "<Figure size 432x432 with 1 Axes>"
            ]
          },
          "metadata": {
            "needs_background": "light"
          }
        }
      ]
    },
    {
      "cell_type": "markdown",
      "source": [
        "###MSE\n",
        "![MSE.png](data:image/png;base64,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)"
      ],
      "metadata": {
        "id": "Sp2HZMwsok22"
      }
    },
    {
      "cell_type": "code",
      "source": [
        "es1 = 0\n",
        "es2 = 0\n",
        "es3 = 0\n",
        "es4 = 0\n",
        "es5 = 0\n",
        "for i,temp in enumerate(temperature):\n",
        "  yp1 = 3*temp -5 #예측값\n",
        "  yp2 = 4*temp -2 #예측값\n",
        "  yp3 = 5*temp -3 #예측값\n",
        "  yp4 = 4*temp -5 #예측값\n",
        "  yp5 = 3.4*temp -55 #예측값\n",
        "  y = sales2[i] #실제값\n",
        "  es1 += abs(yp1-y) # 오차들의 합(대략적으로 비교) -> 가중치를 두는데 필요..\n",
        "  es2 += abs(yp2-y) # mse 최적화된 오차를 구하는 방법\n",
        "  es3 += abs(yp3-y)\n",
        "  es4 += abs(yp4-y)\n",
        "  es5 += abs(yp5-y)\n",
        "print(\"오차1:\", es1)\n",
        "print(\"오차2:\", es2)\n",
        "print(\"오차3:\", es3)\n",
        "print(\"오차4:\", es4)\n",
        "print(\"오차5:\", es5)"
      ],
      "metadata": {
        "colab": {
          "base_uri": "https://localhost:8080/"
        },
        "id": "tCPH1xNclxei",
        "outputId": "e864fa7b-4b08-4f18-fb9e-54b648656f72"
      },
      "execution_count": 41,
      "outputs": [
        {
          "output_type": "stream",
          "name": "stdout",
          "text": [
            "오차1: 395.23999999999995\n",
            "오차2: 719.44\n",
            "오차3: 1003.6400000000001\n",
            "오차4: 689.44\n",
            "오차5: 22.539999999999978\n"
          ]
        }
      ]
    },
    {
      "cell_type": "code",
      "source": [
        "es1 = 0\n",
        "es2 = 0\n",
        "es3 = 0\n",
        "es4 = 0\n",
        "es5 = 0\n",
        "for i,temp in enumerate(temperature):\n",
        "  yp1 = 3*temp -5 #예측값\n",
        "  yp2 = 4*temp -2 #예측값\n",
        "  yp3 = 5*temp -3 #예측값\n",
        "  yp4 = 4*temp -5 #예측값\n",
        "  yp5 = 3.4*temp -55 #예측값\n",
        "  y = sales2[i] #실제값\n",
        "  es1 += (yp1-y)**2 # mean squered error\n",
        "  es2 += (yp2-y)**2\n",
        "  es3 += (yp3-y)**2\n",
        "  es4 += (yp4-y)**2\n",
        "  es5 += (yp5-y)**2\n",
        "print(\"오차1:\", es1)\n",
        "print(\"오차2:\", es2)\n",
        "print(\"오차3:\", es3)\n",
        "print(\"오차4:\", es4)\n",
        "print(\"오차5:\", es5)"
      ],
      "metadata": {
        "colab": {
          "base_uri": "https://localhost:8080/"
        },
        "id": "7-dk9fWun3w9",
        "outputId": "cc9a3162-cee8-4c07-f7f4-b6cacc53b117"
      },
      "execution_count": 40,
      "outputs": [
        {
          "output_type": "stream",
          "name": "stdout",
          "text": [
            "오차1: 15739.029599999996\n",
            "오차2: 51850.937600000005\n",
            "오차3: 101110.48559999999\n",
            "오차4: 47624.297600000005\n",
            "오차5: 85.97359999999985\n"
          ]
        }
      ]
    },
    {
      "cell_type": "markdown",
      "source": [
        "#선형 회귀\n",
        "https://ko.wikipedia.org/wiki/%EC%84%A0%ED%98%95_%ED%9A%8C%EA%B7%80  \n",
        "선형 회귀(線型回歸, 영어: linear regression)는 종속 변수 y와 한 개 이상의 독립 변수 (또는 설명 변수) X와의 선형 상관 관계를 모델링하는 회귀분석 기법이다. 한 개의 설명 변수에 기반한 경우에는 단순 선형 회귀(simple linear regression), 둘 이상의 설명 변수에 기반한 경우에는 다중 선형 회귀라고 한다."
      ],
      "metadata": {
        "id": "85te-pqlTwf3"
      }
    },
    {
      "cell_type": "markdown",
      "source": [
        "#로지스틱 회귀\n",
        "https://ko.wikipedia.org/wiki/%EB%A1%9C%EC%A7%80%EC%8A%A4%ED%8B%B1_%ED%9A%8C%EA%B7%80  \n",
        "로지스틱 회귀(영어: logistic regression)는 영국의 통계학자인 D. R. Cox가 1958년[1]에 제안한 확률 모델로서 독립 변수의 선형 결합을 이용하여 사건의 발생 가능성을 예측하는데 사용되는 통계 기법이다.  \n",
        "= sigmoid function"
      ],
      "metadata": {
        "id": "LpJzLOQ2Txe5"
      }
    },
    {
      "cell_type": "code",
      "source": [
        "#logistic function = sigmoid function\n",
        "def sigmoid(x): \n",
        "  return math.exp(x)/(1+math.exp(x))"
      ],
      "metadata": {
        "id": "ZwPAHESWpCaI"
      },
      "execution_count": 53,
      "outputs": []
    },
    {
      "cell_type": "code",
      "source": [
        "xs = [i/10 for i in range(-100,100,1)] # -10 ~ 10, 0.1\n",
        "ys = [sigmoid(x) for x in xs]\n",
        "plt.plot(xs,ys,'r-')\n",
        "plt.axvline(x=0,color='k')\n",
        "plt.title('sigmoid function')\n",
        "plt.grid(True)\n",
        "plt.show()"
      ],
      "metadata": {
        "colab": {
          "base_uri": "https://localhost:8080/",
          "height": 281
        },
        "id": "C6xh-oRgpT6D",
        "outputId": "7ee42cee-09f7-4059-9488-c6576ea5f714"
      },
      "execution_count": 59,
      "outputs": [
        {
          "output_type": "display_data",
          "data": {
            "image/png": "[encoded data removed]",
            "text/plain": [
              "<Figure size 432x288 with 1 Axes>"
            ]
          },
          "metadata": {
            "needs_background": "light"
          }
        }
      ]
    },
    {
      "cell_type": "markdown",
      "source": [
        "#KNN(최근접 이웃 알고리즘) & KMeans\n",
        "https://ko.wikipedia.org/wiki/K-%EC%B5%9C%EA%B7%BC%EC%A0%91_%EC%9D%B4%EC%9B%83_%EC%95%8C%EA%B3%A0%EB%A6%AC%EC%A6%98  \n",
        "k-최근접 이웃 알고리즘(또는 줄여서 k-NN)은 분류나 회귀에 사용되는 비모수 방식이다. 두 경우 모두 입력이 특징 공간 내 k개의 가장 가까운 훈련 데이터로 구성되어 있다. 출력은 k-NN이 분류로 사용되었는지 또는 회귀로 사용되었는지에 따라 다르다."
      ],
      "metadata": {
        "id": "QN8F9ezETys6"
      }
    },
    {
      "cell_type": "code",
      "source": [
        "temperature = [25.2,27.4,22.9,26.2,29.5,33.1,30.4,36.1,34.3,29.1]\n",
        "sales = [236500,357500,203500,365200,446600,574200,453200,675400,598400,463100]\n",
        "dict_data = {'temp':temperature,\"sales\":sales}\n",
        "df_sales = pd.DataFrame(dict_data, columns=['temp','sales'])\n",
        "df_sales.plot.scatter(x='temp',y='sales',grid=True,title='temp by sales data')\n",
        "plt.show()"
      ],
      "metadata": {
        "id": "WSEOgVlwvdKY"
      },
      "execution_count": null,
      "outputs": []
    },
    {
      "cell_type": "code",
      "source": [
        "temps = np.array([temp/10 for temp in range(-100,500,1)])\n",
        "sales = [3.4*temp - 55+np.random.randint(np.random.randint(-12,-7),np.random.randint(3,8)) for temp in temps]\n",
        "plt.plot(temps,sales,'.') #점인데도 불구하고 직선으로 보인다 (600개 가량)\n",
        "plt.show()\n",
        "#yp5 = 3.4*temp -55"
      ],
      "metadata": {
        "colab": {
          "base_uri": "https://localhost:8080/",
          "height": 265
        },
        "id": "7oFEyIzXv4sx",
        "outputId": "98f5fc77-6ac5-4558-fd35-7e0d0242495b"
      },
      "execution_count": 67,
      "outputs": [
        {
          "output_type": "display_data",
          "data": {
            "image/png": "[encoded data removed]",
            "text/plain": [
              "<Figure size 432x288 with 1 Axes>"
            ]
          },
          "metadata": {
            "needs_background": "light"
          }
        }
      ]
    },
    {
      "cell_type": "code",
      "source": [
        "temp = 25\n",
        "neighbors = [27.8,27.9,28,28.1,28.2] #28에 인접한 값들\n",
        "n_sales = np.zeros(5)\n",
        "for j,neighbor in enumerate(neighbors):\n",
        "  for i,stemp in enumerate(temps):\n",
        "    if neighbor == stemp:\n",
        "      n_sales[j] = sales[i]\n",
        "n_sales.mean() #28도일때, 판매량 평균"
      ],
      "metadata": {
        "colab": {
          "base_uri": "https://localhost:8080/"
        },
        "id": "yNmOK2UNxbGE",
        "outputId": "2a54d299-16cb-42a9-acc3-ddfb08b94735"
      },
      "execution_count": 73,
      "outputs": [
        {
          "output_type": "execute_result",
          "data": {
            "text/plain": [
              "37.2"
            ]
          },
          "metadata": {},
          "execution_count": 73
        }
      ]
    },
    {
      "cell_type": "markdown",
      "source": [
        "#리스케일링(Data Scaling)  \n",
        "거리를 계산할 , 인자마다 편차가 존재  \n",
        "그 편차값을 보정하기 위하여 사용  \n",
        "https://soo-jjeong.tistory.com/122  \n",
        "리스케일링 하면 평준화 및 편향보정돼서 머신러닝의 정확도가 높아진다"
      ],
      "metadata": {
        "id": "sF4ySmREzUSh"
      }
    },
    {
      "cell_type": "code",
      "source": [
        "heights = np.random.normal(174,10,size=10000) #normal : 평균이 174,표준편차가 10인 정규분포 데이터 10000개를 생성\n",
        "heights.mean(),heights.std()"
      ],
      "metadata": {
        "colab": {
          "base_uri": "https://localhost:8080/"
        },
        "id": "FbmuDJGbzlFE",
        "outputId": "9f0a6ea7-60b8-41d3-eefb-3109538a6981"
      },
      "execution_count": 77,
      "outputs": [
        {
          "output_type": "execute_result",
          "data": {
            "text/plain": [
              "(174.02029243377285, 10.106528266755127)"
            ]
          },
          "metadata": {},
          "execution_count": 77
        }
      ]
    },
    {
      "cell_type": "code",
      "source": [
        "heights2 = heights-heights.mean() #평균값 빼기\n",
        "heights2.mean(),heights2.std()"
      ],
      "metadata": {
        "colab": {
          "base_uri": "https://localhost:8080/"
        },
        "id": "IHOqjs5M0KIk",
        "outputId": "63d8169f-ef0f-4132-c964-6d9ec12cf6cf"
      },
      "execution_count": 78,
      "outputs": [
        {
          "output_type": "execute_result",
          "data": {
            "text/plain": [
              "(1.3659473552252167e-14, 10.106528266755127)"
            ]
          },
          "metadata": {},
          "execution_count": 78
        }
      ]
    },
    {
      "cell_type": "code",
      "source": [
        "heights3 = heights2/heights2.std() #표준편차로 나누어주기 -> 1.0\n",
        "heights3.mean(),heights3.std()"
      ],
      "metadata": {
        "colab": {
          "base_uri": "https://localhost:8080/"
        },
        "id": "r-6NE8J-0STa",
        "outputId": "657bc3b5-9380-4bfb-86e0-7ba23b8c7544"
      },
      "execution_count": 79,
      "outputs": [
        {
          "output_type": "execute_result",
          "data": {
            "text/plain": [
              "(1.3507417406799504e-15, 1.0)"
            ]
          },
          "metadata": {},
          "execution_count": 79
        }
      ]
    },
    {
      "cell_type": "markdown",
      "source": [
        "#퍼셉트론\n",
        "퍼셉트론(Perceptron) 은 학습이 가능한 초창기 신경망 모델이다. 이후 노드, 가중치, 층과 같은 새로운 개념이 도입되었다. 주어진 데이터를 선형 분리할 수 있다면 미분을 활용한 알고리즘은 100% 정확률로 수렴할 수 있다는 것이 증명되었다.\n",
        "\n",
        "딥러닝을 포함하여 현대 신경망은 퍼셉트론을 병렬 구조와 순차 구조로 결합한 형태이다. 즉, 퍼셉트론은 현대 신경망의 중요한 구성 요소이므로 구조와 동작, 학습 알고리즘, 특성을 제대로 이해할 필요가 있다."
      ],
      "metadata": {
        "id": "uY1RUmqJ1zNW"
      }
    },
    {
      "cell_type": "markdown",
      "source": [
        "#의사결정트리"
      ],
      "metadata": {
        "id": "IIDvGUAFT2Y1"
      }
    }
  ]
}