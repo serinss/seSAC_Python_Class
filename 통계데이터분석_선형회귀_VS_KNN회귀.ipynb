{
  "nbformat": 4,
  "nbformat_minor": 0,
  "metadata": {
    "colab": {
      "name": "통계데이터분석 - 선형회귀 VS KNN회귀.ipynb",
      "provenance": [],
      "collapsed_sections": [],
      "authorship_tag": "ABX9TyNJ7/nRFVAUnAaBcdVTvFPh",
      "include_colab_link": true
    },
    "kernelspec": {
      "name": "python3",
      "display_name": "Python 3"
    },
    "language_info": {
      "name": "python"
    }
  },
  "cells": [
    {
      "cell_type": "markdown",
      "metadata": {
        "id": "view-in-github",
        "colab_type": "text"
      },
      "source": [
        "<a href=\"https://colab.research.google.com/github/serinss/seSAC_Python_Class/blob/main/%ED%86%B5%EA%B3%84%EB%8D%B0%EC%9D%B4%ED%84%B0%EB%B6%84%EC%84%9D_%EC%84%A0%ED%98%95%ED%9A%8C%EA%B7%80_VS_KNN%ED%9A%8C%EA%B7%80.ipynb\" target=\"_parent\"><img src=\"https://colab.research.google.com/assets/colab-badge.svg\" alt=\"Open In Colab\"/></a>"
      ]
    },
    {
      "cell_type": "markdown",
      "source": [
        "#선형회귀 vs KNN회귀\n",
        "- 선형회귀함수 그래프는 직선의 방정식  \n",
        "  y = wx + b  \n",
        "  y: 종속변수, w:가중치, x:독립변수, b:편향  "
      ],
      "metadata": {
        "id": "iYQH5tOTKZqv"
      }
    },
    {
      "cell_type": "code",
      "source": [
        "import numpy as np\n",
        "import matplotlib.pyplot as plt\n",
        "import pandas as pd\n",
        "from sklearn.linear_model import LinearRegression"
      ],
      "metadata": {
        "id": "yIympYhmKnvv"
      },
      "execution_count": 23,
      "outputs": []
    },
    {
      "cell_type": "code",
      "execution_count": 15,
      "metadata": {
        "id": "4Z2NB1VOKVey"
      },
      "outputs": [],
      "source": [
        "import numpy as np\n",
        "n=1000\n",
        "heights = np.random.normal(174,8,n)"
      ]
    },
    {
      "cell_type": "code",
      "source": [
        "heights2 = [height//5 for height in heights]\n",
        "\n",
        "import pandas as pd\n",
        "se = pd.Series(heights2)\n",
        "svc = se.value_counts()"
      ],
      "metadata": {
        "id": "IeeloqHtK-g1"
      },
      "execution_count": 16,
      "outputs": []
    },
    {
      "cell_type": "code",
      "source": [
        "import matplotlib.pyplot as plt\n",
        "plt.bar(svc.index,svc.values)\n",
        "plt.show()"
      ],
      "metadata": {
        "colab": {
          "base_uri": "https://localhost:8080/",
          "height": 265
        },
        "id": "rMC0Q8NGKoRb",
        "outputId": "6e6b3b4d-33d0-4a5a-fd1e-66b40fd4b423"
      },
      "execution_count": 25,
      "outputs": [
        {
          "output_type": "display_data",
          "data": {
            "image/png": "[encoded data removed]",
            "text/plain": [
              "<Figure size 432x288 with 1 Axes>"
            ]
          },
          "metadata": {
            "needs_background": "light"
          }
        }
      ]
    },
    {
      "cell_type": "code",
      "source": [
        "bmi = np.random.normal(21,1,n)\n",
        "weights = bmi*(heights**2)/10000 #bmi 지수 생성, bmi = w/(txt),t단위는 m\n",
        "weights"
      ],
      "metadata": {
        "id": "K5T_fU9TMaMp"
      },
      "execution_count": null,
      "outputs": []
    },
    {
      "cell_type": "code",
      "source": [
        "plt.figure(figsize=(10,5))\n",
        "plt.plot(heights,weights,'.')\n",
        "plt.xlabel(\"height\")\n",
        "plt.ylabel(\"weight\")\n",
        "plt.xlim(0,220)\n",
        "plt.ylim(0,110)\n",
        "plt.grid(True)\n",
        "plt.show()"
      ],
      "metadata": {
        "colab": {
          "base_uri": "https://localhost:8080/",
          "height": 334
        },
        "id": "wdWkoh1YNEVY",
        "outputId": "33c5885e-4fa2-463c-ad2c-6514a71c45b4"
      },
      "execution_count": 30,
      "outputs": [
        {
          "output_type": "display_data",
          "data": {
            "image/png": "[encoded data removed]",
            "text/plain": [
              "<Figure size 720x360 with 1 Axes>"
            ]
          },
          "metadata": {
            "needs_background": "light"
          }
        }
      ]
    },
    {
      "cell_type": "code",
      "source": [
        "#xs = [ [weight] for weight in weights ]\n",
        "xs = weights.reshape(-1,1) #독립변수는 여러 개의 특성으로 구성할 수 있으므로 ML모델에서는 2차원 배열 형태로 학습 데이터를 입력 받음\n",
        "xs.shape"
      ],
      "metadata": {
        "colab": {
          "base_uri": "https://localhost:8080/"
        },
        "id": "UJqUousyOZBH",
        "outputId": "58d7ecf8-8dff-4aaf-b581-0a4607c574bc"
      },
      "execution_count": 31,
      "outputs": [
        {
          "output_type": "execute_result",
          "data": {
            "text/plain": [
              "(1000, 1)"
            ]
          },
          "metadata": {},
          "execution_count": 31
        }
      ]
    },
    {
      "cell_type": "code",
      "source": [
        "ys = heights #종속변수는 한 개이며 ML모델에서 1차원 배열 형태로 학습 데이터를 입력 받음\n",
        "ys.shape"
      ],
      "metadata": {
        "colab": {
          "base_uri": "https://localhost:8080/"
        },
        "id": "AGU1gKqhOx97",
        "outputId": "e8b6f3c7-1316-4b5c-e504-cddbc56fc6a9"
      },
      "execution_count": 32,
      "outputs": [
        {
          "output_type": "execute_result",
          "data": {
            "text/plain": [
              "(1000,)"
            ]
          },
          "metadata": {},
          "execution_count": 32
        }
      ]
    },
    {
      "cell_type": "code",
      "source": [
        "from sklearn.linear_model import LinearRegression\n",
        "lr_model = LinearRegression() #모델 개체 생성\n",
        "lr_model.fit(xs,ys) #학습\n",
        "lr_model.coef_, lr_model.intercept_ #가중치, 편항"
      ],
      "metadata": {
        "colab": {
          "base_uri": "https://localhost:8080/"
        },
        "id": "Ervc8mlwPMfn",
        "outputId": "8adf43d1-37c9-4280-eed5-d9e35fc32ad3"
      },
      "execution_count": 34,
      "outputs": [
        {
          "output_type": "execute_result",
          "data": {
            "text/plain": [
              "(array([1.05678151]), 106.52760131569929)"
            ]
          },
          "metadata": {},
          "execution_count": 34
        }
      ]
    },
    {
      "cell_type": "code",
      "source": [
        "txs = np.array([[50],[60],[67],[70],[94]]) #몸무게가 67,70,94일 때"
      ],
      "metadata": {
        "id": "g_Zek4iLQV1s"
      },
      "execution_count": 37,
      "outputs": []
    },
    {
      "cell_type": "code",
      "source": [
        "pred_val1 = lr_model.predict(txs) #키를 예측하시오\n",
        "pred_val1"
      ],
      "metadata": {
        "colab": {
          "base_uri": "https://localhost:8080/"
        },
        "id": "4_RO8Q27Qi8q",
        "outputId": "da710183-5d52-4983-fca9-371a9e656589"
      },
      "execution_count": 38,
      "outputs": [
        {
          "output_type": "execute_result",
          "data": {
            "text/plain": [
              "array([159.36667661, 169.93449167, 177.33196221, 180.50230673,\n",
              "       205.86506287])"
            ]
          },
          "metadata": {},
          "execution_count": 38
        }
      ]
    },
    {
      "cell_type": "markdown",
      "source": [
        "#회귀 VS 분류"
      ],
      "metadata": {
        "id": "w19oCMhmQhdh"
      }
    },
    {
      "cell_type": "markdown",
      "source": [
        "#지도 학습 VS 비지도 학습"
      ],
      "metadata": {
        "id": "5K1wHJsfKjjk"
      }
    },
    {
      "cell_type": "markdown",
      "source": [
        "#KMeans"
      ],
      "metadata": {
        "id": "SBeEXRMcKleZ"
      }
    }
  ]
}