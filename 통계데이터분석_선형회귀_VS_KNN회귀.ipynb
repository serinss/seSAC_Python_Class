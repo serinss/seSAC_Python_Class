{
  "nbformat": 4,
  "nbformat_minor": 0,
  "metadata": {
    "colab": {
      "name": "통계데이터분석 - 선형회귀 VS KNN회귀.ipynb",
      "provenance": [],
      "collapsed_sections": [],
      "authorship_tag": "ABX9TyPD4cXRGh0WGLLuU453e31e",
      "include_colab_link": true
    },
    "kernelspec": {
      "name": "python3",
      "display_name": "Python 3"
    },
    "language_info": {
      "name": "python"
    }
  },
  "cells": [
    {
      "cell_type": "markdown",
      "metadata": {
        "id": "view-in-github",
        "colab_type": "text"
      },
      "source": [
        "<a href=\"https://colab.research.google.com/github/serinss/seSAC_Python_Class/blob/main/%ED%86%B5%EA%B3%84%EB%8D%B0%EC%9D%B4%ED%84%B0%EB%B6%84%EC%84%9D_%EC%84%A0%ED%98%95%ED%9A%8C%EA%B7%80_VS_KNN%ED%9A%8C%EA%B7%80.ipynb\" target=\"_parent\"><img src=\"https://colab.research.google.com/assets/colab-badge.svg\" alt=\"Open In Colab\"/></a>"
      ]
    },
    {
      "cell_type": "markdown",
      "source": [
        "#선형회귀 vs KNN회귀\n",
        "- 선형회귀함수 그래프는 직선의 방정식  \n",
        "  y = wx + b  \n",
        "  y: 종속변수, w:가중치, x:독립변수, b:편향  "
      ],
      "metadata": {
        "id": "iYQH5tOTKZqv"
      }
    },
    {
      "cell_type": "code",
      "source": [
        "import numpy as np\n",
        "import matplotlib.pyplot as plt\n",
        "import pandas as pd\n",
        "from sklearn.linear_model import LinearRegression\n",
        "from sklearn.linear_model import KNeightborsRegressor\n",
        "from sklearn.neighbors import KNeighborsRegressor\n",
        "from sklearn.model_selection import train_test_split"
      ],
      "metadata": {
        "id": "yIympYhmKnvv"
      },
      "execution_count": 23,
      "outputs": []
    },
    {
      "cell_type": "code",
      "execution_count": 15,
      "metadata": {
        "id": "4Z2NB1VOKVey"
      },
      "outputs": [],
      "source": [
        "import numpy as np\n",
        "n=1000\n",
        "heights = np.random.normal(174,8,n)"
      ]
    },
    {
      "cell_type": "code",
      "source": [
        "heights2 = [height//0.5 for height in heights] #표준편차 조정\n",
        "\n",
        "import pandas as pd\n",
        "se = pd.Series(heights2)\n",
        "svc = se.value_counts()"
      ],
      "metadata": {
        "id": "IeeloqHtK-g1"
      },
      "execution_count": 67,
      "outputs": []
    },
    {
      "cell_type": "code",
      "source": [
        "import matplotlib.pyplot as plt\n",
        "plt.bar(svc.index,svc.values)\n",
        "plt.show()"
      ],
      "metadata": {
        "colab": {
          "base_uri": "https://localhost:8080/",
          "height": 265
        },
        "id": "rMC0Q8NGKoRb",
        "outputId": "f9b4bfc8-d033-4115-c336-c5146d6436e9"
      },
      "execution_count": 68,
      "outputs": [
        {
          "output_type": "display_data",
          "data": {
            "image/png": "[encoded data removed]",
            "text/plain": [
              "<Figure size 432x288 with 1 Axes>"
            ]
          },
          "metadata": {
            "needs_background": "light"
          }
        }
      ]
    },
    {
      "cell_type": "code",
      "source": [
        "bmi = np.random.normal(21,1,n)\n",
        "weights = bmi*(heights**2)/10000 #bmi 지수 생성, bmi = w/(txt),t단위는 m\n",
        "weights"
      ],
      "metadata": {
        "id": "K5T_fU9TMaMp"
      },
      "execution_count": null,
      "outputs": []
    },
    {
      "cell_type": "code",
      "source": [
        "plt.figure(figsize=(10,5))\n",
        "plt.plot(heights,weights,'.')\n",
        "plt.xlabel(\"height\")\n",
        "plt.ylabel(\"weight\")\n",
        "plt.xlim(0,220)\n",
        "plt.ylim(0,110)\n",
        "plt.grid(True)\n",
        "plt.show()"
      ],
      "metadata": {
        "colab": {
          "base_uri": "https://localhost:8080/",
          "height": 334
        },
        "id": "wdWkoh1YNEVY",
        "outputId": "3cc3bf48-103c-45c6-8577-61d508806be2"
      },
      "execution_count": 70,
      "outputs": [
        {
          "output_type": "display_data",
          "data": {
            "image/png": "[encoded data removed]",
            "text/plain": [
              "<Figure size 720x360 with 1 Axes>"
            ]
          },
          "metadata": {
            "needs_background": "light"
          }
        }
      ]
    },
    {
      "cell_type": "code",
      "source": [
        "#xs = [ [weight] for weight in weights ]\n",
        "xs = weights.reshape(-1,1) #독립변수는 여러 개의 특성으로 구성할 수 있으므로 ML모델에서는 2차원 배열 형태로 학습 데이터를 입력 받음\n",
        "xs.shape"
      ],
      "metadata": {
        "colab": {
          "base_uri": "https://localhost:8080/"
        },
        "id": "UJqUousyOZBH",
        "outputId": "58d7ecf8-8dff-4aaf-b581-0a4607c574bc"
      },
      "execution_count": 31,
      "outputs": [
        {
          "output_type": "execute_result",
          "data": {
            "text/plain": [
              "(1000, 1)"
            ]
          },
          "metadata": {},
          "execution_count": 31
        }
      ]
    },
    {
      "cell_type": "code",
      "source": [
        "xs2 = xs.reshape(5,20,-1)\n",
        "xs2.shape"
      ],
      "metadata": {
        "colab": {
          "base_uri": "https://localhost:8080/"
        },
        "id": "82PJf07oe_4d",
        "outputId": "6ea44806-c038-487a-d979-cfb82468de82"
      },
      "execution_count": 81,
      "outputs": [
        {
          "output_type": "execute_result",
          "data": {
            "text/plain": [
              "(5, 20, 10)"
            ]
          },
          "metadata": {},
          "execution_count": 81
        }
      ]
    },
    {
      "cell_type": "code",
      "source": [
        "#xs3 = xs.reshape(3,20,-1) #해당 구조는 딱 나누어 떨어지지 않으므로 만들 수 없는 것 = tensor data\n",
        "#xs3.shape"
      ],
      "metadata": {
        "id": "GPtTj21ofK8i"
      },
      "execution_count": 83,
      "outputs": []
    },
    {
      "cell_type": "code",
      "source": [
        "ys = heights #종속변수는 한 개이며 ML모델에서 1차원 배열 형태로 학습 데이터를 입력 받음\n",
        "ys.shape"
      ],
      "metadata": {
        "colab": {
          "base_uri": "https://localhost:8080/"
        },
        "id": "AGU1gKqhOx97",
        "outputId": "e8b6f3c7-1316-4b5c-e504-cddbc56fc6a9"
      },
      "execution_count": 32,
      "outputs": [
        {
          "output_type": "execute_result",
          "data": {
            "text/plain": [
              "(1000,)"
            ]
          },
          "metadata": {},
          "execution_count": 32
        }
      ]
    },
    {
      "cell_type": "code",
      "source": [
        "from sklearn.linear_model import LinearRegression\n",
        "lr_model = LinearRegression() #모델 개체 생성\n",
        "lr_model.fit(xs,ys) #학습\n",
        "lr_model.coef_, lr_model.intercept_ #가중치, 편항"
      ],
      "metadata": {
        "colab": {
          "base_uri": "https://localhost:8080/"
        },
        "id": "Ervc8mlwPMfn",
        "outputId": "da0c55bf-c71f-4d5b-85d6-9a378630cf19"
      },
      "execution_count": 71,
      "outputs": [
        {
          "output_type": "execute_result",
          "data": {
            "text/plain": [
              "(array([1.05678151]), 106.52760131569929)"
            ]
          },
          "metadata": {},
          "execution_count": 71
        }
      ]
    },
    {
      "cell_type": "code",
      "source": [
        "txs = np.array([[50],[60],[67],[70],[94]]) #몸무게가 67,70,94일 때"
      ],
      "metadata": {
        "id": "g_Zek4iLQV1s"
      },
      "execution_count": 72,
      "outputs": []
    },
    {
      "cell_type": "code",
      "source": [
        "pred_val1 = lr_model.predict(txs) #키를 예측하시오\n",
        "pred_val1"
      ],
      "metadata": {
        "colab": {
          "base_uri": "https://localhost:8080/"
        },
        "id": "4_RO8Q27Qi8q",
        "outputId": "f98bcf05-0b3c-4f7f-abcb-174d7dd54ab8"
      },
      "execution_count": 73,
      "outputs": [
        {
          "output_type": "execute_result",
          "data": {
            "text/plain": [
              "array([159.36667661, 169.93449167, 177.33196221, 180.50230673,\n",
              "       205.86506287])"
            ]
          },
          "metadata": {},
          "execution_count": 73
        }
      ]
    },
    {
      "cell_type": "code",
      "source": [
        "from sklearn.model_selection import train_test_split\n",
        "train_xs, test_xs, train_ys, test_ys = train_test_split(xs,ys,train_size=0.8) #기존 값을 무작위로 섞어서 train, test 셋을 원하는 비율로 나눈다\n",
        "train_xs.shape, test_xs.shape, train_ys.shape, test_ys.shape"
      ],
      "metadata": {
        "colab": {
          "base_uri": "https://localhost:8080/"
        },
        "id": "gGYwGrK2Rwd9",
        "outputId": "8cdcbb7d-88a8-4835-bf7c-dd33d9ab572f"
      },
      "execution_count": 74,
      "outputs": [
        {
          "output_type": "execute_result",
          "data": {
            "text/plain": [
              "((800, 1), (200, 1), (800,), (200,))"
            ]
          },
          "metadata": {},
          "execution_count": 74
        }
      ]
    },
    {
      "cell_type": "code",
      "source": [
        "lr_model = LinearRegression()\n",
        "lr_model.fit(xs,ys) #학습\n",
        "train_score = lr_model.score(train_xs, train_ys) #평가\n",
        "test_score = lr_model.score(test_xs, test_ys) #평가\n",
        "train_score, test_score"
      ],
      "metadata": {
        "colab": {
          "base_uri": "https://localhost:8080/"
        },
        "id": "Edc2PC9JSgU9",
        "outputId": "ef724a62-cc73-4fcd-9486-d25b720e4ec0"
      },
      "execution_count": 75,
      "outputs": [
        {
          "output_type": "execute_result",
          "data": {
            "text/plain": [
              "(0.769400800401861, 0.7731258370251197)"
            ]
          },
          "metadata": {},
          "execution_count": 75
        }
      ]
    },
    {
      "cell_type": "markdown",
      "source": [
        "![결정계수.PNG](data:image/png;base64,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)"
      ],
      "metadata": {
        "id": "ta5UnV0qW3JM"
      }
    },
    {
      "cell_type": "code",
      "source": [
        "lr_model = LinearRegression()\n",
        "lr_model.fit(xs,ys) #학습\n",
        "train_score = lr_model.score(train_xs, train_ys) #평가\n",
        "test_score = lr_model.score(test_xs, test_ys) #평가\n",
        "train_score, test_score"
      ],
      "metadata": {
        "colab": {
          "base_uri": "https://localhost:8080/"
        },
        "id": "8IkSsrlYXJUn",
        "outputId": "282ab484-9d6b-4c96-b2b4-84217259d458"
      },
      "execution_count": 76,
      "outputs": [
        {
          "output_type": "execute_result",
          "data": {
            "text/plain": [
              "(0.769400800401861, 0.7731258370251197)"
            ]
          },
          "metadata": {},
          "execution_count": 76
        }
      ]
    },
    {
      "cell_type": "code",
      "source": [
        "from sklearn.neighbors import KNeighborsRegressor\n",
        "knr_model = KNeighborsRegressor() #모델 개체 생성\n",
        "knr_model.fit(xs,ys) #학습\n",
        "pred_val2 = knr_model.predict(txs) #ㅇㅖ측\n",
        "pred_val2"
      ],
      "metadata": {
        "colab": {
          "base_uri": "https://localhost:8080/"
        },
        "id": "8WhKYZu4XPgo",
        "outputId": "761830d9-41f8-4409-8634-c82989948ee0"
      },
      "execution_count": 77,
      "outputs": [
        {
          "output_type": "execute_result",
          "data": {
            "text/plain": [
              "array([160.87336939, 168.76372406, 177.33771218, 181.09198031,\n",
              "       196.36754317])"
            ]
          },
          "metadata": {},
          "execution_count": 77
        }
      ]
    },
    {
      "cell_type": "code",
      "source": [
        "knr_model = KNeighborsRegressor()\n",
        "knr_model.fit(xs,ys) #학습\n",
        "train_score = knr_model.score(train_xs, train_ys) #평가\n",
        "test_score = knr_model.score(test_xs, test_ys) #평가\n",
        "train_score, test_score"
      ],
      "metadata": {
        "colab": {
          "base_uri": "https://localhost:8080/"
        },
        "id": "ZdmsTz1sX5Ky",
        "outputId": "7095eae5-9b13-4122-edf5-60e436fea674"
      },
      "execution_count": 78,
      "outputs": [
        {
          "output_type": "execute_result",
          "data": {
            "text/plain": [
              "(0.8266362673821898, 0.8000598244782088)"
            ]
          },
          "metadata": {},
          "execution_count": 78
        }
      ]
    },
    {
      "cell_type": "code",
      "source": [
        "pred_val1 = lr_model.predict(txs)\n",
        "pred_val1"
      ],
      "metadata": {
        "colab": {
          "base_uri": "https://localhost:8080/"
        },
        "id": "zgtX3NCJXe-W",
        "outputId": "d8ab61f5-8d69-431c-f05d-71f02663c3e3"
      },
      "execution_count": 79,
      "outputs": [
        {
          "output_type": "execute_result",
          "data": {
            "text/plain": [
              "array([159.36667661, 169.93449167, 177.33196221, 180.50230673,\n",
              "       205.86506287])"
            ]
          },
          "metadata": {},
          "execution_count": 79
        }
      ]
    },
    {
      "cell_type": "markdown",
      "source": [
        "#KNN에서 주의할 점"
      ],
      "metadata": {
        "id": "5kOZI6feY0CL"
      }
    },
    {
      "cell_type": "code",
      "source": [
        "pv1 = lr_model.predict([[35],[82],[95],[90],[100],[108],[120],[130]]) #선형은 해당 몸무게의 키를 예측 (몸무게가 커질수록 키도 커진다)\n",
        "pv2 = knr_model.predict([[35],[82],[95],[90],[100],[108],[120],[130]]) #KNN은 인접한 값으로 추측하다 보니 우리가 가지고 있는 값을 벗어난 몸무게부터는 키 예측값이 고정됨\n",
        "pv1, pv2"
      ],
      "metadata": {
        "colab": {
          "base_uri": "https://localhost:8080/"
        },
        "id": "ZCcU4FGeY2cX",
        "outputId": "9a14cca9-9668-441e-f5f8-ad15230b9cd9"
      },
      "execution_count": 80,
      "outputs": [
        {
          "output_type": "execute_result",
          "data": {
            "text/plain": [
              "(array([143.51495402, 193.1836848 , 206.92184438, 201.63793685,\n",
              "        212.20575191, 220.66000396, 233.34138203, 243.90919709]),\n",
              " array([157.02531772, 189.6676871 , 196.36754317, 196.36754317,\n",
              "        196.36754317, 196.36754317, 196.36754317, 196.36754317]))"
            ]
          },
          "metadata": {},
          "execution_count": 80
        }
      ]
    },
    {
      "cell_type": "code",
      "source": [
        "weights.max() #이 이상의 몸무게에 대해서 예측값을 평균값밖에 주지 못함"
      ],
      "metadata": {
        "colab": {
          "base_uri": "https://localhost:8080/"
        },
        "id": "CGf3Ws95Zjgh",
        "outputId": "863d9edb-5526-4eac-ef0d-2f1025c80dff"
      },
      "execution_count": 58,
      "outputs": [
        {
          "output_type": "execute_result",
          "data": {
            "text/plain": [
              "88.225745131736"
            ]
          },
          "metadata": {},
          "execution_count": 58
        }
      ]
    },
    {
      "cell_type": "code",
      "source": [
        "plt.figure(figsize=(10,5))\n",
        "plt.plot(heights,weights,'.')\n",
        "plt.plot([143.51, 193.18 , 206.92, 201.63, 212.20, 220.66, 233.34, 243.90],[35,82,85,90,100,108,120,130],'bo',label='lr predict')\n",
        "plt.plot([157.02, 189.66 , 196.36, 196.36, 196.36, 196.36, 196.36, 196.36],[35,82,85,90,100,108,120,130],'r^',label='knr predict')\n",
        "plt.xlabel(\"height\")\n",
        "plt.ylabel(\"weight\")\n",
        "plt.xlim(0,270)\n",
        "plt.ylim(0,135)\n",
        "plt.grid(True)\n",
        "plt.legend()\n",
        "plt.show()"
      ],
      "metadata": {
        "colab": {
          "base_uri": "https://localhost:8080/",
          "height": 334
        },
        "id": "iNpfYiFXaUmK",
        "outputId": "b1dad1f6-0bcc-46ad-c69f-c76ef1603613"
      },
      "execution_count": 66,
      "outputs": [
        {
          "output_type": "display_data",
          "data": {
            "image/png": "[encoded data removed]",
            "text/plain": [
              "<Figure size 720x360 with 1 Axes>"
            ]
          },
          "metadata": {
            "needs_background": "light"
          }
        }
      ]
    },
    {
      "cell_type": "markdown",
      "source": [
        "#회귀 VS 분류\n",
        "- 회귀 : 키가 174cm, 허리둘레 38인치, 성별 남 인 사람이 있다. 몸무게는 얼마 일까?  \n",
        "- 분류 : 꽃받침 길이: 2.4cm, 너비: 3.5cm, 꽃잎 길이: 6.5cm, 너비: 3.1cm  인 iris는 어떤 품종일까?"
      ],
      "metadata": {
        "id": "w19oCMhmQhdh"
      }
    },
    {
      "cell_type": "markdown",
      "source": [
        "#지도 학습 VS 비지도 학습"
      ],
      "metadata": {
        "id": "5K1wHJsfKjjk"
      }
    },
    {
      "cell_type": "markdown",
      "source": [
        "#KMeans"
      ],
      "metadata": {
        "id": "SBeEXRMcKleZ"
      }
    }
  ]
}