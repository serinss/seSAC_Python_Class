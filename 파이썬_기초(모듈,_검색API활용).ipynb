{
  "nbformat": 4,
  "nbformat_minor": 0,
  "metadata": {
    "colab": {
      "name": "파이썬-기초(모듈, 검색API활용).ipynb",
      "provenance": [],
      "collapsed_sections": [],
      "authorship_tag": "ABX9TyOeimKIetBUxt4yJEmh2T6V",
      "include_colab_link": true
    },
    "kernelspec": {
      "name": "python3",
      "display_name": "Python 3"
    },
    "language_info": {
      "name": "python"
    }
  },
  "cells": [
    {
      "cell_type": "markdown",
      "metadata": {
        "id": "view-in-github",
        "colab_type": "text"
      },
      "source": [
        "<a href=\"https://colab.research.google.com/github/serinss/seSAC_Python_Class/blob/main/%ED%8C%8C%EC%9D%B4%EC%8D%AC_%EA%B8%B0%EC%B4%88(%EB%AA%A8%EB%93%88%2C_%EA%B2%80%EC%83%89API%ED%99%9C%EC%9A%A9).ipynb\" target=\"_parent\"><img src=\"https://colab.research.google.com/assets/colab-badge.svg\" alt=\"Open In Colab\"/></a>"
      ]
    },
    {
      "cell_type": "code",
      "execution_count": 1,
      "metadata": {
        "id": "pbJf4jdbJDKR"
      },
      "outputs": [],
      "source": [
        "import math"
      ]
    },
    {
      "cell_type": "code",
      "source": [
        "math.sin(math.pi) #0의 근사치\n",
        "print(f\"{math.sin(math.pi):.5f}\")\n",
        "print(f\"{math.cos(math.pi):.5f}\")\n",
        "print(f\"{math.tan(math.pi):.5f}\")\n",
        "print(f\"{math.ceil(math.pi):.5f}\") #올림\n",
        "print(f\"{math.floor(math.pi):.5f}\") #내림"
      ],
      "metadata": {
        "colab": {
          "base_uri": "https://localhost:8080/"
        },
        "id": "lrjmUdzUJf5S",
        "outputId": "95d62b8d-2e21-4eca-c31e-91cd44aa99a2"
      },
      "execution_count": 6,
      "outputs": [
        {
          "output_type": "stream",
          "name": "stdout",
          "text": [
            "0.00000\n",
            "-1.00000\n",
            "-0.00000\n",
            "4.00000\n",
            "3.00000\n"
          ]
        }
      ]
    },
    {
      "cell_type": "code",
      "source": [
        "from math import sin, cos, tan"
      ],
      "metadata": {
        "id": "p9pnYS7aK-SW"
      },
      "execution_count": 7,
      "outputs": []
    },
    {
      "cell_type": "code",
      "source": [
        "print(f\"{sin(math.pi):.5f}\")\n",
        "print(f\"{cos(math.pi):.5f}\")\n",
        "print(f\"{tan(math.pi):.5f}\") #math를 붙이지 않아도 사용가능"
      ],
      "metadata": {
        "colab": {
          "base_uri": "https://localhost:8080/"
        },
        "id": "mPB3GDSCLBsA",
        "outputId": "77cd6088-6c84-4186-9e4f-3fa6b800d13c"
      },
      "execution_count": 8,
      "outputs": [
        {
          "output_type": "stream",
          "name": "stdout",
          "text": [
            "0.00000\n",
            "-1.00000\n",
            "-0.00000\n"
          ]
        }
      ]
    },
    {
      "cell_type": "code",
      "source": [
        "import math as m"
      ],
      "metadata": {
        "id": "CP4oEr15LYtj"
      },
      "execution_count": 9,
      "outputs": []
    },
    {
      "cell_type": "code",
      "source": [
        "print(f\"{m.ceil(math.pi):.5f}\")\n",
        "print(f\"{m.floor(math.pi):.5f}\")"
      ],
      "metadata": {
        "colab": {
          "base_uri": "https://localhost:8080/"
        },
        "id": "pEH5DutFLbJR",
        "outputId": "badb871b-a5ed-4dd5-c767-db15bc30c4af"
      },
      "execution_count": 10,
      "outputs": [
        {
          "output_type": "stream",
          "name": "stdout",
          "text": [
            "4.00000\n",
            "3.00000\n"
          ]
        }
      ]
    },
    {
      "cell_type": "markdown",
      "source": [
        "#random"
      ],
      "metadata": {
        "id": "b4BbBpXKMHVB"
      }
    },
    {
      "cell_type": "code",
      "source": [
        "import random"
      ],
      "metadata": {
        "id": "F--02SlHMISp"
      },
      "execution_count": 1,
      "outputs": []
    },
    {
      "cell_type": "code",
      "source": [
        "for i in range(100):\n",
        "  print(f\"{random.random():8.5f}\",end=' ') # 0~1 사이의 수 -> 자동으로 seed값이 설정되고 있다\n",
        "  if i%10 ==9:\n",
        "    print()"
      ],
      "metadata": {
        "colab": {
          "base_uri": "https://localhost:8080/"
        },
        "id": "0uph9pWYMKXS",
        "outputId": "ace14d9b-c3ae-484c-ea0e-c4d626c8049b"
      },
      "execution_count": 2,
      "outputs": [
        {
          "output_type": "stream",
          "name": "stdout",
          "text": [
            " 0.57878  0.71480  0.51651  0.06131  0.94841  0.04163  0.91634  0.54858  0.74421  0.00603 \n",
            " 0.30085  0.21673  0.95815  0.79227  0.39968  0.69139  0.32368  0.98824  0.43181  0.27680 \n",
            " 0.66179  0.22751  0.90423  0.43764  0.98005  0.86885  0.95426  0.00953  0.82798  0.35293 \n",
            " 0.78140  0.48660  0.01029  0.56508  0.19103  0.63842  0.76831  0.13425  0.71056  0.46320 \n",
            " 0.70075  0.71846  0.18408  0.67651  0.77366  0.78157  0.63549  0.52815  0.69625  0.92270 \n",
            " 0.79296  0.26327  0.91435  0.80370  0.87250  0.19709  0.66583  0.68623  0.73558  0.71505 \n",
            " 0.90077  0.90683  0.08239  0.95855  0.64032  0.00018  0.99252  0.75924  0.31226  0.68467 \n",
            " 0.26153  0.83120  0.40081  0.54557  0.90940  0.64088  0.31605  0.98079  0.68767  0.77881 \n",
            " 0.30218  0.72533  0.73798  0.19157  0.83266  0.47100  0.28623  0.18429  0.39524  0.05404 \n",
            " 0.26076  0.14211  0.22089  0.18567  0.81909  0.16846  0.86752  0.44834  0.76269  0.00003 \n"
          ]
        }
      ]
    },
    {
      "cell_type": "markdown",
      "source": [
        "random.randrange(n) : 0 ~ n-1 사이의 랜덤한 수를 반환한다  \n",
        "random.randrange(s,e) : s ~ e-1 사이의 랜덤한 수를 반환한다  "
      ],
      "metadata": {
        "id": "Y1V-YTo8OMRz"
      }
    },
    {
      "cell_type": "code",
      "source": [
        "for i in range(100):\n",
        "  print(f\"{random.randrange(100):8.5f}\",end=' ') #0~99 사이의 수\n",
        "  if i%10 ==9:\n",
        "    print()\n",
        "print(\"==========================================================================================\")\n",
        "for i in range(100):\n",
        "  print(f\"{random.randrange(10,20):8.5f}\",end=' ') #10~19 사이의 수\n",
        "  if i%10 ==9:\n",
        "    print()"
      ],
      "metadata": {
        "colab": {
          "base_uri": "https://localhost:8080/"
        },
        "id": "qA1N6JUUNdb8",
        "outputId": "eaabdb14-d4dc-483e-f9c1-aa6062505a03"
      },
      "execution_count": 6,
      "outputs": [
        {
          "output_type": "stream",
          "name": "stdout",
          "text": [
            "57.00000 80.00000 45.00000 78.00000 18.00000 91.00000 10.00000 26.00000 89.00000 59.00000 \n",
            "83.00000 45.00000 69.00000 88.00000 39.00000 87.00000 99.00000 28.00000 70.00000  9.00000 \n",
            "14.00000 74.00000 54.00000 41.00000 57.00000 20.00000 29.00000 67.00000 73.00000 84.00000 \n",
            "13.00000 87.00000 50.00000 61.00000 91.00000 25.00000 43.00000 88.00000 66.00000 85.00000 \n",
            "97.00000 43.00000 43.00000 44.00000 86.00000 45.00000 32.00000  4.00000 64.00000 57.00000 \n",
            "15.00000 19.00000 53.00000 93.00000  2.00000 55.00000 70.00000 16.00000 48.00000 84.00000 \n",
            "24.00000 45.00000 59.00000 90.00000 50.00000 63.00000 84.00000 33.00000 46.00000 44.00000 \n",
            "54.00000 13.00000 90.00000 89.00000 50.00000 47.00000 73.00000 94.00000 87.00000 90.00000 \n",
            "78.00000 78.00000 71.00000  6.00000 95.00000 27.00000 71.00000 47.00000 54.00000 58.00000 \n",
            " 7.00000  0.00000 22.00000 95.00000 71.00000 44.00000 97.00000 47.00000 15.00000 72.00000 \n",
            "==========================================================================================\n",
            "15.00000 19.00000 16.00000 13.00000 12.00000 13.00000 12.00000 11.00000 10.00000 19.00000 \n",
            "12.00000 18.00000 12.00000 13.00000 16.00000 11.00000 15.00000 14.00000 15.00000 10.00000 \n",
            "11.00000 15.00000 11.00000 10.00000 14.00000 15.00000 16.00000 12.00000 18.00000 17.00000 \n",
            "14.00000 14.00000 10.00000 10.00000 11.00000 18.00000 16.00000 19.00000 14.00000 10.00000 \n",
            "17.00000 17.00000 19.00000 19.00000 17.00000 12.00000 10.00000 12.00000 12.00000 19.00000 \n",
            "18.00000 15.00000 12.00000 17.00000 19.00000 10.00000 14.00000 18.00000 15.00000 13.00000 \n",
            "18.00000 10.00000 11.00000 14.00000 17.00000 17.00000 14.00000 10.00000 17.00000 10.00000 \n",
            "14.00000 18.00000 16.00000 14.00000 10.00000 11.00000 16.00000 17.00000 13.00000 17.00000 \n",
            "12.00000 12.00000 14.00000 10.00000 15.00000 15.00000 11.00000 16.00000 18.00000 19.00000 \n",
            "14.00000 16.00000 10.00000 15.00000 10.00000 17.00000 15.00000 11.00000 15.00000 10.00000 \n"
          ]
        }
      ]
    },
    {
      "cell_type": "markdown",
      "source": [
        "###random.shuffle(목록) - 목록의 요소를 랜덤하게 섞어줍니다."
      ],
      "metadata": {
        "id": "IVpOJ6q0Uwh-"
      }
    },
    {
      "cell_type": "code",
      "source": [
        "ls = [1,2,3,4,5,6,7,8,9,10]\n",
        "random.shuffle(ls)\n",
        "ls"
      ],
      "metadata": {
        "colab": {
          "base_uri": "https://localhost:8080/"
        },
        "id": "xAXLk2obQeN6",
        "outputId": "36daaebf-b04a-4af0-d881-4780594c3434"
      },
      "execution_count": 7,
      "outputs": [
        {
          "output_type": "execute_result",
          "data": {
            "text/plain": [
              "[7, 8, 3, 9, 5, 10, 6, 4, 1, 2]"
            ]
          },
          "metadata": {},
          "execution_count": 7
        }
      ]
    },
    {
      "cell_type": "markdown",
      "source": [
        "###random.uniform(s,e) : s ~ e 사이의 랜덤한 실수를 반환"
      ],
      "metadata": {
        "id": "s3M3XiuJUdrr"
      }
    },
    {
      "cell_type": "code",
      "source": [
        "for i in range(100):\n",
        "  print(f\"{random.uniform(10,20):8.5f}\",end=' ')\n",
        "  if i%10==9:\n",
        "    print()"
      ],
      "metadata": {
        "id": "7sk1aNE0UvDb"
      },
      "execution_count": null,
      "outputs": []
    },
    {
      "cell_type": "markdown",
      "source": [
        "###random.choice(목록) : 목록 요소 중에 랜덤한 값을 선택한다."
      ],
      "metadata": {
        "id": "7OjeDv6IVh0V"
      }
    },
    {
      "cell_type": "code",
      "source": [
        "for i in range(100):\n",
        "  print(f\"{random.choice(ls):8d}\",end=' ')\n",
        "  if i%10 == 9:\n",
        "    print()"
      ],
      "metadata": {
        "colab": {
          "base_uri": "https://localhost:8080/"
        },
        "id": "kIaQKEfvU56f",
        "outputId": "82fae030-3658-4527-9239-8cbe4f795461"
      },
      "execution_count": 9,
      "outputs": [
        {
          "output_type": "stream",
          "name": "stdout",
          "text": [
            "      10        7        3        7        8        6        1        5        2        9 \n",
            "       9        7        6        5        9        2        8       10        3       10 \n",
            "       2        3        9        7        2        3        3        1        4        3 \n",
            "       8        7        8        5        4        9        9        2        8       10 \n",
            "       7        7       10       10        5        9        3        9        7        7 \n",
            "       5        2        9        6        2        8        2        7        8        9 \n",
            "       9        6       10        3        7        5        8        5       10        2 \n",
            "       8        7        8        5        1        8        9        1        7        7 \n",
            "       5        5        2        9        5        3       10        2        9        8 \n",
            "       5        6        6        4        4        9        3        5        5        2 \n"
          ]
        }
      ]
    },
    {
      "cell_type": "markdown",
      "source": [
        "###random.sample(목록,k=개수) : 목록 요소 중에 랜덤한 k개 값을 선택한다.(샘플링)"
      ],
      "metadata": {
        "id": "n9jJvo1mVruY"
      }
    },
    {
      "cell_type": "code",
      "source": [
        "ls = list(range(1,46))\n",
        "print(ls) #리스트 출력\n",
        "random.sample(ls,k=6) #해당 리스트에서 랜덤하게 6개를 추출하여 출력"
      ],
      "metadata": {
        "colab": {
          "base_uri": "https://localhost:8080/"
        },
        "id": "WLIuyazhVQcV",
        "outputId": "557d8d89-fb2a-456b-a32b-f87561f3921f"
      },
      "execution_count": 25,
      "outputs": [
        {
          "output_type": "stream",
          "name": "stdout",
          "text": [
            "[1, 2, 3, 4, 5, 6, 7, 8, 9, 10, 11, 12, 13, 14, 15, 16, 17, 18, 19, 20, 21, 22, 23, 24, 25, 26, 27, 28, 29, 30, 31, 32, 33, 34, 35, 36, 37, 38, 39, 40, 41, 42, 43, 44, 45]\n"
          ]
        },
        {
          "output_type": "execute_result",
          "data": {
            "text/plain": [
              "[43, 19, 11, 30, 14, 22]"
            ]
          },
          "metadata": {},
          "execution_count": 25
        }
      ]
    },
    {
      "cell_type": "code",
      "source": [
        "import sys\n",
        "sys.path #colab 은 리눅스 기반으로 실행됨을 추측해볼 수 있다."
      ],
      "metadata": {
        "colab": {
          "base_uri": "https://localhost:8080/"
        },
        "id": "KQgQCUEmV8k-",
        "outputId": "9d536b18-2cd6-403d-9112-f2e1edf892e9"
      },
      "execution_count": 13,
      "outputs": [
        {
          "output_type": "execute_result",
          "data": {
            "text/plain": [
              "['',\n",
              " '/content',\n",
              " '/env/python',\n",
              " '/usr/lib/python37.zip',\n",
              " '/usr/lib/python3.7',\n",
              " '/usr/lib/python3.7/lib-dynload',\n",
              " '/usr/local/lib/python3.7/dist-packages',\n",
              " '/usr/lib/python3/dist-packages',\n",
              " '/usr/local/lib/python3.7/dist-packages/IPython/extensions',\n",
              " '/root/.ipython']"
            ]
          },
          "metadata": {},
          "execution_count": 13
        }
      ]
    },
    {
      "cell_type": "code",
      "source": [
        "sys.argv # \n",
        "# cmd -> ping -t python.org (ping은 프로그램 명/ 뒤부터 전달인자)\n",
        "# 해당 명령어를 argv가 메인에 전달한다"
      ],
      "metadata": {
        "colab": {
          "base_uri": "https://localhost:8080/"
        },
        "id": "YmEELlZLWOwR",
        "outputId": "e3408348-c75d-4719-ed34-efb48e8fbdfa"
      },
      "execution_count": 14,
      "outputs": [
        {
          "output_type": "execute_result",
          "data": {
            "text/plain": [
              "['/usr/local/lib/python3.7/dist-packages/ipykernel_launcher.py',\n",
              " '-f',\n",
              " '/root/.local/share/jupyter/runtime/kernel-78caa6f9-fa1d-40df-82a4-1d60c4c736a6.json']"
            ]
          },
          "metadata": {},
          "execution_count": 14
        }
      ]
    },
    {
      "cell_type": "code",
      "source": [
        "len(sys.argv)"
      ],
      "metadata": {
        "colab": {
          "base_uri": "https://localhost:8080/"
        },
        "id": "Amzfg_bLWz4M",
        "outputId": "57ebddf2-3f9a-4b42-afc4-cdc4d5f9ae65"
      },
      "execution_count": 15,
      "outputs": [
        {
          "output_type": "execute_result",
          "data": {
            "text/plain": [
              "3"
            ]
          },
          "metadata": {},
          "execution_count": 15
        }
      ]
    },
    {
      "cell_type": "code",
      "source": [
        "#vscode로 window 에서 실행\n",
        "\n",
        "import os\n",
        "\n",
        "os.system(\"notepad\") #메모장 실행\n",
        "print(\"음\") #콘솔에 출력\n",
        "os.system(\"mspaint\") #그림판 실행\n",
        "print(\"음\")\n",
        "os.system(\"notepad\")\n",
        "print(\"음\")\n",
        "\n",
        "#-------------------------------------\n",
        "\n",
        "print(\"abc\")\n",
        "input()\n",
        "os.system(\"cls\") #window콘솔 창 지우기\n",
        "print(\"bbc\")\n",
        "os.system(\"cls\")\n",
        "print(\"cbc\")\n",
        "# 어제 만든 회원 관리 프로그램 선택할 때에도 지우고 새로 나타나는 형태로 만들어볼 수 있다"
      ],
      "metadata": {
        "colab": {
          "base_uri": "https://localhost:8080/",
          "height": 35
        },
        "id": "Mkb2g2G9XGcZ",
        "outputId": "80d517c8-fd14-41a1-cbcb-14446b71e157"
      },
      "execution_count": 16,
      "outputs": [
        {
          "output_type": "execute_result",
          "data": {
            "application/vnd.google.colaboratory.intrinsic+json": {
              "type": "string"
            },
            "text/plain": [
              "'posix'"
            ]
          },
          "metadata": {},
          "execution_count": 16
        }
      ]
    },
    {
      "cell_type": "markdown",
      "source": [
        "###datetime & time"
      ],
      "metadata": {
        "id": "vsvaxxOMdcPT"
      }
    },
    {
      "cell_type": "code",
      "source": [
        "import datetime\n",
        "n = datetime.datetime.now()\n",
        "n.day"
      ],
      "metadata": {
        "colab": {
          "base_uri": "https://localhost:8080/"
        },
        "id": "grDow42dbwAq",
        "outputId": "4b8eb429-3a60-48ba-c3b2-f545dffddb26"
      },
      "execution_count": 17,
      "outputs": [
        {
          "output_type": "execute_result",
          "data": {
            "text/plain": [
              "23"
            ]
          },
          "metadata": {},
          "execution_count": 17
        }
      ]
    },
    {
      "cell_type": "code",
      "source": [
        "import time\n",
        "print(\"a\", end=' ')\n",
        "time.sleep(1)\n",
        "print(\"b\", end=' ')\n",
        "time.sleep(2)\n",
        "print(\"c\", end=' ')\n",
        "time.sleep(3)\n",
        "print(\"d\", end=' ')\n",
        "time.sleep(4)\n",
        "print(\"...\")"
      ],
      "metadata": {
        "colab": {
          "base_uri": "https://localhost:8080/"
        },
        "id": "Wo-6Xa3icOhI",
        "outputId": "952a2d1b-a756-4952-bf68-871b26581ac3"
      },
      "execution_count": 18,
      "outputs": [
        {
          "output_type": "stream",
          "name": "stdout",
          "text": [
            "a b c d ...\n"
          ]
        }
      ]
    },
    {
      "cell_type": "code",
      "source": [
        "s = time.time()\n",
        "i = 0 #시스템 성능 체크\n",
        "for lc in range(10000):\n",
        "  for _ in range(10000):\n",
        "    i += 1\n",
        "  if(lc%1000 == 0):\n",
        "    print(\".\",end=\"\")\n",
        "e = time.time()\n",
        "print(e-s) #걸린 시간"
      ],
      "metadata": {
        "colab": {
          "base_uri": "https://localhost:8080/"
        },
        "id": "14onwkJPcyQy",
        "outputId": "dbe72744-1ae1-4a7b-b2e3-d014e76bed10"
      },
      "execution_count": 21,
      "outputs": [
        {
          "output_type": "stream",
          "name": "stdout",
          "text": [
            "..........10.753988265991211\n"
          ]
        }
      ]
    },
    {
      "cell_type": "markdown",
      "source": [
        "###urllib"
      ],
      "metadata": {
        "id": "23Va2lJmde0W"
      }
    },
    {
      "cell_type": "code",
      "source": [
        "from urllib import request\n",
        "\n",
        "html = request.urlopen('http://docs.python.org') #해당 링크의 전체 html 코드를 보여준다 b=binary -> 원하는 부분만 추출해서 사용하기 어렵다 => '웹 크롤링'\n",
        "print(html.read())"
      ],
      "metadata": {
        "colab": {
          "base_uri": "https://localhost:8080/"
        },
        "id": "4KrupGrAc8kw",
        "outputId": "7bd44706-34e8-469e-88df-4e3559d74244"
      },
      "execution_count": 24,
      "outputs": [
        {
          "output_type": "stream",
          "name": "stdout",
          "text": [
            "b'\\n<!DOCTYPE html>\\n\\n<html>\\n  <head>\\n    <meta charset=\"utf-8\" />\\n    <meta name=\"viewport\" content=\"width=device-width, initial-scale=1.0\" /><title>3.10.2 Documentation</title><meta name=\"viewport\" content=\"width=device-width, initial-scale=1.0\">\\n    \\n    <link rel=\"stylesheet\" href=\"_static/pydoctheme.css?2022.1\" type=\"text/css\" />\\n    <link rel=\"stylesheet\" href=\"_static/pygments.css\" type=\"text/css\" />\\n    \\n    <script id=\"documentation_options\" data-url_root=\"./\" src=\"_static/documentation_options.js\"></script>\\n    <script src=\"_static/jquery.js\"></script>\\n    <script src=\"_static/underscore.js\"></script>\\n    <script src=\"_static/doctools.js\"></script>\\n    <script src=\"_static/language_data.js\"></script>\\n    \\n    <script src=\"_static/sidebar.js\"></script>\\n    \\n    <link rel=\"search\" type=\"application/opensearchdescription+xml\"\\n          title=\"Search within Python 3.10.2 documentation\"\\n          href=\"_static/opensearch.xml\"/>\\n    <link rel=\"author\" title=\"About these documents\" href=\"about.html\" />\\n    <link rel=\"index\" title=\"Index\" href=\"genindex.html\" />\\n    <link rel=\"search\" title=\"Search\" href=\"search.html\" />\\n    <link rel=\"copyright\" title=\"Copyright\" href=\"copyright.html\" />\\n    <link rel=\"canonical\" href=\"https://docs.python.org/3/index.html\" />\\n    \\n      \\n    \\n\\n    \\n    <style>\\n      @media only screen {\\n        table.full-width-table {\\n            width: 100%;\\n        }\\n      }\\n    </style>\\n<link rel=\"shortcut icon\" type=\"image/png\" href=\"_static/py.svg\" />\\n            <script type=\"text/javascript\" src=\"_static/copybutton.js\"></script>\\n            <script type=\"text/javascript\" src=\"_static/menu.js\"></script> \\n\\n  </head>\\n<body>\\n<div class=\"mobile-nav\">\\n    <input type=\"checkbox\" id=\"menuToggler\" class=\"toggler__input\" aria-controls=\"navigation\"\\n           aria-pressed=\"false\" aria-expanded=\"false\" role=\"button\" aria-label=\"Menu\" />\\n    <label for=\"menuToggler\" class=\"toggler__label\">\\n        <span></span>\\n    </label>\\n    <nav class=\"nav-content\" role=\"navigation\">\\n         <a href=\"https://www.python.org/\" class=\"nav-logo\">\\n             <img src=\"_static/py.svg\" alt=\"Logo\"/>\\n         </a>\\n        <div class=\"version_switcher_placeholder\"></div>\\n        <form role=\"search\" class=\"search\" action=\"search.html\" method=\"get\">\\n            <svg xmlns=\"http://www.w3.org/2000/svg\" width=\"20\" height=\"20\" viewBox=\"0 0 24 24\" class=\"search-icon\">\\n                <path fill-rule=\"nonzero\"\\n                        d=\"M15.5 14h-.79l-.28-.27a6.5 6.5 0 001.48-5.34c-.47-2.78-2.79-5-5.59-5.34a6.505 6.505 0 00-7.27 7.27c.34 2.8 2.56 5.12 5.34 5.59a6.5 6.5 0 005.34-1.48l.27.28v.79l4.25 4.25c.41.41 1.08.41 1.49 0 .41-.41.41-1.08 0-1.49L15.5 14zm-6 0C7.01 14 5 11.99 5 9.5S7.01 5 9.5 5 14 7.01 14 9.5 11.99 14 9.5 14z\" fill=\"#444\"></path>\\n            </svg>\\n            <input type=\"text\" name=\"q\" aria-label=\"Quick search\"/>\\n            <input type=\"submit\" value=\"Go\"/>\\n        </form>\\n    </nav>\\n    <div class=\"menu-wrapper\">\\n        <nav class=\"menu\" role=\"navigation\" aria-label=\"main navigation\">\\n            <div class=\"language_switcher_placeholder\"></div><h3>Download</h3>\\n<p><a href=\"download.html\">Download these documents</a></p>\\n<h3>Docs by version</h3>\\n<ul>\\n  <li><a href=\"https://docs.python.org/3.11/\">Python 3.11 (in development)</a></li>\\n<li><a href=\"https://docs.python.org/3.10/\">Python 3.10 (stable)</a></li>\\n<li><a href=\"https://docs.python.org/3.9/\">Python 3.9 (stable)</a></li>\\n<li><a href=\"https://docs.python.org/3.8/\">Python 3.8 (security-fixes)</a></li>\\n<li><a href=\"https://docs.python.org/3.7/\">Python 3.7 (security-fixes)</a></li>\\n<li><a href=\"https://docs.python.org/3.6/\">Python 3.6 (EOL)</a></li>\\n<li><a href=\"https://docs.python.org/3.5/\">Python 3.5 (EOL)</a></li>\\n<li><a href=\"https://docs.python.org/2.7/\">Python 2.7 (EOL)</a></li>\\n  <li><a href=\"https://www.python.org/doc/versions/\">All versions</a></li>\\n</ul>\\n\\n<h3>Other resources</h3>\\n<ul>\\n  \\n  <li><a href=\"https://www.python.org/dev/peps/\">PEP Index</a></li>\\n  <li><a href=\"https://wiki.python.org/moin/BeginnersGuide\">Beginner\\'s Guide</a></li>\\n  <li><a href=\"https://wiki.python.org/moin/PythonBooks\">Book List</a></li>\\n  <li><a href=\"https://www.python.org/doc/av/\">Audio/Visual Talks</a></li>\\n  <li><a href=\"https://devguide.python.org/\">Python Developer\\xe2\\x80\\x99s Guide</a></li>\\n</ul>\\n        </nav>\\n    </div>\\n</div>\\n\\n  \\n    <div class=\"related\" role=\"navigation\" aria-label=\"related navigation\">\\n      <h3>Navigation</h3>\\n      <ul>\\n        <li class=\"right\" style=\"margin-right: 10px\">\\n          <a href=\"genindex.html\" title=\"General Index\"\\n             accesskey=\"I\">index</a></li>\\n        <li class=\"right\" >\\n          <a href=\"py-modindex.html\" title=\"Python Module Index\"\\n             >modules</a> |</li>\\n\\n          <li><img src=\"_static/py.svg\" alt=\"python logo\" style=\"vertical-align: middle; margin-top: -1px\"/></li>\\n          <li><a href=\"https://www.python.org/\">Python</a> &#187;</li>\\n          <li class=\"switchers\">\\n            <div class=\"language_switcher_placeholder\"></div>\\n            <div class=\"version_switcher_placeholder\"></div>\\n          </li>\\n          <li>\\n              \\n          </li>\\n    <li id=\"cpython-language-and-version\">\\n      <a href=\"#\">3.10.2 Documentation</a> &#187;\\n    </li>\\n\\n        <li class=\"nav-item nav-item-this\"><a href=\"\"></a></li>\\n                <li class=\"right\">\\n                    \\n\\n    <div class=\"inline-search\" role=\"search\">\\n        <form class=\"inline-search\" action=\"search.html\" method=\"get\">\\n          <input placeholder=\"Quick search\" aria-label=\"Quick search\" type=\"text\" name=\"q\" />\\n          <input type=\"submit\" value=\"Go\" />\\n          <input type=\"hidden\" name=\"check_keywords\" value=\"yes\" />\\n          <input type=\"hidden\" name=\"area\" value=\"default\" />\\n        </form>\\n    </div>\\n                     |\\n                </li>\\n            \\n      </ul>\\n    </div>    \\n\\n    <div class=\"document\">\\n      <div class=\"documentwrapper\">\\n        <div class=\"bodywrapper\">\\n          <div class=\"body\" role=\"main\">\\n            \\n  <h1>Python 3.10.2 documentation</h1>\\n  <p>\\n  Welcome! This is the official documentation for Python 3.10.2.\\n  </p>\\n  <p><strong>Parts of the documentation:</strong></p>\\n  <table class=\"contentstable\" align=\"center\"><tr>\\n    <td width=\"50%\">\\n      <p class=\"biglink\"><a class=\"biglink\" href=\"whatsnew/3.10.html\">What\\'s new in Python 3.10?</a><br/>\\n        <span class=\"linkdescr\"> or <a href=\"whatsnew/index.html\">all \"What\\'s new\" documents</a> since 2.0</span></p>\\n      <p class=\"biglink\"><a class=\"biglink\" href=\"tutorial/index.html\">Tutorial</a><br/>\\n         <span class=\"linkdescr\">start here</span></p>\\n      <p class=\"biglink\"><a class=\"biglink\" href=\"library/index.html\">Library Reference</a><br/>\\n         <span class=\"linkdescr\">keep this under your pillow</span></p>\\n      <p class=\"biglink\"><a class=\"biglink\" href=\"reference/index.html\">Language Reference</a><br/>\\n         <span class=\"linkdescr\">describes syntax and language elements</span></p>\\n      <p class=\"biglink\"><a class=\"biglink\" href=\"using/index.html\">Python Setup and Usage</a><br/>\\n         <span class=\"linkdescr\">how to use Python on different platforms</span></p>\\n      <p class=\"biglink\"><a class=\"biglink\" href=\"howto/index.html\">Python HOWTOs</a><br/>\\n         <span class=\"linkdescr\">in-depth documents on specific topics</span></p>\\n    </td><td width=\"50%\">\\n      <p class=\"biglink\"><a class=\"biglink\" href=\"installing/index.html\">Installing Python Modules</a><br/>\\n         <span class=\"linkdescr\">installing from the Python Package Index &amp; other sources</span></p>\\n      <p class=\"biglink\"><a class=\"biglink\" href=\"distributing/index.html\">Distributing Python Modules</a><br/>\\n         <span class=\"linkdescr\">publishing modules for installation by others</span></p>\\n      <p class=\"biglink\"><a class=\"biglink\" href=\"extending/index.html\">Extending and Embedding</a><br/>\\n         <span class=\"linkdescr\">tutorial for C/C++ programmers</span></p>\\n      <p class=\"biglink\"><a class=\"biglink\" href=\"c-api/index.html\">Python/C API</a><br/>\\n         <span class=\"linkdescr\">reference for C/C++ programmers</span></p>\\n      <p class=\"biglink\"><a class=\"biglink\" href=\"faq/index.html\">FAQs</a><br/>\\n         <span class=\"linkdescr\">frequently asked questions (with answers!)</span></p>\\n    </td></tr>\\n  </table>\\n\\n  <p><strong>Indices and tables:</strong></p>\\n  <table class=\"contentstable\" align=\"center\"><tr>\\n    <td width=\"50%\">\\n      <p class=\"biglink\"><a class=\"biglink\" href=\"py-modindex.html\">Global Module Index</a><br/>\\n         <span class=\"linkdescr\">quick access to all modules</span></p>\\n      <p class=\"biglink\"><a class=\"biglink\" href=\"genindex.html\">General Index</a><br/>\\n         <span class=\"linkdescr\">all functions, classes, terms</span></p>\\n      <p class=\"biglink\"><a class=\"biglink\" href=\"glossary.html\">Glossary</a><br/>\\n         <span class=\"linkdescr\">the most important terms explained</span></p>\\n    </td><td width=\"50%\">\\n      <p class=\"biglink\"><a class=\"biglink\" href=\"search.html\">Search page</a><br/>\\n         <span class=\"linkdescr\">search this documentation</span></p>\\n      <p class=\"biglink\"><a class=\"biglink\" href=\"contents.html\">Complete Table of Contents</a><br/>\\n         <span class=\"linkdescr\">lists all sections and subsections</span></p>\\n    </td></tr>\\n  </table>\\n\\n  <p><strong>Meta information:</strong></p>\\n  <table class=\"contentstable\" align=\"center\"><tr>\\n    <td width=\"50%\">\\n      <p class=\"biglink\"><a class=\"biglink\" href=\"bugs.html\">Reporting bugs</a></p>\\n      <p class=\"biglink\"><a class=\"biglink\" href=\"https://devguide.python.org/docquality/#helping-with-documentation\">Contributing to Docs</a></p>\\n      <p class=\"biglink\"><a class=\"biglink\" href=\"about.html\">About the documentation</a></p>\\n    </td><td width=\"50%\">\\n      <p class=\"biglink\"><a class=\"biglink\" href=\"license.html\">History and License of Python</a></p>\\n      <p class=\"biglink\"><a class=\"biglink\" href=\"copyright.html\">Copyright</a></p>\\n    </td></tr>\\n  </table>\\n\\n            <div class=\"clearer\"></div>\\n          </div>\\n        </div>\\n      </div>\\n      <div class=\"sphinxsidebar\" role=\"navigation\" aria-label=\"main navigation\">\\n        <div class=\"sphinxsidebarwrapper\"><h3>Download</h3>\\n<p><a href=\"download.html\">Download these documents</a></p>\\n<h3>Docs by version</h3>\\n<ul>\\n  <li><a href=\"https://docs.python.org/3.11/\">Python 3.11 (in development)</a></li>\\n<li><a href=\"https://docs.python.org/3.10/\">Python 3.10 (stable)</a></li>\\n<li><a href=\"https://docs.python.org/3.9/\">Python 3.9 (stable)</a></li>\\n<li><a href=\"https://docs.python.org/3.8/\">Python 3.8 (security-fixes)</a></li>\\n<li><a href=\"https://docs.python.org/3.7/\">Python 3.7 (security-fixes)</a></li>\\n<li><a href=\"https://docs.python.org/3.6/\">Python 3.6 (EOL)</a></li>\\n<li><a href=\"https://docs.python.org/3.5/\">Python 3.5 (EOL)</a></li>\\n<li><a href=\"https://docs.python.org/2.7/\">Python 2.7 (EOL)</a></li>\\n  <li><a href=\"https://www.python.org/doc/versions/\">All versions</a></li>\\n</ul>\\n\\n<h3>Other resources</h3>\\n<ul>\\n  \\n  <li><a href=\"https://www.python.org/dev/peps/\">PEP Index</a></li>\\n  <li><a href=\"https://wiki.python.org/moin/BeginnersGuide\">Beginner\\'s Guide</a></li>\\n  <li><a href=\"https://wiki.python.org/moin/PythonBooks\">Book List</a></li>\\n  <li><a href=\"https://www.python.org/doc/av/\">Audio/Visual Talks</a></li>\\n  <li><a href=\"https://devguide.python.org/\">Python Developer\\xe2\\x80\\x99s Guide</a></li>\\n</ul>\\n        </div>\\n      </div>\\n      <div class=\"clearer\"></div>\\n    </div>  \\n    <div class=\"related\" role=\"navigation\" aria-label=\"related navigation\">\\n      <h3>Navigation</h3>\\n      <ul>\\n        <li class=\"right\" style=\"margin-right: 10px\">\\n          <a href=\"genindex.html\" title=\"General Index\"\\n             >index</a></li>\\n        <li class=\"right\" >\\n          <a href=\"py-modindex.html\" title=\"Python Module Index\"\\n             >modules</a> |</li>\\n\\n          <li><img src=\"_static/py.svg\" alt=\"python logo\" style=\"vertical-align: middle; margin-top: -1px\"/></li>\\n          <li><a href=\"https://www.python.org/\">Python</a> &#187;</li>\\n          <li class=\"switchers\">\\n            <div class=\"language_switcher_placeholder\"></div>\\n            <div class=\"version_switcher_placeholder\"></div>\\n          </li>\\n          <li>\\n              \\n          </li>\\n    <li id=\"cpython-language-and-version\">\\n      <a href=\"#\">3.10.2 Documentation</a> &#187;\\n    </li>\\n\\n        <li class=\"nav-item nav-item-this\"><a href=\"\"></a></li>\\n                <li class=\"right\">\\n                    \\n\\n    <div class=\"inline-search\" role=\"search\">\\n        <form class=\"inline-search\" action=\"search.html\" method=\"get\">\\n          <input placeholder=\"Quick search\" aria-label=\"Quick search\" type=\"text\" name=\"q\" />\\n          <input type=\"submit\" value=\"Go\" />\\n          <input type=\"hidden\" name=\"check_keywords\" value=\"yes\" />\\n          <input type=\"hidden\" name=\"area\" value=\"default\" />\\n        </form>\\n    </div>\\n                     |\\n                </li>\\n            \\n      </ul>\\n    </div>  \\n    <div class=\"footer\">\\n    &copy; <a href=\"copyright.html\">Copyright</a> 2001-2022, Python Software Foundation.\\n    <br />\\n    This page is licensed under the Python Software Foundation License Version 2.\\n    <br />\\n    Examples, recipes, and other code in the documentation are additionally licensed under the Zero Clause BSD License.\\n    <br />\\n    See <a href=\"/license.html\">History and License</a> for more information.<br />\\n    <br />\\n\\n    The Python Software Foundation is a non-profit corporation.\\n<a href=\"https://www.python.org/psf/donations/\">Please donate.</a>\\n<br />\\n    <br />\\n\\n    Last updated on Feb 22, 2022.\\n    <a href=\"/bugs.html\">Found a bug</a>?\\n    <br />\\n\\n    Created using <a href=\"https://www.sphinx-doc.org/\">Sphinx</a> 3.2.1.\\n    </div>\\n\\n    <script type=\"text/javascript\" src=\"_static/switchers.js\"></script>\\n  </body>\\n</html>'\n"
          ]
        }
      ]
    },
    {
      "cell_type": "markdown",
      "source": [
        "###Beautiful Soup\n",
        ": 파이썬의 웹 페이지 분석 모듈  \n",
        "-> 문서 확인하기(https://www.crummy.com/software/BeautifulSoup/bs4/doc/)"
      ],
      "metadata": {
        "id": "IImV5UzWhtGl"
      }
    },
    {
      "cell_type": "code",
      "source": [
        "from bs4 import BeautifulSoup"
      ],
      "metadata": {
        "id": "jyO_OtkFiXhy"
      },
      "execution_count": 27,
      "outputs": []
    },
    {
      "cell_type": "code",
      "source": [
        "src=\"\"\"\n",
        "<html>\n",
        "\t<head>\n",
        "\t\t<title> test page </title>\n",
        "\t</head>\n",
        "\t<body>\n",
        "\t\t<strong>a~</strong>\n",
        "\t\t<p>bcd</p>\n",
        "\t</body>\n",
        "</html>\n",
        "\"\"\"\n",
        "print(src)"
      ],
      "metadata": {
        "colab": {
          "base_uri": "https://localhost:8080/"
        },
        "id": "XJfz5lX5kPdn",
        "outputId": "20184258-54d4-4989-8bc1-cb1fb984052a"
      },
      "execution_count": 28,
      "outputs": [
        {
          "output_type": "stream",
          "name": "stdout",
          "text": [
            "\n",
            "<html>\n",
            "\t<head>\n",
            "\t\t<title> test page </title>\n",
            "\t</head>\n",
            "\t<body>\n",
            "\t\t<strong>a~</strong>\n",
            "\t\t<p>bcd</p>\n",
            "\t</body>\n",
            "</html>\n",
            "\n"
          ]
        }
      ]
    },
    {
      "cell_type": "code",
      "source": [
        "html_parser = BeautifulSoup(src,'html.parser')\n",
        "html_parser"
      ],
      "metadata": {
        "colab": {
          "base_uri": "https://localhost:8080/"
        },
        "id": "V3mPH3Kzkc_F",
        "outputId": "634bc027-fa6d-47fa-9c14-5e53e8acfc63"
      },
      "execution_count": 30,
      "outputs": [
        {
          "output_type": "execute_result",
          "data": {
            "text/plain": [
              "\n",
              "<html>\n",
              "<head>\n",
              "<title> test page </title>\n",
              "</head>\n",
              "<body>\n",
              "<strong>a~</strong>\n",
              "<p>bcd</p>\n",
              "</body>\n",
              "</html>"
            ]
          },
          "metadata": {},
          "execution_count": 30
        }
      ]
    },
    {
      "cell_type": "code",
      "source": [
        "html_parser.head"
      ],
      "metadata": {
        "colab": {
          "base_uri": "https://localhost:8080/"
        },
        "id": "gK5hgZuclc1M",
        "outputId": "5cbc83fb-ab56-4551-c0bf-ee0d566d6af9"
      },
      "execution_count": 31,
      "outputs": [
        {
          "output_type": "execute_result",
          "data": {
            "text/plain": [
              "<head>\n",
              "<title> test page </title>\n",
              "</head>"
            ]
          },
          "metadata": {},
          "execution_count": 31
        }
      ]
    },
    {
      "cell_type": "code",
      "source": [
        "html_parser.body"
      ],
      "metadata": {
        "colab": {
          "base_uri": "https://localhost:8080/"
        },
        "id": "05EsSQ0elnGj",
        "outputId": "849cfc0b-93cf-476a-db4b-c964a542c22a"
      },
      "execution_count": 32,
      "outputs": [
        {
          "output_type": "execute_result",
          "data": {
            "text/plain": [
              "<body>\n",
              "<strong>a~</strong>\n",
              "<p>bcd</p>\n",
              "</body>"
            ]
          },
          "metadata": {},
          "execution_count": 32
        }
      ]
    },
    {
      "cell_type": "markdown",
      "source": [
        "#카카오 도서검색 API 사용하기\n",
        "웹 페이지 <--요청-- 쿼리 문자열('도메인 주소?매개변수&매개변수 목록' 형태)  \n",
        "Request - Parameter 확인"
      ],
      "metadata": {
        "id": "VzSjCMQ1nvRA"
      }
    },
    {
      "cell_type": "code",
      "source": [
        "import urllib.request\n",
        "\n",
        "url = 'https://dapi.kakao.com/v3/search/book'\n",
        "target_param = \"target=title\"\n",
        "page_param = \"page=2\"\n",
        "query_in = input(\"검색 질의: \")\n",
        "query_param = \"query=\" + urllib.parse.quote(query_in) #utf-8로 인코딩 (open API에서는 표준화해서 서비스)\n",
        "query_str = url + '?' + target_param + '&' + query_param + '&' + page_param\n",
        "\n",
        "print(\"요청 url:\",query_str)\n",
        "print()\n",
        "print(\">>검색결과\")\n",
        "\n",
        "#urllib.request.urlopen(query_str) #HTTP Error 401: Unauthorized 인증키를 가지고 있지 않으므로 권한이 없음\n",
        "request = urllib.request.Request(query_str) #서비스 요청에 상요할 개체를 생성\n",
        "request.add_header(\"Authorization\", \"KakaoAK ee4c503f3cfa3a8198333f0f803f8be3\")\n",
        "response = urllib.request.urlopen(request)\n",
        "res = response.read().decode('utf-8')\n",
        "print(res) #JSON 방식으로 반환"
      ],
      "metadata": {
        "colab": {
          "base_uri": "https://localhost:8080/"
        },
        "id": "IEhyYd-znxtv",
        "outputId": "88d95d1f-16a9-4b71-afa6-5bd05018ca72"
      },
      "execution_count": 15,
      "outputs": [
        {
          "output_type": "stream",
          "name": "stdout",
          "text": [
            "검색 질의: 주식\n",
            "요청 url: https://dapi.kakao.com/v3/search/book?target=title&query=%EC%A3%BC%EC%8B%9D&page=2\n",
            "\n",
            ">>검색결과\n",
            "{\"documents\":[{\"authors\":[\"김석민\"],\"contents\":\"막연히 주식을 투기로만 보던 시대에서 너도나도 주식투자를 하는 시대가 되었다. 금리가 계속 낮아지면서 적금을 들기보다 새로운 재테크 방법을 찾게 되고 코로나19로 시중에 자금이 풀리면서 오히려 기업들의 주가가 오르기도 했다. 더 이상 주식투자가 멀게 느껴지지 않고 주식에 대한 관심은 계속 증가해 일명 ‘동학개미운동’이 일어나기도 했다. 어디를 가도 주식에 대한 이야기가 들려온다. 말 그대로 주식 열풍이 불고 있다. 《주식유치원에서 배우는 주식투자 기초\",\"datetime\":\"2021-06-21T00:00:00.000+09:00\",\"isbn\":\"1190641518 9791190641517\",\"price\":17000,\"publisher\":\"책밥\",\"sale_price\":15300,\"status\":\"정상판매\",\"thumbnail\":\"https://search1.kakaocdn.net/thumb/R120x174.q85/?fname=http%3A%2F%2Ft1.daumcdn.net%2Flbook%2Fimage%2F5736631%3Ftimestamp%3D20220222212808\",\"title\":\"주식유치원에서 배우는 주식투자 기초수업\",\"translators\":[],\"url\":\"https://search.daum.net/search?w=bookpage\\u0026bookId=5736631\\u0026q=%EC%A3%BC%EC%8B%9D%EC%9C%A0%EC%B9%98%EC%9B%90%EC%97%90%EC%84%9C+%EB%B0%B0%EC%9A%B0%EB%8A%94+%EC%A3%BC%EC%8B%9D%ED%88%AC%EC%9E%90+%EA%B8%B0%EC%B4%88%EC%88%98%EC%97%85\"},{\"authors\":[\"성세영\"],\"contents\":\"굴레에서 벗어나는 것이 먼저다! 타이밍보다 중요한 것은 오래 보유하는 것 20년 전 세계 최고의 기업이었던 GE, 이제는 미국 상위 기업에서 찾기 힘들다. 세계 최고 기업도 쓰러지는 잔인한 기업의 경쟁 세계에서 유수의 헤지펀드들도 개별주식으로 20%, 30%의 수익률을 수년간 달성하긴 힘들다. 개인투자자는 어떨까. 끝내 파란불이 되어 ‘물타기’나 ‘버티기’에 돌입하게 된다. 이는 올바른 장기투자가 아니다. 이 책은 자본가와 개미의 대화를 통해 생각의 차이를\",\"datetime\":\"2021-12-05T00:00:00.000+09:00\",\"isbn\":\"1165217597 9791165217594\",\"price\":18000,\"publisher\":\"길벗\",\"sale_price\":16200,\"status\":\"정상판매\",\"thumbnail\":\"https://search1.kakaocdn.net/thumb/R120x174.q85/?fname=http%3A%2F%2Ft1.daumcdn.net%2Flbook%2Fimage%2F5899543%3Ftimestamp%3D20220222203652\",\"title\":\"당신의 주식투자는 틀렸다\",\"translators\":[],\"url\":\"https://search.daum.net/search?w=bookpage\\u0026bookId=5899543\\u0026q=%EB%8B%B9%EC%8B%A0%EC%9D%98+%EC%A3%BC%EC%8B%9D%ED%88%AC%EC%9E%90%EB%8A%94+%ED%8B%80%EB%A0%B8%EB%8B%A4\"},{\"authors\":[\"황족\"],\"contents\":\"코로나발 주식 초심자의 행운이 끝났다. 이젠 본격적으로 공부해야 수익을 올릴 수 있는 구간이다. 이 책의 저자는 6만여 명의 구독자를 거느린 유튜브 채널 〈세상의 모든 주식 황족〉을 운영하며, 국내 최대 규모의 주식커뮤니티 〈거북이 투자법〉에서 게시물 조회수 단연 1위를 기록하는 황족이다. 황족은 유튜브와 커뮤니티에서 진정성 있는 주식정보를 제공하며 많은 투자자들로부터 절대적인 지지를 받고 있다. 이 책에는 주식 초보자들이 실패하지 않고 주식시장에\",\"datetime\":\"2021-07-01T00:00:00.000+09:00\",\"isbn\":\"1160023360 9791160023367\",\"price\":17000,\"publisher\":\"메이트북스\",\"sale_price\":15300,\"status\":\"정상판매\",\"thumbnail\":\"https://search1.kakaocdn.net/thumb/R120x174.q85/?fname=http%3A%2F%2Ft1.daumcdn.net%2Flbook%2Fimage%2F5736778%3Ftimestamp%3D20220222203733\",\"title\":\"주식 초보자를 위한 재미있는 주식어휘사전\",\"translators\":[],\"url\":\"https://search.daum.net/search?w=bookpage\\u0026bookId=5736778\\u0026q=%EC%A3%BC%EC%8B%9D+%EC%B4%88%EB%B3%B4%EC%9E%90%EB%A5%BC+%EC%9C%84%ED%95%9C+%EC%9E%AC%EB%AF%B8%EC%9E%88%EB%8A%94+%EC%A3%BC%EC%8B%9D%EC%96%B4%ED%9C%98%EC%82%AC%EC%A0%84\"},{\"authors\":[\"양대천\"],\"contents\":\"주식시장에는 수많은 주식 전문가와 재무제표 전문가가 있지만 그동안 재무제표 항목과 주가를 연계하려는 노력은 미비했다. 주가와 재무제표를 현장감 있게 접목해 풀어줄 수 있는 전문가가 많지 않은 이유도 한몫했다. 현재 회계학 전공 교수인 저자는 현장에서의 오랜 경험을 바탕으로 실전경험과 이론을 접목시킬 수 있는 몇 안 되는 전문가다. 저자가 이 책에서 제시하는 재무제표의 중요한 항목을 체크하고, 이를 알아보는 절차와 방법대로만 한다면 올바른 투자에 성공\",\"datetime\":\"2020-11-02T00:00:00.000+09:00\",\"isbn\":\"1160023069 9791160023060\",\"price\":18500,\"publisher\":\"메이트북스\",\"sale_price\":16650,\"status\":\"정상판매\",\"thumbnail\":\"https://search1.kakaocdn.net/thumb/R120x174.q85/?fname=http%3A%2F%2Ft1.daumcdn.net%2Flbook%2Fimage%2F5498725%3Ftimestamp%3D20220222211354\",\"title\":\"재무제표를 알면 오르는 주식이 보인다\",\"translators\":[],\"url\":\"https://search.daum.net/search?w=bookpage\\u0026bookId=5498725\\u0026q=%EC%9E%AC%EB%AC%B4%EC%A0%9C%ED%91%9C%EB%A5%BC+%EC%95%8C%EB%A9%B4+%EC%98%A4%EB%A5%B4%EB%8A%94+%EC%A3%BC%EC%8B%9D%EC%9D%B4+%EB%B3%B4%EC%9D%B8%EB%8B%A4\"},{\"authors\":[\"강방천\",\"존리\"],\"contents\":\"이제 사람들에게 주식투자는 선택이 아닌 필수가 되었다. 사람들의 높은 관심을 반영하듯 매일매일 고수의 투자 기술이 책과 매체를 통해 쏟아지지만 왜 여전히 사람들은 손실을 보고, 투자를 후회하는 것일까? 제대로 된 투자 철학이 선행되지 않는다면 기술은 사람들을 혼란스럽게 만들 뿐 절대 수익이라는 달콤한 열매를 가져다주지 않는다. 이 책은 이제 막 투자를 시작하는 사람들, 투자하고 있지만 확신이 없는 개인 투자자를 위한 ‘첫 주식투자 교과서’이다. 대한민국 주식\",\"datetime\":\"2021-07-21T00:00:00.000+09:00\",\"isbn\":\"119097732X 9791190977326\",\"price\":16500,\"publisher\":\"페이지2북스\",\"sale_price\":14850,\"status\":\"정상판매\",\"thumbnail\":\"https://search1.kakaocdn.net/thumb/R120x174.q85/?fname=http%3A%2F%2Ft1.daumcdn.net%2Flbook%2Fimage%2F5791011%3Ftimestamp%3D20220222213534\",\"title\":\"나의 첫 주식 교과서(강방천\\u0026존리와 함께하는)\",\"translators\":[],\"url\":\"https://search.daum.net/search?w=bookpage\\u0026bookId=5791011\\u0026q=%EB%82%98%EC%9D%98+%EC%B2%AB+%EC%A3%BC%EC%8B%9D+%EA%B5%90%EA%B3%BC%EC%84%9C%28%EA%B0%95%EB%B0%A9%EC%B2%9C%26%EC%A1%B4%EB%A6%AC%EC%99%80+%ED%95%A8%EA%BB%98%ED%95%98%EB%8A%94%29\"},{\"authors\":[\"뉴욕주민\"],\"contents\":\"씨티 그룹, JP 모건 등 글로벌 투자은행을 비롯해 사모펀드, 헤지펀드를 거치며 세계 주식시장의 중심 월가에서 치열하게 트레이딩을 해온 유튜버 ‘뉴욕주민’의 미국 주식 입문서인 《뉴욕주민의 진짜 미국식 주식투자》의 전면개정판이 출간됐다. 《뉴욕주민의 진짜 미국식 주식투자》는 월스트리트 트레이더의 경험과 미국 주식시장에 대한 깊은 이해를 바탕으로 한 독보적인 인사이트를 담아내 미국 주식투자 분야의 대표 도서로 자리 잡았다. 초판이 출간된 지 1년 만\",\"datetime\":\"2022-01-11T00:00:00.000+09:00\",\"isbn\":\"1162542608 9791162542606\",\"price\":24000,\"publisher\":\"비즈니스북스\",\"sale_price\":21600,\"status\":\"정상판매\",\"thumbnail\":\"https://search1.kakaocdn.net/thumb/R120x174.q85/?fname=http%3A%2F%2Ft1.daumcdn.net%2Flbook%2Fimage%2F5936157%3Ftimestamp%3D20220222221224\",\"title\":\"뉴욕주민의 진짜 미국식 주식투자(전면개정판)\",\"translators\":[],\"url\":\"https://search.daum.net/search?w=bookpage\\u0026bookId=5936157\\u0026q=%EB%89%B4%EC%9A%95%EC%A3%BC%EB%AF%BC%EC%9D%98+%EC%A7%84%EC%A7%9C+%EB%AF%B8%EA%B5%AD%EC%8B%9D+%EC%A3%BC%EC%8B%9D%ED%88%AC%EC%9E%90%28%EC%A0%84%EB%A9%B4%EA%B0%9C%EC%A0%95%ED%8C%90%29\"},{\"authors\":[\"정주용\"],\"contents\":\"미국의 GDP를 추월할 것”이라고 전망했다. 부의 중심이 이동하고 있다. 투자자에게 이보다 더 좋은 부자가 될 타이밍은 없다.  하지만 언어의 장벽과 낯선 금융 시스템으로 해외투자를 어렵게 생각하는 사람들이 많다. 이때 미국과 중국주식을 압축해서 족집게 과외처럼 알려주는 가치투자 전문가가 있다. SK E\\u0026amp;S, Xinhua Capital, IBK투자증권 등에서 10여 년간 중국-미국 글로벌 투자 업무를 수행하고, 한중 크로스보더 투자회사 비전크리에이터를\",\"datetime\":\"2021-03-19T00:00:00.000+09:00\",\"isbn\":\"1164842366 9791164842360\",\"price\":18000,\"publisher\":\"매일경제신문사\",\"sale_price\":16200,\"status\":\"정상판매\",\"thumbnail\":\"https://search1.kakaocdn.net/thumb/R120x174.q85/?fname=http%3A%2F%2Ft1.daumcdn.net%2Flbook%2Fimage%2F5621971%3Ftimestamp%3D20220222204851\",\"title\":\"부의 레벨을 바꾸는 미국주식 중국주식\",\"translators\":[],\"url\":\"https://search.daum.net/search?w=bookpage\\u0026bookId=5621971\\u0026q=%EB%B6%80%EC%9D%98+%EB%A0%88%EB%B2%A8%EC%9D%84+%EB%B0%94%EA%BE%B8%EB%8A%94+%EB%AF%B8%EA%B5%AD%EC%A3%BC%EC%8B%9D+%EC%A4%91%EA%B5%AD%EC%A3%BC%EC%8B%9D\"},{\"authors\":[\"제시 리버모어\"],\"contents\":\"고전이란 단순히 오래된 책을 뜻하기보다 ‘시간이 지나도 널리 가치를 인정받는 책’을 말한다. 『주식 매매하는 법』은 이러한 의미에서 주식투자자의 고전으로 일컬으며, 지금까지도 많은 사람에게 투자의 영감을 불어넣는 책이다. 이 책은 윌리엄 오닐, 잭 슈웨거, 알렉산더 엘더 등의 투자의 대가들이 추천함은 물론이고, 지금도 펀드매니저와 트레이더의 필독서로도 꼽힌다. 『주식 매매하는 법』은 월스트리트 역사상 가장 위대한 투자자로 알려진 제시 리버모어의 원전\",\"datetime\":\"2018-03-30T00:00:00.000+09:00\",\"isbn\":\"1188279122 9791188279128\",\"price\":14500,\"publisher\":\"이레미디어\",\"sale_price\":13050,\"status\":\"정상판매\",\"thumbnail\":\"https://search1.kakaocdn.net/thumb/R120x174.q85/?fname=http%3A%2F%2Ft1.daumcdn.net%2Flbook%2Fimage%2F1647087%3Ftimestamp%3D20220222212008\",\"title\":\"주식  매매하는 법\",\"translators\":[\"박성환\"],\"url\":\"https://search.daum.net/search?w=bookpage\\u0026bookId=1647087\\u0026q=%EC%A3%BC%EC%8B%9D++%EB%A7%A4%EB%A7%A4%ED%95%98%EB%8A%94+%EB%B2%95\"},{\"authors\":[\"이재준\"],\"contents\":\"월급만으로 먹고살기 어렵다고 말하는 요즘, 많은 사람이 큰돈을 벌기 위해 주식 투자를 시작한다. 잘하면 수익을 낼 수 있지만 제대로 공부하지 않으면 ‘투자’가 아닌 ‘도박’이 될 수 있는 주식, 처음 투자를 시작하는 초보 투자자가 가장 먼저 해야 할 일은 무엇일까? 바로 주식이 무엇인지 이해하는 것이다. 증권회사 PB, 투자자문사 애널리스트 및 대표이사를 역임한 저자는 “공부를 계속하면 수익을 볼 확률이 높아진다.”라고 말한다. 주식 투자의 기초 지식\",\"datetime\":\"2021-08-26T00:00:00.000+09:00\",\"isbn\":\"1170432409 9791170432401\",\"price\":18000,\"publisher\":\"원앤원북스\",\"sale_price\":16200,\"status\":\"정상판매\",\"thumbnail\":\"https://search1.kakaocdn.net/thumb/R120x174.q85/?fname=http%3A%2F%2Ft1.daumcdn.net%2Flbook%2Fimage%2F5820866%3Ftimestamp%3D20220222221706\",\"title\":\"딱 한 번 읽고 평생 써먹는 주식 공부\",\"translators\":[],\"url\":\"https://search.daum.net/search?w=bookpage\\u0026bookId=5820866\\u0026q=%EB%94%B1+%ED%95%9C+%EB%B2%88+%EC%9D%BD%EA%B3%A0+%ED%8F%89%EC%83%9D+%EC%8D%A8%EB%A8%B9%EB%8A%94+%EC%A3%BC%EC%8B%9D+%EA%B3%B5%EB%B6%80\"},{\"authors\":[\"이상우\"],\"contents\":\"대한민국 최고의 차트 전문서이자 스테디셀러인 『주식차트 절대비기 300선!』의 저자가 공매도와 세력을 이기는 진짜 주식의 세계를 소개한다. 팬데믹 이후 변화한 투자 패러다임에 대한 탁월한 인사이트와 함께 가치주와 성장주의 차이와 매매 타이밍을 명확히 제시하고, 중장기 투자와 함께 단기 투자를 병행해야 할 명분과 실패하지 않는 15/60 단기 투자 기법까지 공개한다.  저자는 흔들리는 것은 진짜가 아니라고 단언하며 어떤 상황에서도 흔들리지 않는 진짜 주식\",\"datetime\":\"2021-06-14T00:00:00.000+09:00\",\"isbn\":\"1197074651 9791197074653\",\"price\":20000,\"publisher\":\"여의도책방\",\"sale_price\":18000,\"status\":\"정상판매\",\"thumbnail\":\"https://search1.kakaocdn.net/thumb/R120x174.q85/?fname=http%3A%2F%2Ft1.daumcdn.net%2Flbook%2Fimage%2F5736577%3Ftimestamp%3D20220222203746\",\"title\":\"이것이 진짜 주식이다\",\"translators\":[],\"url\":\"https://search.daum.net/search?w=bookpage\\u0026bookId=5736577\\u0026q=%EC%9D%B4%EA%B2%83%EC%9D%B4+%EC%A7%84%EC%A7%9C+%EC%A3%BC%EC%8B%9D%EC%9D%B4%EB%8B%A4\"}],\"meta\":{\"is_end\":false,\"pageable_count\":999,\"total_count\":2878}}\n"
          ]
        }
      ]
    },
    {
      "cell_type": "code",
      "source": [
        "import json"
      ],
      "metadata": {
        "id": "SY0JDWX_-fTK"
      },
      "execution_count": 8,
      "outputs": []
    },
    {
      "cell_type": "code",
      "source": [
        "jres = json.loads(res)\n",
        "if jres == None:\n",
        "  print(\"json.loads 실패\")\n",
        "  exit(0)\n",
        "for post in jres['documents']:\n",
        "  print(\"제목:\",post['title'])\n",
        "  print(\"설명:\",post['contents'])\n",
        "  print(\"url:\",post['url'])\n",
        "  print(\"가격:\",post['price'])"
      ],
      "metadata": {
        "colab": {
          "base_uri": "https://localhost:8080/"
        },
        "id": "CRXs2Fcy-j-l",
        "outputId": "31db0320-23fd-4f4a-ac0b-30748efb7cfc"
      },
      "execution_count": 16,
      "outputs": [
        {
          "output_type": "stream",
          "name": "stdout",
          "text": [
            "제목: 주식유치원에서 배우는 주식투자 기초수업\n",
            "설명: 막연히 주식을 투기로만 보던 시대에서 너도나도 주식투자를 하는 시대가 되었다. 금리가 계속 낮아지면서 적금을 들기보다 새로운 재테크 방법을 찾게 되고 코로나19로 시중에 자금이 풀리면서 오히려 기업들의 주가가 오르기도 했다. 더 이상 주식투자가 멀게 느껴지지 않고 주식에 대한 관심은 계속 증가해 일명 ‘동학개미운동’이 일어나기도 했다. 어디를 가도 주식에 대한 이야기가 들려온다. 말 그대로 주식 열풍이 불고 있다. 《주식유치원에서 배우는 주식투자 기초\n",
            "url: https://search.daum.net/search?w=bookpage&bookId=5736631&q=%EC%A3%BC%EC%8B%9D%EC%9C%A0%EC%B9%98%EC%9B%90%EC%97%90%EC%84%9C+%EB%B0%B0%EC%9A%B0%EB%8A%94+%EC%A3%BC%EC%8B%9D%ED%88%AC%EC%9E%90+%EA%B8%B0%EC%B4%88%EC%88%98%EC%97%85\n",
            "가격: 17000\n",
            "제목: 당신의 주식투자는 틀렸다\n",
            "설명: 굴레에서 벗어나는 것이 먼저다! 타이밍보다 중요한 것은 오래 보유하는 것 20년 전 세계 최고의 기업이었던 GE, 이제는 미국 상위 기업에서 찾기 힘들다. 세계 최고 기업도 쓰러지는 잔인한 기업의 경쟁 세계에서 유수의 헤지펀드들도 개별주식으로 20%, 30%의 수익률을 수년간 달성하긴 힘들다. 개인투자자는 어떨까. 끝내 파란불이 되어 ‘물타기’나 ‘버티기’에 돌입하게 된다. 이는 올바른 장기투자가 아니다. 이 책은 자본가와 개미의 대화를 통해 생각의 차이를\n",
            "url: https://search.daum.net/search?w=bookpage&bookId=5899543&q=%EB%8B%B9%EC%8B%A0%EC%9D%98+%EC%A3%BC%EC%8B%9D%ED%88%AC%EC%9E%90%EB%8A%94+%ED%8B%80%EB%A0%B8%EB%8B%A4\n",
            "가격: 18000\n",
            "제목: 주식 초보자를 위한 재미있는 주식어휘사전\n",
            "설명: 코로나발 주식 초심자의 행운이 끝났다. 이젠 본격적으로 공부해야 수익을 올릴 수 있는 구간이다. 이 책의 저자는 6만여 명의 구독자를 거느린 유튜브 채널 〈세상의 모든 주식 황족〉을 운영하며, 국내 최대 규모의 주식커뮤니티 〈거북이 투자법〉에서 게시물 조회수 단연 1위를 기록하는 황족이다. 황족은 유튜브와 커뮤니티에서 진정성 있는 주식정보를 제공하며 많은 투자자들로부터 절대적인 지지를 받고 있다. 이 책에는 주식 초보자들이 실패하지 않고 주식시장에\n",
            "url: https://search.daum.net/search?w=bookpage&bookId=5736778&q=%EC%A3%BC%EC%8B%9D+%EC%B4%88%EB%B3%B4%EC%9E%90%EB%A5%BC+%EC%9C%84%ED%95%9C+%EC%9E%AC%EB%AF%B8%EC%9E%88%EB%8A%94+%EC%A3%BC%EC%8B%9D%EC%96%B4%ED%9C%98%EC%82%AC%EC%A0%84\n",
            "가격: 17000\n",
            "제목: 재무제표를 알면 오르는 주식이 보인다\n",
            "설명: 주식시장에는 수많은 주식 전문가와 재무제표 전문가가 있지만 그동안 재무제표 항목과 주가를 연계하려는 노력은 미비했다. 주가와 재무제표를 현장감 있게 접목해 풀어줄 수 있는 전문가가 많지 않은 이유도 한몫했다. 현재 회계학 전공 교수인 저자는 현장에서의 오랜 경험을 바탕으로 실전경험과 이론을 접목시킬 수 있는 몇 안 되는 전문가다. 저자가 이 책에서 제시하는 재무제표의 중요한 항목을 체크하고, 이를 알아보는 절차와 방법대로만 한다면 올바른 투자에 성공\n",
            "url: https://search.daum.net/search?w=bookpage&bookId=5498725&q=%EC%9E%AC%EB%AC%B4%EC%A0%9C%ED%91%9C%EB%A5%BC+%EC%95%8C%EB%A9%B4+%EC%98%A4%EB%A5%B4%EB%8A%94+%EC%A3%BC%EC%8B%9D%EC%9D%B4+%EB%B3%B4%EC%9D%B8%EB%8B%A4\n",
            "가격: 18500\n",
            "제목: 나의 첫 주식 교과서(강방천&존리와 함께하는)\n",
            "설명: 이제 사람들에게 주식투자는 선택이 아닌 필수가 되었다. 사람들의 높은 관심을 반영하듯 매일매일 고수의 투자 기술이 책과 매체를 통해 쏟아지지만 왜 여전히 사람들은 손실을 보고, 투자를 후회하는 것일까? 제대로 된 투자 철학이 선행되지 않는다면 기술은 사람들을 혼란스럽게 만들 뿐 절대 수익이라는 달콤한 열매를 가져다주지 않는다. 이 책은 이제 막 투자를 시작하는 사람들, 투자하고 있지만 확신이 없는 개인 투자자를 위한 ‘첫 주식투자 교과서’이다. 대한민국 주식\n",
            "url: https://search.daum.net/search?w=bookpage&bookId=5791011&q=%EB%82%98%EC%9D%98+%EC%B2%AB+%EC%A3%BC%EC%8B%9D+%EA%B5%90%EA%B3%BC%EC%84%9C%28%EA%B0%95%EB%B0%A9%EC%B2%9C%26%EC%A1%B4%EB%A6%AC%EC%99%80+%ED%95%A8%EA%BB%98%ED%95%98%EB%8A%94%29\n",
            "가격: 16500\n",
            "제목: 뉴욕주민의 진짜 미국식 주식투자(전면개정판)\n",
            "설명: 씨티 그룹, JP 모건 등 글로벌 투자은행을 비롯해 사모펀드, 헤지펀드를 거치며 세계 주식시장의 중심 월가에서 치열하게 트레이딩을 해온 유튜버 ‘뉴욕주민’의 미국 주식 입문서인 《뉴욕주민의 진짜 미국식 주식투자》의 전면개정판이 출간됐다. 《뉴욕주민의 진짜 미국식 주식투자》는 월스트리트 트레이더의 경험과 미국 주식시장에 대한 깊은 이해를 바탕으로 한 독보적인 인사이트를 담아내 미국 주식투자 분야의 대표 도서로 자리 잡았다. 초판이 출간된 지 1년 만\n",
            "url: https://search.daum.net/search?w=bookpage&bookId=5936157&q=%EB%89%B4%EC%9A%95%EC%A3%BC%EB%AF%BC%EC%9D%98+%EC%A7%84%EC%A7%9C+%EB%AF%B8%EA%B5%AD%EC%8B%9D+%EC%A3%BC%EC%8B%9D%ED%88%AC%EC%9E%90%28%EC%A0%84%EB%A9%B4%EA%B0%9C%EC%A0%95%ED%8C%90%29\n",
            "가격: 24000\n",
            "제목: 부의 레벨을 바꾸는 미국주식 중국주식\n",
            "설명: 미국의 GDP를 추월할 것”이라고 전망했다. 부의 중심이 이동하고 있다. 투자자에게 이보다 더 좋은 부자가 될 타이밍은 없다.  하지만 언어의 장벽과 낯선 금융 시스템으로 해외투자를 어렵게 생각하는 사람들이 많다. 이때 미국과 중국주식을 압축해서 족집게 과외처럼 알려주는 가치투자 전문가가 있다. SK E&amp;S, Xinhua Capital, IBK투자증권 등에서 10여 년간 중국-미국 글로벌 투자 업무를 수행하고, 한중 크로스보더 투자회사 비전크리에이터를\n",
            "url: https://search.daum.net/search?w=bookpage&bookId=5621971&q=%EB%B6%80%EC%9D%98+%EB%A0%88%EB%B2%A8%EC%9D%84+%EB%B0%94%EA%BE%B8%EB%8A%94+%EB%AF%B8%EA%B5%AD%EC%A3%BC%EC%8B%9D+%EC%A4%91%EA%B5%AD%EC%A3%BC%EC%8B%9D\n",
            "가격: 18000\n",
            "제목: 주식  매매하는 법\n",
            "설명: 고전이란 단순히 오래된 책을 뜻하기보다 ‘시간이 지나도 널리 가치를 인정받는 책’을 말한다. 『주식 매매하는 법』은 이러한 의미에서 주식투자자의 고전으로 일컬으며, 지금까지도 많은 사람에게 투자의 영감을 불어넣는 책이다. 이 책은 윌리엄 오닐, 잭 슈웨거, 알렉산더 엘더 등의 투자의 대가들이 추천함은 물론이고, 지금도 펀드매니저와 트레이더의 필독서로도 꼽힌다. 『주식 매매하는 법』은 월스트리트 역사상 가장 위대한 투자자로 알려진 제시 리버모어의 원전\n",
            "url: https://search.daum.net/search?w=bookpage&bookId=1647087&q=%EC%A3%BC%EC%8B%9D++%EB%A7%A4%EB%A7%A4%ED%95%98%EB%8A%94+%EB%B2%95\n",
            "가격: 14500\n",
            "제목: 딱 한 번 읽고 평생 써먹는 주식 공부\n",
            "설명: 월급만으로 먹고살기 어렵다고 말하는 요즘, 많은 사람이 큰돈을 벌기 위해 주식 투자를 시작한다. 잘하면 수익을 낼 수 있지만 제대로 공부하지 않으면 ‘투자’가 아닌 ‘도박’이 될 수 있는 주식, 처음 투자를 시작하는 초보 투자자가 가장 먼저 해야 할 일은 무엇일까? 바로 주식이 무엇인지 이해하는 것이다. 증권회사 PB, 투자자문사 애널리스트 및 대표이사를 역임한 저자는 “공부를 계속하면 수익을 볼 확률이 높아진다.”라고 말한다. 주식 투자의 기초 지식\n",
            "url: https://search.daum.net/search?w=bookpage&bookId=5820866&q=%EB%94%B1+%ED%95%9C+%EB%B2%88+%EC%9D%BD%EA%B3%A0+%ED%8F%89%EC%83%9D+%EC%8D%A8%EB%A8%B9%EB%8A%94+%EC%A3%BC%EC%8B%9D+%EA%B3%B5%EB%B6%80\n",
            "가격: 18000\n",
            "제목: 이것이 진짜 주식이다\n",
            "설명: 대한민국 최고의 차트 전문서이자 스테디셀러인 『주식차트 절대비기 300선!』의 저자가 공매도와 세력을 이기는 진짜 주식의 세계를 소개한다. 팬데믹 이후 변화한 투자 패러다임에 대한 탁월한 인사이트와 함께 가치주와 성장주의 차이와 매매 타이밍을 명확히 제시하고, 중장기 투자와 함께 단기 투자를 병행해야 할 명분과 실패하지 않는 15/60 단기 투자 기법까지 공개한다.  저자는 흔들리는 것은 진짜가 아니라고 단언하며 어떤 상황에서도 흔들리지 않는 진짜 주식\n",
            "url: https://search.daum.net/search?w=bookpage&bookId=5736577&q=%EC%9D%B4%EA%B2%83%EC%9D%B4+%EC%A7%84%EC%A7%9C+%EC%A3%BC%EC%8B%9D%EC%9D%B4%EB%8B%A4\n",
            "가격: 20000\n"
          ]
        }
      ]
    },
    {
      "cell_type": "markdown",
      "source": [
        "#Naver 도서 검색 API 사용하기"
      ],
      "metadata": {
        "id": "1raYOX13-O0l"
      }
    },
    {
      "cell_type": "code",
      "source": [
        "import urllib.request\n",
        "\n",
        "url = 'https://openapi.naver.com/v1/search/book.xml' #json 아닌 xml형태로 응답\n",
        "query_in = input(\"검색 질의: \") #상세검색이 아닌 그냥 전체 검색\n",
        "query_param = \"query=\" + urllib.parse.quote(query_in)\n",
        "query_str = url + '?' + query_param\n",
        "\n",
        "print(\"요청 url:\",query_str)\n",
        "print()\n",
        "print(\">>검색결과\")\n",
        "\n",
        "request = urllib.request.Request(query_str) \n",
        "request.add_header(\"X-Naver-Client-Id\", \"N2a4UtfAI1_PbVZwB1Of\")\n",
        "request.add_header(\"X-Naver-Client-Secret\", \"MbVNScVQ6j\")\n",
        "response = urllib.request.urlopen(request)\n",
        "res = response.read().decode('utf-8')\n",
        "print(res)"
      ],
      "metadata": {
        "colab": {
          "base_uri": "https://localhost:8080/"
        },
        "id": "lvf-4nJaDiVo",
        "outputId": "b4e235fc-b9c9-4b98-ed04-c97bb7f2d0c6"
      },
      "execution_count": 17,
      "outputs": [
        {
          "output_type": "stream",
          "name": "stdout",
          "text": [
            "검색 질의: python\n",
            "요청 url: https://openapi.naver.com/v1/search/book.xml?query=python\n",
            "\n",
            ">>검색결과\n",
            "<?xml version=\"1.0\" encoding=\"UTF-8\"?><rss version=\"2.0\"><channel><title>Naver Open API - book ::'python'</title><link>https://search.naver.com</link><description>Naver Search Result</description><lastBuildDate>Wed, 23 Feb 2022 14:47:04 +0900</lastBuildDate><total>6923</total><start>1</start><display>10</display><item><title>CODING BASICS &lt;b&gt;PYTHON&lt;/b&gt; (파이썬)</title><link>http://book.naver.com/bookdb/book_detail.php?bid=21508274</link><image>https://bookthumb-phinf.pstatic.net/cover/215/082/21508274.jpg?type=m1&amp;udate=20220208</image><author>김상민|장성식|김일태</author><price>20000</price><discount>18000</discount><publisher>렉스미디어닷넷</publisher><pubdate>20220210</pubdate><isbn>8959604216 9788959604210</isbn><description>파이썬으로 다지는 프로그래밍의 기초ㆍ 다양한 예제를 활용하여 초보자도 쉽게 프로그래밍의 기본을 익힐 수 있는 파이썬 입문서입니다.ㆍ 문법을 사전식으로 나열하지 않고 기능적인 프로그램을 하나씩 완성하면서 익힐 수 있게 구성했습니다.ㆍ 단계별로 완성하는 장별 예제 및 연습문제를 바탕으로... </description></item><item><title>처음 만나는 AI 수학 with &lt;b&gt;Python&lt;/b&gt; (한 권으로 배우는 인공지능 수학 첫걸음)</title><link>http://book.naver.com/bookdb/book_detail.php?bid=17799511</link><image>https://bookthumb-phinf.pstatic.net/cover/177/995/17799511.jpg?type=m1&amp;udate=20210929</image><author>아즈마 유키나가</author><price>23000</price><discount>20700</discount><publisher>영진닷컴</publisher><pubdate>20210115</pubdate><isbn>8931463375 9788931463378</isbn><description>인공지능을 공부하는데 필요한 기초 수학개념을 한 권에 모았다!〈처음 만나는 AI 수학 WITH &lt;b&gt;PYTHON&lt;/b&gt;〉은 인공지능을 공부하는데 기본이 되는 수학 개념을 소개하는 도서로 독자가 수학을 잘 하도록 만드는 것이 아니라 필요한 개념을 이해하도록 돕는데 목적을 두고 있다.\n",
            "\n",
            "이 책에서는 AI의 기본이 되는 선형대수... </description></item><item><title>&lt;b&gt;Python&lt;/b&gt;을 이용한 개인화 추천 시스템</title><link>http://book.naver.com/bookdb/book_detail.php?bid=16628756</link><image>https://bookthumb-phinf.pstatic.net/cover/166/287/16628756.jpg?type=m1&amp;udate=20200901</image><author>임일</author><price>18000</price><discount>17640</discount><publisher>청람</publisher><pubdate>20200825</pubdate><isbn>8959727660 9788959727667</isbn><description>현재 추천 알고리즘으로 가장 널리 사용되는 협업 필터링(COLLABORATIVE FILTERING: CF),\n",
            "행렬 요인화(MATRIX FACTORIZATION: MF), 딥러닝(DEEP LEARNING: DL) 알고리즘의 작동원리와 &lt;b&gt;PYTHON&lt;/b&gt;을 사용한 개인화 추천 시스템 구축을 다루고 있다. \n",
            "추천 시스템의 기본적인 원리를 이해하는 데... </description></item><item><title>파이썬으로 배우는 게임 개발 (닷잇 액션, 탄막 슈팅, 맵 에티터,장애물 피하기,실전편)</title><link>http://book.naver.com/bookdb/book_detail.php?bid=17303064</link><image>https://bookthumb-phinf.pstatic.net/cover/173/030/17303064.jpg?type=m1&amp;udate=20211216</image><author>히로세 츠요시</author><price>30000</price><discount>27000</discount><publisher>제이펍</publisher><pubdate>20201120</pubdate><isbn>119066545X 9791190665452</isbn><description>『파이썬으로 배우는 게임 개발: 실전편』은 입문편보다 보다 수준 높은 게임 개발 테크닉을 배웁니다. 유사 3D와 3D CG 기술을 통해 생동감과 박진감이 넘치는 카 레이싱 게임을 만들어 봅니다. 각 장 끝에 삽입된 COLUMN을 통해 25년차 현직 게임 개발자인 저자가 게임 개발 프로세스와 노하우 등을... </description></item><item><title>&lt;b&gt;Python&lt;/b&gt; for Cybersecurity</title><link>http://book.naver.com/bookdb/book_detail.php?bid=21482520</link><image>https://bookthumb-phinf.pstatic.net/cover/214/825/21482520.jpg?type=m1&amp;udate=20220204</image><author>Howard E. Poston|III</author><price>22000</price><discount></discount><publisher>Wiley</publisher><pubdate>20220201</pubdate><isbn>1119850657 9781119850656</isbn><description>Discover an up-to-date and authoritative exploration of &lt;b&gt;Python&lt;/b&gt; cybersecurity strategies &lt;b&gt;Python&lt;/b&gt; For Cybersecurity: Using &lt;b&gt;Python&lt;/b&gt; for Cyber Offense and Defense delivers an intuitive and hands-on explanation of using &lt;b&gt;Python&lt;/b&gt; for cybersecurity. It relies on the MITRE ATT&amp;CK... </description></item><item><title>프로그래머를 위한 &lt;b&gt;Python&lt;/b&gt;</title><link>http://book.naver.com/bookdb/book_detail.php?bid=21379376</link><image>https://bookthumb-phinf.pstatic.net/cover/213/793/21379376.jpg?type=m1&amp;udate=20211225</image><author>폴 데이텔|하비 데이텔</author><price>38000</price><discount>34200</discount><publisher>성안당</publisher><pubdate>20211223</pubdate><isbn>8931556829 9788931556827</isbn><description>사의 ‘&lt;b&gt;PYTHON&lt;/b&gt; FOR PROGRAMMERS’가 오랜만에 번역판으로 나왔다. 특히 이 책은 “파이썬 하면 인공지능 언어”라는 기대를 저버리지 않을 만큼 최신... 타 고급 언어에 대한 배경 지식이 있는 프로그래머를 대상으로 하기도 하지만 실습 지침을 사용하여 파이썬(&lt;b&gt;PYTHON&lt;/b&gt;)을 첨단 컴퓨팅 기술과 프로그래밍을... </description></item><item><title>&lt;b&gt;Python&lt;/b&gt;으로 배우는 문제해결과 인공지능</title><link>http://book.naver.com/bookdb/book_detail.php?bid=18032625</link><image>https://bookthumb-phinf.pstatic.net/cover/180/326/18032625.jpg?type=m1&amp;udate=20210928</image><author>김현정|오경선</author><price>23000</price><discount>22540</discount><publisher>인피니티북스</publisher><pubdate>20210225</pubdate><isbn>1185578811 9791185578811</isbn><description>컴퓨팅 사고는 자신의 영역에 컴퓨터과학 원리와 개념을 활용하여 논리적으로 풀어낼 수 있는 방법을 통해 배양된다. 수년간 대학에서 강의를 해 온 우리는 시대적 요구를 반영하기 위해 SW교육모델과 교육내용을 연구하였다.그 결과 미래사회의 인재를 양성하기 위한 기존의 획일적인 SW기초교육을 탈피하여... </description></item><item><title>Introduction to Digital Music with &lt;b&gt;Python&lt;/b&gt; Programming: Learning Music with Code</title><link>http://book.naver.com/bookdb/book_detail.php?bid=21984389</link><image>https://bookthumb-phinf.pstatic.net/cover/219/843/21984389.jpg?type=m1&amp;udate=20220218</image><author>Horn, Michael|West, Melanie|Roberts, Cameron</author><price>64960</price><discount>58460</discount><publisher>FocalPress</publisher><pubdate>20220207</pubdate><isbn>0367470829 9780367470821</isbn><description></description></item><item><title>R과 &lt;b&gt;Python&lt;/b&gt;을 이용한 비모수통계학</title><link>http://book.naver.com/bookdb/book_detail.php?bid=21370882</link><image>https://bookthumb-phinf.pstatic.net/cover/213/708/21370882.jpg?type=m1&amp;udate=20211228</image><author>박상언</author><price>24000</price><discount>24000</discount><publisher>자유아카데미</publisher><pubdate>20220105</pubdate><isbn>1158083386 9791158083380</isbn><description>학부에서 15년간 비모수통계학을 강의하면서 정리한 내용을 책으로 출간하게 되었다. 기초통계학 수준의 내용을 숙지한 비전공자를 대상으로 교재의 난이도를 조절하다 보니, 내용상 수학적 유도보다는 코딩에 중점을 두게 되었으며, 가급적 기초통계학의 내용과 연결하여 설명하고자 하였다.책의 1장, 2장... </description></item><item><title>&lt;b&gt;python&lt;/b&gt;으로 배우는 OpenCv 프로그래밍</title><link>http://book.naver.com/bookdb/book_detail.php?bid=21368146</link><image>https://bookthumb-phinf.pstatic.net/cover/213/681/21368146.jpg?type=m1&amp;udate=20211218</image><author>김동근</author><price>28000</price><discount>25200</discount><publisher>가메</publisher><pubdate>20211215</pubdate><isbn>8980783108 9788980783106</isbn><description>2018년 출간되었던 “&lt;b&gt;PYTHON&lt;/b&gt;으로 배우는 OPENCV 프로그래밍”의 개정판으로 내용을 보완하여 - &lt;b&gt;PYTHON&lt;/b&gt; 3.10과 OPENCV 4.5 사용- NUMPY, MATPLOTLIB, PAFY, YOUTUBE_DL, PYGAMES. PYOPENGL - 영상 및 비디오 입출력과 녹화- 임계값, 히스토그램 처리, 영상 필터링, 분할- 특징 검출, 디스크립터... </description></item></channel></rss>\n"
          ]
        }
      ]
    },
    {
      "cell_type": "code",
      "source": [
        "from bs4 import BeautifulSoup\n",
        "\n",
        "xmlsoup = BeautifulSoup(res,'html.parser')\n",
        "items = xmlsoup.find_all('item')\n",
        "for item in items:\n",
        "  print(\"제목:\",item.title.get_text())\n",
        "  print(\"저자:\",item.author.get_text())\n",
        "  print(\"출판사:\",item.publisher.get_text())\n",
        "  print(\"가격:\",item.price.get_text())\n",
        "  print(\"================================================\")"
      ],
      "metadata": {
        "colab": {
          "base_uri": "https://localhost:8080/"
        },
        "id": "1veOPCmlMK6U",
        "outputId": "f15f429a-84d2-4c06-e7d9-eb0f65e3cd85"
      },
      "execution_count": 22,
      "outputs": [
        {
          "output_type": "stream",
          "name": "stdout",
          "text": [
            "제목: CODING BASICS <b>PYTHON</b> (파이썬)\n",
            "저자: 김상민|장성식|김일태\n",
            "출판사: 렉스미디어닷넷\n",
            "가격: 20000\n",
            "================================================\n",
            "제목: 처음 만나는 AI 수학 with <b>Python</b> (한 권으로 배우는 인공지능 수학 첫걸음)\n",
            "저자: 아즈마 유키나가\n",
            "출판사: 영진닷컴\n",
            "가격: 23000\n",
            "================================================\n",
            "제목: <b>Python</b>을 이용한 개인화 추천 시스템\n",
            "저자: 임일\n",
            "출판사: 청람\n",
            "가격: 18000\n",
            "================================================\n",
            "제목: 파이썬으로 배우는 게임 개발 (닷잇 액션, 탄막 슈팅, 맵 에티터,장애물 피하기,실전편)\n",
            "저자: 히로세 츠요시\n",
            "출판사: 제이펍\n",
            "가격: 30000\n",
            "================================================\n",
            "제목: <b>Python</b> for Cybersecurity\n",
            "저자: Howard E. Poston|III\n",
            "출판사: Wiley\n",
            "가격: 22000\n",
            "================================================\n",
            "제목: 프로그래머를 위한 <b>Python</b>\n",
            "저자: 폴 데이텔|하비 데이텔\n",
            "출판사: 성안당\n",
            "가격: 38000\n",
            "================================================\n",
            "제목: <b>Python</b>으로 배우는 문제해결과 인공지능\n",
            "저자: 김현정|오경선\n",
            "출판사: 인피니티북스\n",
            "가격: 23000\n",
            "================================================\n",
            "제목: Introduction to Digital Music with <b>Python</b> Programming: Learning Music with Code\n",
            "저자: Horn, Michael|West, Melanie|Roberts, Cameron\n",
            "출판사: FocalPress\n",
            "가격: 64960\n",
            "================================================\n",
            "제목: R과 <b>Python</b>을 이용한 비모수통계학\n",
            "저자: 박상언\n",
            "출판사: 자유아카데미\n",
            "가격: 24000\n",
            "================================================\n",
            "제목: <b>python</b>으로 배우는 OpenCv 프로그래밍\n",
            "저자: 김동근\n",
            "출판사: 가메\n",
            "가격: 28000\n",
            "================================================\n"
          ]
        }
      ]
    },
    {
      "cell_type": "markdown",
      "source": [
        "#공공데이터 포털 API 실습\n",
        "건강보험심사평가원_코로나19 전화상담 병의원 정보"
      ],
      "metadata": {
        "id": "Kj8VNoLJUKsx"
      }
    },
    {
      "cell_type": "code",
      "source": [
        "from urllib.parse import urlencode, unquote\n",
        "import urllib.request\n",
        "\n",
        "url = 'http://apis.data.go.kr/B551182/telCnslHospService/getTelCnslHospList'\n",
        "queryString = \"?\" + urlencode(\n",
        "{\n",
        "  \"ServiceKey\": unquote(\"4XC9ZlvdCSjcZHskPcgQNOvnyeMfcxgnYAJ%2BhRw8gB4XL1LupIngQE6tNSeyt75PIdWMGMidutpl%2FvTJVhR6lQ%3D%3D\"),\n",
        "  \"pageNo\": 1,\n",
        "  \"numOfRows\": 10\n",
        "}\n",
        ")\n",
        "query_str = url + queryString\n",
        "\n",
        "print(\"요청 url:\",query_str)\n",
        "print()\n",
        "\n",
        "#urllib.request.urlopen(query_str) #HTTP Error 401: Unauthorized 인증키를 가지고 있지 않으므로 권한이 없음\n",
        "request = urllib.request.Request(query_str) #서비스 요청에 상요할 개체를 생성\n",
        "response = urllib.request.urlopen(request)\n",
        "res = response.read().decode('utf-8')\n",
        "print(res) #JSON 방식으로 반환"
      ],
      "metadata": {
        "colab": {
          "base_uri": "https://localhost:8080/"
        },
        "id": "o0u0DMGbUKNO",
        "outputId": "23294cf9-54dc-4806-a14e-dcaaa2d4567a"
      },
      "execution_count": 41,
      "outputs": [
        {
          "output_type": "stream",
          "name": "stdout",
          "text": [
            "요청 url: http://apis.data.go.kr/B551182/telCnslHospService/getTelCnslHospList?ServiceKey=4XC9ZlvdCSjcZHskPcgQNOvnyeMfcxgnYAJ%2BhRw8gB4XL1LupIngQE6tNSeyt75PIdWMGMidutpl%2FvTJVhR6lQ%3D%3D&pageNo=1&numOfRows=10\n",
            "\n",
            "<OpenAPI_ServiceResponse>\n",
            "\t<cmmMsgHeader>\n",
            "\t\t<errMsg>SERVICE ERROR</errMsg>\n",
            "\t\t<returnAuthMsg>HTTP_ERROR</returnAuthMsg>\n",
            "\t\t<returnReasonCode>04</returnReasonCode>\n",
            "\t</cmmMsgHeader>\n",
            "</OpenAPI_ServiceResponse>\n"
          ]
        }
      ]
    },
    {
      "cell_type": "code",
      "source": [
        "import requests\n",
        "\n",
        "url = 'http://apis.data.go.kr/B550928/dissForecastInfoSvc/getDissForecastInfo'\n",
        "params ={'serviceKey' : '4XC9ZlvdCSjcZHskPcgQNOvnyeMfcxgnYAJ%2BhRw8gB4XL1LupIngQE6tNSeyt75PIdWMGMidutpl%2FvTJVhR6lQ%3D%3D', 'numOfRows' : '10', 'pageNo' : '1', 'type' : 'xml', 'dissCd' : '1', 'znCd' : '11' }\n",
        "\n",
        "response = requests.get(url, params=params)\n",
        "print(response.content)"
      ],
      "metadata": {
        "colab": {
          "base_uri": "https://localhost:8080/"
        },
        "id": "uUw61RG5aDRU",
        "outputId": "44b64fb3-52ce-47d9-a319-b690179cc6fd"
      },
      "execution_count": 40,
      "outputs": [
        {
          "output_type": "stream",
          "name": "stdout",
          "text": [
            "b'<OpenAPI_ServiceResponse>\\n\\t<cmmMsgHeader>\\n\\t\\t<errMsg>SERVICE ERROR</errMsg>\\n\\t\\t<returnAuthMsg>SERVICE_KEY_IS_NOT_REGISTERED_ERROR</returnAuthMsg>\\n\\t\\t<returnReasonCode>30</returnReasonCode>\\n\\t</cmmMsgHeader>\\n</OpenAPI_ServiceResponse>'\n"
          ]
        }
      ]
    },
    {
      "cell_type": "code",
      "source": [
        "from bs4 import BeautifulSoup\n",
        "\n",
        "xmlsoup = BeautifulSoup(res,'html.parser')\n",
        "items = xmlsoup.find_all('item')\n",
        "for item in items:\n",
        "  print(\"제목:\",item.title.get_text())\n",
        "  print(\"저자:\",item.author.get_text())\n",
        "  print(\"출판사:\",item.publisher.get_text())\n",
        "  print(\"가격:\",item.price.get_text())\n",
        "  print(\"================================================\")"
      ],
      "metadata": {
        "id": "nqK_TRF9Ukdx"
      },
      "execution_count": null,
      "outputs": []
    },
    {
      "cell_type": "markdown",
      "source": [
        "#서울시 공공데이터 API"
      ],
      "metadata": {
        "id": "k-MhKOr4ewQM"
      }
    },
    {
      "cell_type": "code",
      "source": [
        "import urllib.request\n",
        "url='http://openapi.seoul.go.kr:8088/62784b41636b696d39305a686c5363/xml/LOCALDATA_020306_GS/1/5/'\n",
        "\n",
        "query_in = input(\"검색 질의:\")\n",
        "query_param = \"query=\"+urllib.parse.quote(query_in)\n",
        "query_str = url+'?'+query_param\n",
        "\n",
        "print(query_str)\n",
        "\n",
        "\n",
        "request = urllib.request.Request(query_str)\n",
        "#request.add_header(\"Authorization\",\"KakaoAK 발급받은restapi키\")\n",
        "#request.add_header('X-Naver-Client-Id', 'RRSoo62bkh201IaSKRV8')\n",
        "#request.add_header('X-Naver-Client-Secret', 'WQczoeiBSl')\n",
        "\n",
        "#request.add_header(\"Authorization\",\"KakaoAK a81623a6b163a2e0f224c284662eb737\")\n",
        "response = urllib.request.urlopen(request)\n",
        "res = response.read().decode('utf-8')\n",
        "print(res)"
      ],
      "metadata": {
        "id": "fzhzYurietke"
      },
      "execution_count": null,
      "outputs": []
    },
    {
      "cell_type": "code",
      "source": [
        "from bs4 import BeautifulSoup\n",
        "xmlsoup = BeautifulSoup(res, 'html.parser')\n",
        "\n",
        "\n",
        "rows = xmlsoup.find_all('row')  #item이라는 태그를 전부 찾아주세요\n",
        "for row in rows:\n",
        "  print('사업장명:',row.bplcnm.get_text())\n",
        "  print('주소:',row.sitewhladdr.get_text())\n",
        "\n",
        "\n",
        "  print('=============================')"
      ],
      "metadata": {
        "colab": {
          "base_uri": "https://localhost:8080/"
        },
        "id": "63kk-O2PevvP",
        "outputId": "e65e7998-d72e-46bb-a5a3-38126c8ce880"
      },
      "execution_count": 38,
      "outputs": [
        {
          "output_type": "stream",
          "name": "stdout",
          "text": [
            "사업장명: 문종환 애견왕국\n",
            "주소: 서울특별시 강서구 화곡동 343-0059번지 \n",
            "=============================\n",
            "사업장명: 퍼피스쿨\n",
            "주소: 서울특별시 강서구 화곡동\n",
            "=============================\n",
            "사업장명: 개팔자상팔자\n",
            "주소: 서울특별시 강서구 화곡동 370-0053번지 \n",
            "=============================\n",
            "사업장명: 펍앤킷(PUP N KIT)\n",
            "주소: 서울특별시 강서구 화곡동 982-0008번지 \n",
            "=============================\n",
            "사업장명: 시온동물병원\n",
            "주소: 서울특별시 강서구 화곡동 46-236번지 \n",
            "=============================\n"
          ]
        }
      ]
    },
    {
      "cell_type": "code",
      "source": [
        "import urllib.request\n",
        "url='http://openapi.seoul.go.kr:8088/sample/xml/TbEqkKenvinfo/1/5/'\n",
        "\n",
        "#query_in = input(\"검색 질의:\")\n",
        "#query_param = \"query=\"+urllib.parse.quote(query_in)\n",
        "query_str = url+'?'+query_param\n",
        "\n",
        "print(query_str)\n",
        "\n",
        "\n",
        "request = urllib.request.Request(query_str)\n",
        "#request.add_header(\"Authorization\",\"KakaoAK 발급받은restapi키\")\n",
        "#request.add_header('X-Naver-Client-Id', 'RRSoo62bkh201IaSKRV8')\n",
        "#request.add_header('X-Naver-Client-Secret', 'WQczoeiBSl')\n",
        "\n",
        "#request.add_header(\"Authorization\",\"KakaoAK a81623a6b163a2e0f224c284662eb737\")\n",
        "response = urllib.request.urlopen(request)\n",
        "res = response.read().decode('utf-8')\n",
        "print(res)"
      ],
      "metadata": {
        "colab": {
          "base_uri": "https://localhost:8080/"
        },
        "id": "OLC6SNEKlksI",
        "outputId": "f2a0fdc3-6b43-4e13-a487-0712cfe5d967"
      },
      "execution_count": 44,
      "outputs": [
        {
          "output_type": "stream",
          "name": "stdout",
          "text": [
            "http://openapi.seoul.go.kr:8088/sample/xml/TbEqkKenvinfo/1/5/?query=%EC%9E%89\n",
            "<?xml version=\"1.0\" encoding=\"UTF-8\"?>\n",
            "<TbEqkKenvinfo>\n",
            "<list_total_count>685</list_total_count>\n",
            "<RESULT>\n",
            "<CODE>INFO-000</CODE>\n",
            "<MESSAGE>정상 처리되었습니다</MESSAGE>\n",
            "</RESULT>\n",
            "<row>\n",
            "<EQ_ID>202200000186</EQ_ID>\n",
            "<EQ_NO/>\n",
            "<DITC>3</DITC>\n",
            "<DITC_NM>국외지진</DITC_NM>\n",
            "<TRANS_TIME>202202220857</TRANS_TIME>\n",
            "<ORIGIN_TIME>20220222082413</ORIGIN_TIME>\n",
            "<LAT>-69.77</LAT>\n",
            "<LON>165.41</LON>\n",
            "<MAG>6.6</MAG>\n",
            "<ORIGIN_AREA>남극 발레니 제도 남쪽 310km 해역 </ORIGIN_AREA>\n",
            "<ORIGIN_AREA2/>\n",
            "<NOTE1>국내영향없음. 위 자료는 미지질조사소(USGS) 분석결과임.</NOTE1>\n",
            "<NOTE2/>\n",
            "<ISSHOW>Y</ISSHOW>\n",
            "<CHECK_DATE/>\n",
            "<ATCH_FILE_ID/>\n",
            "<REGDATE>2022-02-22 08:59:06.0</REGDATE>\n",
            "<KMA_EQ_NO>2022000952</KMA_EQ_NO>\n",
            "<KMA_EQ_SEQ/>\n",
            "<AREA_GUBUN/>\n",
            "<LOCAL_GUBUN/>\n",
            "<INTENSITY_TYPE/>\n",
            "<INTENSITY_DESC/>\n",
            "<INTENSITY_LOCATIONURI/>\n",
            "<INTENSITY_GRIDURI/>\n",
            "<INTENSITY_MAPURI/>\n",
            "<LOCATION_MAPURI/>\n",
            "<INTENSITY_LFILE/>\n",
            "<INTENSITY_GFILE/>\n",
            "<INTENSITY_IMAGE/>\n",
            "<LOCATION_IMAGE/>\n",
            "<ORIGIN_DEPTH>10</ORIGIN_DEPTH>\n",
            "</row>\n",
            "<row>\n",
            "<EQ_ID>202200000183</EQ_ID>\n",
            "<EQ_NO/>\n",
            "<DITC>3</DITC>\n",
            "<DITC_NM>국외지진</DITC_NM>\n",
            "<TRANS_TIME>202202220606</TRANS_TIME>\n",
            "<ORIGIN_TIME>20220222055200</ORIGIN_TIME>\n",
            "<LAT>26.9</LAT>\n",
            "<LON>126.4</LON>\n",
            "<MAG>5.9</MAG>\n",
            "<ORIGIN_AREA>일본 오키나와현 오키나와 서북서쪽 149km 해역</ORIGIN_AREA>\n",
            "<ORIGIN_AREA2/>\n",
            "<NOTE1>국내영향없음. 위 자료는 일본기상청(JMA) 분석결과임.</NOTE1>\n",
            "<NOTE2/>\n",
            "<ISSHOW>Y</ISSHOW>\n",
            "<CHECK_DATE/>\n",
            "<ATCH_FILE_ID/>\n",
            "<REGDATE>2022-02-22 06:08:06.0</REGDATE>\n",
            "<KMA_EQ_NO>2022000949</KMA_EQ_NO>\n",
            "<KMA_EQ_SEQ/>\n",
            "<AREA_GUBUN/>\n",
            "<LOCAL_GUBUN/>\n",
            "<INTENSITY_TYPE/>\n",
            "<INTENSITY_DESC/>\n",
            "<INTENSITY_LOCATIONURI/>\n",
            "<INTENSITY_GRIDURI/>\n",
            "<INTENSITY_MAPURI/>\n",
            "<LOCATION_MAPURI/>\n",
            "<INTENSITY_LFILE/>\n",
            "<INTENSITY_GFILE/>\n",
            "<INTENSITY_IMAGE/>\n",
            "<LOCATION_IMAGE/>\n",
            "<ORIGIN_DEPTH>10</ORIGIN_DEPTH>\n",
            "</row>\n",
            "<row>\n",
            "<EQ_ID>202200000166</EQ_ID>\n",
            "<EQ_NO/>\n",
            "<DITC>3</DITC>\n",
            "<DITC_NM>국외지진</DITC_NM>\n",
            "<TRANS_TIME>202202161639</TRANS_TIME>\n",
            "<ORIGIN_TIME>20220216161225</ORIGIN_TIME>\n",
            "<LAT>14.19</LAT>\n",
            "<LON>-91.3</LON>\n",
            "<MAG>6.2</MAG>\n",
            "<ORIGIN_AREA>과테말라 에스쿠인틀라 서남서쪽 57km 지역</ORIGIN_AREA>\n",
            "<ORIGIN_AREA2/>\n",
            "<NOTE1>국내영향없음. 위 자료는 미지질조사소(USGS) 분석결과임.</NOTE1>\n",
            "<NOTE2/>\n",
            "<ISSHOW>Y</ISSHOW>\n",
            "<CHECK_DATE/>\n",
            "<ATCH_FILE_ID/>\n",
            "<REGDATE>2022-02-16 16:41:06.0</REGDATE>\n",
            "<KMA_EQ_NO>2022000861</KMA_EQ_NO>\n",
            "<KMA_EQ_SEQ/>\n",
            "<AREA_GUBUN/>\n",
            "<LOCAL_GUBUN/>\n",
            "<INTENSITY_TYPE/>\n",
            "<INTENSITY_DESC/>\n",
            "<INTENSITY_LOCATIONURI/>\n",
            "<INTENSITY_GRIDURI/>\n",
            "<INTENSITY_MAPURI/>\n",
            "<LOCATION_MAPURI/>\n",
            "<INTENSITY_LFILE/>\n",
            "<INTENSITY_GFILE/>\n",
            "<INTENSITY_IMAGE/>\n",
            "<LOCATION_IMAGE/>\n",
            "<ORIGIN_DEPTH>84</ORIGIN_DEPTH>\n",
            "</row>\n",
            "<row>\n",
            "<EQ_ID>202200000160</EQ_ID>\n",
            "<EQ_NO/>\n",
            "<DITC>1</DITC>\n",
            "<DITC_NM>지진정보</DITC_NM>\n",
            "<TRANS_TIME>202202150747</TRANS_TIME>\n",
            "<ORIGIN_TIME>20220215065228</ORIGIN_TIME>\n",
            "<LAT>41.29</LAT>\n",
            "<LON>129.23</LON>\n",
            "<MAG>2.5</MAG>\n",
            "<ORIGIN_AREA>북한 함경북도 길주 북북서쪽 38km 지역</ORIGIN_AREA>\n",
            "<ORIGIN_AREA2/>\n",
            "<NOTE1>자연지진으로 분석됨.</NOTE1>\n",
            "<NOTE2/>\n",
            "<ISSHOW>Y</ISSHOW>\n",
            "<CHECK_DATE/>\n",
            "<ATCH_FILE_ID/>\n",
            "<REGDATE>2022-02-15 07:48:06.0</REGDATE>\n",
            "<KMA_EQ_NO>2022000833</KMA_EQ_NO>\n",
            "<KMA_EQ_SEQ/>\n",
            "<AREA_GUBUN/>\n",
            "<LOCAL_GUBUN/>\n",
            "<INTENSITY_TYPE/>\n",
            "<INTENSITY_DESC/>\n",
            "<INTENSITY_LOCATIONURI/>\n",
            "<INTENSITY_GRIDURI/>\n",
            "<INTENSITY_MAPURI/>\n",
            "<LOCATION_MAPURI/>\n",
            "<INTENSITY_LFILE/>\n",
            "<INTENSITY_GFILE/>\n",
            "<INTENSITY_IMAGE/>\n",
            "<LOCATION_IMAGE/>\n",
            "<ORIGIN_DEPTH>29</ORIGIN_DEPTH>\n",
            "</row>\n",
            "<row>\n",
            "<EQ_ID>202200000159</EQ_ID>\n",
            "<EQ_NO/>\n",
            "<DITC>1</DITC>\n",
            "<DITC_NM>지진정보</DITC_NM>\n",
            "<TRANS_TIME>202202142038</TRANS_TIME>\n",
            "<ORIGIN_TIME>20220214194727</ORIGIN_TIME>\n",
            "<LAT>41.28</LAT>\n",
            "<LON>129.26</LON>\n",
            "<MAG>2.3</MAG>\n",
            "<ORIGIN_AREA>북한 함경북도 길주 북쪽 37km 지역</ORIGIN_AREA>\n",
            "<ORIGIN_AREA2/>\n",
            "<NOTE1>자연지진으로 분석됨.</NOTE1>\n",
            "<NOTE2/>\n",
            "<ISSHOW>Y</ISSHOW>\n",
            "<CHECK_DATE/>\n",
            "<ATCH_FILE_ID/>\n",
            "<REGDATE>2022-02-14 20:40:06.0</REGDATE>\n",
            "<KMA_EQ_NO>2022000830</KMA_EQ_NO>\n",
            "<KMA_EQ_SEQ/>\n",
            "<AREA_GUBUN/>\n",
            "<LOCAL_GUBUN/>\n",
            "<INTENSITY_TYPE/>\n",
            "<INTENSITY_DESC/>\n",
            "<INTENSITY_LOCATIONURI/>\n",
            "<INTENSITY_GRIDURI/>\n",
            "<INTENSITY_MAPURI/>\n",
            "<LOCATION_MAPURI/>\n",
            "<INTENSITY_LFILE/>\n",
            "<INTENSITY_GFILE/>\n",
            "<INTENSITY_IMAGE/>\n",
            "<LOCATION_IMAGE/>\n",
            "<ORIGIN_DEPTH>18</ORIGIN_DEPTH>\n",
            "</row>\n",
            "</TbEqkKenvinfo>\n",
            "\n"
          ]
        }
      ]
    },
    {
      "cell_type": "code",
      "source": [
        "from bs4 import BeautifulSoup\n",
        "xmlsoup = BeautifulSoup(res, 'html.parser')\n",
        "\n",
        "\n",
        "rows = xmlsoup.find_all('row')  #item이라는 태그를 전부 찾아주세요\n",
        "for row in rows:\n",
        "  print('위치:',row.origin_area.get_text())\n",
        "  print('정보:',row.note1.get_text())\n",
        "\n",
        "\n",
        "  print('=============================')"
      ],
      "metadata": {
        "colab": {
          "base_uri": "https://localhost:8080/"
        },
        "id": "bkHH0-JiloCn",
        "outputId": "6aa27643-ac6f-4b28-ffe0-b2346ca27b3e"
      },
      "execution_count": 45,
      "outputs": [
        {
          "output_type": "stream",
          "name": "stdout",
          "text": [
            "위치: 남극 발레니 제도 남쪽 310km 해역 \n",
            "정보: 국내영향없음. 위 자료는 미지질조사소(USGS) 분석결과임.\n",
            "=============================\n",
            "위치: 일본 오키나와현 오키나와 서북서쪽 149km 해역\n",
            "정보: 국내영향없음. 위 자료는 일본기상청(JMA) 분석결과임.\n",
            "=============================\n",
            "위치: 과테말라 에스쿠인틀라 서남서쪽 57km 지역\n",
            "정보: 국내영향없음. 위 자료는 미지질조사소(USGS) 분석결과임.\n",
            "=============================\n",
            "위치: 북한 함경북도 길주 북북서쪽 38km 지역\n",
            "정보: 자연지진으로 분석됨.\n",
            "=============================\n",
            "위치: 북한 함경북도 길주 북쪽 37km 지역\n",
            "정보: 자연지진으로 분석됨.\n",
            "=============================\n"
          ]
        }
      ]
    }
  ]
}