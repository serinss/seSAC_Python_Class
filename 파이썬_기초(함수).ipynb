{
  "nbformat": 4,
  "nbformat_minor": 0,
  "metadata": {
    "colab": {
      "name": "파이썬-기초(함수).ipynb",
      "provenance": [],
      "collapsed_sections": [],
      "authorship_tag": "ABX9TyNrnQZlfgiN2f+dEz78ljU9",
      "include_colab_link": true
    },
    "kernelspec": {
      "name": "python3",
      "display_name": "Python 3"
    },
    "language_info": {
      "name": "python"
    }
  },
  "cells": [
    {
      "cell_type": "markdown",
      "metadata": {
        "id": "view-in-github",
        "colab_type": "text"
      },
      "source": [
        "<a href=\"https://colab.research.google.com/github/serinss/seSAC_Python_Class/blob/main/%ED%8C%8C%EC%9D%B4%EC%8D%AC_%EA%B8%B0%EC%B4%88(%ED%95%A8%EC%88%98).ipynb\" target=\"_parent\"><img src=\"https://colab.research.google.com/assets/colab-badge.svg\" alt=\"Open In Colab\"/></a>"
      ]
    },
    {
      "cell_type": "markdown",
      "source": [
        "#함수\n",
        "자주 사용하는 알고리즘에 이름을 부여하여 만든 로직(코드 블럭)  \n",
        "로직 이름, 입력 매개변수 목록, 수행할 코드, 반환 값으로 구성  \n",
        "입력 매개변수 목록과 반환 값을 생략 가능  \n",
        "   \n",
        "함수를 만드는 것 : 함수 정의  \n",
        "함수를 사용하는 것 : 함수 호출  "
      ],
      "metadata": {
        "id": "8LgHTloWwJMu"
      }
    },
    {
      "cell_type": "code",
      "execution_count": null,
      "metadata": {
        "id": "9AXF2RRuuqJQ"
      },
      "outputs": [],
      "source": [
        "#함수명 : foo\n",
        "#입력 매개변수 : a,b\n",
        "def foo(a,b):\n",
        "  print(f\"a:{a} b:{b}\") #수행코드 : 두 개의 인자를 출력한 후, 곱한 값을 반환\n",
        "  return a*b #반환값 : a*b"
      ]
    },
    {
      "cell_type": "code",
      "source": [
        "re = foo(2,3) #함수 호출(반환 값을 re에 대입)\n",
        "print(f\"결과:{re}\")\n",
        "foo(3,4) #함수 호출(반환 값을 무시)"
      ],
      "metadata": {
        "colab": {
          "base_uri": "https://localhost:8080/"
        },
        "id": "UVr28qUOxIr3",
        "outputId": "54de222a-04a7-4c3f-8da1-c2faaf18d994"
      },
      "execution_count": null,
      "outputs": [
        {
          "output_type": "stream",
          "name": "stdout",
          "text": [
            "a:2 b:3\n",
            "결과:6\n",
            "a:3 b:4\n"
          ]
        },
        {
          "output_type": "execute_result",
          "data": {
            "text/plain": [
              "12"
            ]
          },
          "metadata": {},
          "execution_count": 4
        }
      ]
    },
    {
      "cell_type": "code",
      "source": [
        "def my_student_info(name, schoolID, phoneNumber):\n",
        "  print(\"-----------------------------\")\n",
        "  print(\"- 학생 이름:\", name)\n",
        "  print(\"- 학급 번호:\", schoolID)\n",
        "  print(\"- 전화 번호:\", phoneNumber)"
      ],
      "metadata": {
        "id": "WK1ZiEngpGel"
      },
      "execution_count": null,
      "outputs": []
    },
    {
      "cell_type": "code",
      "source": [
        "my_student_info(\"현아\", \"01\", \"010-1234-2345\")\n",
        "my_student_info(\"윤아\", \"02\", \"010-2356-1111\")"
      ],
      "metadata": {
        "colab": {
          "base_uri": "https://localhost:8080/"
        },
        "id": "zqdibSiqpIC-",
        "outputId": "d5cd7181-473b-40fe-eb23-1639cd8aba79"
      },
      "execution_count": null,
      "outputs": [
        {
          "output_type": "stream",
          "name": "stdout",
          "text": [
            "-----------------------------\n",
            "- 학생 이름: 현아\n",
            "- 학급 번호: 01\n",
            "- 전화 번호: 010-1234-2345\n",
            "-----------------------------\n",
            "- 학생 이름: 윤아\n",
            "- 학급 번호: 02\n",
            "- 전화 번호: 010-2356-1111\n"
          ]
        }
      ]
    },
    {
      "cell_type": "code",
      "source": [
        "def print_menu():\n",
        "  print(\"1. 데이터 추가\")\n",
        "  print(\"2. 데이터 삭제\")\n",
        "  print(\"3. 데이터 검색\")\n",
        "  print(\"4. 전체 데이터 확인\")\n",
        "  print(\"0. 종료\")"
      ],
      "metadata": {
        "id": "UN5ta0qkxrTX"
      },
      "execution_count": null,
      "outputs": []
    },
    {
      "cell_type": "code",
      "source": [
        "def menu_select():\n",
        "  print_menu()\n",
        "  return int(input(\"=> 메뉴 선택 :\"))"
      ],
      "metadata": {
        "id": "gUzd9Rdcx2bz"
      },
      "execution_count": null,
      "outputs": []
    },
    {
      "cell_type": "code",
      "source": [
        "while True:\n",
        "  key = menu_select()\n",
        "  if key == 0:\n",
        "    break\n",
        "  if key == 1:\n",
        "    print(\"데이터 추가\")\n",
        "  elif key == 2:\n",
        "    print(\"데이터 삭제\")\n",
        "  elif key == 3:\n",
        "    print(\"데이터 검색\")\n",
        "  elif key == 4:\n",
        "    print(\"전체 데이터 확인\")\n",
        "  else:\n",
        "    print(\"잘못 선택하였습니다.\")"
      ],
      "metadata": {
        "colab": {
          "base_uri": "https://localhost:8080/"
        },
        "id": "9_MP4ZKVyAbI",
        "outputId": "78de6567-e691-4f20-c7f1-6dd78632c06c"
      },
      "execution_count": null,
      "outputs": [
        {
          "name": "stdout",
          "output_type": "stream",
          "text": [
            "1. 데이터 추가\n",
            "2. 데이터 삭제\n",
            "3. 데이터 검색\n",
            "4. 전체 데이터 확인\n",
            "0. 종료\n",
            "=> 메뉴 선택 :1\n",
            "데이터 추가\n",
            "1. 데이터 추가\n",
            "2. 데이터 삭제\n",
            "3. 데이터 검색\n",
            "4. 전체 데이터 확인\n",
            "0. 종료\n",
            "=> 메뉴 선택 :2\n",
            "데이터 삭제\n",
            "1. 데이터 추가\n",
            "2. 데이터 삭제\n",
            "3. 데이터 검색\n",
            "4. 전체 데이터 확인\n",
            "0. 종료\n",
            "=> 메뉴 선택 :3\n",
            "데이터 검색\n",
            "1. 데이터 추가\n",
            "2. 데이터 삭제\n",
            "3. 데이터 검색\n",
            "4. 전체 데이터 확인\n",
            "0. 종료\n",
            "=> 메뉴 선택 :0\n"
          ]
        }
      ]
    },
    {
      "cell_type": "markdown",
      "source": [
        "특정 범위의 수의 합계를 구하는 함수 (이전 문제에 대한 코드를 구체화해놓을 수 있다)"
      ],
      "metadata": {
        "id": "_HUqpEg1zHkv"
      }
    },
    {
      "cell_type": "code",
      "source": [
        "def getsum(start,end): #디미터의 법칙 = 객체 지향 프로그래밍\n",
        "  s=0\n",
        "  for i in range(start,end+1):\n",
        "    s += i\n",
        "  return s"
      ],
      "metadata": {
        "id": "8WmmfYLdzKix"
      },
      "execution_count": null,
      "outputs": []
    },
    {
      "cell_type": "code",
      "source": [
        "s = int(input(\"시작:\"))\n",
        "e = int(input(\"끝:\"))\n",
        "print(f\"{s}~{e} 합계: {getsum(s,e)}\")\n",
        "print(f\"1~100 합계: {getsum(1,100)}\")"
      ],
      "metadata": {
        "colab": {
          "base_uri": "https://localhost:8080/"
        },
        "id": "KmtaKN4YzUpb",
        "outputId": "131de5c3-ec77-4d0a-f3bd-e0586a86f649"
      },
      "execution_count": null,
      "outputs": [
        {
          "output_type": "stream",
          "name": "stdout",
          "text": [
            "시작:50\n",
            "끝:80\n",
            "50~80 합계: 2015\n",
            "1~100 합계: 5050\n"
          ]
        }
      ]
    },
    {
      "cell_type": "code",
      "source": [
        "re = getsum(1,2,3) #정의한 함수와 다르게 인자를 전달 - Type Error\n",
        "print(re)"
      ],
      "metadata": {
        "id": "r99StcJq0l8p"
      },
      "execution_count": null,
      "outputs": []
    },
    {
      "cell_type": "code",
      "source": [
        "def soo(a, temp=1, yahoo='a'): #temp는 인자를 전달하지 않을 때 1을 디폴트 값으로, yahoo는 'a'를 디폴트 값으로\n",
        "  print(a,temp,yahoo)"
      ],
      "metadata": {
        "id": "0FjDU_eg02Gj"
      },
      "execution_count": null,
      "outputs": []
    },
    {
      "cell_type": "code",
      "source": [
        "soo(1)\n",
        "soo(2,temp=2)\n",
        "soo(3,yahoo=2)\n",
        "soo(3,3)\n",
        "soo(3,4,5)"
      ],
      "metadata": {
        "colab": {
          "base_uri": "https://localhost:8080/"
        },
        "id": "HSUxsExG1UZd",
        "outputId": "e27f49a4-00f6-4cc1-cf78-f14564df3780"
      },
      "execution_count": null,
      "outputs": [
        {
          "output_type": "stream",
          "name": "stdout",
          "text": [
            "1 1 a\n",
            "2 2 a\n",
            "3 1 2\n",
            "3 3 a\n",
            "3 4 5\n"
          ]
        }
      ]
    },
    {
      "cell_type": "code",
      "source": [
        "def zoo(n=2,*values): #가변 매개변수 : print()와 같이 매개변수를 원하는 만큼 받을 수 있는 함수\n",
        "  print(\"===\")\n",
        "  print(n)\n",
        "  for value in values:\n",
        "    print(value,end=' ')\n",
        "  print()"
      ],
      "metadata": {
        "id": "8cks8H9h1uUj"
      },
      "execution_count": null,
      "outputs": []
    },
    {
      "cell_type": "code",
      "source": [
        "zoo() #디폴트 매개변수만 출력\n",
        "zoo(1) #값이 전달 되었으니 1은 values \n",
        "zoo(1,3) #3 values\n",
        "zoo(1,3,4,5) #3,4,5 values"
      ],
      "metadata": {
        "colab": {
          "base_uri": "https://localhost:8080/"
        },
        "id": "RQ7jUvNl2A3B",
        "outputId": "aa926214-80e1-4acf-a05f-0942a541904f"
      },
      "execution_count": null,
      "outputs": [
        {
          "output_type": "stream",
          "name": "stdout",
          "text": [
            "===\n",
            "2\n",
            "\n",
            "===\n",
            "1\n",
            "\n",
            "===\n",
            "1\n",
            "3 \n",
            "===\n",
            "1\n",
            "3 4 5 \n"
          ]
        }
      ]
    },
    {
      "cell_type": "code",
      "source": [
        "name = input(\"이름:\")\n",
        "print(f\"이름:{name}\")"
      ],
      "metadata": {
        "colab": {
          "base_uri": "https://localhost:8080/"
        },
        "id": "yeunonMw3fRC",
        "outputId": "dfc13c98-6238-46e3-d2b2-b62cff875b3d"
      },
      "execution_count": null,
      "outputs": [
        {
          "output_type": "stream",
          "name": "stdout",
          "text": [
            "이름:세린\n",
            "이름:세린\n"
          ]
        }
      ]
    },
    {
      "cell_type": "code",
      "source": [
        "def square(x):\n",
        "  return x*x"
      ],
      "metadata": {
        "id": "2aaVw7O63qlQ"
      },
      "execution_count": null,
      "outputs": []
    },
    {
      "cell_type": "code",
      "source": [
        "for i in range(1,5):\n",
        "  re = square(i)\n",
        "  print(f\"{i}^2 = {re}\")"
      ],
      "metadata": {
        "colab": {
          "base_uri": "https://localhost:8080/"
        },
        "id": "YX4km4EN3uJI",
        "outputId": "8d6ae20a-7253-4c84-8bd4-ac9324e06fe6"
      },
      "execution_count": null,
      "outputs": [
        {
          "output_type": "stream",
          "name": "stdout",
          "text": [
            "1^2 = 1\n",
            "2^2 = 4\n",
            "3^2 = 9\n",
            "4^2 = 16\n"
          ]
        }
      ]
    },
    {
      "cell_type": "code",
      "source": [
        "def find_nearest_sum(start,goal): #더하기로 근사치 구하기\n",
        "  s = 0\n",
        "  while s < goal:\n",
        "    s += start\n",
        "    start += 1\n",
        "    if(start==100):\n",
        "      return s\n",
        "  print(\"find!\")\n",
        "  return s"
      ],
      "metadata": {
        "id": "s5A15x124Jhc"
      },
      "execution_count": null,
      "outputs": []
    },
    {
      "cell_type": "code",
      "source": [
        "re = find_nearest_sum(1,2000)\n",
        "print(re)\n",
        "re = find_nearest_sum(1,20000)\n",
        "print(re)"
      ],
      "metadata": {
        "colab": {
          "base_uri": "https://localhost:8080/"
        },
        "id": "NdbVjXhF4qdC",
        "outputId": "da53c184-f8ed-4406-cbe8-3cc7c392755f"
      },
      "execution_count": null,
      "outputs": [
        {
          "output_type": "stream",
          "name": "stdout",
          "text": [
            "find!\n",
            "2016\n",
            "4950\n"
          ]
        }
      ]
    },
    {
      "cell_type": "markdown",
      "source": [
        "#함수 활용 장점"
      ],
      "metadata": {
        "id": "LEGV34GSNLJR"
      }
    },
    {
      "cell_type": "markdown",
      "source": [
        "n개의 정수를 입력받아 합계와 평균을 출력하자"
      ],
      "metadata": {
        "id": "Lbd10dRoNNz_"
      }
    },
    {
      "cell_type": "code",
      "source": [
        "#함수 이용 X\n",
        "\n",
        "n = int(input(\"입력 받을 정수 개수:\"))\n",
        "\n",
        "numbers=[]\n",
        "for i in range(n):\n",
        "  number = int(input(f\"{i+1}번째: \"))\n",
        "  numbers.append(number)\n",
        "\n",
        "s=0\n",
        "for num in numbers:\n",
        "  s += num\n",
        "\n",
        "print(f\"합계:{s} 평균:{s/len(numbers):.2f}\")"
      ],
      "metadata": {
        "colab": {
          "base_uri": "https://localhost:8080/"
        },
        "id": "ldaFiE6VNT2l",
        "outputId": "852e3bbf-7a23-4511-af12-a70fe083fb4c"
      },
      "execution_count": null,
      "outputs": [
        {
          "output_type": "stream",
          "name": "stdout",
          "text": [
            "입력 받을 정수 개수:5\n",
            "1번째: 40\n",
            "2번째: 23\n",
            "3번째: 60\n",
            "4번째: 80\n",
            "5번째: 32\n",
            "합계:235 평균:47.0\n"
          ]
        }
      ]
    },
    {
      "cell_type": "code",
      "source": [
        "#함수 이용 O\n",
        "#입력 함수 정의\n",
        "def input_numbers(n):\n",
        "  numbers=[]\n",
        "  for i in range(n):\n",
        "    number = int(input(f\"{i+1}번째: \"))\n",
        "    numbers.append(number)\n",
        "  return numbers"
      ],
      "metadata": {
        "id": "MfOLcMgxOIm5"
      },
      "execution_count": null,
      "outputs": []
    },
    {
      "cell_type": "code",
      "source": [
        "#합산 함수 정의\n",
        "def get_sum(numbers):\n",
        "  s=0\n",
        "  for number in numbers:\n",
        "    s+=number\n",
        "  return s"
      ],
      "metadata": {
        "id": "rFNJmdtVOcsb"
      },
      "execution_count": null,
      "outputs": []
    },
    {
      "cell_type": "code",
      "source": [
        "#코드 본문\n",
        "n = int(input(\"입력 받을 정수 개수:\"))\n",
        "numbers = input_numbers(n)\n",
        "s = get_sum(numbers)\n",
        "\n",
        "print(f\"합계:{s} 평균:{s/len(numbers):.2f}\")"
      ],
      "metadata": {
        "colab": {
          "base_uri": "https://localhost:8080/"
        },
        "id": "JMXhLNy5OkBo",
        "outputId": "311d9b99-45e9-41f0-a189-279d7c39a499"
      },
      "execution_count": null,
      "outputs": [
        {
          "output_type": "stream",
          "name": "stdout",
          "text": [
            "입력 받을 정수 개수:5\n",
            "1번째: 20\n",
            "2번째: 60\n",
            "3번째: 48\n",
            "4번째: 32\n",
            "5번째: 15\n",
            "합계:175 평균:35.00\n"
          ]
        }
      ]
    },
    {
      "cell_type": "markdown",
      "source": [
        "#팁\n",
        "\n",
        "##하드코딩과 소프트코딩"
      ],
      "metadata": {
        "id": "5SW-f8hRPwsy"
      }
    },
    {
      "cell_type": "code",
      "source": [
        "#원의 면적 구하기\n",
        "#파이를 3.14로 하드코딩\n",
        "\n",
        "def get_circle_area(radius):\n",
        "  return 3.14*radius**2"
      ],
      "metadata": {
        "id": "sU-baq1TPznd"
      },
      "execution_count": null,
      "outputs": []
    },
    {
      "cell_type": "code",
      "source": [
        "print(get_circle_area(1))"
      ],
      "metadata": {
        "colab": {
          "base_uri": "https://localhost:8080/"
        },
        "id": "d5nks4BMQJm8",
        "outputId": "055ba9f9-dfc7-4519-969c-9a4b8bae269d"
      },
      "execution_count": null,
      "outputs": [
        {
          "output_type": "stream",
          "name": "stdout",
          "text": [
            "3.14\n"
          ]
        }
      ]
    },
    {
      "cell_type": "code",
      "source": [
        "#상수를 이용한 소프트 코딩 -> 유지보수에 매우 적합하다\n",
        "\n",
        "PI = 3.141592\n",
        "def get_circle_area2(radius):\n",
        "  return PI*radius**2"
      ],
      "metadata": {
        "id": "2HBIqXhWQaxe"
      },
      "execution_count": null,
      "outputs": []
    },
    {
      "cell_type": "code",
      "source": [
        "print(get_circle_area2(1))"
      ],
      "metadata": {
        "colab": {
          "base_uri": "https://localhost:8080/"
        },
        "id": "WxjH3ihIQi7m",
        "outputId": "a470bcf2-26a5-45a0-ce8d-64d62fd574d0"
      },
      "execution_count": null,
      "outputs": [
        {
          "output_type": "stream",
          "name": "stdout",
          "text": [
            "3.141592\n"
          ]
        }
      ]
    },
    {
      "cell_type": "code",
      "source": [
        "#하드 코딩(함수 사용X)\n",
        "s1 = \"hello\"\n",
        "s2 = \"yahoo\"\n",
        "print(\"<p>\",s1,\"</p>\")\n",
        "print(\"<p>\",s2,\"</p>\")"
      ],
      "metadata": {
        "colab": {
          "base_uri": "https://localhost:8080/"
        },
        "id": "DXFhLo9QRQ8x",
        "outputId": "882f0fb7-6375-401f-9e65-675dd2a10bba"
      },
      "execution_count": null,
      "outputs": [
        {
          "output_type": "stream",
          "name": "stdout",
          "text": [
            "<p> hello </p>\n",
            "<p> yahoo </p>\n"
          ]
        }
      ]
    },
    {
      "cell_type": "code",
      "source": [
        "#소프트 코딩(함수 사용O)\n",
        "def make_ptag(s):\n",
        "  return str.format(\"<p>{0}</p>\",s)\n",
        "print(make_ptag(s1))\n",
        "print(make_ptag(s2))"
      ],
      "metadata": {
        "colab": {
          "base_uri": "https://localhost:8080/"
        },
        "id": "IXAPjGdERbfB",
        "outputId": "730bdd64-462f-4dde-c083-40fa79fcdbc6"
      },
      "execution_count": null,
      "outputs": [
        {
          "output_type": "stream",
          "name": "stdout",
          "text": [
            "<p>hello</p>\n",
            "<p>yahoo</p>\n"
          ]
        }
      ]
    },
    {
      "cell_type": "markdown",
      "source": [
        "#람다함수"
      ],
      "metadata": {
        "id": "IUEzuweo6zTq"
      }
    },
    {
      "cell_type": "code",
      "source": [
        "(lambda x : x**2) (3)"
      ],
      "metadata": {
        "colab": {
          "base_uri": "https://localhost:8080/"
        },
        "id": "ZoOpaeXq61N6",
        "outputId": "a23556c3-7ca1-4060-c941-68bdba3ece6e"
      },
      "execution_count": 1,
      "outputs": [
        {
          "output_type": "execute_result",
          "data": {
            "text/plain": [
              "9"
            ]
          },
          "metadata": {},
          "execution_count": 1
        }
      ]
    },
    {
      "cell_type": "code",
      "source": [
        "my_square = lambda x:x**2\n",
        "my_square(2)"
      ],
      "metadata": {
        "colab": {
          "base_uri": "https://localhost:8080/"
        },
        "id": "EV7e_Q147snS",
        "outputId": "b7a9b10c-8d62-4609-a077-2b52547a1397"
      },
      "execution_count": 2,
      "outputs": [
        {
          "output_type": "execute_result",
          "data": {
            "text/plain": [
              "4"
            ]
          },
          "metadata": {},
          "execution_count": 2
        }
      ]
    },
    {
      "cell_type": "code",
      "source": [
        "my_simple_func = lambda x,y,z: 2*x + 3*y + z\n",
        "my_simple_func(1,2,3)"
      ],
      "metadata": {
        "colab": {
          "base_uri": "https://localhost:8080/"
        },
        "id": "8WdqUjh871AI",
        "outputId": "312dae0e-ccf3-49d3-e287-6b64855c49d4"
      },
      "execution_count": 3,
      "outputs": [
        {
          "output_type": "execute_result",
          "data": {
            "text/plain": [
              "11"
            ]
          },
          "metadata": {},
          "execution_count": 3
        }
      ]
    },
    {
      "cell_type": "markdown",
      "source": [
        "#내장함수"
      ],
      "metadata": {
        "id": "ISnRU6bj8E5Q"
      }
    },
    {
      "cell_type": "code",
      "source": [
        "myFriends = []\n",
        "bool(myFriends)"
      ],
      "metadata": {
        "colab": {
          "base_uri": "https://localhost:8080/"
        },
        "id": "98yGZGkn8F8w",
        "outputId": "feb65e23-aa2f-4a8e-dff2-234ca0d8aef8"
      },
      "execution_count": 4,
      "outputs": [
        {
          "output_type": "execute_result",
          "data": {
            "text/plain": [
              "False"
            ]
          },
          "metadata": {},
          "execution_count": 4
        }
      ]
    },
    {
      "cell_type": "code",
      "source": [
        "myFriends = ['James','Lisa']\n",
        "bool(myFriends)"
      ],
      "metadata": {
        "colab": {
          "base_uri": "https://localhost:8080/"
        },
        "id": "kxe1UYFC9Xme",
        "outputId": "b28b870b-83a5-4cc2-8e5f-bbcf03ca4f07"
      },
      "execution_count": 5,
      "outputs": [
        {
          "output_type": "execute_result",
          "data": {
            "text/plain": [
              "True"
            ]
          },
          "metadata": {},
          "execution_count": 5
        }
      ]
    },
    {
      "cell_type": "code",
      "source": [
        "def print_name(name):\n",
        "  if bool(name):\n",
        "    print(\"입력된 이름:\",name)\n",
        "  else:\n",
        "    print(\"입력된 이름이 없습니다.\")"
      ],
      "metadata": {
        "id": "DdZefoFY9fzF"
      },
      "execution_count": 6,
      "outputs": []
    },
    {
      "cell_type": "code",
      "source": [
        "print_name(\"Alice\")"
      ],
      "metadata": {
        "colab": {
          "base_uri": "https://localhost:8080/"
        },
        "id": "rAgpy3sR9nuS",
        "outputId": "a8f8f869-930c-44f0-ce4f-39cd649db23e"
      },
      "execution_count": 7,
      "outputs": [
        {
          "output_type": "stream",
          "name": "stdout",
          "text": [
            "입력된 이름: Alice\n"
          ]
        }
      ]
    },
    {
      "cell_type": "code",
      "source": [
        "print_name(\"\")"
      ],
      "metadata": {
        "colab": {
          "base_uri": "https://localhost:8080/"
        },
        "id": "1udi1kh09sCh",
        "outputId": "2cbf59bc-c35f-40a6-89b6-cb2dc7a7eabc"
      },
      "execution_count": 8,
      "outputs": [
        {
          "output_type": "stream",
          "name": "stdout",
          "text": [
            "입력된 이름이 없습니다.\n"
          ]
        }
      ]
    },
    {
      "cell_type": "code",
      "source": [
        "myNum = [19,5,23,2,7,4,2,8]\n",
        "[min(myNum),max(myNum)]"
      ],
      "metadata": {
        "colab": {
          "base_uri": "https://localhost:8080/"
        },
        "id": "fxjLimO7-BTd",
        "outputId": "b3c65680-25e2-492f-b21b-158a884fa95a"
      },
      "execution_count": 9,
      "outputs": [
        {
          "output_type": "execute_result",
          "data": {
            "text/plain": [
              "[2, 23]"
            ]
          },
          "metadata": {},
          "execution_count": 9
        }
      ]
    },
    {
      "cell_type": "code",
      "source": [
        "myStr = 'babczxx'\n",
        "[min(myStr),max(myStr)]"
      ],
      "metadata": {
        "colab": {
          "base_uri": "https://localhost:8080/"
        },
        "id": "kfoQGorr-KVU",
        "outputId": "931551ed-ac33-4eb4-d639-aa726f945733"
      },
      "execution_count": 10,
      "outputs": [
        {
          "output_type": "execute_result",
          "data": {
            "text/plain": [
              "['a', 'z']"
            ]
          },
          "metadata": {},
          "execution_count": 10
        }
      ]
    },
    {
      "cell_type": "code",
      "source": [
        "[abs(10),abs(-10)]"
      ],
      "metadata": {
        "colab": {
          "base_uri": "https://localhost:8080/"
        },
        "id": "cgaT-E6y-ZLV",
        "outputId": "6fd2229c-c39e-4f40-8402-da5763cb2322"
      },
      "execution_count": 11,
      "outputs": [
        {
          "output_type": "execute_result",
          "data": {
            "text/plain": [
              "[10, 10]"
            ]
          },
          "metadata": {},
          "execution_count": 11
        }
      ]
    },
    {
      "cell_type": "code",
      "source": [
        "sumList = [1,2,3,4,5,6,7,8,9,10]\n",
        "sum(sumList)"
      ],
      "metadata": {
        "colab": {
          "base_uri": "https://localhost:8080/"
        },
        "id": "RSRKa7M0-eqH",
        "outputId": "41dc8c17-a543-42ac-e48e-c2c8ec5de698"
      },
      "execution_count": 12,
      "outputs": [
        {
          "output_type": "execute_result",
          "data": {
            "text/plain": [
              "55"
            ]
          },
          "metadata": {},
          "execution_count": 12
        }
      ]
    },
    {
      "cell_type": "markdown",
      "source": [
        "#재귀함수  \n",
        "자기 자신을 호출하여 문제를 해결하려는 함수  \n",
        "\n",
        "##피보나치 함수  \n",
        "1 1 2 3 5 8 13 ...  \n",
        "F(1) = F(2) = 1  \n",
        "F(n) = F(n-1) + F(n-2) 단, n은 자연수"
      ],
      "metadata": {
        "id": "62rdrQ0e8nuq"
      }
    },
    {
      "cell_type": "code",
      "source": [
        "#단순 재귀 구현\n",
        "\n",
        "cnt=0\n",
        "def fibonacci(n):\n",
        "  global cnt #정의된 해당 함수에서 cnt는 전역변수인 cnt임을 의미\n",
        "  cnt += 1 #이 함수가 몇 번 호출되는지 카운팅\n",
        "  if(n<0):\n",
        "    return 0\n",
        "  if(n==1) or (n==2):\n",
        "    return 1\n",
        "  return fibonacci(n-1)+fibonacci(n-2)"
      ],
      "metadata": {
        "id": "VZbBSw_59aCy"
      },
      "execution_count": null,
      "outputs": []
    },
    {
      "cell_type": "code",
      "source": [
        "fibonacci(40)\n",
        "print(cnt)"
      ],
      "metadata": {
        "colab": {
          "base_uri": "https://localhost:8080/"
        },
        "id": "5KltrR-hC0hF",
        "outputId": "82583287-d851-40e0-9020-4d698ab56c00"
      },
      "execution_count": null,
      "outputs": [
        {
          "output_type": "stream",
          "name": "stdout",
          "text": [
            "204668309\n"
          ]
        }
      ]
    },
    {
      "cell_type": "code",
      "source": [
        "re = fibonacci(3)\n",
        "print(f\"fibonacci({3}):{re}\")\n",
        "re = fibonacci(0)\n",
        "print(f\"fibonacci({0}):{re}\")\n",
        "\n",
        "for i in range(1,20):\n",
        "  re = fibonacci(i)\n",
        "  print(re,end=' ')"
      ],
      "metadata": {
        "colab": {
          "base_uri": "https://localhost:8080/"
        },
        "id": "GfEArTq09hWj",
        "outputId": "d8eb8967-2e34-4edd-fdd6-57f1ebc1ed39"
      },
      "execution_count": null,
      "outputs": [
        {
          "output_type": "stream",
          "name": "stdout",
          "text": [
            "fibonacci(3):2\n",
            "fibonacci(0):0\n",
            "1 1 2 3 5 8 13 21 34 55 89 144 233 377 610 987 1597 2584 4181 "
          ]
        }
      ]
    },
    {
      "cell_type": "markdown",
      "source": [
        "##하노이의 탑  \n",
        "(A탑)  (B탑)  (C탑)  \n",
        "규칙 1. 한 번에 하나씩  \n",
        "규칙 2. 큰 돌 위에 작은 돌  \n",
        "-> n개의 돌을 옮길 수 있는가?  \n",
        "###가정  \n",
        "n-1개를 A에서 C로 옮길 수 있다.  \n",
        "1) n-1개 A->B  \n",
        "2) 1개 A->C\n",
        "3) n-1개 B->C  \n",
        "위의 과정에 의해 n개를 옮길 수 있다."
      ],
      "metadata": {
        "id": "U74Z9voz_KIE"
      }
    },
    {
      "cell_type": "code",
      "source": [
        "#하노이 타워\n",
        "#n개의 돌을 A에서 C로 옮기시오(B 이용)\n",
        "#한번에 한개씩\n",
        "#큰 돌 위에 작은 돌\n",
        "\n",
        "def hanoi(a,b,c,n):\n",
        "  if n==0:\n",
        "    return\n",
        "  hanoi(a,c,b,n-1) # A(n-1)->B (C이용)\n",
        "  print(f'{a}->{c}') # A(1)-> C\n",
        "  print(\"===\")\n",
        "  hanoi(b,a,c,n-1) # B(n-1) -> C (A이용)"
      ],
      "metadata": {
        "id": "hGDMa8uyAUXc"
      },
      "execution_count": null,
      "outputs": []
    },
    {
      "cell_type": "code",
      "source": [
        "hanoi('a','b','c',4)"
      ],
      "metadata": {
        "colab": {
          "base_uri": "https://localhost:8080/"
        },
        "id": "_Ii43tWgBArv",
        "outputId": "88796ada-e11c-46e1-fb6b-3c8d79aa20b5"
      },
      "execution_count": null,
      "outputs": [
        {
          "output_type": "stream",
          "name": "stdout",
          "text": [
            "a->b\n",
            "===\n",
            "a->c\n",
            "===\n",
            "b->c\n",
            "===\n",
            "a->b\n",
            "===\n",
            "c->a\n",
            "===\n",
            "c->b\n",
            "===\n",
            "a->b\n",
            "===\n",
            "a->c\n",
            "===\n",
            "b->c\n",
            "===\n",
            "b->a\n",
            "===\n",
            "c->a\n",
            "===\n",
            "b->c\n",
            "===\n",
            "a->b\n",
            "===\n",
            "a->c\n",
            "===\n",
            "b->c\n",
            "===\n"
          ]
        }
      ]
    },
    {
      "cell_type": "markdown",
      "source": [
        "#동적 프로그래밍(Dynamic Programming)\n",
        "\n",
        "경험한 정보를 이용하여 문제를 해결하는 최적화 기법"
      ],
      "metadata": {
        "id": "21P6aoNbD-wX"
      }
    },
    {
      "cell_type": "code",
      "source": [
        "#동적 프로그래밍으로 피보나치 수열 진행\n",
        "\n",
        "cnt2 = 0\n",
        "answer = [0,1,1] #리스트 사용\n",
        "def fibonacci2(n):\n",
        "  global cnt2\n",
        "  cnt2 += 1\n",
        "  if len(answer) > n:\n",
        "    return answer[n]\n",
        "  re = fibonacci2(n-1)+fibonacci2(n-2)\n",
        "  answer.append(re)\n",
        "  return re"
      ],
      "metadata": {
        "id": "00qwUpglE41M"
      },
      "execution_count": null,
      "outputs": []
    },
    {
      "cell_type": "code",
      "source": [
        "for i in range(1,20):\n",
        "  re = fibonacci2(i)\n",
        "  print(re,end=' ')"
      ],
      "metadata": {
        "colab": {
          "base_uri": "https://localhost:8080/"
        },
        "id": "7BC8g5meFUGp",
        "outputId": "05a7044c-6568-432a-b237-abdb5a5e9b01"
      },
      "execution_count": null,
      "outputs": [
        {
          "output_type": "stream",
          "name": "stdout",
          "text": [
            "1 1 2 3 5 8 13 21 34 55 89 144 233 377 610 987 1597 2584 4181 "
          ]
        }
      ]
    },
    {
      "cell_type": "code",
      "source": [
        "fibonacci2(40)\n",
        "print(cnt2)\n",
        "#기존의 방식은 2억번 이상 수행\n",
        "#매우 차이가 크다 "
      ],
      "metadata": {
        "colab": {
          "base_uri": "https://localhost:8080/"
        },
        "id": "IflYiHVcFxpb",
        "outputId": "c03dc247-53a0-407d-b5c4-9bb9c6d80796"
      },
      "execution_count": null,
      "outputs": [
        {
          "output_type": "stream",
          "name": "stdout",
          "text": [
            "78\n"
          ]
        }
      ]
    },
    {
      "cell_type": "code",
      "source": [
        "def fibonacci(n):\n",
        "  if(n<0):\n",
        "    return 0\n",
        "  if(n==1) or (n==2):\n",
        "    return 1\n",
        "  return fibonacci(n-1)+fibonacci(n-2)"
      ],
      "metadata": {
        "id": "cbR-5kWhLRqI"
      },
      "execution_count": null,
      "outputs": []
    },
    {
      "cell_type": "code",
      "source": [
        "answer = [0,1,1]\n",
        "def fibonacci2(n):\n",
        "  if len(answer) > n:\n",
        "    return answer[n]\n",
        "  re = fibonacci2(n-1)+fibonacci2(n-2)\n",
        "  answer.append(re)\n",
        "  return re"
      ],
      "metadata": {
        "id": "UOweJP4_Lbtk"
      },
      "execution_count": null,
      "outputs": []
    },
    {
      "cell_type": "code",
      "source": [
        "import time\n",
        "def test_case(n): #두개의 코드의 성능을 직관적으로 비교\n",
        "  print(\"test case: \",n)\n",
        "  start = time.time()\n",
        "  fibonacci(n)\n",
        "  end = time.time()\n",
        "  print(\"fibonacci: \",end-start)\n",
        "  start2 = time.time()\n",
        "  fibonacci2(n)\n",
        "  end2 = time.time()\n",
        "  print(\"fibonacci2: \",end2-start2)\n",
        "  print()"
      ],
      "metadata": {
        "id": "X9GMtVZkLgJn"
      },
      "execution_count": null,
      "outputs": []
    },
    {
      "cell_type": "code",
      "source": [
        "for i in range(1,40):\n",
        "  test_case(i)"
      ],
      "metadata": {
        "colab": {
          "base_uri": "https://localhost:8080/"
        },
        "id": "v8rKmRTBL4Mn",
        "outputId": "9acae3ac-acb8-46d9-94ee-1a14a6d94032"
      },
      "execution_count": null,
      "outputs": [
        {
          "output_type": "stream",
          "name": "stdout",
          "text": [
            "test case:  1\n",
            "fibonacci:  2.384185791015625e-06\n",
            "fibonacci2:  4.291534423828125e-06\n",
            "\n",
            "test case:  2\n",
            "fibonacci:  1.9073486328125e-06\n",
            "fibonacci2:  3.5762786865234375e-06\n",
            "\n",
            "test case:  3\n",
            "fibonacci:  2.384185791015625e-06\n",
            "fibonacci2:  9.5367431640625e-07\n",
            "\n",
            "test case:  4\n",
            "fibonacci:  2.384185791015625e-06\n",
            "fibonacci2:  7.152557373046875e-07\n",
            "\n",
            "test case:  5\n",
            "fibonacci:  3.5762786865234375e-06\n",
            "fibonacci2:  1.430511474609375e-06\n",
            "\n",
            "test case:  6\n",
            "fibonacci:  5.7220458984375e-06\n",
            "fibonacci2:  1.6689300537109375e-06\n",
            "\n",
            "test case:  7\n",
            "fibonacci:  1.0013580322265625e-05\n",
            "fibonacci2:  9.5367431640625e-07\n",
            "\n",
            "test case:  8\n",
            "fibonacci:  1.33514404296875e-05\n",
            "fibonacci2:  9.5367431640625e-07\n",
            "\n",
            "test case:  9\n",
            "fibonacci:  2.002716064453125e-05\n",
            "fibonacci2:  7.152557373046875e-07\n",
            "\n",
            "test case:  10\n",
            "fibonacci:  4.267692565917969e-05\n",
            "fibonacci2:  1.430511474609375e-06\n",
            "\n",
            "test case:  11\n",
            "fibonacci:  5.4836273193359375e-05\n",
            "fibonacci2:  9.5367431640625e-07\n",
            "\n",
            "test case:  12\n",
            "fibonacci:  7.82012939453125e-05\n",
            "fibonacci2:  4.0531158447265625e-06\n",
            "\n",
            "test case:  13\n",
            "fibonacci:  0.00012493133544921875\n",
            "fibonacci2:  2.1457672119140625e-06\n",
            "\n",
            "test case:  14\n",
            "fibonacci:  0.00019431114196777344\n",
            "fibonacci2:  3.814697265625e-06\n",
            "\n",
            "test case:  15\n",
            "fibonacci:  0.00043511390686035156\n",
            "fibonacci2:  2.86102294921875e-06\n",
            "\n",
            "test case:  16\n",
            "fibonacci:  0.0005471706390380859\n",
            "fibonacci2:  3.337860107421875e-06\n",
            "\n",
            "test case:  17\n",
            "fibonacci:  0.0012617111206054688\n",
            "fibonacci2:  3.0994415283203125e-06\n",
            "\n",
            "test case:  18\n",
            "fibonacci:  0.002146005630493164\n",
            "fibonacci2:  3.5762786865234375e-06\n",
            "\n",
            "test case:  19\n",
            "fibonacci:  0.001608133316040039\n",
            "fibonacci2:  3.0994415283203125e-06\n",
            "\n",
            "test case:  20\n",
            "fibonacci:  0.0025696754455566406\n",
            "fibonacci2:  3.814697265625e-06\n",
            "\n",
            "test case:  21\n",
            "fibonacci:  0.0040798187255859375\n",
            "fibonacci2:  3.814697265625e-06\n",
            "\n",
            "test case:  22\n",
            "fibonacci:  0.00714111328125\n",
            "fibonacci2:  3.814697265625e-06\n",
            "\n",
            "test case:  23\n",
            "fibonacci:  0.013076543807983398\n",
            "fibonacci2:  4.291534423828125e-06\n",
            "\n",
            "test case:  24\n",
            "fibonacci:  0.02042675018310547\n",
            "fibonacci2:  5.245208740234375e-06\n",
            "\n",
            "test case:  25\n",
            "fibonacci:  0.049909114837646484\n",
            "fibonacci2:  5.245208740234375e-06\n",
            "\n",
            "test case:  26\n",
            "fibonacci:  0.05846095085144043\n",
            "fibonacci2:  5.245208740234375e-06\n",
            "\n",
            "test case:  27\n",
            "fibonacci:  0.09200191497802734\n",
            "fibonacci2:  4.5299530029296875e-06\n",
            "\n",
            "test case:  28\n",
            "fibonacci:  0.14836478233337402\n",
            "fibonacci2:  5.0067901611328125e-06\n",
            "\n",
            "test case:  29\n",
            "fibonacci:  0.20907998085021973\n",
            "fibonacci2:  7.867813110351562e-06\n",
            "\n",
            "test case:  30\n",
            "fibonacci:  0.33772730827331543\n",
            "fibonacci2:  4.5299530029296875e-06\n",
            "\n",
            "test case:  31\n",
            "fibonacci:  0.5282952785491943\n",
            "fibonacci2:  5.4836273193359375e-06\n",
            "\n",
            "test case:  32\n",
            "fibonacci:  0.8466081619262695\n",
            "fibonacci2:  4.291534423828125e-06\n",
            "\n",
            "test case:  33\n",
            "fibonacci:  1.3483548164367676\n",
            "fibonacci2:  4.76837158203125e-06\n",
            "\n",
            "test case:  34\n",
            "fibonacci:  2.1873037815093994\n",
            "fibonacci2:  4.76837158203125e-06\n",
            "\n",
            "test case:  35\n",
            "fibonacci:  3.5314393043518066\n",
            "fibonacci2:  3.0994415283203125e-06\n",
            "\n",
            "test case:  36\n",
            "fibonacci:  5.704486846923828\n",
            "fibonacci2:  5.9604644775390625e-06\n",
            "\n",
            "test case:  37\n",
            "fibonacci:  9.267618656158447\n",
            "fibonacci2:  5.9604644775390625e-06\n",
            "\n",
            "test case:  38\n",
            "fibonacci:  14.966753959655762\n",
            "fibonacci2:  5.4836273193359375e-06\n",
            "\n",
            "test case:  39\n",
            "fibonacci:  24.13428568840027\n",
            "fibonacci2:  5.245208740234375e-06\n",
            "\n"
          ]
        }
      ]
    }
  ]
}