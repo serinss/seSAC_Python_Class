{
  "nbformat": 4,
  "nbformat_minor": 0,
  "metadata": {
    "colab": {
      "name": "데이터분석 시각화 - preview.ipynb",
      "provenance": [],
      "collapsed_sections": [],
      "authorship_tag": "ABX9TyMN7ZTAZMJqlyQAvrSp7yY2",
      "include_colab_link": true
    },
    "kernelspec": {
      "name": "python3",
      "display_name": "Python 3"
    },
    "language_info": {
      "name": "python"
    }
  },
  "cells": [
    {
      "cell_type": "markdown",
      "metadata": {
        "id": "view-in-github",
        "colab_type": "text"
      },
      "source": [
        "<a href=\"https://colab.research.google.com/github/serinss/seSAC_Python_Class/blob/main/%EB%8D%B0%EC%9D%B4%ED%84%B0%EB%B6%84%EC%84%9D_%EC%8B%9C%EA%B0%81%ED%99%94_preview.ipynb\" target=\"_parent\"><img src=\"https://colab.research.google.com/assets/colab-badge.svg\" alt=\"Open In Colab\"/></a>"
      ]
    },
    {
      "cell_type": "markdown",
      "source": [
        "#numpy 소개"
      ],
      "metadata": {
        "id": "VdELmPtbXOkq"
      }
    },
    {
      "cell_type": "code",
      "source": [
        "l1 = [1,2,3,4,5,6]"
      ],
      "metadata": {
        "id": "salahbnlXP9v"
      },
      "execution_count": null,
      "outputs": []
    },
    {
      "cell_type": "code",
      "source": [
        "import numpy as np"
      ],
      "metadata": {
        "id": "5CL1Hbs0XWKL"
      },
      "execution_count": 1,
      "outputs": []
    },
    {
      "cell_type": "code",
      "source": [
        "na = np.array([1,2,3,4,5])\n",
        "np.sum(na), np.min(na), np.max(na), np.var(na), np.std(na)"
      ],
      "metadata": {
        "colab": {
          "base_uri": "https://localhost:8080/"
        },
        "id": "Iz6P-e-xXZwS",
        "outputId": "0e17a3d9-1ed4-47ce-f4cf-cc5bd23bcf7a"
      },
      "execution_count": 2,
      "outputs": [
        {
          "output_type": "execute_result",
          "data": {
            "text/plain": [
              "(15, 1, 5, 2.0, 1.4142135623730951)"
            ]
          },
          "metadata": {},
          "execution_count": 2
        }
      ]
    },
    {
      "cell_type": "code",
      "source": [
        "l2 = [[1,2,3],[2,3],[4,5,6,7]]"
      ],
      "metadata": {
        "id": "zznI3SCfX5Rp"
      },
      "execution_count": 3,
      "outputs": []
    },
    {
      "cell_type": "code",
      "source": [
        "nb = np.array([1,2,3,4,5,6,7,8,9,10,11,12]) #1차원 - 대괄호가 1개면 1차원, 2개면 2차원, ...\n",
        "print(\"구조:\",nb.shape)\n",
        "print(nb)\n",
        "nb = nb.reshape(3,4) #3차원\n",
        "print(\"구조:\",nb.shape)\n",
        "print(nb)"
      ],
      "metadata": {
        "colab": {
          "base_uri": "https://localhost:8080/"
        },
        "id": "Fmk8yJ6XX-OK",
        "outputId": "751b8821-d699-45a6-9f21-524fa44dd29b"
      },
      "execution_count": 4,
      "outputs": [
        {
          "output_type": "stream",
          "name": "stdout",
          "text": [
            "구조: (12,)\n",
            "[ 1  2  3  4  5  6  7  8  9 10 11 12]\n",
            "구조: (3, 4)\n",
            "[[ 1  2  3  4]\n",
            " [ 5  6  7  8]\n",
            " [ 9 10 11 12]]\n"
          ]
        }
      ]
    },
    {
      "cell_type": "code",
      "source": [
        "l1 = [[1,2],[3,4]]\n",
        "l2 = [[3,4],[2,7]]\n",
        "\n",
        "l3 = l1+l2\n",
        "print(l3)"
      ],
      "metadata": {
        "colab": {
          "base_uri": "https://localhost:8080/"
        },
        "id": "WTs43pswYpPB",
        "outputId": "a78ce8e0-eb93-4cc9-cb7e-0b9aadd07ff2"
      },
      "execution_count": 5,
      "outputs": [
        {
          "output_type": "stream",
          "name": "stdout",
          "text": [
            "[[1, 2], [3, 4], [3, 4], [2, 7]]\n"
          ]
        }
      ]
    },
    {
      "cell_type": "code",
      "source": [
        "na1 = np.array(l1)\n",
        "na2 = np.array(l2)\n",
        "\n",
        "na3 = na1+na2\n",
        "print(na3)"
      ],
      "metadata": {
        "colab": {
          "base_uri": "https://localhost:8080/"
        },
        "id": "YiQ-vBOzZOdD",
        "outputId": "07325507-dfbf-4bd3-9f22-f63a09166652"
      },
      "execution_count": 21,
      "outputs": [
        {
          "output_type": "stream",
          "name": "stdout",
          "text": [
            "[[ 4  6]\n",
            " [ 5 11]]\n"
          ]
        }
      ]
    },
    {
      "cell_type": "markdown",
      "source": [
        "#pandas"
      ],
      "metadata": {
        "id": "kt5U9aZFap2H"
      }
    },
    {
      "cell_type": "markdown",
      "source": [
        "#matplotlib"
      ],
      "metadata": {
        "id": "MhC3zyEFaq_-"
      }
    },
    {
      "cell_type": "code",
      "source": [
        "import matplotlib.pyplot as plt"
      ],
      "metadata": {
        "id": "ZoSg_6ABauTQ"
      },
      "execution_count": 15,
      "outputs": []
    },
    {
      "cell_type": "code",
      "source": [
        "plt.plot([1,2,3,4,5,6,7,8,9])\n",
        "plt.show()"
      ],
      "metadata": {
        "colab": {
          "base_uri": "https://localhost:8080/",
          "height": 265
        },
        "id": "Zk6HLR_ubLow",
        "outputId": "37cd8859-6732-4c24-c59b-19408ebd22fa"
      },
      "execution_count": 16,
      "outputs": [
        {
          "output_type": "display_data",
          "data": {
            "image/png": "[encoded data removed]",
            "text/plain": [
              "<Figure size 432x288 with 1 Axes>"
            ]
          },
          "metadata": {
            "needs_background": "light"
          }
        }
      ]
    },
    {
      "cell_type": "code",
      "source": [
        "plt.plot([1,2,3,4,5,6,7,8,9],\"ro\")\n",
        "plt.show()"
      ],
      "metadata": {
        "colab": {
          "base_uri": "https://localhost:8080/",
          "height": 265
        },
        "id": "ROo8Ma7jbrx6",
        "outputId": "fc6bf768-7ec5-4966-e32a-cc656cd9b317"
      },
      "execution_count": 17,
      "outputs": [
        {
          "output_type": "display_data",
          "data": {
            "image/png": "[encoded data removed]",
            "text/plain": [
              "<Figure size 432x288 with 1 Axes>"
            ]
          },
          "metadata": {
            "needs_background": "light"
          }
        }
      ]
    },
    {
      "cell_type": "code",
      "source": [
        "plt.plot([1,2,3,4,5,6,7,8,9],\"y^\")\n",
        "plt.show()"
      ],
      "metadata": {
        "colab": {
          "base_uri": "https://localhost:8080/",
          "height": 265
        },
        "id": "2IcGm0SCbuEA",
        "outputId": "3594054a-486c-48b6-933b-7e99a63dc065"
      },
      "execution_count": 18,
      "outputs": [
        {
          "output_type": "display_data",
          "data": {
            "image/png": "[encoded data removed]",
            "text/plain": [
              "<Figure size 432x288 with 1 Axes>"
            ]
          },
          "metadata": {
            "needs_background": "light"
          }
        }
      ]
    },
    {
      "cell_type": "code",
      "source": [
        "plt.plot([2,3,4,5,6,7,8,9,15],[1,2,3,4,5,6,7,8,9],\"ro\")\n",
        "plt.show()"
      ],
      "metadata": {
        "colab": {
          "base_uri": "https://localhost:8080/",
          "height": 265
        },
        "id": "vExVuwkobwhw",
        "outputId": "323c357c-1b6e-4082-d725-5c908871ceb7"
      },
      "execution_count": 19,
      "outputs": [
        {
          "output_type": "display_data",
          "data": {
            "image/png": "[encoded data removed]",
            "text/plain": [
              "<Figure size 432x288 with 1 Axes>"
            ]
          },
          "metadata": {
            "needs_background": "light"
          }
        }
      ]
    }
  ]
}