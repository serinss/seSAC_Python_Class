{
  "nbformat": 4,
  "nbformat_minor": 0,
  "metadata": {
    "colab": {
      "name": "파이썬-기초.ipynb",
      "provenance": [],
      "collapsed_sections": [],
      "authorship_tag": "ABX9TyOZ39mUYVPvMh+JWWawsFOr",
      "include_colab_link": true
    },
    "kernelspec": {
      "name": "python3",
      "display_name": "Python 3"
    },
    "language_info": {
      "name": "python"
    }
  },
  "cells": [
    {
      "cell_type": "markdown",
      "metadata": {
        "id": "view-in-github",
        "colab_type": "text"
      },
      "source": [
        "<a href=\"https://colab.research.google.com/github/serinss/seSAC_Python_Class/blob/main/%ED%8C%8C%EC%9D%B4%EC%8D%AC_%EA%B8%B0%EC%B4%88.ipynb\" target=\"_parent\"><img src=\"https://colab.research.google.com/assets/colab-badge.svg\" alt=\"Open In Colab\"/></a>"
      ]
    },
    {
      "cell_type": "markdown",
      "source": [
        "#계산식"
      ],
      "metadata": {
        "id": "VeDvWa9IP14x"
      }
    },
    {
      "cell_type": "code",
      "execution_count": null,
      "metadata": {
        "colab": {
          "base_uri": "https://localhost:8080/"
        },
        "id": "d2gAOYI5MKKp",
        "outputId": "8e03ff1b-b17e-48eb-bb26-55160f418723"
      },
      "outputs": [
        {
          "output_type": "execute_result",
          "data": {
            "text/plain": [
              "33"
            ]
          },
          "metadata": {},
          "execution_count": 1
        }
      ],
      "source": [
        "10+23"
      ]
    },
    {
      "cell_type": "code",
      "source": [
        "korea= 90\n",
        "math = 95\n",
        "sum = korea+math\n",
        "sum"
      ],
      "metadata": {
        "colab": {
          "base_uri": "https://localhost:8080/"
        },
        "id": "3kK7XiBlQr20",
        "outputId": "91298a88-c0cb-46c7-fbf1-033021570132"
      },
      "execution_count": null,
      "outputs": [
        {
          "output_type": "execute_result",
          "data": {
            "text/plain": [
              "185"
            ]
          },
          "metadata": {},
          "execution_count": 2
        }
      ]
    },
    {
      "cell_type": "markdown",
      "source": [
        "####표기법 - 스네이크 케이스, 카멜 케이스\n",
        " : 보기 편하고 이해하기 쉽도록 규칙을 세운 것  \n",
        "- 클래스명 - 카멜 케이스 이용  \n",
        "- -> 외 대부분(변수명, 함수명) 스네이크 케이스 이용  \n",
        "  \n",
        "하지만, 언어마다 특징이 다름 & 이전의 시니어 개발자들은 C부터 시작했으므로 기존의 명령 규칙 습관을 버리기 힘듬"
      ],
      "metadata": {
        "id": "po44GGOoRfyV"
      }
    },
    {
      "cell_type": "markdown",
      "source": [
        "#주석"
      ],
      "metadata": {
        "id": "VDOV8I8mS-Fv"
      }
    },
    {
      "cell_type": "code",
      "source": [
        "#주석\n",
        "a = 3 #변수 a에 3 대입"
      ],
      "metadata": {
        "id": "Eu5y3CiXTDcF"
      },
      "execution_count": null,
      "outputs": []
    },
    {
      "cell_type": "markdown",
      "source": [
        "#출력문"
      ],
      "metadata": {
        "id": "2bojElZHXDoR"
      }
    },
    {
      "cell_type": "code",
      "source": [
        "print(12)\n",
        "print(\"흠냐\")\n",
        "print(12,3,\"야호\")"
      ],
      "metadata": {
        "colab": {
          "base_uri": "https://localhost:8080/"
        },
        "id": "-Vek2az5XGY0",
        "outputId": "aaf7c835-cbde-4fa9-c808-d345ebfa72d0"
      },
      "execution_count": null,
      "outputs": [
        {
          "output_type": "stream",
          "name": "stdout",
          "text": [
            "12\n",
            "흠냐\n",
            "12 3 야호\n"
          ]
        }
      ]
    },
    {
      "cell_type": "code",
      "source": [
        "print(\"진달래꽃\")\n",
        "print()\n",
        "print(\"나 보기가 역겨워\")"
      ],
      "metadata": {
        "colab": {
          "base_uri": "https://localhost:8080/"
        },
        "id": "Z_Lj9KepXWi_",
        "outputId": "51a022f8-2211-4229-e0ad-e9d317d1b276"
      },
      "execution_count": null,
      "outputs": [
        {
          "output_type": "stream",
          "name": "stdout",
          "text": [
            "진달래꽃\n"
          ]
        }
      ]
    },
    {
      "cell_type": "markdown",
      "source": [
        "#자료형-숫자"
      ],
      "metadata": {
        "id": "hbazX4x_Yo4V"
      }
    },
    {
      "cell_type": "code",
      "source": [
        "print(12, 0o12, 0x12) #12:10진수, 0o:8진수, 0x:16진수"
      ],
      "metadata": {
        "id": "I2VCudNzYrX-"
      },
      "execution_count": null,
      "outputs": []
    },
    {
      "cell_type": "code",
      "source": [
        "print(type(12), type(0o12), type(0x12)) #기본적으로 모두 int타입이다"
      ],
      "metadata": {
        "colab": {
          "base_uri": "https://localhost:8080/"
        },
        "id": "LO9WgxoUY17J",
        "outputId": "bc23a182-34f5-4289-c0e5-2f4ba88ebb71"
      },
      "execution_count": 5,
      "outputs": [
        {
          "output_type": "stream",
          "name": "stdout",
          "text": [
            "<class 'int'> <class 'int'> <class 'int'>\n"
          ]
        }
      ]
    },
    {
      "cell_type": "markdown",
      "source": [
        "#실수"
      ],
      "metadata": {
        "id": "C8fkU_82ZH0Z"
      }
    },
    {
      "cell_type": "code",
      "source": [
        "print(3.14, 1.234e6) #부동 소수점\n",
        "#e6 : 10^6 지수표현"
      ],
      "metadata": {
        "id": "bNTffDvNZIxR"
      },
      "execution_count": null,
      "outputs": []
    },
    {
      "cell_type": "code",
      "source": [
        "print(type(3.14), type(1.23e6)) #t실수는 근사치 (오차 범위 내에서 실행)"
      ],
      "metadata": {
        "colab": {
          "base_uri": "https://localhost:8080/"
        },
        "id": "6IQnJVvVZgYC",
        "outputId": "eee96c74-537c-4cec-99be-7d4e88e089f5"
      },
      "execution_count": 6,
      "outputs": [
        {
          "output_type": "stream",
          "name": "stdout",
          "text": [
            "<class 'float'> <class 'float'>\n"
          ]
        }
      ]
    },
    {
      "cell_type": "markdown",
      "source": [
        "#수와 관계있는 연산"
      ],
      "metadata": {
        "id": "2uxgcFtnaEc8"
      }
    },
    {
      "cell_type": "code",
      "source": [
        "print(\"8+3 = \", 8+3)\n",
        "print(\"8-3 = \", 8-3)\n",
        "print(\"8*3 = \", 8*3)\n",
        "print(\"8%3 = \", 8%3)"
      ],
      "metadata": {
        "id": "sDjtpznmaHHw"
      },
      "execution_count": null,
      "outputs": []
    },
    {
      "cell_type": "code",
      "source": [
        "print(8//5) #몫\n",
        "print(8%%5) #나머지"
      ],
      "metadata": {
        "id": "kxcdVTDCazSz"
      },
      "execution_count": null,
      "outputs": []
    },
    {
      "cell_type": "code",
      "source": [
        "i=0\n",
        "i = (i+1) % 5\n",
        "print(i)\n",
        "i = (i+1) % 5\n",
        "print(i)\n",
        "i = (i+1) % 5\n",
        "print(i)\n",
        "i = (i+1) % 5\n",
        "print(i)\n",
        "i = (i+1) % 5\n",
        "print(i)\n",
        "i = (i+1) % 5\n",
        "print(i)\n",
        "i = (i+1) % 5\n",
        "print(i)\n",
        "i = (i+1) % 5\n",
        "print(i)\n",
        "i = (i+1) % 5\n",
        "print(i)"
      ],
      "metadata": {
        "colab": {
          "base_uri": "https://localhost:8080/"
        },
        "id": "_RTZm4zea7uQ",
        "outputId": "a8238db6-d21e-47c1-edad-de1415fe3505"
      },
      "execution_count": 7,
      "outputs": [
        {
          "output_type": "stream",
          "name": "stdout",
          "text": [
            "1\n",
            "2\n",
            "3\n",
            "4\n",
            "0\n",
            "1\n",
            "2\n",
            "3\n"
          ]
        }
      ]
    },
    {
      "cell_type": "markdown",
      "source": [
        "#복소수(실수축, 허수축을 동시에 나타낸다)"
      ],
      "metadata": {
        "id": "FAgk8QB8bYTM"
      }
    },
    {
      "cell_type": "code",
      "source": [
        "print(2+3j) #허수를 i가 아닌, j로 표기"
      ],
      "metadata": {
        "colab": {
          "base_uri": "https://localhost:8080/"
        },
        "id": "-uYDw-USbZkT",
        "outputId": "e3876102-b4f5-49ec-9547-f6372135deb6"
      },
      "execution_count": 9,
      "outputs": [
        {
          "output_type": "stream",
          "name": "stdout",
          "text": [
            "(2+3j)\n"
          ]
        }
      ]
    },
    {
      "cell_type": "code",
      "source": [
        "cv = 2+3j\n",
        "print(\"실수부:\",cv.real, \"허수부:\", cv.imag)"
      ],
      "metadata": {
        "colab": {
          "base_uri": "https://localhost:8080/"
        },
        "id": "w75CzKD3cDCp",
        "outputId": "e0fc6861-7524-4ee7-e3ba-db0c1b1bba14"
      },
      "execution_count": 12,
      "outputs": [
        {
          "output_type": "stream",
          "name": "stdout",
          "text": [
            "실수부: 2.0 허수부: 3.0\n"
          ]
        }
      ]
    },
    {
      "cell_type": "markdown",
      "source": [
        "#문자열-기본 표현"
      ],
      "metadata": {
        "id": "QxxoGAghc0qj"
      }
    },
    {
      "cell_type": "code",
      "source": [
        "print('abc')\n",
        "print(\"ABC\")\n",
        "print(\"\"\"안녕하세요\"\"\") #모두 동일한 방법"
      ],
      "metadata": {
        "colab": {
          "base_uri": "https://localhost:8080/"
        },
        "id": "0QFX0IbZc3_C",
        "outputId": "96a684b3-2a1a-4995-92c0-53ba5f28186d"
      },
      "execution_count": 13,
      "outputs": [
        {
          "output_type": "stream",
          "name": "stdout",
          "text": [
            "abc\n",
            "ABC\n",
            "안녕하세요\n"
          ]
        }
      ]
    },
    {
      "cell_type": "markdown",
      "source": [
        "# 이스케이프 문자"
      ],
      "metadata": {
        "id": "KGlHYZ6vdLax"
      }
    },
    {
      "cell_type": "code",
      "source": [
        "print('\\t안녕') #들여쓰기\n",
        "print('흠\\t하하\\n야호') #줄바꿈(개행)"
      ],
      "metadata": {
        "colab": {
          "base_uri": "https://localhost:8080/"
        },
        "id": "Qez3s0WbdJ0t",
        "outputId": "53e7eecc-cbfc-4c19-fcec-54889cae334c"
      },
      "execution_count": 15,
      "outputs": [
        {
          "output_type": "stream",
          "name": "stdout",
          "text": [
            "\t안녕\n",
            "흠\t하하\n",
            "야호\n"
          ]
        }
      ]
    },
    {
      "cell_type": "code",
      "source": [
        "print('I\\'m serin') #\\'로 따옴표 나타낼 수 있음"
      ],
      "metadata": {
        "colab": {
          "base_uri": "https://localhost:8080/"
        },
        "id": "JdUAf8RodZg9",
        "outputId": "d7e96f5f-32b6-45f6-d8ef-98d25e44305b"
      },
      "execution_count": 17,
      "outputs": [
        {
          "output_type": "stream",
          "name": "stdout",
          "text": [
            "I'm serin\n"
          ]
        }
      ]
    },
    {
      "cell_type": "code",
      "source": [
        "print(\"I'm serin\") #이중따옴표 안에서 단일따폼요 사용 가능"
      ],
      "metadata": {
        "id": "UDcaZmWhdqfF"
      },
      "execution_count": null,
      "outputs": []
    },
    {
      "cell_type": "code",
      "source": [
        "print(\"세린이 \\\"안녕\\\"이라고 말했다\")"
      ],
      "metadata": {
        "colab": {
          "base_uri": "https://localhost:8080/"
        },
        "id": "yAy6Ly2WdxjE",
        "outputId": "2a1c3dc0-a8a4-4733-934e-9b2369c439b8"
      },
      "execution_count": 20,
      "outputs": [
        {
          "output_type": "stream",
          "name": "stdout",
          "text": [
            "세린이 \"안녕\"이라고 말했다\n"
          ]
        }
      ]
    },
    {
      "cell_type": "code",
      "source": [
        "print('세린이 \"안녕\"이라고 말했다')"
      ],
      "metadata": {
        "colab": {
          "base_uri": "https://localhost:8080/"
        },
        "id": "8cXgWXBNd9_4",
        "outputId": "964d7b1d-3e86-48a6-bf85-1a303d13d8b2"
      },
      "execution_count": 21,
      "outputs": [
        {
          "output_type": "stream",
          "name": "stdout",
          "text": [
            "세린이 \"안녕\"이라고 말했다\n"
          ]
        }
      ]
    },
    {
      "cell_type": "markdown",
      "source": [
        "#인용문"
      ],
      "metadata": {
        "id": "nF2Z8mt0eIr1"
      }
    },
    {
      "cell_type": "code",
      "source": [
        "print(\"===\")\n",
        "azalea2=\"\"\"\\\n",
        "나 보기가 역겨워\n",
        "가실 때에는\n",
        "말없이 고이 보내\n",
        "드리오리다.\"\"\"\n",
        "print(azalea2)\n",
        "print(\"===\")"
      ],
      "metadata": {
        "colab": {
          "base_uri": "https://localhost:8080/"
        },
        "id": "Kgy_PLjyeK_Q",
        "outputId": "5e59cef1-7988-4925-9daf-70d74512d7a3"
      },
      "execution_count": 32,
      "outputs": [
        {
          "output_type": "stream",
          "name": "stdout",
          "text": [
            "===\n",
            "나 보기가 역겨워\n",
            "가실 때에는\n",
            "말없이 고이 보내\n",
            "드리오리다.\n",
            "===\n"
          ]
        }
      ]
    },
    {
      "cell_type": "markdown",
      "source": [
        "#문자 코드"
      ],
      "metadata": {
        "id": "pAN4RkOwfcq8"
      }
    },
    {
      "cell_type": "code",
      "source": [
        "print(\"a:\",ord('a'),\"A:\",ord('A'),\"O:\",ord('O')) #a:0110 0001 16진수로 메모리에 기록되는 방식\n",
        "#'A':0101 0001 'O':0011 0001\n",
        "#데이터 분석을 할 때에, 문자로 표현되길 원한다면 ASCII값으로 확인이 가능하도록 사용 가능"
      ],
      "metadata": {
        "colab": {
          "base_uri": "https://localhost:8080/"
        },
        "id": "c9-Z8u3pfeZJ",
        "outputId": "7dc538e3-b0c7-4df8-8cd3-e128cf30f444"
      },
      "execution_count": 25,
      "outputs": [
        {
          "output_type": "stream",
          "name": "stdout",
          "text": [
            "a: 97 A: 65 O: 79\n"
          ]
        }
      ]
    },
    {
      "cell_type": "code",
      "source": [
        "print(chr(97),chr(65),chr(48)) #oord의 역함수"
      ],
      "metadata": {
        "colab": {
          "base_uri": "https://localhost:8080/"
        },
        "id": "iNIXUmRUgQPy",
        "outputId": "a889603b-9021-4e0c-c659-5b50d9626ab6"
      },
      "execution_count": 27,
      "outputs": [
        {
          "output_type": "stream",
          "name": "stdout",
          "text": [
            "a A 0\n"
          ]
        }
      ]
    },
    {
      "cell_type": "markdown",
      "source": [
        "#변수"
      ],
      "metadata": {
        "id": "qx-LKc7UkUnh"
      }
    },
    {
      "cell_type": "code",
      "source": [
        "korea=90\n",
        "math=95\n",
        "sum = korea + math\n",
        "print(\"총계:\",sum)"
      ],
      "metadata": {
        "colab": {
          "base_uri": "https://localhost:8080/"
        },
        "id": "MxYxcuOckZMi",
        "outputId": "d83594d6-3ee1-4fcc-f313-0fdbb5b4ac69"
      },
      "execution_count": 29,
      "outputs": [
        {
          "output_type": "stream",
          "name": "stdout",
          "text": [
            "총계: 185\n"
          ]
        }
      ]
    },
    {
      "cell_type": "markdown",
      "source": [
        "#기본 입력 input"
      ],
      "metadata": {
        "id": "JEavZFdAlRvd"
      }
    },
    {
      "cell_type": "code",
      "source": [
        "korea = input(\"국어 점수:\")\n",
        "math = input(\"수학 점수:\")\n",
        "print(\"국어:\",korea,\"수학:\",math,\"합계:\",korea+math) #input 데이터 형식은 문자열 str 이다"
      ],
      "metadata": {
        "colab": {
          "base_uri": "https://localhost:8080/"
        },
        "id": "1-rtWlyblU1_",
        "outputId": "60643b5d-fb7b-4ebf-9cbb-c002286b8e15"
      },
      "execution_count": 34,
      "outputs": [
        {
          "output_type": "stream",
          "name": "stdout",
          "text": [
            "국어 점수:90\n",
            "수학 점수:95\n",
            "국어: 90 수학: 95 합계: 9095\n"
          ]
        }
      ]
    },
    {
      "cell_type": "code",
      "source": [
        "print(type(korea), type(math)) #더하려면 형식 변환 casting 필요"
      ],
      "metadata": {
        "colab": {
          "base_uri": "https://localhost:8080/"
        },
        "id": "c_4H69sXl-uX",
        "outputId": "5b09debb-1e19-44f0-c6cd-07d39a92a71e"
      },
      "execution_count": 35,
      "outputs": [
        {
          "output_type": "stream",
          "name": "stdout",
          "text": [
            "<class 'str'> <class 'str'>\n"
          ]
        }
      ]
    },
    {
      "cell_type": "code",
      "source": [
        "korea = int(input(\"국어 점수:\"))\n",
        "math = int(input(\"수학 점수:\"))\n",
        "print(\"국어:\",korea,\"수학:\",math,\"합계:\",korea+math)"
      ],
      "metadata": {
        "colab": {
          "base_uri": "https://localhost:8080/"
        },
        "id": "hgq58JzymNrr",
        "outputId": "4dc3553c-2729-463f-d859-f79375d5f9b5"
      },
      "execution_count": 36,
      "outputs": [
        {
          "output_type": "stream",
          "name": "stdout",
          "text": [
            "국어 점수:90\n",
            "수학 점수:95\n",
            "국어: 90 수학: 95 합계: 185\n"
          ]
        }
      ]
    },
    {
      "cell_type": "code",
      "source": [
        "fstr1 = \"12.34\"\n",
        "fstr2 = \"3.14\"\n",
        "f1 = float(fstr1)\n",
        "f2 = float(fstr2)\n",
        "print(f1,f2,\"f1*f2:\",f1*f2)"
      ],
      "metadata": {
        "colab": {
          "base_uri": "https://localhost:8080/"
        },
        "id": "7-B72QesnDKJ",
        "outputId": "bffb5c13-947a-47fe-a0a9-f51adc8b4e30"
      },
      "execution_count": 37,
      "outputs": [
        {
          "output_type": "stream",
          "name": "stdout",
          "text": [
            "12.34 3.14 38.7476\n"
          ]
        }
      ]
    },
    {
      "cell_type": "code",
      "source": [
        "k_str = str(korea)\n",
        "print(\"k_str:\",k_str,\"type:\",type(k_str))"
      ],
      "metadata": {
        "colab": {
          "base_uri": "https://localhost:8080/"
        },
        "id": "bM2EivannRNu",
        "outputId": "f4ce6dcc-c75b-420f-efed-425735e9b0a6"
      },
      "execution_count": 38,
      "outputs": [
        {
          "output_type": "stream",
          "name": "stdout",
          "text": [
            "k_str: 90 type: <class 'str'>\n"
          ]
        }
      ]
    },
    {
      "cell_type": "markdown",
      "source": [
        "#자료형-기타"
      ],
      "metadata": {
        "id": "keIZ5jheoW9h"
      }
    },
    {
      "cell_type": "code",
      "source": [
        "korea = int(input(\"국어 점수:\"))\n",
        "print(korea)"
      ],
      "metadata": {
        "colab": {
          "base_uri": "https://localhost:8080/"
        },
        "id": "qSjPp97loYXz",
        "outputId": "95268337-e9bb-4c3b-c506-1a278e350227"
      },
      "execution_count": 42,
      "outputs": [
        {
          "output_type": "stream",
          "name": "stdout",
          "text": [
            "국어 점수:90\n",
            "90\n"
          ]
        }
      ]
    }
  ]
}