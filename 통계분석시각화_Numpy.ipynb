{
  "nbformat": 4,
  "nbformat_minor": 0,
  "metadata": {
    "colab": {
      "name": "통계분석시각화-Numpy.ipynb",
      "provenance": [],
      "collapsed_sections": [],
      "authorship_tag": "ABX9TyM8D6b4KvDns4dqNPAFciLx",
      "include_colab_link": true
    },
    "kernelspec": {
      "name": "python3",
      "display_name": "Python 3"
    },
    "language_info": {
      "name": "python"
    }
  },
  "cells": [
    {
      "cell_type": "markdown",
      "metadata": {
        "id": "view-in-github",
        "colab_type": "text"
      },
      "source": [
        "<a href=\"https://colab.research.google.com/github/serinss/seSAC_Python_Class/blob/main/%ED%86%B5%EA%B3%84%EB%B6%84%EC%84%9D%EC%8B%9C%EA%B0%81%ED%99%94_Numpy.ipynb\" target=\"_parent\"><img src=\"https://colab.research.google.com/assets/colab-badge.svg\" alt=\"Open In Colab\"/></a>"
      ]
    },
    {
      "cell_type": "code",
      "execution_count": 1,
      "metadata": {
        "id": "FMR3_pMpLsTr"
      },
      "outputs": [],
      "source": [
        "#www.numpy.org 레퍼런스 참고\n",
        "\n",
        "import numpy as np"
      ]
    },
    {
      "cell_type": "markdown",
      "source": [
        "numpy는 선형 시퀀스를 배열 개체로 취급"
      ],
      "metadata": {
        "id": "TX4XdDgEOdt3"
      }
    },
    {
      "cell_type": "code",
      "source": [
        "ls = [1,2,3]\n",
        "arr = np.array(ls)\n",
        "print(arr)"
      ],
      "metadata": {
        "colab": {
          "base_uri": "https://localhost:8080/"
        },
        "id": "x58hkTkaOXvS",
        "outputId": "c40e0186-3b88-4da9-98f1-45e8698d063a"
      },
      "execution_count": 2,
      "outputs": [
        {
          "output_type": "stream",
          "name": "stdout",
          "text": [
            "[1 2 3]\n"
          ]
        }
      ]
    },
    {
      "cell_type": "code",
      "source": [
        "arr = np.array([1,2,3])\n",
        "print(arr)"
      ],
      "metadata": {
        "colab": {
          "base_uri": "https://localhost:8080/"
        },
        "id": "XvLBWI_IO0xa",
        "outputId": "bde878aa-96ae-49e2-d7ca-b433e38ae9de"
      },
      "execution_count": 8,
      "outputs": [
        {
          "output_type": "stream",
          "name": "stdout",
          "text": [
            "[1 2 3]\n"
          ]
        }
      ]
    },
    {
      "cell_type": "code",
      "source": [
        "print(\"구조: \",arr.shape) #shape로 행,열의 수를 알 수 있음 , 1x3 행렬\n",
        "print(\"차원: \",arr.ndim) #1차원"
      ],
      "metadata": {
        "colab": {
          "base_uri": "https://localhost:8080/"
        },
        "id": "TGguJ-WvO5Jd",
        "outputId": "2020e5d6-2c55-46a3-eb15-f3089abfdbf7"
      },
      "execution_count": 9,
      "outputs": [
        {
          "output_type": "stream",
          "name": "stdout",
          "text": [
            "구조:  (3,)\n",
            "차원:  1\n"
          ]
        }
      ]
    },
    {
      "cell_type": "markdown",
      "source": [
        "#다차원 배열"
      ],
      "metadata": {
        "id": "3WZWVL1WPSJJ"
      }
    },
    {
      "cell_type": "code",
      "source": [
        "ls = [[1,2,3],[4,5,6],[7,8,9],[10,11,12]]\n",
        "arr = np.array(ls)\n",
        "print(arr)"
      ],
      "metadata": {
        "colab": {
          "base_uri": "https://localhost:8080/"
        },
        "id": "JtIL2Iu7PTgV",
        "outputId": "ed78f7b3-11c1-482e-bc9d-eaf7dcbb34b5"
      },
      "execution_count": 10,
      "outputs": [
        {
          "output_type": "stream",
          "name": "stdout",
          "text": [
            "[[ 1  2  3]\n",
            " [ 4  5  6]\n",
            " [ 7  8  9]\n",
            " [10 11 12]]\n"
          ]
        }
      ]
    },
    {
      "cell_type": "code",
      "source": [
        "print(\"구조: \",arr.shape) # 4x3 행렬\n",
        "print(\"차원: \",arr.ndim) #2차원"
      ],
      "metadata": {
        "colab": {
          "base_uri": "https://localhost:8080/"
        },
        "id": "o3VKfRAlPdq_",
        "outputId": "65ed4be3-b418-4db1-d918-8185c138f74d"
      },
      "execution_count": 11,
      "outputs": [
        {
          "output_type": "stream",
          "name": "stdout",
          "text": [
            "구조:  (4, 3)\n",
            "차원:  2\n"
          ]
        }
      ]
    },
    {
      "cell_type": "markdown",
      "source": [
        "#다양한 방법의 생성"
      ],
      "metadata": {
        "id": "NBXAmhG5QSUn"
      }
    },
    {
      "cell_type": "code",
      "source": [
        "z_arr = np.zeros(10) # zeros() : 0으로 초기화된 shape차원의 ndarray 객체 배열 반환 (ndarrya : Numpy의 핵심인 다차원 행렬 자료구조 클래스)\n",
        "print(z_arr)\n",
        "print(\"구조:\",z_arr.shape) #1x10\n",
        "print(\"차원:\",z_arr.ndim)\n",
        "print(\"원소 형식:\",z_arr.dtype) #default : float\n",
        "\n",
        "# ones() : 1로 초기화된 객체 배열 반환\n",
        "# empry() : 초기화 되지 않은 객체 배열\n",
        "# full() : 모든 값을 full 10으로 초기화"
      ],
      "metadata": {
        "colab": {
          "base_uri": "https://localhost:8080/"
        },
        "id": "UK_lGEQOQUir",
        "outputId": "95254f06-97c4-408e-f01a-d256089a734e"
      },
      "execution_count": 14,
      "outputs": [
        {
          "output_type": "stream",
          "name": "stdout",
          "text": [
            "[0. 0. 0. 0. 0. 0. 0. 0. 0. 0.]\n",
            "구조: (10,)\n",
            "차원: 1\n",
            "원소 형식: float64\n"
          ]
        }
      ]
    },
    {
      "cell_type": "code",
      "source": [
        "z_arr = np.zeros(10, dtype=int) #int 값으로 변경 가능\n",
        "print(z_arr)\n",
        "print(\"구조:\",z_arr.shape)\n",
        "print(\"차원:\",z_arr.ndim)\n",
        "print(\"원소 형식:\",z_arr.dtype)"
      ],
      "metadata": {
        "colab": {
          "base_uri": "https://localhost:8080/"
        },
        "id": "TfjAllLrR6qb",
        "outputId": "fe56ce3f-9660-4acf-9c75-6c0ff36a4d9b"
      },
      "execution_count": 15,
      "outputs": [
        {
          "output_type": "stream",
          "name": "stdout",
          "text": [
            "[0 0 0 0 0 0 0 0 0 0]\n",
            "구조: (10,)\n",
            "차원: 1\n",
            "원소 형식: int64\n"
          ]
        }
      ]
    },
    {
      "cell_type": "code",
      "source": [
        "z_arr = np.zeros((2,3)) # 원소값이 모두 0인 2x3 행렬 \n",
        "print(z_arr)\n",
        "print(\"구조:\",z_arr.shape)\n",
        "print(\"차원:\",z_arr.ndim)\n",
        "print(\"원소 형식:\",z_arr.dtype)"
      ],
      "metadata": {
        "colab": {
          "base_uri": "https://localhost:8080/"
        },
        "id": "UH6jFfZrS6Pm",
        "outputId": "d71a04ec-de60-4df2-e24e-b396c88389ea"
      },
      "execution_count": 17,
      "outputs": [
        {
          "output_type": "stream",
          "name": "stdout",
          "text": [
            "[[0. 0. 0.]\n",
            " [0. 0. 0.]]\n",
            "구조: (2, 3)\n",
            "차원: 2\n",
            "원소 형식: float64\n"
          ]
        }
      ]
    },
    {
      "cell_type": "code",
      "source": [
        "def view_arr_info(arr): # 자주 사용하는 구문들 함수로 만들어두기\n",
        "  print(arr)\n",
        "  print(\"구조:\",arr.shape)\n",
        "  print(\"차원:\",arr.ndim)\n",
        "  print(\"원소 형식:\",arr.dtype)"
      ],
      "metadata": {
        "id": "DFsdPfygTYJA"
      },
      "execution_count": 22,
      "outputs": []
    },
    {
      "cell_type": "code",
      "source": [
        "z_arr = np.zeros((3,2,4),dtype=int) #3차원, 2x4\n",
        "view_arr_info(z_arr)"
      ],
      "metadata": {
        "colab": {
          "base_uri": "https://localhost:8080/"
        },
        "id": "cbI-u1z6TkP3",
        "outputId": "50f9336a-0f1d-4e4c-b03f-ba31a1b0c59d"
      },
      "execution_count": 23,
      "outputs": [
        {
          "output_type": "stream",
          "name": "stdout",
          "text": [
            "[[[0 0 0 0]\n",
            "  [0 0 0 0]]\n",
            "\n",
            " [[0 0 0 0]\n",
            "  [0 0 0 0]]\n",
            "\n",
            " [[0 0 0 0]\n",
            "  [0 0 0 0]]]\n",
            "구조: (3, 2, 4)\n",
            "차원: 3\n",
            "원소 형식: int64\n"
          ]
        }
      ]
    },
    {
      "cell_type": "code",
      "source": [
        "o_arr = np.ones(10)\n",
        "view_arr_info(o_arr)"
      ],
      "metadata": {
        "colab": {
          "base_uri": "https://localhost:8080/"
        },
        "id": "gly__JLgUaqj",
        "outputId": "c5ebdfd3-e097-4988-908a-fa610903fa4b"
      },
      "execution_count": 24,
      "outputs": [
        {
          "output_type": "stream",
          "name": "stdout",
          "text": [
            "[1. 1. 1. 1. 1. 1. 1. 1. 1. 1.]\n",
            "구조: (10,)\n",
            "차원: 1\n",
            "원소 형식: float64\n"
          ]
        }
      ]
    },
    {
      "cell_type": "code",
      "source": [
        "s_arr = np.arange(100) # arange() : 반열린구간 [start, stop) 에서 step 의 크기만큼 일정하게 떨어져 있는 숫자들을 array 형태로 반환해 준다. \n",
        "# stop 매개변수의 값은 필수 / start 는 step 은 필수 X\n",
        "# start의 default : 0, step의 default : 1\n",
        "\n",
        "view_arr_info(s_arr)"
      ],
      "metadata": {
        "colab": {
          "base_uri": "https://localhost:8080/"
        },
        "id": "OgpoB6UdZ7K_",
        "outputId": "3537be41-2593-4913-e18e-947d740740e2"
      },
      "execution_count": 25,
      "outputs": [
        {
          "output_type": "stream",
          "name": "stdout",
          "text": [
            "[ 0  1  2  3  4  5  6  7  8  9 10 11 12 13 14 15 16 17 18 19 20 21 22 23\n",
            " 24 25 26 27 28 29 30 31 32 33 34 35 36 37 38 39 40 41 42 43 44 45 46 47\n",
            " 48 49 50 51 52 53 54 55 56 57 58 59 60 61 62 63 64 65 66 67 68 69 70 71\n",
            " 72 73 74 75 76 77 78 79 80 81 82 83 84 85 86 87 88 89 90 91 92 93 94 95\n",
            " 96 97 98 99]\n",
            "구조: (100,)\n",
            "차원: 1\n",
            "원소 형식: int64\n"
          ]
        }
      ]
    },
    {
      "cell_type": "code",
      "source": [
        "s_arr = np.arange(50,100)\n",
        "view_arr_info(s_arr)"
      ],
      "metadata": {
        "colab": {
          "base_uri": "https://localhost:8080/"
        },
        "id": "J7Gwq_rUapGP",
        "outputId": "b1eb273c-e130-43f2-9518-09505928db23"
      },
      "execution_count": 26,
      "outputs": [
        {
          "output_type": "stream",
          "name": "stdout",
          "text": [
            "[50 51 52 53 54 55 56 57 58 59 60 61 62 63 64 65 66 67 68 69 70 71 72 73\n",
            " 74 75 76 77 78 79 80 81 82 83 84 85 86 87 88 89 90 91 92 93 94 95 96 97\n",
            " 98 99]\n",
            "구조: (50,)\n",
            "차원: 1\n",
            "원소 형식: int64\n"
          ]
        }
      ]
    },
    {
      "cell_type": "code",
      "source": [
        "r_arr = np.random.randint(0,100,size=10,dtype=int) # 1~100 사이의 수로 1x10 행렬 만듦 + uint(=양수만)\n",
        "view_arr_info(r_arr)"
      ],
      "metadata": {
        "colab": {
          "base_uri": "https://localhost:8080/"
        },
        "id": "6BnsfYiuasyJ",
        "outputId": "665cec8c-7b14-4dee-a9ab-529cf5d9cdff"
      },
      "execution_count": 30,
      "outputs": [
        {
          "output_type": "stream",
          "name": "stdout",
          "text": [
            "[38 58 78 55 41 35 48  3 17 80]\n",
            "구조: (10,)\n",
            "차원: 1\n",
            "원소 형식: int64\n"
          ]
        }
      ]
    },
    {
      "cell_type": "markdown",
      "source": [
        "#기본적인 사용"
      ],
      "metadata": {
        "id": "x1OK4724d3FD"
      }
    },
    {
      "cell_type": "code",
      "source": [
        "a1 = np.arange(1,100)\n",
        "view_arr_info(a1)"
      ],
      "metadata": {
        "colab": {
          "base_uri": "https://localhost:8080/"
        },
        "id": "0Kowwc_Hd4U8",
        "outputId": "5641b481-ea5a-49cd-e149-8259b2470188"
      },
      "execution_count": 32,
      "outputs": [
        {
          "output_type": "stream",
          "name": "stdout",
          "text": [
            "[ 1  2  3  4  5  6  7  8  9 10 11 12 13 14 15 16 17 18 19 20 21 22 23 24\n",
            " 25 26 27 28 29 30 31 32 33 34 35 36 37 38 39 40 41 42 43 44 45 46 47 48\n",
            " 49 50 51 52 53 54 55 56 57 58 59 60 61 62 63 64 65 66 67 68 69 70 71 72\n",
            " 73 74 75 76 77 78 79 80 81 82 83 84 85 86 87 88 89 90 91 92 93 94 95 96\n",
            " 97 98 99]\n",
            "구조: (99,)\n",
            "차원: 1\n",
            "원소 형식: int64\n"
          ]
        }
      ]
    },
    {
      "cell_type": "code",
      "source": [
        "print(a1[4]) #인덱스를 통해 원소에 접근\n",
        "a1[4]=9\n",
        "print(a1[4])"
      ],
      "metadata": {
        "colab": {
          "base_uri": "https://localhost:8080/"
        },
        "id": "nHRiFUjtd9-M",
        "outputId": "6223dd68-0b37-4eed-c273-461985258469"
      },
      "execution_count": 33,
      "outputs": [
        {
          "output_type": "stream",
          "name": "stdout",
          "text": [
            "5\n",
            "9\n"
          ]
        }
      ]
    },
    {
      "cell_type": "code",
      "source": [
        "print(a1[2:8]) #슬라이스를 통해 부분 원소 선택\n",
        "print(a1[:8]) # 1~8\n",
        "print(a1[8:]) # 8~99"
      ],
      "metadata": {
        "colab": {
          "base_uri": "https://localhost:8080/"
        },
        "id": "8vga0OFCeGvS",
        "outputId": "9d2b3e81-e39d-43e4-bd79-0ff18b42ff2d"
      },
      "execution_count": 34,
      "outputs": [
        {
          "output_type": "stream",
          "name": "stdout",
          "text": [
            "[3 4 9 6 7 8]\n",
            "[1 2 3 4 9 6 7 8]\n",
            "[ 9 10 11 12 13 14 15 16 17 18 19 20 21 22 23 24 25 26 27 28 29 30 31 32\n",
            " 33 34 35 36 37 38 39 40 41 42 43 44 45 46 47 48 49 50 51 52 53 54 55 56\n",
            " 57 58 59 60 61 62 63 64 65 66 67 68 69 70 71 72 73 74 75 76 77 78 79 80\n",
            " 81 82 83 84 85 86 87 88 89 90 91 92 93 94 95 96 97 98 99]\n"
          ]
        }
      ]
    },
    {
      "cell_type": "code",
      "source": [
        "a1 = np.arange(0,100)\n",
        "a2 = a1.reshape(5,20) # 5x20\n",
        "view_arr_info(a2)"
      ],
      "metadata": {
        "colab": {
          "base_uri": "https://localhost:8080/"
        },
        "id": "9tTwRYNKegqA",
        "outputId": "36843070-4701-4a39-b53f-ef050034380d"
      },
      "execution_count": 35,
      "outputs": [
        {
          "output_type": "stream",
          "name": "stdout",
          "text": [
            "[[ 0  1  2  3  4  5  6  7  8  9 10 11 12 13 14 15 16 17 18 19]\n",
            " [20 21 22 23 24 25 26 27 28 29 30 31 32 33 34 35 36 37 38 39]\n",
            " [40 41 42 43 44 45 46 47 48 49 50 51 52 53 54 55 56 57 58 59]\n",
            " [60 61 62 63 64 65 66 67 68 69 70 71 72 73 74 75 76 77 78 79]\n",
            " [80 81 82 83 84 85 86 87 88 89 90 91 92 93 94 95 96 97 98 99]]\n",
            "구조: (5, 20)\n",
            "차원: 2\n",
            "원소 형식: int64\n"
          ]
        }
      ]
    },
    {
      "cell_type": "code",
      "source": [
        "print(a2[0]) # 인덱스 0인 원소(0행) : 리스트 출력\n",
        "print(a2[0][2]) # 0행의 인덱스가 2인 원소값 출력"
      ],
      "metadata": {
        "colab": {
          "base_uri": "https://localhost:8080/"
        },
        "id": "5CuzbLGxeywb",
        "outputId": "2397d664-639b-4dd7-c599-2a33f8fbcd94"
      },
      "execution_count": 38,
      "outputs": [
        {
          "output_type": "stream",
          "name": "stdout",
          "text": [
            "[ 0  1  2  3  4  5  6  7  8  9 10 11 12 13 14 15 16 17 18 19]\n",
            "2\n"
          ]
        }
      ]
    },
    {
      "cell_type": "code",
      "source": [
        "print(a2[0][-1]) #0행의 인덱스가 -1인 원소값 출력"
      ],
      "metadata": {
        "colab": {
          "base_uri": "https://localhost:8080/"
        },
        "id": "25LwzPXPe6-c",
        "outputId": "3f1877c8-524d-451f-f68a-462c3d400855"
      },
      "execution_count": 40,
      "outputs": [
        {
          "output_type": "stream",
          "name": "stdout",
          "text": [
            "19\n"
          ]
        }
      ]
    },
    {
      "cell_type": "markdown",
      "source": [
        "#구조 변경"
      ],
      "metadata": {
        "id": "3vJ6mTw-fv05"
      }
    },
    {
      "cell_type": "code",
      "source": [
        "a1 = np.arange(100)\n",
        "view_arr_info(a1)"
      ],
      "metadata": {
        "colab": {
          "base_uri": "https://localhost:8080/"
        },
        "id": "NQl18pFBfUIC",
        "outputId": "b661fc33-15c5-4b5b-87be-e0a9642f4ae0"
      },
      "execution_count": 41,
      "outputs": [
        {
          "output_type": "stream",
          "name": "stdout",
          "text": [
            "[ 0  1  2  3  4  5  6  7  8  9 10 11 12 13 14 15 16 17 18 19 20 21 22 23\n",
            " 24 25 26 27 28 29 30 31 32 33 34 35 36 37 38 39 40 41 42 43 44 45 46 47\n",
            " 48 49 50 51 52 53 54 55 56 57 58 59 60 61 62 63 64 65 66 67 68 69 70 71\n",
            " 72 73 74 75 76 77 78 79 80 81 82 83 84 85 86 87 88 89 90 91 92 93 94 95\n",
            " 96 97 98 99]\n",
            "구조: (100,)\n",
            "차원: 1\n",
            "원소 형식: int64\n"
          ]
        }
      ]
    },
    {
      "cell_type": "code",
      "source": [
        "a2 = a1.reshape(20,-1)\n",
        "view_arr_info(a2)"
      ],
      "metadata": {
        "colab": {
          "base_uri": "https://localhost:8080/"
        },
        "id": "WPPqyNQWf26A",
        "outputId": "bf90d0b3-269f-4004-a5ba-77f3b36a7bf0"
      },
      "execution_count": 45,
      "outputs": [
        {
          "output_type": "stream",
          "name": "stdout",
          "text": [
            "[[ 0  1  2  3  4]\n",
            " [ 5  6  7  8  9]\n",
            " [10 11 12 13 14]\n",
            " [15 16 17 18 19]\n",
            " [20 21 22 23 24]\n",
            " [25 26 27 28 29]\n",
            " [30 31 32 33 34]\n",
            " [35 36 37 38 39]\n",
            " [40 41 42 43 44]\n",
            " [45 46 47 48 49]\n",
            " [50 51 52 53 54]\n",
            " [55 56 57 58 59]\n",
            " [60 61 62 63 64]\n",
            " [65 66 67 68 69]\n",
            " [70 71 72 73 74]\n",
            " [75 76 77 78 79]\n",
            " [80 81 82 83 84]\n",
            " [85 86 87 88 89]\n",
            " [90 91 92 93 94]\n",
            " [95 96 97 98 99]]\n",
            "구조: (20, 5)\n",
            "차원: 2\n",
            "원소 형식: int64\n"
          ]
        }
      ]
    },
    {
      "cell_type": "code",
      "source": [
        "a1 = np.arange(784)\n",
        "view_arr_info(a1)"
      ],
      "metadata": {
        "id": "eeLD9Sz1gdXP"
      },
      "execution_count": null,
      "outputs": []
    },
    {
      "cell_type": "code",
      "source": [
        "a2 = a1.reshape(28,-1) # 28x28 행렬로 자동 정렬 (자동으로 batch_size를 조정)\n",
        "view_arr_info(a2)\n",
        "\n",
        "# reshape()의 '-1'이 의미하는 바는, 변경된 배열의 '-1' 위치의 차원은 \"원래 배열의 길이와 남은 차원으로 부터 추정\"이 된다는 뜻\n",
        "# 즉, 행이나 열의 특정 차원을 기준으로 재배열하고 싶은 행이나 열의 개수가 있으면 나머지 차원의 개수는 '-1'로 해두면 알아서 자동으로 재배열을 해주니 편리한 기능"
      ],
      "metadata": {
        "id": "xepXCGGUgdSR"
      },
      "execution_count": null,
      "outputs": []
    },
    {
      "cell_type": "markdown",
      "source": [
        "#쉬어가는 코너"
      ],
      "metadata": {
        "id": "TUP2WPywhtNy"
      }
    },
    {
      "cell_type": "code",
      "source": [
        "from tensorflow import keras"
      ],
      "metadata": {
        "id": "JrFObbK2hvX3"
      },
      "execution_count": 57,
      "outputs": []
    },
    {
      "cell_type": "code",
      "source": [
        "data = keras.datasets.mnist.load_data() #손글씨 데이터를 다운로드"
      ],
      "metadata": {
        "colab": {
          "base_uri": "https://localhost:8080/"
        },
        "id": "kfZWn-ERh-Qa",
        "outputId": "6a41af8d-707c-406e-eb57-e5c6a64adfcc"
      },
      "execution_count": 58,
      "outputs": [
        {
          "output_type": "stream",
          "name": "stdout",
          "text": [
            "Downloading data from https://storage.googleapis.com/tensorflow/tf-keras-datasets/mnist.npz\n",
            "11493376/11490434 [==============================] - 0s 0us/step\n",
            "11501568/11490434 [==============================] - 0s 0us/step\n"
          ]
        }
      ]
    },
    {
      "cell_type": "code",
      "source": [
        "train_data, test_data = data #학습용 데이터, 평가용 데이터로 분리\n",
        "image_train, label_train = train_data #이미지, 실제값"
      ],
      "metadata": {
        "id": "g8-XtwG2igg9"
      },
      "execution_count": 59,
      "outputs": []
    },
    {
      "cell_type": "code",
      "source": [
        "print(image_train.shape) #28*28 6만개\n",
        "print(label_train.shape)"
      ],
      "metadata": {
        "colab": {
          "base_uri": "https://localhost:8080/"
        },
        "id": "7JwQRFpkirAp",
        "outputId": "fd15df2e-f1c8-4738-ef7c-b1aabdc1a36d"
      },
      "execution_count": 61,
      "outputs": [
        {
          "output_type": "stream",
          "name": "stdout",
          "text": [
            "(60000, 28, 28)\n",
            "(60000,)\n"
          ]
        }
      ]
    },
    {
      "cell_type": "code",
      "source": [
        "for r in range(28):\n",
        "  for c in range(28):\n",
        "    if(image_train[2][r][c] == 0):\n",
        "      print(\"  \",end='')\n",
        "    else:\n",
        "      print(\"■\",end='')\n",
        "  print()\n",
        "print(\"=> 작성한 숫자: \" ,label_train[2])\n",
        "# 해당 손글씨를 학습시킬 수 있다"
      ],
      "metadata": {
        "colab": {
          "base_uri": "https://localhost:8080/"
        },
        "id": "uwCGrModjGJI",
        "outputId": "099b4a77-6458-4854-9632-982f2ee96815"
      },
      "execution_count": 70,
      "outputs": [
        {
          "output_type": "stream",
          "name": "stdout",
          "text": [
            "                                                        \n",
            "                                                        \n",
            "                                                        \n",
            "                                                        \n",
            "                                                        \n",
            "                                        ■■■          \n",
            "        ■■                            ■■■          \n",
            "        ■■                          ■■■■          \n",
            "        ■■                          ■■■            \n",
            "        ■■                          ■■■            \n",
            "      ■■■                          ■■■            \n",
            "      ■■■                        ■■■■            \n",
            "      ■■■                        ■■■■            \n",
            "      ■■■                  ■■■■■■              \n",
            "      ■■■      ■■■■■■■■■■■■              \n",
            "      ■■■■■■■■■■■■■■■■■                \n",
            "        ■■■■■■■■          ■■■                \n",
            "                                  ■■■                \n",
            "                                  ■■■                \n",
            "                                  ■■■                \n",
            "                                  ■■■                \n",
            "                                  ■■■                \n",
            "                                  ■■■                \n",
            "                                  ■■■                \n",
            "                                  ■■■                \n",
            "                                                        \n",
            "                                                        \n",
            "                                                        \n",
            "=> 작성한 숫자:  4\n"
          ]
        }
      ]
    },
    {
      "cell_type": "code",
      "source": [
        ""
      ],
      "metadata": {
        "id": "zGn5lMkCjNZV"
      },
      "execution_count": null,
      "outputs": []
    }
  ]
}