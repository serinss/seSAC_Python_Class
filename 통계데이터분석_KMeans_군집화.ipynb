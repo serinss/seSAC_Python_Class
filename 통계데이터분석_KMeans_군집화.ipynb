{
  "nbformat": 4,
  "nbformat_minor": 0,
  "metadata": {
    "colab": {
      "name": "통계데이터분석 - KMeans 군집화.ipynb",
      "provenance": [],
      "collapsed_sections": [],
      "authorship_tag": "ABX9TyPfq4E8ICmm36AuJA3b5d5x",
      "include_colab_link": true
    },
    "kernelspec": {
      "name": "python3",
      "display_name": "Python 3"
    },
    "language_info": {
      "name": "python"
    }
  },
  "cells": [
    {
      "cell_type": "markdown",
      "metadata": {
        "id": "view-in-github",
        "colab_type": "text"
      },
      "source": [
        "<a href=\"https://colab.research.google.com/github/serinss/seSAC_Python_Class/blob/main/%ED%86%B5%EA%B3%84%EB%8D%B0%EC%9D%B4%ED%84%B0%EB%B6%84%EC%84%9D_KMeans_%EA%B5%B0%EC%A7%91%ED%99%94.ipynb\" target=\"_parent\"><img src=\"https://colab.research.google.com/assets/colab-badge.svg\" alt=\"Open In Colab\"/></a>"
      ]
    },
    {
      "cell_type": "code",
      "source": [
        "import numpy as np"
      ],
      "metadata": {
        "id": "G0PeWNaxRv9Y"
      },
      "execution_count": null,
      "outputs": []
    },
    {
      "cell_type": "code",
      "execution_count": 1,
      "metadata": {
        "id": "3egDqfaIRVs7"
      },
      "outputs": [],
      "source": [
        "def distance(x1,x2):\n",
        "  return sum((x1-x2)**2)**(1/2)"
      ]
    },
    {
      "cell_type": "code",
      "source": [
        "import numpy as np\n",
        "na1 = np.array([1,2])\n",
        "na2 = np.array([5,5])\n",
        "print(distance(na1,na2))"
      ],
      "metadata": {
        "colab": {
          "base_uri": "https://localhost:8080/"
        },
        "id": "YPQPII0eRkn6",
        "outputId": "297ddb55-2d68-4bc6-c2cb-ca941cb02a87"
      },
      "execution_count": 2,
      "outputs": [
        {
          "output_type": "stream",
          "name": "stdout",
          "text": [
            "5.0\n"
          ]
        }
      ]
    },
    {
      "cell_type": "markdown",
      "source": [
        "#KMeans"
      ],
      "metadata": {
        "id": "BAoQkCAJRx3F"
      }
    },
    {
      "cell_type": "code",
      "source": [
        "def kmeans(data,k=3):\n",
        "  centers=[]\n",
        "  dl = len(data)\n",
        "  #초기에 3개의 중심점을 선택한다. (무엇을 중심점으로 선택하는 것이 좋을지는 생략)\n",
        "  for center in range(k):\n",
        "    ci = np.random.randint(dl) #현재 있는 데이터 중에 무엇을 선택할 것인지 인덱스 결정 (ci는 선택 인덱스)\n",
        "    centers.append(data[ci]) #선택한 점을 초기 중심점으로 결정\n",
        "    # print(data[ci])\n",
        "  #print(centers) 체크\n",
        "\n",
        "\n",
        "  while True: #반복 작업\n",
        "  \n",
        "    #모든 데이터를 중심점과의 거리를 계산하여 가까운 중심점 그룹에 속하게 한다.\n",
        "    cs = {} #키:그룹명, 값: 그 그룹에 속하는 점\n",
        "    for elem in data: #모든 점들을\n",
        "      distances = [] #중심점으로부터의 거리 구하기\n",
        "      for i in range(k): #모든 중심점들과 비교\n",
        "        dis = distance(centers[i], elem) #i번째 중심점과 elem 사이의 거리를 계산\n",
        "        distances.append(dis)\n",
        "      nd = np.array(distances)\n",
        "      ai = nd.argmin() #최소 거리에 해당하는 인덱스 하나 구하기(그룹 인덱스) -> 가까운 점 하나가 선택됨\n",
        "      #print(distance)\n",
        "      #print(ai) 체크\n",
        "\n",
        "      #가장 가까운 그룹에 선택된 점이 들어가도록 해야함\n",
        "      if ai in cs: # 해당 인덱스가 처음 선택한 인덱스일 때\n",
        "        cs[ai].append(elem) # 해당 그룹에 elem(점)을 소속시킨다. \n",
        "      else: # 아닌 경우\n",
        "        cs[ai] = []  # 사전 개체에 그룹 빈 리스트 생성\n",
        "        cs[ai].append(elem) #리스트에 elem을 소속시킨다\n",
        "    #print(cs[0]) 체크\n",
        "    #print(cs[1]) 체크\n",
        "    #print(cs[2]) 체크\n",
        "    #print(np.array(cs[0]).mena())\n",
        "\n",
        "    # 그룹의 중심점을 새로이 계산\n",
        "    rcenters = [] #새롭게 그룹핑한 그룹의 중심점이 들어갈 배열\n",
        "    for i in range(k): #k개의 그룹에 관하여\n",
        "      sx = np.array([x for x,_ in cs[i]])\n",
        "      sy = np.array([y for _,y in cs[i]])\n",
        "      rcenters.append([sx.mean(), sy.mean()])\n",
        "    if np.array_equal(centers, rcenters): # 만약 이전 중심점과 새로운 중심점이 서로 같으면\n",
        "      break #루프 탈출(바뀌지 않음)\n",
        "    else:\n",
        "      centers = rcenters #다르면, 바꿈\n",
        "  return cs"
      ],
      "metadata": {
        "id": "zQSEaOhURxOu"
      },
      "execution_count": 19,
      "outputs": []
    },
    {
      "cell_type": "code",
      "source": [
        "data = np.array([[np.random.randint(0,100),np.random.randint(0,100)] for _ in range(50)])\n",
        "len(data)"
      ],
      "metadata": {
        "colab": {
          "base_uri": "https://localhost:8080/"
        },
        "id": "ZqrM-AhbSJcO",
        "outputId": "a1d24d91-a1cb-4013-d1ff-a635087b4ea8"
      },
      "execution_count": 17,
      "outputs": [
        {
          "output_type": "execute_result",
          "data": {
            "text/plain": [
              "50"
            ]
          },
          "metadata": {},
          "execution_count": 17
        }
      ]
    },
    {
      "cell_type": "code",
      "source": [
        "re_cl = kmeans(data)"
      ],
      "metadata": {
        "id": "xR-03gcSSjP-"
      },
      "execution_count": 21,
      "outputs": []
    },
    {
      "cell_type": "code",
      "source": [
        "import matplotlib.pyplot as plt\n",
        "plt.plot(np.array([x for x,_ in re_cl[0]]), np.array([y for _,y in re_cl[0]]),'b.')\n",
        "plt.plot(np.array([x for x,_ in re_cl[1]]), np.array([y for _,y in re_cl[1]]),'ro')\n",
        "plt.plot(np.array([x for x,_ in re_cl[2]]), np.array([y for _,y in re_cl[2]]),'g*')\n",
        "plt.show()"
      ],
      "metadata": {
        "colab": {
          "base_uri": "https://localhost:8080/",
          "height": 265
        },
        "id": "Mgtz5CuMfoWY",
        "outputId": "0a54f28a-71d5-4872-d7ee-2eda3ad18ed5"
      },
      "execution_count": 22,
      "outputs": [
        {
          "output_type": "display_data",
          "data": {
            "image/png": "[encoded data removed]",
            "text/plain": [
              "<Figure size 432x288 with 1 Axes>"
            ]
          },
          "metadata": {
            "needs_background": "light"
          }
        }
      ]
    },
    {
      "cell_type": "markdown",
      "source": [
        "#Convolution 이미지 처리 작업\n",
        "1 0 0 1  \n",
        "1 0 1 0  \n",
        "1 0 0 1      \n",
        "0 1 1 0  \n",
        "<이미지>\n",
        "\n",
        "x내적 -> 같은 위치에 둘 다 1인 부분의 개수를 찾는다  \n",
        "\n",
        "1 0 0  \n",
        "0 1 0  \n",
        "0 1 0  \n",
        "< kernel>\n",
        "\n",
        "=  \n",
        "\n",
        "1 1  \n",
        "1 1  \n",
        "<Future(특성)>\n",
        "\n",
        "----\n",
        "x  \n",
        "1 0 0  \n",
        "1 0 0  \n",
        "0 0 1  \n",
        "< kernel>\n",
        "\n",
        "=  \n",
        "\n",
        "2 1  \n",
        "3 0  \n"
      ],
      "metadata": {
        "id": "p04xNGcpgshO"
      }
    }
  ]
}