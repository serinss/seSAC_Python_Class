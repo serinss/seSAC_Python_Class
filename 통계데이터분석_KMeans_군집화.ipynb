{
  "nbformat": 4,
  "nbformat_minor": 0,
  "metadata": {
    "colab": {
      "name": "통계데이터분석 - KMeans 군집화.ipynb",
      "provenance": [],
      "authorship_tag": "ABX9TyPo/GnMLOD20d4hmZQEkk/j",
      "include_colab_link": true
    },
    "kernelspec": {
      "name": "python3",
      "display_name": "Python 3"
    },
    "language_info": {
      "name": "python"
    }
  },
  "cells": [
    {
      "cell_type": "markdown",
      "metadata": {
        "id": "view-in-github",
        "colab_type": "text"
      },
      "source": [
        "<a href=\"https://colab.research.google.com/github/serinss/seSAC_Python_Class/blob/main/%ED%86%B5%EA%B3%84%EB%8D%B0%EC%9D%B4%ED%84%B0%EB%B6%84%EC%84%9D_KMeans_%EA%B5%B0%EC%A7%91%ED%99%94.ipynb\" target=\"_parent\"><img src=\"https://colab.research.google.com/assets/colab-badge.svg\" alt=\"Open In Colab\"/></a>"
      ]
    },
    {
      "cell_type": "code",
      "source": [
        "import numpy as np"
      ],
      "metadata": {
        "id": "G0PeWNaxRv9Y"
      },
      "execution_count": null,
      "outputs": []
    },
    {
      "cell_type": "code",
      "execution_count": 1,
      "metadata": {
        "id": "3egDqfaIRVs7"
      },
      "outputs": [],
      "source": [
        "def distance(x1,x2):\n",
        "  return sum((x1-x2)**2)**(1/2)"
      ]
    },
    {
      "cell_type": "code",
      "source": [
        "import numpy as np\n",
        "na1 = np.array([1,2])\n",
        "na2 = np.array([5,5])\n",
        "print(distance(na1,na2))"
      ],
      "metadata": {
        "colab": {
          "base_uri": "https://localhost:8080/"
        },
        "id": "YPQPII0eRkn6",
        "outputId": "297ddb55-2d68-4bc6-c2cb-ca941cb02a87"
      },
      "execution_count": 2,
      "outputs": [
        {
          "output_type": "stream",
          "name": "stdout",
          "text": [
            "5.0\n"
          ]
        }
      ]
    },
    {
      "cell_type": "markdown",
      "source": [
        "#KMeans"
      ],
      "metadata": {
        "id": "BAoQkCAJRx3F"
      }
    },
    {
      "cell_type": "code",
      "source": [
        "def kmeans(data,k=3):\n",
        "  centers=[]\n",
        "  dl = len(data)\n",
        "  for center in range(k):\n",
        "    ci = np.random.randint(dl) #데이터 중에 무엇을 선택할 것인지 인덱스 결정\n",
        "    centers.append(data[ci])\n",
        "    print(data[ci])"
      ],
      "metadata": {
        "id": "zQSEaOhURxOu"
      },
      "execution_count": 8,
      "outputs": []
    },
    {
      "cell_type": "code",
      "source": [
        "data = np.array([[np.random.randint(0,100),np.random.randint(0,100)] for _ in range(50)])\n",
        "len(data)"
      ],
      "metadata": {
        "colab": {
          "base_uri": "https://localhost:8080/"
        },
        "id": "ZqrM-AhbSJcO",
        "outputId": "a91b7fdd-96f4-4807-f2d1-635cf1f8c4f9"
      },
      "execution_count": 10,
      "outputs": [
        {
          "output_type": "execute_result",
          "data": {
            "text/plain": [
              "50"
            ]
          },
          "metadata": {},
          "execution_count": 10
        }
      ]
    },
    {
      "cell_type": "code",
      "source": [
        "kmeans(data)"
      ],
      "metadata": {
        "colab": {
          "base_uri": "https://localhost:8080/"
        },
        "id": "xR-03gcSSjP-",
        "outputId": "e0eb61e2-8fa8-4f5a-9c78-5f8a8bb2f249"
      },
      "execution_count": 11,
      "outputs": [
        {
          "output_type": "stream",
          "name": "stdout",
          "text": [
            "[59 40]\n",
            "[99  1]\n",
            "[50 20]\n"
          ]
        }
      ]
    }
  ]
}