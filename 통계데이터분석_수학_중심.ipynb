{
  "nbformat": 4,
  "nbformat_minor": 0,
  "metadata": {
    "colab": {
      "name": "통계데이터분석 - 수학 중심.ipynb",
      "provenance": [],
      "authorship_tag": "ABX9TyPavygG0yDHP6Gh72+o8Ibg",
      "include_colab_link": true
    },
    "kernelspec": {
      "name": "python3",
      "display_name": "Python 3"
    },
    "language_info": {
      "name": "python"
    }
  },
  "cells": [
    {
      "cell_type": "markdown",
      "metadata": {
        "id": "view-in-github",
        "colab_type": "text"
      },
      "source": [
        "<a href=\"https://colab.research.google.com/github/serinss/seSAC_Python_Class/blob/main/%ED%86%B5%EA%B3%84%EB%8D%B0%EC%9D%B4%ED%84%B0%EB%B6%84%EC%84%9D_%EC%88%98%ED%95%99_%EC%A4%91%EC%8B%AC.ipynb\" target=\"_parent\"><img src=\"https://colab.research.google.com/assets/colab-badge.svg\" alt=\"Open In Colab\"/></a>"
      ]
    },
    {
      "cell_type": "markdown",
      "source": [
        "#통계\n",
        "평균, 중간값, 사분위값, 최빈값, 분산, 표준편차"
      ],
      "metadata": {
        "id": "S8CMf8n6i4rB"
      }
    },
    {
      "cell_type": "code",
      "execution_count": 1,
      "metadata": {
        "id": "60fkpEULi0qv"
      },
      "outputs": [],
      "source": [
        "import numpy as np\n",
        "import pandas as pd"
      ]
    },
    {
      "cell_type": "code",
      "source": [
        "heights = np.random.normal(161.4,7,200) #정규 분포를 갖는 랜덤한 데이터 발생(평균:161.4, 표준편차:7, 개수:200)\n",
        "bmi = np.random.normal(21,1,200) #체질량 지수\n",
        "weights = bmi*(heights**2)/10000 #몸무게"
      ],
      "metadata": {
        "id": "5ZCXWVwMi_Rh"
      },
      "execution_count": 2,
      "outputs": []
    },
    {
      "cell_type": "code",
      "source": [
        "print(\"=== 키 ===\")\n",
        "print(\"평균:\",heights.mean())\n",
        "print(\"중간값:\",np.median(heights))\n",
        "print(\"1/4분위값:\",np.quantile(heights,0.25))\n",
        "print(\"1/2분위값:\",np.quantile(heights,0.55))\n",
        "print(\"3/4분위값:\",np.quantile(heights,0.75))\n",
        "hist,_ = np.histogram(heights,bins=[x for x in range(0,250,5)]) #반환값: 히스토그램, bins\n",
        "mi = hist.argmax() #최댓값이 있는 인덱스\n",
        "print(\"최빈구간:\",mi*5+0.25)"
      ],
      "metadata": {
        "colab": {
          "base_uri": "https://localhost:8080/"
        },
        "id": "ae0QcmLIj1C0",
        "outputId": "63f53cf5-e183-437b-dfb0-e3e7cc90f513"
      },
      "execution_count": 5,
      "outputs": [
        {
          "output_type": "stream",
          "name": "stdout",
          "text": [
            "=== 키 ===\n",
            "평균: 161.86964307537986\n",
            "중간값: 161.65237218681688\n",
            "1/4분위값: 156.22598652139186\n",
            "1/2분위값: 162.99722303818857\n",
            "3/4분위값: 167.3109844322416\n",
            "최빈구간: 165.25\n"
          ]
        }
      ]
    },
    {
      "cell_type": "markdown",
      "source": [
        "#공분산\n",
        "![공분산.PNG](data:image/png;base64,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)"
      ],
      "metadata": {
        "id": "-qEIMcJblbZ2"
      }
    },
    {
      "cell_type": "code",
      "source": [
        "cv = np.cov(heights,weights)\n",
        "print(cv)\n",
        "print(\"공분산(키,키)\",cv[0,0])\n",
        "print(\"공분산(키,몸무게)\",cv[0,1])\n",
        "print(\"공분산(몸무게,키)\",cv[1,0])\n",
        "print(\"공분산(몸무게,몸무게)\",cv[1,1])"
      ],
      "metadata": {
        "colab": {
          "base_uri": "https://localhost:8080/"
        },
        "id": "UwJrMTgEl-TA",
        "outputId": "96bbaee0-412f-4a72-e4a6-7e9ae9387bc4"
      },
      "execution_count": 6,
      "outputs": [
        {
          "output_type": "stream",
          "name": "stdout",
          "text": [
            "[[57.16390421 39.98396349]\n",
            " [39.98396349 34.32274011]]\n",
            "공분산(키,키) 57.163904209472676\n",
            "공분산(키,몸무게) 39.98396349099023\n",
            "공분산(몸무게,키) 39.98396349099023\n",
            "공분산(몸무게,몸무게) 34.32274011387054\n"
          ]
        }
      ]
    },
    {
      "cell_type": "markdown",
      "source": [
        "# 상관관계"
      ],
      "metadata": {
        "id": "tFRCJtqrl80W"
      }
    },
    {
      "cell_type": "markdown",
      "source": [
        "![상관관계.PNG](data:image/png;base64,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)"
      ],
      "metadata": {
        "id": "NoZWItwvl6Bt"
      }
    },
    {
      "cell_type": "code",
      "source": [
        "import pandas as pd\n",
        "se_he = pd.Series(heights)\n",
        "se_we = pd.Series(weights)\n",
        "print(se_he.corr(se_we))"
      ],
      "metadata": {
        "colab": {
          "base_uri": "https://localhost:8080/"
        },
        "id": "MC5ej2zDmhN5",
        "outputId": "40798807-8388-47f0-8f4e-1f121c36ead2"
      },
      "execution_count": 7,
      "outputs": [
        {
          "output_type": "stream",
          "name": "stdout",
          "text": [
            "0.902680217489883\n"
          ]
        }
      ]
    },
    {
      "cell_type": "code",
      "source": [
        ""
      ],
      "metadata": {
        "id": "PGT8gx_CmyFR"
      },
      "execution_count": null,
      "outputs": []
    }
  ]
}