{
  "nbformat": 4,
  "nbformat_minor": 0,
  "metadata": {
    "colab": {
      "name": "통계데이터분석 - 수학 중심.ipynb",
      "provenance": [],
      "collapsed_sections": [],
      "authorship_tag": "ABX9TyMgYgOUhxTvy9J8YEplmqgc",
      "include_colab_link": true
    },
    "kernelspec": {
      "name": "python3",
      "display_name": "Python 3"
    },
    "language_info": {
      "name": "python"
    }
  },
  "cells": [
    {
      "cell_type": "markdown",
      "metadata": {
        "id": "view-in-github",
        "colab_type": "text"
      },
      "source": [
        "<a href=\"https://colab.research.google.com/github/serinss/seSAC_Python_Class/blob/main/%ED%86%B5%EA%B3%84%EB%8D%B0%EC%9D%B4%ED%84%B0%EB%B6%84%EC%84%9D_%EC%88%98%ED%95%99_%EC%A4%91%EC%8B%AC.ipynb\" target=\"_parent\"><img src=\"https://colab.research.google.com/assets/colab-badge.svg\" alt=\"Open In Colab\"/></a>"
      ]
    },
    {
      "cell_type": "markdown",
      "source": [
        "#통계\n",
        "평균, 중간값, 사분위값, 최빈값, 분산, 표준편차"
      ],
      "metadata": {
        "id": "S8CMf8n6i4rB"
      }
    },
    {
      "cell_type": "code",
      "execution_count": 1,
      "metadata": {
        "id": "60fkpEULi0qv"
      },
      "outputs": [],
      "source": [
        "import numpy as np\n",
        "import pandas as pd\n",
        "import matplotlib.pyplot as plt\n",
        "import scipy.stats as st"
      ]
    },
    {
      "cell_type": "code",
      "source": [
        "heights = np.random.normal(161.4,7,200) #정규 분포를 갖는 랜덤한 데이터 발생(평균:161.4, 표준편차:7, 개수:200)\n",
        "bmi = np.random.normal(21,1,200) #체질량 지수\n",
        "weights = bmi*(heights**2)/10000 #몸무게"
      ],
      "metadata": {
        "id": "5ZCXWVwMi_Rh"
      },
      "execution_count": 2,
      "outputs": []
    },
    {
      "cell_type": "code",
      "source": [
        "print(\"=== 키 ===\")\n",
        "print(\"평균:\",heights.mean())\n",
        "print(\"중간값:\",np.median(heights))\n",
        "print(\"1/4분위값:\",np.quantile(heights,0.25))\n",
        "print(\"1/2분위값:\",np.quantile(heights,0.55))\n",
        "print(\"3/4분위값:\",np.quantile(heights,0.75))\n",
        "hist,_ = np.histogram(heights,bins=[x for x in range(0,250,5)]) #반환값: 히스토그램, bins\n",
        "mi = hist.argmax() #최댓값이 있는 인덱스\n",
        "print(\"최빈구간:\",mi*5+0.25)"
      ],
      "metadata": {
        "colab": {
          "base_uri": "https://localhost:8080/"
        },
        "id": "ae0QcmLIj1C0",
        "outputId": "63f53cf5-e183-437b-dfb0-e3e7cc90f513"
      },
      "execution_count": 5,
      "outputs": [
        {
          "output_type": "stream",
          "name": "stdout",
          "text": [
            "=== 키 ===\n",
            "평균: 161.86964307537986\n",
            "중간값: 161.65237218681688\n",
            "1/4분위값: 156.22598652139186\n",
            "1/2분위값: 162.99722303818857\n",
            "3/4분위값: 167.3109844322416\n",
            "최빈구간: 165.25\n"
          ]
        }
      ]
    },
    {
      "cell_type": "markdown",
      "source": [
        "#공분산\n",
        "![공분산.PNG](data:image/png;base64,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)"
      ],
      "metadata": {
        "id": "-qEIMcJblbZ2"
      }
    },
    {
      "cell_type": "code",
      "source": [
        "cv = np.cov(heights,weights)\n",
        "print(cv)\n",
        "print(\"공분산(키,키)\",cv[0,0])\n",
        "print(\"공분산(키,몸무게)\",cv[0,1])\n",
        "print(\"공분산(몸무게,키)\",cv[1,0])\n",
        "print(\"공분산(몸무게,몸무게)\",cv[1,1])"
      ],
      "metadata": {
        "colab": {
          "base_uri": "https://localhost:8080/"
        },
        "id": "UwJrMTgEl-TA",
        "outputId": "96bbaee0-412f-4a72-e4a6-7e9ae9387bc4"
      },
      "execution_count": 6,
      "outputs": [
        {
          "output_type": "stream",
          "name": "stdout",
          "text": [
            "[[57.16390421 39.98396349]\n",
            " [39.98396349 34.32274011]]\n",
            "공분산(키,키) 57.163904209472676\n",
            "공분산(키,몸무게) 39.98396349099023\n",
            "공분산(몸무게,키) 39.98396349099023\n",
            "공분산(몸무게,몸무게) 34.32274011387054\n"
          ]
        }
      ]
    },
    {
      "cell_type": "markdown",
      "source": [
        "# 상관관계"
      ],
      "metadata": {
        "id": "tFRCJtqrl80W"
      }
    },
    {
      "cell_type": "markdown",
      "source": [
        "![상관관계.PNG](data:image/png;base64,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)"
      ],
      "metadata": {
        "id": "NoZWItwvl6Bt"
      }
    },
    {
      "cell_type": "code",
      "source": [
        "import pandas as pd\n",
        "se_he = pd.Series(heights)\n",
        "se_we = pd.Series(weights)\n",
        "print(se_he.corr(se_we))"
      ],
      "metadata": {
        "colab": {
          "base_uri": "https://localhost:8080/"
        },
        "id": "MC5ej2zDmhN5",
        "outputId": "40798807-8388-47f0-8f4e-1f121c36ead2"
      },
      "execution_count": 7,
      "outputs": [
        {
          "output_type": "stream",
          "name": "stdout",
          "text": [
            "0.902680217489883\n"
          ]
        }
      ]
    },
    {
      "cell_type": "code",
      "source": [
        "def correlation(x,y):\n",
        "  std_x = x.std()\n",
        "  std_y = y.std()\n",
        "  if std_x>0 and std_y>0:\n",
        "    return np.cov(x,y)[0,1]/(std_x*std_y)\n",
        "  return 0"
      ],
      "metadata": {
        "id": "PGT8gx_CmyFR"
      },
      "execution_count": 8,
      "outputs": []
    },
    {
      "cell_type": "code",
      "source": [
        "#다른 정의 방법 (위의 방법이 더 빠르다)\n",
        "def correlation2(x,y):\n",
        "  if x.std_x>0 and y.std_y>0:\n",
        "    return np.cov(x,y)[0,1]/(x.std()*y.std())\n",
        "  return 0"
      ],
      "metadata": {
        "id": "KmqC1Sq3nGY6"
      },
      "execution_count": 9,
      "outputs": []
    },
    {
      "cell_type": "code",
      "source": [
        "print(correlation(heights,weights))"
      ],
      "metadata": {
        "colab": {
          "base_uri": "https://localhost:8080/"
        },
        "id": "y_XDw7uYnkmx",
        "outputId": "298540e4-9d96-4ed6-85e7-975aca82a2a3"
      },
      "execution_count": 10,
      "outputs": [
        {
          "output_type": "stream",
          "name": "stdout",
          "text": [
            "0.907216298984807\n"
          ]
        }
      ]
    },
    {
      "cell_type": "markdown",
      "source": [
        "#확률\n",
        "조건부 사건  \n",
        "P(a): a가 발생할 확률  \n",
        "P(b): b가 발생할 확률  \n",
        "P(a|b): b가 발생한 상태에서 a가 발생할 확률 - 조건부 확률  \n",
        "P(a|b) = P(a) 일때, a와 b는 독립 사건이다"
      ],
      "metadata": {
        "id": "GC2SHSH_oGPC"
      }
    },
    {
      "cell_type": "code",
      "source": [
        "pa = 0.5 #동전을 던져서 앞면이 나올 확률\n",
        "pb = 1/6 #주사위를 던졌을 때 1이 나올 확률\n",
        "\n",
        "print(f\"P(a) = {pa:.2f}\")\n",
        "print(f\"P(b) = {pb:.2f}\")\n",
        "print(\"P(a and b) = P(a|b)*P(b)\")\n",
        "print(\"a와 b가 독립사건일 때,\")\n",
        "pab = pa*pb\n",
        "print(f\"P(a and b) = P(a|b)*P(b) = P(a)*P(b) = {pab:.2f}\")"
      ],
      "metadata": {
        "colab": {
          "base_uri": "https://localhost:8080/"
        },
        "id": "VrSXmwx6oHJj",
        "outputId": "43ac3909-7d65-48c6-bf21-2cfa9b669e56"
      },
      "execution_count": 12,
      "outputs": [
        {
          "output_type": "stream",
          "name": "stdout",
          "text": [
            "P(a) = 0.50\n",
            "P(b) = 0.17\n",
            "P(a and b) = P(a|b)*P(b)\n",
            "a와 b가 독립사건일 때,\n",
            "P(a and b) = P(a|b)*P(b) = P(a)*P(b) = 0.08\n"
          ]
        }
      ]
    },
    {
      "cell_type": "code",
      "source": [
        "import math\n",
        "logit_pab = math.log(pa) + math.log(pb)\n",
        "print(\"a와 b가 독립 사건일 때\")\n",
        "print(f\"logit(P(a and b)) = log(P(a|b)) + log(P(b)) = log(P(a)) + log(P(b)) = {logit_pab:.2f}\")\n",
        "inv_logit_pab = math.exp(logit_pab)\n",
        "print(f\"inv(logit(P(a and b)) = exp(logit(P(a and b))) = P(a and b) = {inv_logit_pab:.2f}\")"
      ],
      "metadata": {
        "colab": {
          "base_uri": "https://localhost:8080/"
        },
        "id": "rsvIfFFauUd3",
        "outputId": "2065202a-c5ed-4908-b14c-b8dbf0541701"
      },
      "execution_count": 13,
      "outputs": [
        {
          "output_type": "stream",
          "name": "stdout",
          "text": [
            "logit(P(a and b)) = log(P(a|b)) + log(P(b)) = log(P(a)) + log(P(b)) = -2.48\n",
            "inv(logit(P(a and b)) = exp(logit(P(a and b))) = P(a and b) = 0.08\n"
          ]
        }
      ]
    },
    {
      "cell_type": "markdown",
      "source": [
        "#균등 분포 함수\n",
        "주사위를 던졌을 때, 1,2,3,4,5,6이 나올 각각의 확률은 모두 1/6이다."
      ],
      "metadata": {
        "id": "z60dK6-6wNYF"
      }
    },
    {
      "cell_type": "code",
      "source": [
        "def uniform_pdf(x,min_v=0,max_v=1):\n",
        "  if min_v <= x < max_v: #발생할 범위 내에 있다면\n",
        "    return 1/(max_v-min_v) #\n",
        "  return 0"
      ],
      "metadata": {
        "id": "2Jq0CpGIwizD"
      },
      "execution_count": 24,
      "outputs": []
    },
    {
      "cell_type": "markdown",
      "source": [
        "#누적 균등 분포 함수"
      ],
      "metadata": {
        "id": "JuTszSQTw4CO"
      }
    },
    {
      "cell_type": "code",
      "source": [
        "def uniform_cdf(x,min_v=0,max_v=1):\n",
        "  if x<min_v:\n",
        "    return 0\n",
        "  if min_v <= x < max_v: #발생할 범위 내에 있다면\n",
        "    return (x-min_v)/(max_v-min_v)  #누적범위/범위\n",
        "  return 1 #x가 max_v보다 크다면 누적값은 1"
      ],
      "metadata": {
        "id": "1ecKPCnGw3yZ"
      },
      "execution_count": 25,
      "outputs": []
    },
    {
      "cell_type": "code",
      "source": [
        "xs=[]\n",
        "pys=[] #균등분포를 보관할 컬렉션\n",
        "cys=[] #누적균등분포를 보관할 컬렉션\n",
        "for x in range(-10,10):\n",
        "  pys.append(uniform_pdf(x,1,7))\n",
        "  cys.append(uniform_cdf(x,1,7))\n",
        "  xs.append(x)"
      ],
      "metadata": {
        "id": "P0_3hAJKxszq"
      },
      "execution_count": 26,
      "outputs": []
    },
    {
      "cell_type": "code",
      "source": [
        "import matplotlib.pyplot as plt\n",
        "fig,ax = plt.subplots(1,2)\n",
        "ax[0].plot(xs,pys,\"b.\",label=\"pdf\")\n",
        "ax[1].plot(xs,cys,\"r.\",label=\"cdf\")\n",
        "ax[0].set_title(\"pdf\")\n",
        "ax[1].set_title(\"cdf\")\n",
        "plt.show()"
      ],
      "metadata": {
        "colab": {
          "base_uri": "https://localhost:8080/",
          "height": 281
        },
        "id": "zSPamB-2x_xp",
        "outputId": "dc6e9f53-bb54-4a80-cbfe-afc99afe5a45"
      },
      "execution_count": 27,
      "outputs": [
        {
          "output_type": "display_data",
          "data": {
            "image/png": "[encoded data removed]",
            "text/plain": [
              "<Figure size 432x288 with 2 Axes>"
            ]
          },
          "metadata": {
            "needs_background": "light"
          }
        }
      ]
    },
    {
      "cell_type": "code",
      "source": [
        "data = np.linspace(0,100,21)\n",
        "print(data)"
      ],
      "metadata": {
        "colab": {
          "base_uri": "https://localhost:8080/"
        },
        "id": "8oK6tVufzyna",
        "outputId": "2fc6c526-7a5c-4c64-a0d7-2077a39ef367"
      },
      "execution_count": 29,
      "outputs": [
        {
          "output_type": "stream",
          "name": "stdout",
          "text": [
            "[  0.   5.  10.  15.  20.  25.  30.  35.  40.  45.  50.  55.  60.  65.\n",
            "  70.  75.  80.  85.  90.  95. 100.]\n"
          ]
        }
      ]
    },
    {
      "cell_type": "markdown",
      "source": [
        "#정규분포\n",
        "![정규분포.PNG](data:image/png;base64,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)"
      ],
      "metadata": {
        "id": "iXBe_eVQ0cni"
      }
    },
    {
      "cell_type": "code",
      "source": [
        "def normal_pdf(x,mu=0,sigma=1): #확률 이론에서의 정규분포, mu: 기대값(평균), sigma: 표준편차\n",
        "  pre = 1/(sigma*math.sqrt(2*math.pi))\n",
        "  post = math.exp(-((x-mu)**2/(2*(sigma**2))))\n",
        "  return pre*post"
      ],
      "metadata": {
        "id": "v3QhfX1B0gF6"
      },
      "execution_count": 31,
      "outputs": []
    },
    {
      "cell_type": "code",
      "source": [
        "xs = [x/10.0 for x in range(-50,50)]\n",
        "ys1 = [normal_pdf(x) for x in xs]\n",
        "ys2 = [normal_pdf(x, sigma=2) for x in xs]\n",
        "ys3 = [normal_pdf(x, sigma=0.5) for x in xs]\n",
        "ys4 = [normal_pdf(x, mu=1) for x in xs]\n",
        "plt.plot(xs,ys1,'-',label=\"mu=0, sigma=1\")\n",
        "plt.plot(xs,ys2,'--',label=\"mu=0, sigma=2\")\n",
        "plt.plot(xs,ys3,':',label=\"mu=0, sigma=0.5\")\n",
        "plt.plot(xs,ys4,'-.',label=\"mu=1, sigma=1\")\n",
        "plt.legend()\n",
        "plt.show()"
      ],
      "metadata": {
        "colab": {
          "base_uri": "https://localhost:8080/",
          "height": 265
        },
        "id": "oiAH2wga1EgM",
        "outputId": "b53d291a-4d94-4415-f073-23dca1b13e71"
      },
      "execution_count": 33,
      "outputs": [
        {
          "output_type": "display_data",
          "data": {
            "image/png": "[encoded data removed]",
            "text/plain": [
              "<Figure size 432x288 with 1 Axes>"
            ]
          },
          "metadata": {
            "needs_background": "light"
          }
        }
      ]
    },
    {
      "cell_type": "code",
      "source": [
        "import scipy.stats as st\n",
        "\n",
        "#평균은 loc, 표준편차는 scale\n",
        "xs = [x/10.0 for x in range(-50,50)]\n",
        "ys1 = [st.norm.pdf(x, scale=1) for x in xs]\n",
        "ys2 = [st.norm.pdf(x, scale=2) for x in xs]\n",
        "ys3 = [st.norm.pdf(x, scale=0.5) for x in xs]\n",
        "ys4 = [st.norm.pdf(x, loc=1) for x in xs]\n",
        "plt.plot(xs,ys1,'-',label=\"mu=0, sigma=1\")\n",
        "plt.plot(xs,ys2,'--',label=\"mu=0, sigma=2\")\n",
        "plt.plot(xs,ys3,':',label=\"mu=0, sigma=0.5\")\n",
        "plt.plot(xs,ys4,'-.',label=\"mu=1, sigma=1\")\n",
        "plt.legend()\n",
        "plt.show()"
      ],
      "metadata": {
        "colab": {
          "base_uri": "https://localhost:8080/",
          "height": 265
        },
        "id": "9ZbyFTJV2HxQ",
        "outputId": "2c3e092a-f558-488d-99b4-011743d1421b"
      },
      "execution_count": 34,
      "outputs": [
        {
          "output_type": "display_data",
          "data": {
            "image/png": "[encoded data removed]",
            "text/plain": [
              "<Figure size 432x288 with 1 Axes>"
            ]
          },
          "metadata": {
            "needs_background": "light"
          }
        }
      ]
    },
    {
      "cell_type": "markdown",
      "source": [
        "#누적정규분포"
      ],
      "metadata": {
        "id": "eT5s27wG3Vd9"
      }
    },
    {
      "cell_type": "code",
      "source": [
        "#평균은 loc, 표준편차는 scale\n",
        "xs = [x/10.0 for x in range(-50,50)]\n",
        "ys1 = [st.norm.cdf(x, scale=1) for x in xs]\n",
        "ys2 = [st.norm.cdf(x, scale=2) for x in xs]\n",
        "ys3 = [st.norm.cdf(x, scale=0.5) for x in xs]\n",
        "ys4 = [st.norm.cdf(x, loc=1) for x in xs]\n",
        "plt.plot(xs,ys1,'-',label=\"mu=0, sigma=1\")\n",
        "plt.plot(xs,ys2,'--',label=\"mu=0, sigma=2\")\n",
        "plt.plot(xs,ys3,':',label=\"mu=0, sigma=0.5\")\n",
        "plt.plot(xs,ys4,'-.',label=\"mu=1, sigma=1\")\n",
        "plt.legend()\n",
        "plt.show()"
      ],
      "metadata": {
        "colab": {
          "base_uri": "https://localhost:8080/",
          "height": 265
        },
        "id": "_8nUBd3-3ZMt",
        "outputId": "ca6229e4-2fe4-4758-952f-095626873d0e"
      },
      "execution_count": 35,
      "outputs": [
        {
          "output_type": "display_data",
          "data": {
            "image/png": "[encoded data removed]",
            "text/plain": [
              "<Figure size 432x288 with 1 Axes>"
            ]
          },
          "metadata": {
            "needs_background": "light"
          }
        }
      ]
    },
    {
      "cell_type": "markdown",
      "source": [
        "#코딩테스트(TF-IDF)\n",
        "\n",
        "언휴는 eh 도서관의 사서입니다.\n",
        "\n",
        "고객이 많아지면서 언휴에게 책을 찾아달라는 요청도 많아졌어요.\n",
        "\n",
        "이제 원하는 책을 찾는 것을 프로그램으로 제작해 보려고 합니다.\n",
        "\n",
        "책을 찾을 때 원하는 질의를 입력하면 연관성이 높은지 점수를 부여할 거예요.\n",
        "\n",
        "점수는 책 내에 질의가 나오는 빈도와 질의의 희귀도를 조합하에 계산합니다.\n",
        "\n",
        "예를 들어 책 A에 전체 단어 수가 100개이고 질의가 3번 나오면 빈도 점수는 3/100입니다.\n",
        "\n",
        "####**빈도 점수 = 질의 빈도/책에 단어 수**\n",
        "\n",
        "전체 책이 50권이고 질의를 포함하는 책이 6권이면 희귀도는 log2(50/(6+1))입니다.\n",
        "\n",
        "####**희귀도(idf) = log2((전체 책 수+1)/(질의 포함 책 수+1))**\n",
        "\n",
        "log2는 밑수가 2인 로그를 의미합니다.\n",
        "\n",
        "책에 부여하는 연관성 점수는 희귀도 점수가 0일 때는 빈도 점수입니다.\n",
        "\n",
        "*연관성 점수 = 빈도 점수* : 희귀도 점수가 0일 때\n",
        "\n",
        "희귀도 점수가 0이 아닐 때는 빈도 점수 * 희귀도 입니다.\n",
        "\n",
        "연관성 점수 = 빈도 점수 * 희귀도 :희귀도 점수가 0이 아닐 때\n",
        "\n",
        "입력은 책 내용 목록(문자열을 원소로 하는 리스트)와 검색 질의(문자열)이 주어집니다.\n",
        "\n",
        "출력(반환)은 점수 목록입니다.\n",
        "\n",
        "단어는 공백을 기준으로 구분합니다.\n",
        "\n",
        "입력: [\"abc korea bbc dde zzz\",\"abc hello yahoo\",\"korea python korea yahoo abc\",\"hello korea\",\"yahoo\",\"hello\",\"world\"],\"korea\"\n",
        "\n",
        "출력: [0.2, 0.0, 0.4, 0.5, 0.0, 0.0, 0.0]"
      ],
      "metadata": {
        "id": "I5UYcDZq8Dt6"
      }
    },
    {
      "cell_type": "code",
      "source": [
        "def ranking(books,query):\n",
        "  #1. DF값을 구한다\n",
        "  #1-1. 문서 개수를 구한다\n",
        "  dcnt = len(books)\n",
        "  #print(dcnt) - 단위테스트 \n",
        "\n",
        "  #1-2. 질의를 포함하는 문서 개수를 구한다\n",
        "  dref = 0 #참조(문서) 개수를 0으로 초기화\n",
        "  for book in books:\n",
        "    if query in book:\n",
        "      dref += 1\n",
        "  #print(dref)\n",
        "\n",
        "  #1-3. 1-1,1-2에서 구한 값을 이용하여 idf값을 산출한다.\n",
        "  idf = math.log((dcnt+1)/(dref+1),2)\n",
        "  #print(idf)\n",
        "\n",
        "  #2. 모든 책들 마다 TF값을 구한다\n",
        "  scores = [] #socres값을 보관할 컬렉션 \n",
        "  #2-1. 반복문 사용(모든 책들을 순차적으로)\n",
        "  for book in books:\n",
        "    #2-1-1. 책의 내용을 단어별로 분리\n",
        "    svs = str.split(book)\n",
        "    #print(svs)\n",
        "    #2-1-2. 반복문(해당 책의 모든 단어를 순차적으로)\n",
        "    tref=0 #참조(단어) 카운터를 0으로 초기화\n",
        "    for word in svs:\n",
        "      #2-1-2.a. 질의와 단어가 일치하면 카운터 증가\n",
        "      if word == query:\n",
        "        tref += 1\n",
        "    #2-1-3. tf값을 계산\n",
        "    tf = tref/len(svs)\n",
        "    #2-1-4. tf*idf값을 계산\n",
        "    score = tf*idf\n",
        "    scores.append(score)\n",
        "\n",
        "  return scores  #구현하시오"
      ],
      "metadata": {
        "id": "Gy_4hEqe8E6O"
      },
      "execution_count": 58,
      "outputs": []
    },
    {
      "cell_type": "code",
      "source": [
        "re = ranking([\"abc korea bbc dde zzz\",\"abc hello yahoo\",\"korea python korea yahoo abc\",\"hello korea\",\"yahoo\",\"hello\",\"world\"],\"korea\") \n",
        "print(\"결과:\",re)\n",
        "print(\"정답:\",[0.2, 0.0, 0.4, 0.5, 0.0, 0.0, 0.0])"
      ],
      "metadata": {
        "colab": {
          "base_uri": "https://localhost:8080/"
        },
        "id": "pKAZiExM9qAG",
        "outputId": "1be4a928-03c6-4bd8-92a8-37977ef882b9"
      },
      "execution_count": 59,
      "outputs": [
        {
          "output_type": "stream",
          "name": "stdout",
          "text": [
            "결과: [0.2, 0.0, 0.4, 0.5, 0.0, 0.0, 0.0]\n",
            "정답: [0.2, 0.0, 0.4, 0.5, 0.0, 0.0, 0.0]\n"
          ]
        }
      ]
    },
    {
      "cell_type": "markdown",
      "source": [
        "#베르누이 시행"
      ],
      "metadata": {
        "id": "iiE7F0acYPi5"
      }
    },
    {
      "cell_type": "code",
      "source": [
        "def bernouli_trial(p):\n",
        "  return 1 if np.random.random()<p else 0"
      ],
      "metadata": {
        "id": "-9HC-zaNYQ-B"
      },
      "execution_count": 60,
      "outputs": []
    },
    {
      "cell_type": "code",
      "source": [
        "def draw_dice(n=1000,cade=1):\n",
        "  cnt = 0\n",
        "  for _ in range(n): #n번 실행\n",
        "    re = bernouli_trial(1/6)\n",
        "    if re == 1:\n",
        "      cnt += 1\n",
        "  return cnt"
      ],
      "metadata": {
        "id": "eMiMh41rYZ0t"
      },
      "execution_count": 63,
      "outputs": []
    },
    {
      "cell_type": "code",
      "source": [
        "cnt = draw_dice(n=100000)\n",
        "print(cnt/1000,1/6)"
      ],
      "metadata": {
        "colab": {
          "base_uri": "https://localhost:8080/"
        },
        "id": "ePXnmmVHYqXI",
        "outputId": "d47ab3f4-764d-4d91-bbaa-c849799327c9"
      },
      "execution_count": 64,
      "outputs": [
        {
          "output_type": "stream",
          "name": "stdout",
          "text": [
            "16.642 0.16666666666666666\n"
          ]
        }
      ]
    },
    {
      "cell_type": "markdown",
      "source": [
        "#softmax\n",
        "\n",
        "다항 분류의 문제세어 logistic 회귀를 이용하는 기법  \n",
        "발생할 수 있는 case가 n개일 때,  \n",
        "각 사건을 c_i라고 가정하자  \n",
        "c_1일 확률은 logistic 회귀로 판단한 결과가 P(c_1)  \n",
        "c_2일 확률은 logistic 회귀로 판단한 결과가 P(c_2)  \n",
        "c_3일 확률은 logistic 회귀로 판단한 결과가 P(c_3)  \n",
        "c_4일 확률은 logistic 회귀로 판단한 결과가 P(c_4)  \n",
        "이라고 하자.  \n",
        "\n",
        "이론적으로 보았을 때, 아래의 수식이 참이어야 한다.  \n",
        "P(c_1) + P(c_2) + ... + P(n-1) + P(n) = 1  \n",
        "\n",
        "하지만 실제 수행해 보면 1이 아닌 값일 수 있다.  \n",
        "이 때, s = P(c_1) + P(c_2) + ... + P(n-1) + P(n)  \n",
        "\n",
        "다음처럼 수정한 값으로 확률을 결정하는 것을 softmax라 한다.  \n",
        "c_1일 확률을 P(c_1)/s 로 수정  \n",
        "c_2일 확률을 P(c_2)/s 로 수정  \n",
        "c_3일 확률을 P(c_3)/s 로 수정  \n",
        "c_i일 확률을 P(c_i)/s 로 수정  \n",
        "\n",
        "분자의 합은 P(c_1) + P(c_2) +...+ P(n)이고  \n",
        "분모는 s = P(c_1) + P(c_2) +...+P(n)이므로  \n",
        "분자/분모 = 1이 된다.\n"
      ],
      "metadata": {
        "id": "gECkPDkeZTU1"
      }
    },
    {
      "cell_type": "code",
      "source": [
        "c_1 = draw_dice(cade=1)/1000\n",
        "c_2 = draw_dice(cade=2)/1000\n",
        "c_3 = draw_dice(cade=3)/1000\n",
        "c_4 = draw_dice(cade=4)/1000\n",
        "c_5 = draw_dice(cade=5)/1000\n",
        "c_6 = draw_dice(cade=6)/1000\n",
        "s = (c_1+c_2+c_3+c_4+c_5+c_6)\n",
        "print(s)\n",
        "\n",
        "cj_1 = c_1/s\n",
        "cj_2 = c_2/s\n",
        "cj_3 = c_3/s\n",
        "cj_4 = c_4/s\n",
        "cj_5 = c_5/s\n",
        "cj_6 = c_6/s\n",
        "sj = (cj_1+cj_2+cj_3+cj_4+cj_5+cj_6)\n",
        "print(sj)"
      ],
      "metadata": {
        "colab": {
          "base_uri": "https://localhost:8080/"
        },
        "id": "7yrdIYGoZV5J",
        "outputId": "537f0501-baed-47b7-c653-8b2726470c15"
      },
      "execution_count": 65,
      "outputs": [
        {
          "output_type": "stream",
          "name": "stdout",
          "text": [
            "0.922\n",
            "1.0\n"
          ]
        }
      ]
    },
    {
      "cell_type": "markdown",
      "source": [
        "#ML관련\n",
        "\n",
        "- 경사하강법을 이용한 선형 회귀  \n",
        "  - Concept - 선형 회귀 함수에 의한 예측 값과 실제 값 사이의 차이가 최소가 되도록 하자.  \n",
        "  - 손실함수(loss function) : 예측값과 실제값의 차이를 계산하는 함수  \n",
        "    - MAE : 절대값(예측값 - 실제값)의 평균을 계산\n",
        "    - MSE : (예측값 - 실제값)X(예측값 - 실제값)의 평균을 계산  \n",
        "      손실 함수를 MSE를 사용했을 때,  \n",
        "      mse = sum((wx+b)-y)((wx+b)-y)   \n",
        "      -> 곡선의 형태를 갖는다.  \n",
        "      -> 곡선에서 맨 밑바닥이 mse가 최소인 지점이며, 이는 미분을 이용하여 경사의 바닥을 찾는 경사하닥법을 이용할 수 있다.  \n",
        "\n",
        "      dsw/dw = sum(2(wx+b)-y) * x  \n",
        "      dsw/db = sum(2(wx+b)-y)  \n",
        "- 로지스틱 회귀  \n",
        "- KNN 회귀  \n",
        "- KNN 분류  \n",
        "  - KNN 회귀와 분류의 공통점 : 거리를 계산  \n",
        "- softmax를 이용한 다항 분류  \n",
        "- KMeans를 이용한 군집화  "
      ],
      "metadata": {
        "id": "egLQ9tUxb95r"
      }
    },
    {
      "cell_type": "markdown",
      "source": [
        "로지스틱 회귀 - 시그모이드 함수 참고  \n",
        "![시그모이드.PNG](data:image/png;base64,iVBORw0KGgoAAAANSUhEUgAAAN4AAAA4CAYAAACSekYoAAAAAXNSR0IArs4c6QAAAARnQU1BAACxjwv8YQUAAAAJcEhZcwAADsMAAA7DAcdvqGQAAAaoSURBVHhe7dxJktQ6EIDhXrLjCn0SYNPHYDgIwzmYdhwBNkwHgQa2rDgAk1989ToJoWdX2TWp7Jd/hAK3y3ZZsn5lSm76rEuS5OikeEnSgBQvSRqQ4iVJA1K8JGlAipckDUjxkqQBKV6SNCDFS5IGpHhJ0oAU7wT4+fNn9/bt2+73799Xe5Kx/Pr1q3v69Gn37t277uPHj92jR4+6L1++XH16uqR4jSCZDnP37t3u/Py8u3nzZoo3kWjDT58+dffu3VsV4imnTorXCJ3m2bNnq1GadCnedrx//37178OHD2cT7ZDiNYZsKd54tJH0ssTPZ2dnf/ZnqplsJMUbx+Xl5SqqSSfv3LmzSi8JRjjb0nXtJ+rNoR1TvMaU4tUjefIvFp4IZgFFG71+/frPPO758+fdmzdvVsU+x86BFK8xGfHWE2mk+TCivQg3Z1K8xqR4w2gPwhHv9u3b3YMHD1Zppqg29+wgxWtMijcMueJ1y48fP1bts5Q2SvEak+INoz2klHXb2Pb+bs7sTTyjkzLUeXz2+PHjSZ0rGnjuaUUf6malTiplRFcsEORvsPyNNoq28Rs+3ntKN/08Z3YWz1KuZV6No0Fsf/jwYSVM2YGsSPlsKvFidGmdUX3UrSzmME+ePEnxKsgn5Yz+tYSBeCfxNIA0IBpDhzEimQzbF8SoZcSaims61zWS/y9LG4x2Es/LTOLV2BfvUwgZI/q2ODfnQMmS2Fo8QolE8SKzhCSRDkQElJJuS3xXRr1kKewkHqEIISJJIyMi+Te2RT7HhIglznEueUnlWNv1xNm1XMM8MUmWwNbikYE05ItCDhGuZChNJJ39ImHI6WeLC32i+szScn2dEgs6VgnLMrQvGcYzqdtsqMx9dbEVO83xSBArTsQI+UKakNNnJfY7J9JPQjnXtUS8W7du/Uc8K1rOWSeeiDi2JMN8/vy5t836Sqb/27FTxCsJyQgUCysgjLIOn5NznVQhcF/Kum9evXrVXbt2bbHl+vXrVzU9PBcXF733MIeiHxyKrcQTofrSNakH8cqFFMeuE49IouQmOceIZ/TtG5X7yjq+f/+++LKOfUa8vu+eUzkUW4lHgr7VTKlgnSaKfn3RLBZRzPXISlo412uKGtdw/XXiGQy8hN5U3H8yDJn62q2vlNnN0nnx4kX37du3q592Y7J4BCKBKBWjXaSZ9hkFSyy21IsltslGFDJFeipSErceRV3fNVKYpBWRzflfEvtgsnikIR5JQkDF6NeXdjje52X6SSQVcT75yBl/qKZeFUWI2vdZkuyDOiOr+fr16ypIvHz58mrPbmy9uAI3Swpl6Mbtd8PmeiX2l+cMnQ9RtI6ax0ZKLCqvu89kXuhPnqu+eez+tZN4YxEJI0pORUePVPTY+G7fa+DwYNRhLuLpUAYsnUm7n/IfANKm5vsyHhmQf2VAU+9ZFjVFHlOX+LVHfWxx4mnY+/fvbzVHc46O3wL37WHGwLGNeB7mphXbfWMEJ50ObM7slxJsnyoGhsgmCGDQcN9T21o7T5Enrq+PLVI8qJQKTol6lrWdc8wG6cMDaiWe7yvrTyiDQV/Rto6P7IBs2k/kqBe9WqEu7sU9er4l7l9mMbWNg6niBYsWb87sIp4/WbDNSpgoSxzRXhEFoHMOlfLebIsa8QdfTwGyEUs6GdvqaWCIQTYic70mMIYUb2GU4k19OI6fEvF8l+ilU8YcTWe0byyEI6LO5HquU0eXY0Mw91NG3nh1pG7mWgYYdSVdipf8JZ7tdXh4ZRHxokPUpQ8dUyeIOU/ML8sOuwmdWFTRoXVk20Pfdwx8tzZQL/ei3LhxY/UKKu7LwGDbgKHOmyBLXbSTa9b7Nw06jknxTpCx4kkHdai6iF71Pg+7xoM36usE0lOdNd6PbhK+ZMqxx0C91El9rF56H6utdrnPELQsru/PjtT7N5HinShjxYPPy6KD6RD1fqXGgyep420PHTc3tIF6xfwt2Hfdot2mkuKdKDrIWPFqPEwdYgyO1Ql8T4n9sVI5R7SZSF5GeTKq5z5/G2mqePEsS/GmnL8LKd4aPBipSix2KFKlmH+NwYMcKx5itc+/0ikdUwed+3841Y7qRUDtIYXed52miheDXDxb28ox5Evx1kAuD6csMXk/lHggmw5qnue7jjUKHxpRTlGfse03hW0iXpS4p0PcVx8p3oHxQMkzlWN1gCXR+pXJFFK8JGlAipckDUjxkqQBKV6SNCDFS5IGpHhJ0oAUL0kakOIlSQNSvCRpQIqXJEen6/4Bxvq6dHIEX6EAAAAASUVORK5CYII=)"
      ],
      "metadata": {
        "id": "ZEIjsG7fgAF0"
      }
    },
    {
      "cell_type": "markdown",
      "source": [
        "# Deep Learning 관련\n",
        "\n",
        "- 퍼셉트론  \n",
        "- Convolution  \n",
        "- Pooling  \n",
        "- 자연어 연구(Text Mining TF-IDF)  \n"
      ],
      "metadata": {
        "id": "vgfLKcFUcMiJ"
      }
    },
    {
      "cell_type": "code",
      "source": [
        ""
      ],
      "metadata": {
        "id": "EZ3blYjIcLOT"
      },
      "execution_count": null,
      "outputs": []
    }
  ]
}