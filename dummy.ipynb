{
  "nbformat": 4,
  "nbformat_minor": 0,
  "metadata": {
    "colab": {
      "name": "dummy.ipynb",
      "provenance": [],
      "authorship_tag": "ABX9TyObzGH6A7Pwj1paGRkTQP3y",
      "include_colab_link": true
    },
    "kernelspec": {
      "name": "python3",
      "display_name": "Python 3"
    },
    "language_info": {
      "name": "python"
    }
  },
  "cells": [
    {
      "cell_type": "markdown",
      "metadata": {
        "id": "view-in-github",
        "colab_type": "text"
      },
      "source": [
        "<a href=\"https://colab.research.google.com/github/serinss/seSAC_Python_Class/blob/main/dummy.ipynb\" target=\"_parent\"><img src=\"https://colab.research.google.com/assets/colab-badge.svg\" alt=\"Open In Colab\"/></a>"
      ]
    },
    {
      "cell_type": "code",
      "execution_count": 1,
      "metadata": {
        "colab": {
          "base_uri": "https://localhost:8080/"
        },
        "id": "ztSGW4eP7Pv6",
        "outputId": "1bbf6cce-9e2b-45dc-dfc1-f0769ec48994"
      },
      "outputs": [
        {
          "output_type": "stream",
          "name": "stdout",
          "text": [
            "1 s\n",
            "2 s\n",
            "3 s\n"
          ]
        }
      ],
      "source": [
        "#더미 모듈 만들기\n",
        "\n",
        "def print_n(s,n=1):\n",
        "  for i in range(n):\n",
        "    print(f\"{i+1} s\")\n",
        "print_n(\"Hello\",3)"
      ]
    },
    {
      "cell_type": "code",
      "source": [
        "def print_list(ls):\n",
        "  for i, elem in enumerate(ls):\n",
        "    print(f\"{i+1} : {elem}\")"
      ],
      "metadata": {
        "id": "3TMfWBNv828_"
      },
      "execution_count": 4,
      "outputs": []
    },
    {
      "cell_type": "code",
      "source": [
        "if __name__ == \"__main__\": #현재 파일의 main이 진입점일 때 수행하시오.\n",
        "  print_n(\"Hello\",3)\n",
        "  print_list([1,2,3])\n",
        "\n",
        "# __name__: 내가 변수로 만든 것이 아니라 원래부터 파이썬에서 정한 '이미 있는' 변수\n",
        "#이 변수에는 해당 파이썬 파일의 이름 즉, 모듈의 이름(예: function1.py이면 function1이  __name__이 됨)을 담게 된다.\n",
        "#그런데 \"그 파일 안에서\" 해당 함수를 실행시키면 __name__ 변수에 담기는 것은 그 파일 혹은, 모듈의 이름이 아니고 __main__이라는 값이 되도록 정해져 있다."
      ],
      "metadata": {
        "colab": {
          "base_uri": "https://localhost:8080/"
        },
        "id": "Bg6kmgjt8RcZ",
        "outputId": "5453ac4b-fa31-42a1-f4d5-2639ac9cd77f"
      },
      "execution_count": 5,
      "outputs": [
        {
          "output_type": "stream",
          "name": "stdout",
          "text": [
            "1 s\n",
            "2 s\n",
            "3 s\n",
            "1 : 1\n",
            "2 : 2\n",
            "3 : 3\n"
          ]
        }
      ]
    }
  ]
}