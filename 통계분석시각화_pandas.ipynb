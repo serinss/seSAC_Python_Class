{
  "nbformat": 4,
  "nbformat_minor": 0,
  "metadata": {
    "colab": {
      "name": "통계분석시각화 - pandas.ipynb",
      "provenance": [],
      "collapsed_sections": [],
      "authorship_tag": "ABX9TyNdFDYRoCX1xqicLJvjSAsT",
      "include_colab_link": true
    },
    "kernelspec": {
      "name": "python3",
      "display_name": "Python 3"
    },
    "language_info": {
      "name": "python"
    }
  },
  "cells": [
    {
      "cell_type": "markdown",
      "metadata": {
        "id": "view-in-github",
        "colab_type": "text"
      },
      "source": [
        "<a href=\"https://colab.research.google.com/github/serinss/seSAC_Python_Class/blob/main/%ED%86%B5%EA%B3%84%EB%B6%84%EC%84%9D%EC%8B%9C%EA%B0%81%ED%99%94_pandas.ipynb\" target=\"_parent\"><img src=\"https://colab.research.google.com/assets/colab-badge.svg\" alt=\"Open In Colab\"/></a>"
      ]
    },
    {
      "cell_type": "markdown",
      "source": [
        "#구조적 데이터 표시와 처리에 강한 pandas"
      ],
      "metadata": {
        "id": "_aVQazXU4auy"
      }
    },
    {
      "cell_type": "code",
      "source": [
        "import pandas as pd"
      ],
      "metadata": {
        "id": "aYl8CVwV4UcJ"
      },
      "execution_count": 1,
      "outputs": []
    },
    {
      "cell_type": "code",
      "execution_count": 2,
      "metadata": {
        "colab": {
          "base_uri": "https://localhost:8080/"
        },
        "id": "Nx01G3U-4EOl",
        "outputId": "dc678bc6-3e5b-4823-ce55-782380549bff"
      },
      "outputs": [
        {
          "output_type": "stream",
          "name": "stdout",
          "text": [
            "0    1\n",
            "1    2\n",
            "2    3\n",
            "3    4\n",
            "4    5\n",
            "dtype: int64\n"
          ]
        }
      ],
      "source": [
        "s = pd.Series([1,2,3,4,5])\n",
        "print(s)"
      ]
    },
    {
      "cell_type": "code",
      "source": [
        "print(s.index)"
      ],
      "metadata": {
        "colab": {
          "base_uri": "https://localhost:8080/"
        },
        "id": "K2l7EdX54IXv",
        "outputId": "c7d31d77-dd6b-498a-c0a2-1eb83355ac11"
      },
      "execution_count": 3,
      "outputs": [
        {
          "output_type": "stream",
          "name": "stdout",
          "text": [
            "RangeIndex(start=0, stop=5, step=1)\n"
          ]
        }
      ]
    },
    {
      "cell_type": "code",
      "source": [
        "print(s.values)"
      ],
      "metadata": {
        "colab": {
          "base_uri": "https://localhost:8080/"
        },
        "id": "T0QjNAoI4Jw_",
        "outputId": "446a91f5-6a91-4e26-f400-8da24428130a"
      },
      "execution_count": 4,
      "outputs": [
        {
          "output_type": "stream",
          "name": "stdout",
          "text": [
            "[1 2 3 4 5]\n"
          ]
        }
      ]
    },
    {
      "cell_type": "code",
      "source": [
        "s = pd.Series([\"홍길동\",\"강감찬\",\"을지문덕\"])\n",
        "print(s)"
      ],
      "metadata": {
        "colab": {
          "base_uri": "https://localhost:8080/"
        },
        "id": "FBAEx1ru4O7p",
        "outputId": "c4225747-637e-43e0-e986-e2e3f189e71c"
      },
      "execution_count": 5,
      "outputs": [
        {
          "output_type": "stream",
          "name": "stdout",
          "text": [
            "0     홍길동\n",
            "1     강감찬\n",
            "2    을지문덕\n",
            "dtype: object\n"
          ]
        }
      ]
    },
    {
      "cell_type": "code",
      "source": [
        "subjects=[\"국어\",\"영어\",\"수학\"]\n",
        "s = pd.Series([90,85,39],index=subjects)\n",
        "print(s)"
      ],
      "metadata": {
        "colab": {
          "base_uri": "https://localhost:8080/"
        },
        "id": "13FJs0HA4pai",
        "outputId": "81d40a4a-9d14-4497-b703-3902e24c475d"
      },
      "execution_count": 9,
      "outputs": [
        {
          "output_type": "stream",
          "name": "stdout",
          "text": [
            "국어    90\n",
            "영어    85\n",
            "수학    39\n",
            "dtype: int64\n"
          ]
        }
      ]
    },
    {
      "cell_type": "markdown",
      "source": [
        "#결측치를 무엇으로 표현할 것인가?\n",
        "numpy의 np.nan  \n",
        "None  \n",
        "0  \n",
        "기타 값  "
      ],
      "metadata": {
        "id": "1_bKKChS6QUP"
      }
    },
    {
      "cell_type": "code",
      "source": [
        "import numpy as np #판다스를 사용하면서 넘파이와 함께 사용하는 경우 많음\n",
        "\n",
        "# 국어, 영어, 수학 점수 중에서 현재 국어점수가 없을 경우 -> 다양하게 표현 가능\n",
        "s1 = pd.Series([np.nan,10,30]) #제일 많이 사용\n",
        "s2 = pd.Series([None,10,30])\n",
        "s3 = pd.Series([0,10,30])\n",
        "s4 = pd.Series([-1,10,30])\n",
        "print(s1)\n",
        "print(s2)\n",
        "print(s3)\n",
        "print(s4)"
      ],
      "metadata": {
        "colab": {
          "base_uri": "https://localhost:8080/"
        },
        "id": "SW4kqt4T5Xns",
        "outputId": "0fe4b751-260e-4996-a5fd-fe17e845ca0d"
      },
      "execution_count": 14,
      "outputs": [
        {
          "output_type": "stream",
          "name": "stdout",
          "text": [
            "0     NaN\n",
            "1    10.0\n",
            "2    30.0\n",
            "dtype: float64\n",
            "0     NaN\n",
            "1    10.0\n",
            "2    30.0\n",
            "dtype: float64\n",
            "0     0\n",
            "1    10\n",
            "2    30\n",
            "dtype: int64\n",
            "0    -1\n",
            "1    10\n",
            "2    30\n",
            "dtype: int64\n"
          ]
        }
      ]
    },
    {
      "cell_type": "code",
      "source": [
        "# 존재하지 않는 것에 대한 비교 (np.nan 과 None은 서로 비교할 수도 없다) - 철학적인 이야기\n",
        "# 없다는 상태를 같게 볼 것인가, 다르게 볼 것인가\n",
        "\n",
        "print(np.nan == np.nan) # F 값이 다르다 / == 는 데이터 비교\n",
        "print(None == None) # T 값 같다\n",
        "print(np.nan is np.nan) # T 객체는 동일하다 / is는 객체 자체를 비교\n",
        "print(None is None) # T 객체 같다\n",
        "\n",
        "print(\"==========\")\n",
        "a = [1,2,3]\n",
        "b = [1,2,3]\n",
        "c = a\n",
        "print(a==b) #값을 비교\n",
        "print(a is b) #참조를 비교 (객체 비교)\n",
        "print(a==c)\n",
        "print(a is c)"
      ],
      "metadata": {
        "colab": {
          "base_uri": "https://localhost:8080/"
        },
        "id": "xgF8xxWP6chI",
        "outputId": "60097864-6650-4314-e25a-8b0d80633c74"
      },
      "execution_count": 26,
      "outputs": [
        {
          "output_type": "stream",
          "name": "stdout",
          "text": [
            "False\n",
            "True\n",
            "True\n",
            "True\n",
            "==========\n",
            "True\n",
            "False\n",
            "True\n",
            "True\n"
          ]
        }
      ]
    },
    {
      "cell_type": "markdown",
      "source": [
        "#날짜 시퀀스"
      ],
      "metadata": {
        "id": "QKNn18Ge8l8z"
      }
    },
    {
      "cell_type": "code",
      "source": [
        "pd.date_range(start='2019-01-01',end='2022-02-28')"
      ],
      "metadata": {
        "colab": {
          "base_uri": "https://localhost:8080/"
        },
        "id": "IalIMssR8n_e",
        "outputId": "ca4c215e-258f-4273-986c-c33865a5efdb"
      },
      "execution_count": 18,
      "outputs": [
        {
          "output_type": "execute_result",
          "data": {
            "text/plain": [
              "DatetimeIndex(['2019-01-01', '2019-01-02', '2019-01-03', '2019-01-04',\n",
              "               '2019-01-05', '2019-01-06', '2019-01-07', '2019-01-08',\n",
              "               '2019-01-09', '2019-01-10',\n",
              "               ...\n",
              "               '2022-02-19', '2022-02-20', '2022-02-21', '2022-02-22',\n",
              "               '2022-02-23', '2022-02-24', '2022-02-25', '2022-02-26',\n",
              "               '2022-02-27', '2022-02-28'],\n",
              "              dtype='datetime64[ns]', length=1155, freq='D')"
            ]
          },
          "metadata": {},
          "execution_count": 18
        }
      ]
    },
    {
      "cell_type": "code",
      "source": [
        "pd.date_range(start='2019/01/01',end='2022/02/28') #날짜를 입력하는 형태는 다양하게 입력할 수 있다"
      ],
      "metadata": {
        "colab": {
          "base_uri": "https://localhost:8080/"
        },
        "id": "AnPDN7et-CwG",
        "outputId": "a2ab8ad4-7905-4da9-8182-265a7991d688"
      },
      "execution_count": 19,
      "outputs": [
        {
          "output_type": "execute_result",
          "data": {
            "text/plain": [
              "DatetimeIndex(['2019-01-01', '2019-01-02', '2019-01-03', '2019-01-04',\n",
              "               '2019-01-05', '2019-01-06', '2019-01-07', '2019-01-08',\n",
              "               '2019-01-09', '2019-01-10',\n",
              "               ...\n",
              "               '2022-02-19', '2022-02-20', '2022-02-21', '2022-02-22',\n",
              "               '2022-02-23', '2022-02-24', '2022-02-25', '2022-02-26',\n",
              "               '2022-02-27', '2022-02-28'],\n",
              "              dtype='datetime64[ns]', length=1155, freq='D')"
            ]
          },
          "metadata": {},
          "execution_count": 19
        }
      ]
    },
    {
      "cell_type": "code",
      "source": [
        "pd.date_range(start='2019/01/01',end='2022/02/28',freq='2D') #주기 : 2일로 설정"
      ],
      "metadata": {
        "colab": {
          "base_uri": "https://localhost:8080/"
        },
        "id": "42L7OsN9-cTP",
        "outputId": "c3fbfff5-00e9-4b3e-db8a-5154b9882cee"
      },
      "execution_count": 20,
      "outputs": [
        {
          "output_type": "execute_result",
          "data": {
            "text/plain": [
              "DatetimeIndex(['2019-01-01', '2019-01-03', '2019-01-05', '2019-01-07',\n",
              "               '2019-01-09', '2019-01-11', '2019-01-13', '2019-01-15',\n",
              "               '2019-01-17', '2019-01-19',\n",
              "               ...\n",
              "               '2022-02-10', '2022-02-12', '2022-02-14', '2022-02-16',\n",
              "               '2022-02-18', '2022-02-20', '2022-02-22', '2022-02-24',\n",
              "               '2022-02-26', '2022-02-28'],\n",
              "              dtype='datetime64[ns]', length=578, freq='2D')"
            ]
          },
          "metadata": {},
          "execution_count": 20
        }
      ]
    },
    {
      "cell_type": "code",
      "source": [
        "pd.date_range(start='2019/01/01',end='2022/02/28',freq='2B') #주기 : 영업일 기준 2일로 설정"
      ],
      "metadata": {
        "colab": {
          "base_uri": "https://localhost:8080/"
        },
        "id": "bdoQCKth-jY7",
        "outputId": "4df009b3-1275-4d90-dc1a-23a5e48c7a07"
      },
      "execution_count": 22,
      "outputs": [
        {
          "output_type": "execute_result",
          "data": {
            "text/plain": [
              "DatetimeIndex(['2019-01-01', '2019-01-03', '2019-01-07', '2019-01-09',\n",
              "               '2019-01-11', '2019-01-15', '2019-01-17', '2019-01-21',\n",
              "               '2019-01-23', '2019-01-25',\n",
              "               ...\n",
              "               '2022-02-02', '2022-02-04', '2022-02-08', '2022-02-10',\n",
              "               '2022-02-14', '2022-02-16', '2022-02-18', '2022-02-22',\n",
              "               '2022-02-24', '2022-02-28'],\n",
              "              dtype='datetime64[ns]', length=413, freq='2B')"
            ]
          },
          "metadata": {},
          "execution_count": 22
        }
      ]
    },
    {
      "cell_type": "code",
      "source": [
        "pd.date_range(start='2019/01/01',end='2022/02/28',freq='2W') #주기 : 2주일로 설정"
      ],
      "metadata": {
        "colab": {
          "base_uri": "https://localhost:8080/"
        },
        "id": "UEsnnmLS_Kdh",
        "outputId": "6641ea3e-6442-4439-d731-eaa90ded7e39"
      },
      "execution_count": 23,
      "outputs": [
        {
          "output_type": "execute_result",
          "data": {
            "text/plain": [
              "DatetimeIndex(['2019-01-06', '2019-01-20', '2019-02-03', '2019-02-17',\n",
              "               '2019-03-03', '2019-03-17', '2019-03-31', '2019-04-14',\n",
              "               '2019-04-28', '2019-05-12', '2019-05-26', '2019-06-09',\n",
              "               '2019-06-23', '2019-07-07', '2019-07-21', '2019-08-04',\n",
              "               '2019-08-18', '2019-09-01', '2019-09-15', '2019-09-29',\n",
              "               '2019-10-13', '2019-10-27', '2019-11-10', '2019-11-24',\n",
              "               '2019-12-08', '2019-12-22', '2020-01-05', '2020-01-19',\n",
              "               '2020-02-02', '2020-02-16', '2020-03-01', '2020-03-15',\n",
              "               '2020-03-29', '2020-04-12', '2020-04-26', '2020-05-10',\n",
              "               '2020-05-24', '2020-06-07', '2020-06-21', '2020-07-05',\n",
              "               '2020-07-19', '2020-08-02', '2020-08-16', '2020-08-30',\n",
              "               '2020-09-13', '2020-09-27', '2020-10-11', '2020-10-25',\n",
              "               '2020-11-08', '2020-11-22', '2020-12-06', '2020-12-20',\n",
              "               '2021-01-03', '2021-01-17', '2021-01-31', '2021-02-14',\n",
              "               '2021-02-28', '2021-03-14', '2021-03-28', '2021-04-11',\n",
              "               '2021-04-25', '2021-05-09', '2021-05-23', '2021-06-06',\n",
              "               '2021-06-20', '2021-07-04', '2021-07-18', '2021-08-01',\n",
              "               '2021-08-15', '2021-08-29', '2021-09-12', '2021-09-26',\n",
              "               '2021-10-10', '2021-10-24', '2021-11-07', '2021-11-21',\n",
              "               '2021-12-05', '2021-12-19', '2022-01-02', '2022-01-16',\n",
              "               '2022-01-30', '2022-02-13', '2022-02-27'],\n",
              "              dtype='datetime64[ns]', freq='2W-SUN')"
            ]
          },
          "metadata": {},
          "execution_count": 23
        }
      ]
    },
    {
      "cell_type": "markdown",
      "source": [
        "#DataFrame을 활용한 데이터 생성"
      ],
      "metadata": {
        "id": "GXUqTdS17yzS"
      }
    },
    {
      "cell_type": "code",
      "source": [
        ""
      ],
      "metadata": {
        "id": "vm56suE__mUT"
      },
      "execution_count": null,
      "outputs": []
    }
  ]
}