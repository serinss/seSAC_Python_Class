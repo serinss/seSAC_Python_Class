{
  "nbformat": 4,
  "nbformat_minor": 0,
  "metadata": {
    "colab": {
      "name": "파이썬-기초(모듈).ipynb",
      "provenance": [],
      "collapsed_sections": [],
      "mount_file_id": "1DFZ4WACwQuH3qA5PW6wxdEr_f-hfxw3l",
      "authorship_tag": "ABX9TyMBc+Ze2bIRdXW/N0VV2PcS",
      "include_colab_link": true
    },
    "kernelspec": {
      "name": "python3",
      "display_name": "Python 3"
    },
    "language_info": {
      "name": "python"
    }
  },
  "cells": [
    {
      "cell_type": "markdown",
      "metadata": {
        "id": "view-in-github",
        "colab_type": "text"
      },
      "source": [
        "<a href=\"https://colab.research.google.com/github/serinss/seSAC_Python_Class/blob/main/%ED%8C%8C%EC%9D%B4%EC%8D%AC_%EA%B8%B0%EC%B4%88(%EB%AA%A8%EB%93%88%20%EC%83%9D%EC%84%B1).ipynb\" target=\"_parent\"><img src=\"https://colab.research.google.com/assets/colab-badge.svg\" alt=\"Open In Colab\"/></a>"
      ]
    },
    {
      "cell_type": "markdown",
      "source": [
        "#모듈  \n",
        "관련 있는 형식이나 기능을 모아서 정의한 코드 집합  \n",
        "파이썬에서는 하나의 파이썬 파일(.py)로 정의  \n",
        "* 표준 모듈  \n",
        "  : 파이썬을 설치하면 기본적으로 사용 가능한 모듈  \n",
        "\n",
        "* 외부 모듈  \n",
        "  : 별도의 설치를 해야 사용 가능한 모듈  \n",
        "\n",
        "* 사용자 정의 모듈  \n",
        "  : 개발자(파이썬 사용자)가 직접 정의한 모듈  \n",
        "  \n"
      ],
      "metadata": {
        "id": "cSMQXvD35OzD"
      }
    },
    {
      "cell_type": "markdown",
      "source": [
        "###패키지  \n",
        "=> 배포의 단위(다운로드)  \n",
        "파이썬에서는 파이썬 파일들을 포함하는 폴더  "
      ],
      "metadata": {
        "id": "rpmaluKI5dm9"
      }
    },
    {
      "cell_type": "markdown",
      "source": [
        "###프레임워크\n",
        "비슷한 형태의 프로그램의 기본 구조와 골격을 정의해 놓은 것  \n",
        "-> 비슷한 코드를 반복하는 것은 생산성이 떨어진다  \n",
        "-> 기본 골격 세워두기  \n",
        " ex. 장고"
      ],
      "metadata": {
        "id": "8KbCqUgv5xbW"
      }
    },
    {
      "cell_type": "markdown",
      "source": [
        "#진입점(Entry Point)\n",
        "프로그램을 실행시켰을 때 시작하는 지점   \n",
        "__name__에는 진입점이 무엇인지 알 수 있다.  "
      ],
      "metadata": {
        "id": "oZmXgvvO70yk"
      }
    },
    {
      "cell_type": "code",
      "source": [
        "import sys\n",
        "\n",
        "sys.path.append('/content/drive/MyDrive/module') #이 폴더의 파일명만 명령할 수 있도록 절대경로 미리 설정\n",
        "sys.path"
      ],
      "metadata": {
        "colab": {
          "base_uri": "https://localhost:8080/"
        },
        "id": "Qmh7fM7C5WEf",
        "outputId": "ff946ebb-7115-4de7-91c7-7a5b941029f9"
      },
      "execution_count": 5,
      "outputs": [
        {
          "output_type": "execute_result",
          "data": {
            "text/plain": [
              "['',\n",
              " '/content',\n",
              " '/env/python',\n",
              " '/usr/lib/python37.zip',\n",
              " '/usr/lib/python3.7',\n",
              " '/usr/lib/python3.7/lib-dynload',\n",
              " '/usr/local/lib/python3.7/dist-packages',\n",
              " '/usr/lib/python3/dist-packages',\n",
              " '/usr/local/lib/python3.7/dist-packages/IPython/extensions',\n",
              " '/root/.ipython',\n",
              " '/content/drive/MyDrive/module',\n",
              " '/content/drive/MyDrive/module',\n",
              " '/content/drive/MyDrive/module']"
            ]
          },
          "metadata": {},
          "execution_count": 5
        }
      ]
    },
    {
      "cell_type": "code",
      "source": [
        "import dummy\n",
        "#모듈 사용하기\n",
        "#import 모듈 이름(단, 대소문자 구분)"
      ],
      "metadata": {
        "colab": {
          "base_uri": "https://localhost:8080/"
        },
        "id": "WuL1tZrY-TYA",
        "outputId": "e41d098f-cdb2-47f8-c268-3232b1686856"
      },
      "execution_count": 7,
      "outputs": [
        {
          "output_type": "stream",
          "name": "stdout",
          "text": [
            "1 s\n",
            "2 s\n",
            "3 s\n"
          ]
        }
      ]
    },
    {
      "cell_type": "code",
      "source": [
        "dummy.print_n(\"hello\",3)"
      ],
      "metadata": {
        "colab": {
          "base_uri": "https://localhost:8080/"
        },
        "id": "bV7WxmbN-frx",
        "outputId": "a4e3047d-db8a-44c8-8409-bfe9c7497e47"
      },
      "execution_count": 8,
      "outputs": [
        {
          "output_type": "stream",
          "name": "stdout",
          "text": [
            "1 s\n",
            "2 s\n",
            "3 s\n"
          ]
        }
      ]
    },
    {
      "cell_type": "code",
      "source": [
        "dummy.print_list([1,2,3])"
      ],
      "metadata": {
        "colab": {
          "base_uri": "https://localhost:8080/"
        },
        "id": "Iin2kwYz-mIu",
        "outputId": "5c364f73-7246-419d-feed-df4b5cbb43a9"
      },
      "execution_count": 9,
      "outputs": [
        {
          "output_type": "stream",
          "name": "stdout",
          "text": [
            "1 : 1\n",
            "2 : 2\n",
            "3 : 3\n"
          ]
        }
      ]
    },
    {
      "cell_type": "code",
      "source": [
        "from dummy import print_n,print_list #모듈의 함수명을 직접 import하면 (여러 개 가능)"
      ],
      "metadata": {
        "id": "ba2XM2aLAF3f"
      },
      "execution_count": 12,
      "outputs": []
    },
    {
      "cell_type": "code",
      "source": [
        "from dummy import * # 모든 함수를 임포트하여 직접 사용 가능\n",
        "\n",
        "# 주의할 점, 각 모듈에 있는 함수명이 모두 달라야 한다 -> 같으면 충돌\n",
        "# 되도록 수행해야할 코드만 import하는 것을 권장"
      ],
      "metadata": {
        "id": "APaE9wvYAgwV"
      },
      "execution_count": null,
      "outputs": []
    },
    {
      "cell_type": "code",
      "source": [
        "print_n(\"yahoo\",3) #dummy. 을 붙이지 않아도 바로 사용 가능하다"
      ],
      "metadata": {
        "colab": {
          "base_uri": "https://localhost:8080/"
        },
        "id": "CO-UCNqWAK6b",
        "outputId": "1d42f21f-85a8-4336-eebc-9a1baeafdbb0"
      },
      "execution_count": 11,
      "outputs": [
        {
          "output_type": "stream",
          "name": "stdout",
          "text": [
            "1 s\n",
            "2 s\n",
            "3 s\n"
          ]
        }
      ]
    },
    {
      "cell_type": "code",
      "source": [
        "print_list([1,2,3])"
      ],
      "metadata": {
        "colab": {
          "base_uri": "https://localhost:8080/"
        },
        "id": "PFCbOTPFAZOL",
        "outputId": "290179f2-534b-4507-db94-96ee69752137"
      },
      "execution_count": 13,
      "outputs": [
        {
          "output_type": "stream",
          "name": "stdout",
          "text": [
            "1 : 1\n",
            "2 : 2\n",
            "3 : 3\n"
          ]
        }
      ]
    },
    {
      "cell_type": "code",
      "source": [
        "import dummy as dm # 모듈 명을 간소화 하는 방법도 좋다.\n",
        "dm.print_n(\"yahoo\",3)"
      ],
      "metadata": {
        "colab": {
          "base_uri": "https://localhost:8080/"
        },
        "id": "x9Dm3hi4AfCW",
        "outputId": "4db3dafc-6595-4764-cbc2-a00576ef98e6"
      },
      "execution_count": 14,
      "outputs": [
        {
          "output_type": "stream",
          "name": "stdout",
          "text": [
            "1 s\n",
            "2 s\n",
            "3 s\n"
          ]
        }
      ]
    },
    {
      "cell_type": "code",
      "source": [
        "import dummy2 as d2\n",
        "# __name__ 조건을 넣지 않으면 임포트 하는 즉시 이렇게 바로 함수가 실행되어 버린다"
      ],
      "metadata": {
        "colab": {
          "base_uri": "https://localhost:8080/"
        },
        "id": "cfLOLvdqHpnA",
        "outputId": "fc7d558b-bc9f-4ee7-c555-4860027bf44d"
      },
      "execution_count": 15,
      "outputs": [
        {
          "output_type": "stream",
          "name": "stdout",
          "text": [
            "1 : Hello\n",
            "2 : Hello\n",
            "3 : Hello\n"
          ]
        }
      ]
    },
    {
      "cell_type": "code",
      "source": [
        "d2.dprint('hello',3)"
      ],
      "metadata": {
        "colab": {
          "base_uri": "https://localhost:8080/"
        },
        "id": "oRgIr3O4Itqx",
        "outputId": "86cad246-aea4-48a4-f31e-4f45b7c36e4c"
      },
      "execution_count": 16,
      "outputs": [
        {
          "output_type": "stream",
          "name": "stdout",
          "text": [
            "1 : hello\n",
            "2 : hello\n",
            "3 : hello\n"
          ]
        }
      ]
    }
  ]
}