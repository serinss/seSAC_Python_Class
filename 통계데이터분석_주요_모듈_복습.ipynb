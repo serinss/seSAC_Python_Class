{
  "nbformat": 4,
  "nbformat_minor": 0,
  "metadata": {
    "colab": {
      "name": "통계데이터분석 - 주요 모듈 복습.ipynb",
      "provenance": [],
      "collapsed_sections": [],
      "authorship_tag": "ABX9TyNgKJz8jy3PsAMzd+KqJq5e",
      "include_colab_link": true
    },
    "kernelspec": {
      "name": "python3",
      "display_name": "Python 3"
    },
    "language_info": {
      "name": "python"
    }
  },
  "cells": [
    {
      "cell_type": "markdown",
      "metadata": {
        "id": "view-in-github",
        "colab_type": "text"
      },
      "source": [
        "<a href=\"https://colab.research.google.com/github/serinss/seSAC_Python_Class/blob/main/%ED%86%B5%EA%B3%84%EB%8D%B0%EC%9D%B4%ED%84%B0%EB%B6%84%EC%84%9D_%EC%A3%BC%EC%9A%94_%EB%AA%A8%EB%93%88_%EB%B3%B5%EC%8A%B5.ipynb\" target=\"_parent\"><img src=\"https://colab.research.google.com/assets/colab-badge.svg\" alt=\"Open In Colab\"/></a>"
      ]
    },
    {
      "cell_type": "markdown",
      "source": [
        "p.133 Numpy 기본"
      ],
      "metadata": {
        "id": "2Pm5N2iAoFSP"
      }
    },
    {
      "cell_type": "code",
      "execution_count": 1,
      "metadata": {
        "colab": {
          "base_uri": "https://localhost:8080/"
        },
        "id": "ZwrMzXI0nLPI",
        "outputId": "f8447f13-8bf3-4196-e283-b382d599fb16"
      },
      "outputs": [
        {
          "output_type": "execute_result",
          "data": {
            "text/plain": [
              "[2, 4, 6, 8, 10]"
            ]
          },
          "metadata": {},
          "execution_count": 1
        }
      ],
      "source": [
        "ls = [1,2,3,4,5]\n",
        "\n",
        "ls_twice = []\n",
        "for e in ls:\n",
        "  ls_twice.append(e*2)\n",
        "ls_twice"
      ]
    },
    {
      "cell_type": "code",
      "source": [
        "import numpy as np\n",
        "arr = np.array(ls)\n",
        "arr_twice = arr*2\n",
        "arr_twice"
      ],
      "metadata": {
        "colab": {
          "base_uri": "https://localhost:8080/"
        },
        "id": "ghYfdPqjn_dG",
        "outputId": "70b1b1b6-e540-42fe-d76f-11856aaf5764"
      },
      "execution_count": 2,
      "outputs": [
        {
          "output_type": "execute_result",
          "data": {
            "text/plain": [
              "array([ 2,  4,  6,  8, 10])"
            ]
          },
          "metadata": {},
          "execution_count": 2
        }
      ]
    },
    {
      "cell_type": "markdown",
      "source": [
        "강한 wrapping"
      ],
      "metadata": {
        "id": "j-Uhi_B1oiM0"
      }
    },
    {
      "cell_type": "code",
      "source": [
        "arr = np.arange(10000)\n",
        "arr"
      ],
      "metadata": {
        "colab": {
          "base_uri": "https://localhost:8080/"
        },
        "id": "514vRc0EoVLG",
        "outputId": "1d245e4b-bbe5-489f-ca1b-c3710608052f"
      },
      "execution_count": 3,
      "outputs": [
        {
          "output_type": "execute_result",
          "data": {
            "text/plain": [
              "array([   0,    1,    2, ..., 9997, 9998, 9999])"
            ]
          },
          "metadata": {},
          "execution_count": 3
        }
      ]
    },
    {
      "cell_type": "code",
      "source": [
        "arr = np.array(range(10000))\n",
        "arr"
      ],
      "metadata": {
        "colab": {
          "base_uri": "https://localhost:8080/"
        },
        "id": "5kb2PnOiocjI",
        "outputId": "b3a572fd-1cb2-439e-e433-aeec2ed29ae8"
      },
      "execution_count": 4,
      "outputs": [
        {
          "output_type": "execute_result",
          "data": {
            "text/plain": [
              "array([   0,    1,    2, ..., 9997, 9998, 9999])"
            ]
          },
          "metadata": {},
          "execution_count": 4
        }
      ]
    },
    {
      "cell_type": "markdown",
      "source": [
        "wrapping 이란?  \n",
        "이미 만들어진 함수나 기능을 이용하여 새로운 사용자 정의 함수 생성"
      ],
      "metadata": {
        "id": "y-FJtadOoj55"
      }
    },
    {
      "cell_type": "code",
      "source": [
        "def madd(a,b):\n",
        "  return a+b"
      ],
      "metadata": {
        "id": "qYsEr9tnolW9"
      },
      "execution_count": 6,
      "outputs": []
    },
    {
      "cell_type": "code",
      "source": [
        "def msum(ls):\n",
        "  s = 0\n",
        "  for e in ls:\n",
        "    s = madd(s,e)\n",
        "  return s"
      ],
      "metadata": {
        "id": "0oG7v4R7op0V"
      },
      "execution_count": 7,
      "outputs": []
    },
    {
      "cell_type": "code",
      "source": [
        "def count(ls):\n",
        "  cnt = 0\n",
        "  for _ in ls:\n",
        "    cnt += 1\n",
        "  return cnt"
      ],
      "metadata": {
        "id": "6O_qU6uro4SQ"
      },
      "execution_count": 9,
      "outputs": []
    },
    {
      "cell_type": "code",
      "source": [
        "ls=[1,2,3,8,4]\n",
        "s = msum(ls)\n",
        "l = count(ls)\n",
        "print(f\"평균:{s/l:.2f}\")"
      ],
      "metadata": {
        "colab": {
          "base_uri": "https://localhost:8080/"
        },
        "id": "_d5pnkK4o_Tt",
        "outputId": "81d10400-d297-43f7-c693-99887a89dc40"
      },
      "execution_count": 11,
      "outputs": [
        {
          "output_type": "stream",
          "name": "stdout",
          "text": [
            "평균:3.60\n"
          ]
        }
      ]
    },
    {
      "cell_type": "code",
      "source": [
        "def average(ls):\n",
        "  return msum(ls)/count(ls)"
      ],
      "metadata": {
        "id": "h-kaXfs-ox1k"
      },
      "execution_count": 10,
      "outputs": []
    },
    {
      "cell_type": "code",
      "source": [
        "print(f'평균:{average(ls):.2f}')"
      ],
      "metadata": {
        "colab": {
          "base_uri": "https://localhost:8080/"
        },
        "id": "1Pn73EMNo-Tu",
        "outputId": "d6b9655b-175a-4e1f-e946-93184a10d6db"
      },
      "execution_count": 12,
      "outputs": [
        {
          "output_type": "stream",
          "name": "stdout",
          "text": [
            "평균:3.60\n"
          ]
        }
      ]
    },
    {
      "cell_type": "markdown",
      "source": [
        "#텐서"
      ],
      "metadata": {
        "id": "j8d67JU9qDHS"
      }
    },
    {
      "cell_type": "code",
      "source": [
        "data = np.random.rand(5,2,3)\n",
        "data"
      ],
      "metadata": {
        "colab": {
          "base_uri": "https://localhost:8080/"
        },
        "id": "vs6Fe6lgqFNq",
        "outputId": "b80f431f-0e7b-40ac-8068-912f7ab5679b"
      },
      "execution_count": 13,
      "outputs": [
        {
          "output_type": "execute_result",
          "data": {
            "text/plain": [
              "array([[[0.79200147, 0.20069799, 0.8133385 ],\n",
              "        [0.86048908, 0.42003699, 0.45243234]],\n",
              "\n",
              "       [[0.92695418, 0.15277495, 0.82021026],\n",
              "        [0.1866429 , 0.16379641, 0.28190997]],\n",
              "\n",
              "       [[0.90784114, 0.34914451, 0.64911809],\n",
              "        [0.00565503, 0.74442918, 0.41929525]],\n",
              "\n",
              "       [[0.66134941, 0.36166954, 0.59598824],\n",
              "        [0.83791731, 0.16607717, 0.17439957]],\n",
              "\n",
              "       [[0.41193963, 0.04329013, 0.1158357 ],\n",
              "        [0.57826417, 0.51617248, 0.17085518]]])"
            ]
          },
          "metadata": {},
          "execution_count": 13
        }
      ]
    },
    {
      "cell_type": "code",
      "source": [
        "data.shape"
      ],
      "metadata": {
        "colab": {
          "base_uri": "https://localhost:8080/"
        },
        "id": "4IoDOC_yqVME",
        "outputId": "203aac15-f4b2-41c6-a2a5-d07d540f2ed6"
      },
      "execution_count": 14,
      "outputs": [
        {
          "output_type": "execute_result",
          "data": {
            "text/plain": [
              "(5, 2, 3)"
            ]
          },
          "metadata": {},
          "execution_count": 14
        }
      ]
    },
    {
      "cell_type": "code",
      "source": [
        "data2 = data.reshape(6,-1)\n",
        "data2"
      ],
      "metadata": {
        "colab": {
          "base_uri": "https://localhost:8080/"
        },
        "id": "KVAnsyNjqbFi",
        "outputId": "9faf2086-91bd-4760-c2ea-f568756c3aea"
      },
      "execution_count": 15,
      "outputs": [
        {
          "output_type": "execute_result",
          "data": {
            "text/plain": [
              "array([[0.79200147, 0.20069799, 0.8133385 , 0.86048908, 0.42003699],\n",
              "       [0.45243234, 0.92695418, 0.15277495, 0.82021026, 0.1866429 ],\n",
              "       [0.16379641, 0.28190997, 0.90784114, 0.34914451, 0.64911809],\n",
              "       [0.00565503, 0.74442918, 0.41929525, 0.66134941, 0.36166954],\n",
              "       [0.59598824, 0.83791731, 0.16607717, 0.17439957, 0.41193963],\n",
              "       [0.04329013, 0.1158357 , 0.57826417, 0.51617248, 0.17085518]])"
            ]
          },
          "metadata": {},
          "execution_count": 15
        }
      ]
    },
    {
      "cell_type": "code",
      "source": [
        "data2.shape"
      ],
      "metadata": {
        "colab": {
          "base_uri": "https://localhost:8080/"
        },
        "id": "8eHrYQMaqeoS",
        "outputId": "71598aaa-0efa-4320-f71d-bd9ca7fb452e"
      },
      "execution_count": 16,
      "outputs": [
        {
          "output_type": "execute_result",
          "data": {
            "text/plain": [
              "(6, 5)"
            ]
          },
          "metadata": {},
          "execution_count": 16
        }
      ]
    },
    {
      "cell_type": "code",
      "source": [
        "#data3 = data.reshape(7,-1) #요구하는 구조로 구조가 정확하게 구성될 수 없음\n",
        "#data3"
      ],
      "metadata": {
        "id": "qnV7jjWQqn8c"
      },
      "execution_count": 18,
      "outputs": []
    },
    {
      "cell_type": "code",
      "source": [
        "#파이썬의 리스트는 tensor 자료가 아닐 수 있다\n",
        "zagged_arr = [[1,2,3],[1,2],[1,2,3,4,5]] #원소의 개수가 일정하지 않는 리스트\n",
        "zagged_arr"
      ],
      "metadata": {
        "colab": {
          "base_uri": "https://localhost:8080/"
        },
        "id": "6ut2nd2Dq_XN",
        "outputId": "0cd2c013-ece9-46d7-a236-4cf4cfde1043"
      },
      "execution_count": 19,
      "outputs": [
        {
          "output_type": "execute_result",
          "data": {
            "text/plain": [
              "[[1, 2, 3], [1, 2], [1, 2, 3, 4, 5]]"
            ]
          },
          "metadata": {},
          "execution_count": 19
        }
      ]
    },
    {
      "cell_type": "code",
      "source": [
        "data2.ndim"
      ],
      "metadata": {
        "colab": {
          "base_uri": "https://localhost:8080/"
        },
        "id": "ThVa-afssWMp",
        "outputId": "4586e2cb-4d48-4758-c065-4a4393a9c86e"
      },
      "execution_count": 22,
      "outputs": [
        {
          "output_type": "execute_result",
          "data": {
            "text/plain": [
              "2"
            ]
          },
          "metadata": {},
          "execution_count": 22
        }
      ]
    },
    {
      "cell_type": "code",
      "source": [
        "data2.shape"
      ],
      "metadata": {
        "colab": {
          "base_uri": "https://localhost:8080/"
        },
        "id": "hD0Qqsw9sfik",
        "outputId": "2116f5b9-d8bb-4b0b-af29-0d7adf2450e0"
      },
      "execution_count": 23,
      "outputs": [
        {
          "output_type": "execute_result",
          "data": {
            "text/plain": [
              "(6, 5)"
            ]
          },
          "metadata": {},
          "execution_count": 23
        }
      ]
    },
    {
      "cell_type": "markdown",
      "source": [
        "#행렬 계산"
      ],
      "metadata": {
        "id": "C3YXqH8krgr2"
      }
    },
    {
      "cell_type": "code",
      "source": [
        "arr1 = np.array([[1,2],[3,4]])\n",
        "arr2 = np.array([[4,6],[3,7]])\n",
        "\n",
        "arr3 = arr1 + arr2\n",
        "arr3"
      ],
      "metadata": {
        "colab": {
          "base_uri": "https://localhost:8080/"
        },
        "id": "lhm8lgMOrh-m",
        "outputId": "3cee5e80-3afe-4213-b818-bab71c7448d8"
      },
      "execution_count": 20,
      "outputs": [
        {
          "output_type": "execute_result",
          "data": {
            "text/plain": [
              "array([[ 5,  8],\n",
              "       [ 6, 11]])"
            ]
          },
          "metadata": {},
          "execution_count": 20
        }
      ]
    },
    {
      "cell_type": "code",
      "source": [
        "ls1 = [[1,2],[3,4]]\n",
        "ls2 = [[4,6],[3,7]]\n",
        "ls3 = ls1 + ls2 #연산 X\n",
        "ls3"
      ],
      "metadata": {
        "colab": {
          "base_uri": "https://localhost:8080/"
        },
        "id": "VllYDmvfrr4o",
        "outputId": "e6519b33-de40-4e37-c65c-b19b9d88a409"
      },
      "execution_count": 21,
      "outputs": [
        {
          "output_type": "execute_result",
          "data": {
            "text/plain": [
              "[[1, 2], [3, 4], [4, 6], [3, 7]]"
            ]
          },
          "metadata": {},
          "execution_count": 21
        }
      ]
    },
    {
      "cell_type": "markdown",
      "source": [
        "#원소 형식"
      ],
      "metadata": {
        "id": "TBBemK_6ss6v"
      }
    },
    {
      "cell_type": "code",
      "source": [
        "arr = np.array([1,2,3,4,5])\n",
        "arr.dtype"
      ],
      "metadata": {
        "colab": {
          "base_uri": "https://localhost:8080/"
        },
        "id": "-vUO7Byfsuea",
        "outputId": "6cfdca20-e5f4-4ef3-d2fb-0fd29d667840"
      },
      "execution_count": 33,
      "outputs": [
        {
          "output_type": "execute_result",
          "data": {
            "text/plain": [
              "dtype('int64')"
            ]
          },
          "metadata": {},
          "execution_count": 33
        }
      ]
    },
    {
      "cell_type": "code",
      "source": [
        "type(arr1[0])"
      ],
      "metadata": {
        "colab": {
          "base_uri": "https://localhost:8080/"
        },
        "id": "Eg14VOQ6tWTE",
        "outputId": "f112fc18-662c-4834-feee-657d6597d80c"
      },
      "execution_count": 37,
      "outputs": [
        {
          "output_type": "execute_result",
          "data": {
            "text/plain": [
              "numpy.ndarray"
            ]
          },
          "metadata": {},
          "execution_count": 37
        }
      ]
    },
    {
      "cell_type": "code",
      "source": [
        "arr = np.array([1,2,3,4,5.])\n",
        "arr.dtype"
      ],
      "metadata": {
        "colab": {
          "base_uri": "https://localhost:8080/"
        },
        "id": "1gHlWopQs0pw",
        "outputId": "06ad4a61-f2eb-4901-9039-a7a901b7be26"
      },
      "execution_count": 25,
      "outputs": [
        {
          "output_type": "execute_result",
          "data": {
            "text/plain": [
              "dtype('float64')"
            ]
          },
          "metadata": {},
          "execution_count": 25
        }
      ]
    },
    {
      "cell_type": "code",
      "source": [
        "type(arr2[0])"
      ],
      "metadata": {
        "colab": {
          "base_uri": "https://localhost:8080/"
        },
        "id": "B5hnfpGptapt",
        "outputId": "d96f5831-4501-41cd-9b32-6e14d267bd54"
      },
      "execution_count": 36,
      "outputs": [
        {
          "output_type": "execute_result",
          "data": {
            "text/plain": [
              "numpy.ndarray"
            ]
          },
          "metadata": {},
          "execution_count": 36
        }
      ]
    },
    {
      "cell_type": "code",
      "source": [
        "arr3 = np.array([1,2,'a',4,5]) # 모든 원소가 같은 데이터 타입이어야 한다.\n",
        "arr3.dtype"
      ],
      "metadata": {
        "colab": {
          "base_uri": "https://localhost:8080/"
        },
        "id": "e-M40j3Ks2JW",
        "outputId": "b8fa8473-3a38-4da8-c564-13cd8a8d09b4"
      },
      "execution_count": 32,
      "outputs": [
        {
          "output_type": "execute_result",
          "data": {
            "text/plain": [
              "dtype('<U21')"
            ]
          },
          "metadata": {},
          "execution_count": 32
        }
      ]
    },
    {
      "cell_type": "code",
      "source": [
        "type(arr3[0])"
      ],
      "metadata": {
        "colab": {
          "base_uri": "https://localhost:8080/"
        },
        "id": "EfudHRJps5Oa",
        "outputId": "0827557e-3012-451c-9af4-2c26a3b04210"
      },
      "execution_count": 35,
      "outputs": [
        {
          "output_type": "execute_result",
          "data": {
            "text/plain": [
              "numpy.str_"
            ]
          },
          "metadata": {},
          "execution_count": 35
        }
      ]
    },
    {
      "cell_type": "code",
      "source": [
        "arr3[0] #문자 1로 표현됨"
      ],
      "metadata": {
        "colab": {
          "base_uri": "https://localhost:8080/",
          "height": 35
        },
        "id": "XCPBNtZJtvJO",
        "outputId": "88f101da-6e49-4b77-ec41-693188bfcc85"
      },
      "execution_count": 38,
      "outputs": [
        {
          "output_type": "execute_result",
          "data": {
            "application/vnd.google.colaboratory.intrinsic+json": {
              "type": "string"
            },
            "text/plain": [
              "'1'"
            ]
          },
          "metadata": {},
          "execution_count": 38
        }
      ]
    },
    {
      "cell_type": "code",
      "source": [
        "ls = [1,2,3,4,5.] #리스트는 원소가 다 다른 타입이어도 저장된다. \n",
        "type(ls[0]),type(ls[4])"
      ],
      "metadata": {
        "colab": {
          "base_uri": "https://localhost:8080/"
        },
        "id": "P0b_nr-Ut5Py",
        "outputId": "4d221061-24b7-42ee-8fd2-d4280fff577f"
      },
      "execution_count": 40,
      "outputs": [
        {
          "output_type": "execute_result",
          "data": {
            "text/plain": [
              "(int, float)"
            ]
          },
          "metadata": {},
          "execution_count": 40
        }
      ]
    },
    {
      "cell_type": "markdown",
      "source": [
        "#형식 변환"
      ],
      "metadata": {
        "id": "pPY7lFFCubS_"
      }
    },
    {
      "cell_type": "code",
      "source": [
        "arr4 = np.array(['1','2','3','4'])\n",
        "for e in arr4:\n",
        "  print(e,end=',')\n",
        "print()"
      ],
      "metadata": {
        "colab": {
          "base_uri": "https://localhost:8080/"
        },
        "id": "vIGxDy1Huc8s",
        "outputId": "2c9e0471-436d-4cfe-ba0b-1069f5e718d9"
      },
      "execution_count": 45,
      "outputs": [
        {
          "output_type": "stream",
          "name": "stdout",
          "text": [
            "1,2,3,4,\n"
          ]
        }
      ]
    },
    {
      "cell_type": "code",
      "source": [
        "s = arr4[0]\n",
        "for e in range(1,len(arr4)):\n",
        "  s += arr4[e] #문자열이므로 연산 X, 이어 붙이기 O\n",
        "s"
      ],
      "metadata": {
        "colab": {
          "base_uri": "https://localhost:8080/",
          "height": 35
        },
        "id": "txLRjn_fuu_Y",
        "outputId": "3d83d45d-c78d-4342-fdd8-2f62ecf46a70"
      },
      "execution_count": 49,
      "outputs": [
        {
          "output_type": "execute_result",
          "data": {
            "application/vnd.google.colaboratory.intrinsic+json": {
              "type": "string"
            },
            "text/plain": [
              "'1234'"
            ]
          },
          "metadata": {},
          "execution_count": 49
        }
      ]
    },
    {
      "cell_type": "code",
      "source": [
        "arr5 = arr4.astype(int) #한꺼번에 해당하는 타입으로 패싱하고 싶을 때 사용\n",
        "print(arr5.sum())"
      ],
      "metadata": {
        "colab": {
          "base_uri": "https://localhost:8080/"
        },
        "id": "F3IAJ6qwvq9P",
        "outputId": "4ca7e30d-83f9-4cfd-df0a-3ed153c2622e"
      },
      "execution_count": 51,
      "outputs": [
        {
          "output_type": "stream",
          "name": "stdout",
          "text": [
            "10\n"
          ]
        }
      ]
    },
    {
      "cell_type": "markdown",
      "source": [
        "#산술 연산, 필터링"
      ],
      "metadata": {
        "id": "0HBNDzMOzMDf"
      }
    },
    {
      "cell_type": "code",
      "source": [
        "arr = np.array([[1,2],[3,4]])\n",
        "sq_arr = arr*arr\n",
        "sq_arr"
      ],
      "metadata": {
        "colab": {
          "base_uri": "https://localhost:8080/"
        },
        "id": "CpNv8ixpzPG7",
        "outputId": "066b8398-fd24-4f01-9af8-ede95cebf142"
      },
      "execution_count": 52,
      "outputs": [
        {
          "output_type": "execute_result",
          "data": {
            "text/plain": [
              "array([[ 1,  4],\n",
              "       [ 9, 16]])"
            ]
          },
          "metadata": {},
          "execution_count": 52
        }
      ]
    },
    {
      "cell_type": "code",
      "source": [
        "arr = np.array([-1,2,3,4,-4,9])\n",
        "filter = arr%2 ==0\n",
        "print(filter)\n",
        "darr = arr[filter]\n",
        "print(darr)"
      ],
      "metadata": {
        "colab": {
          "base_uri": "https://localhost:8080/"
        },
        "id": "o7oxnIG30VqG",
        "outputId": "04dd1a44-aeaa-4017-f833-2efaf8f704b6"
      },
      "execution_count": 53,
      "outputs": [
        {
          "output_type": "stream",
          "name": "stdout",
          "text": [
            "[False  True False  True  True False]\n",
            "[ 2  4 -4]\n"
          ]
        }
      ]
    },
    {
      "cell_type": "markdown",
      "source": [
        "#슬라이싱"
      ],
      "metadata": {
        "id": "K8FOof1K0e8t"
      }
    },
    {
      "cell_type": "code",
      "source": [
        "arr = np.array([[1,2,3,],[4,5,6]])\n",
        "arr.shape"
      ],
      "metadata": {
        "colab": {
          "base_uri": "https://localhost:8080/"
        },
        "id": "-UnlTrv20gL2",
        "outputId": "3f6b701a-7c59-4ce4-9858-227e7f50b49d"
      },
      "execution_count": 54,
      "outputs": [
        {
          "output_type": "execute_result",
          "data": {
            "text/plain": [
              "(2, 3)"
            ]
          },
          "metadata": {},
          "execution_count": 54
        }
      ]
    },
    {
      "cell_type": "code",
      "source": [
        "for i in range(2):\n",
        "  for j in range(3):\n",
        "    print(arr[i,j],end=',')\n",
        "  print()"
      ],
      "metadata": {
        "colab": {
          "base_uri": "https://localhost:8080/"
        },
        "id": "K4YWZWPl0pUd",
        "outputId": "09d7679e-6de3-4264-c4fd-c2fe96194737"
      },
      "execution_count": 55,
      "outputs": [
        {
          "output_type": "stream",
          "name": "stdout",
          "text": [
            "1,2,3,\n",
            "4,5,6,\n"
          ]
        }
      ]
    },
    {
      "cell_type": "code",
      "source": [
        "print(arr[0,1]) #가독성이 있다(강사님)\n",
        "print(arr[0][1])"
      ],
      "metadata": {
        "colab": {
          "base_uri": "https://localhost:8080/"
        },
        "id": "NAe_eqit1MHP",
        "outputId": "eb8c8e9e-5981-4899-a514-57b703baaed0"
      },
      "execution_count": 56,
      "outputs": [
        {
          "output_type": "stream",
          "name": "stdout",
          "text": [
            "2\n",
            "2\n"
          ]
        }
      ]
    },
    {
      "cell_type": "code",
      "source": [
        "arr = np.arange(100)\n",
        "arr"
      ],
      "metadata": {
        "colab": {
          "base_uri": "https://localhost:8080/"
        },
        "id": "99zpXbHB1g43",
        "outputId": "ca828436-69c2-43fb-82e5-753972703d1e"
      },
      "execution_count": 57,
      "outputs": [
        {
          "output_type": "execute_result",
          "data": {
            "text/plain": [
              "array([ 0,  1,  2,  3,  4,  5,  6,  7,  8,  9, 10, 11, 12, 13, 14, 15, 16,\n",
              "       17, 18, 19, 20, 21, 22, 23, 24, 25, 26, 27, 28, 29, 30, 31, 32, 33,\n",
              "       34, 35, 36, 37, 38, 39, 40, 41, 42, 43, 44, 45, 46, 47, 48, 49, 50,\n",
              "       51, 52, 53, 54, 55, 56, 57, 58, 59, 60, 61, 62, 63, 64, 65, 66, 67,\n",
              "       68, 69, 70, 71, 72, 73, 74, 75, 76, 77, 78, 79, 80, 81, 82, 83, 84,\n",
              "       85, 86, 87, 88, 89, 90, 91, 92, 93, 94, 95, 96, 97, 98, 99])"
            ]
          },
          "metadata": {},
          "execution_count": 57
        }
      ]
    },
    {
      "cell_type": "code",
      "source": [
        "arr[3:10] #arr[3]~arr[10-1]"
      ],
      "metadata": {
        "colab": {
          "base_uri": "https://localhost:8080/"
        },
        "id": "IAl-s1qc1oPN",
        "outputId": "bd389932-6d58-410b-9df1-7737ef64ede4"
      },
      "execution_count": 58,
      "outputs": [
        {
          "output_type": "execute_result",
          "data": {
            "text/plain": [
              "array([3, 4, 5, 6, 7, 8, 9])"
            ]
          },
          "metadata": {},
          "execution_count": 58
        }
      ]
    },
    {
      "cell_type": "code",
      "source": [
        "arr[:5]"
      ],
      "metadata": {
        "colab": {
          "base_uri": "https://localhost:8080/"
        },
        "id": "zqAMwED01t_M",
        "outputId": "5a01a824-0afb-49c3-8010-9f974bbe5449"
      },
      "execution_count": 59,
      "outputs": [
        {
          "output_type": "execute_result",
          "data": {
            "text/plain": [
              "array([0, 1, 2, 3, 4])"
            ]
          },
          "metadata": {},
          "execution_count": 59
        }
      ]
    },
    {
      "cell_type": "code",
      "source": [
        "arr[95:]"
      ],
      "metadata": {
        "colab": {
          "base_uri": "https://localhost:8080/"
        },
        "id": "ucQqeyXF1vlG",
        "outputId": "7fcb575a-a247-4ead-fca3-0361f239fbc4"
      },
      "execution_count": 60,
      "outputs": [
        {
          "output_type": "execute_result",
          "data": {
            "text/plain": [
              "array([95, 96, 97, 98, 99])"
            ]
          },
          "metadata": {},
          "execution_count": 60
        }
      ]
    },
    {
      "cell_type": "code",
      "source": [
        "arr[-1]"
      ],
      "metadata": {
        "colab": {
          "base_uri": "https://localhost:8080/"
        },
        "id": "Idg6betf1xdW",
        "outputId": "27292651-7654-4ce3-b0f0-78262ac55beb"
      },
      "execution_count": 61,
      "outputs": [
        {
          "output_type": "execute_result",
          "data": {
            "text/plain": [
              "99"
            ]
          },
          "metadata": {},
          "execution_count": 61
        }
      ]
    },
    {
      "cell_type": "code",
      "source": [
        "arr[90:-3]"
      ],
      "metadata": {
        "colab": {
          "base_uri": "https://localhost:8080/"
        },
        "id": "BHQqn-kE16f0",
        "outputId": "56b9c86e-4e1e-44fc-ba4b-55af25e843b4"
      },
      "execution_count": 62,
      "outputs": [
        {
          "output_type": "execute_result",
          "data": {
            "text/plain": [
              "array([90, 91, 92, 93, 94, 95, 96])"
            ]
          },
          "metadata": {},
          "execution_count": 62
        }
      ]
    },
    {
      "cell_type": "code",
      "source": [
        "pre80 = arr[:len(arr)*4//5]\n",
        "pre80"
      ],
      "metadata": {
        "colab": {
          "base_uri": "https://localhost:8080/"
        },
        "id": "wA6ABqij2Cxt",
        "outputId": "9a8b9a17-956a-447e-d601-769fdf0aba1d"
      },
      "execution_count": 64,
      "outputs": [
        {
          "output_type": "execute_result",
          "data": {
            "text/plain": [
              "array([ 0,  1,  2,  3,  4,  5,  6,  7,  8,  9, 10, 11, 12, 13, 14, 15, 16,\n",
              "       17, 18, 19, 20, 21, 22, 23, 24, 25, 26, 27, 28, 29, 30, 31, 32, 33,\n",
              "       34, 35, 36, 37, 38, 39, 40, 41, 42, 43, 44, 45, 46, 47, 48, 49, 50,\n",
              "       51, 52, 53, 54, 55, 56, 57, 58, 59, 60, 61, 62, 63, 64, 65, 66, 67,\n",
              "       68, 69, 70, 71, 72, 73, 74, 75, 76, 77, 78, 79])"
            ]
          },
          "metadata": {},
          "execution_count": 64
        }
      ]
    },
    {
      "cell_type": "code",
      "source": [
        "post20 = arr[len(arr)*4//5:]\n",
        "post20"
      ],
      "metadata": {
        "colab": {
          "base_uri": "https://localhost:8080/"
        },
        "id": "QeA91h_X2Wei",
        "outputId": "89befa3a-e433-433d-9ad8-1483cae8903a"
      },
      "execution_count": 65,
      "outputs": [
        {
          "output_type": "execute_result",
          "data": {
            "text/plain": [
              "array([80, 81, 82, 83, 84, 85, 86, 87, 88, 89, 90, 91, 92, 93, 94, 95, 96,\n",
              "       97, 98, 99])"
            ]
          },
          "metadata": {},
          "execution_count": 65
        }
      ]
    },
    {
      "cell_type": "markdown",
      "source": [
        "#필터링 강화"
      ],
      "metadata": {
        "id": "_HN7c6_C20T_"
      }
    },
    {
      "cell_type": "code",
      "source": [
        "names = np.array(['Bob','Joe','Will','Bob','Will','Joe','Joe'])\n",
        "scores = np.array([90,80,74,84,78,88,85])\n",
        "filter = names=='Bob'\n",
        "scores[filter]"
      ],
      "metadata": {
        "colab": {
          "base_uri": "https://localhost:8080/"
        },
        "id": "qb1ym6H422V3",
        "outputId": "f02ed97a-6a5b-4874-d060-971d9971ccd1"
      },
      "execution_count": 70,
      "outputs": [
        {
          "output_type": "execute_result",
          "data": {
            "text/plain": [
              "array([90, 84])"
            ]
          },
          "metadata": {},
          "execution_count": 70
        }
      ]
    },
    {
      "cell_type": "code",
      "source": [
        "texts = np.array([\"hello, How are you?\",\"where r u from?\",\"RD GG\",\"ready Go Go\"])\n",
        "filter = [True if \"r\" in text else False for text in texts]\n",
        "filter\n",
        "texts[filter]"
      ],
      "metadata": {
        "colab": {
          "base_uri": "https://localhost:8080/"
        },
        "id": "gJ_O2wU64MSK",
        "outputId": "a38f5130-fef1-4bfc-bd10-c81374a63430"
      },
      "execution_count": 72,
      "outputs": [
        {
          "output_type": "execute_result",
          "data": {
            "text/plain": [
              "array(['hello, How are you?', 'where r u from?', 'ready Go Go'],\n",
              "      dtype='<U19')"
            ]
          },
          "metadata": {},
          "execution_count": 72
        }
      ]
    },
    {
      "cell_type": "markdown",
      "source": [
        "[True if \"r\" in text else False for text in texts]\n",
        "해당 컴프리헨션 설명"
      ],
      "metadata": {
        "id": "HdFQv-5_5Fg4"
      }
    },
    {
      "cell_type": "code",
      "source": [
        "data = [i*i for i in range(10)]\n",
        "print(data)"
      ],
      "metadata": {
        "colab": {
          "base_uri": "https://localhost:8080/"
        },
        "id": "0NXVMifS5E6P",
        "outputId": "d376e854-6800-4690-c37b-1975a08f2b23"
      },
      "execution_count": 73,
      "outputs": [
        {
          "output_type": "stream",
          "name": "stdout",
          "text": [
            "[0, 1, 4, 9, 16, 25, 36, 49, 64, 81]\n"
          ]
        }
      ]
    },
    {
      "cell_type": "code",
      "source": [
        "data2 = [ i*i for i in range(10) if i%2==0] #조건 만족시키는 것만 나열\n",
        "print(data2)"
      ],
      "metadata": {
        "colab": {
          "base_uri": "https://localhost:8080/"
        },
        "id": "mIx1gJMa5Ve9",
        "outputId": "85c42218-14a2-465d-fd13-37c08e275a25"
      },
      "execution_count": 75,
      "outputs": [
        {
          "output_type": "stream",
          "name": "stdout",
          "text": [
            "[0, 4, 16, 36, 64]\n"
          ]
        }
      ]
    },
    {
      "cell_type": "code",
      "source": [
        "data3 = [i*i if i%2==0 else -(i*i) for i in range(10)]\n",
        "print(data3)"
      ],
      "metadata": {
        "colab": {
          "base_uri": "https://localhost:8080/"
        },
        "id": "eSECKhdo5vrC",
        "outputId": "159ecf82-2dd7-4868-b43c-fe4bb40caf87"
      },
      "execution_count": 76,
      "outputs": [
        {
          "output_type": "stream",
          "name": "stdout",
          "text": [
            "[0, -1, 4, -9, 16, -25, 36, -49, 64, -81]\n"
          ]
        }
      ]
    }
  ]
}