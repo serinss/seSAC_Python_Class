{
  "nbformat": 4,
  "nbformat_minor": 0,
  "metadata": {
    "colab": {
      "name": "통계데이터분석 - 주요 모듈 복습.ipynb",
      "provenance": [],
      "collapsed_sections": [],
      "authorship_tag": "ABX9TyMOyF0NH1FcA8CRrjT7E3qv",
      "include_colab_link": true
    },
    "kernelspec": {
      "name": "python3",
      "display_name": "Python 3"
    },
    "language_info": {
      "name": "python"
    }
  },
  "cells": [
    {
      "cell_type": "markdown",
      "metadata": {
        "id": "view-in-github",
        "colab_type": "text"
      },
      "source": [
        "<a href=\"https://colab.research.google.com/github/serinss/seSAC_Python_Class/blob/main/%ED%86%B5%EA%B3%84%EB%8D%B0%EC%9D%B4%ED%84%B0%EB%B6%84%EC%84%9D_%EC%A3%BC%EC%9A%94_%EB%AA%A8%EB%93%88_%EB%B3%B5%EC%8A%B5.ipynb\" target=\"_parent\"><img src=\"https://colab.research.google.com/assets/colab-badge.svg\" alt=\"Open In Colab\"/></a>"
      ]
    },
    {
      "cell_type": "markdown",
      "source": [
        "p.133 Numpy 기본"
      ],
      "metadata": {
        "id": "2Pm5N2iAoFSP"
      }
    },
    {
      "cell_type": "code",
      "execution_count": 1,
      "metadata": {
        "colab": {
          "base_uri": "https://localhost:8080/"
        },
        "id": "ZwrMzXI0nLPI",
        "outputId": "f8447f13-8bf3-4196-e283-b382d599fb16"
      },
      "outputs": [
        {
          "output_type": "execute_result",
          "data": {
            "text/plain": [
              "[2, 4, 6, 8, 10]"
            ]
          },
          "metadata": {},
          "execution_count": 1
        }
      ],
      "source": [
        "ls = [1,2,3,4,5]\n",
        "\n",
        "ls_twice = []\n",
        "for e in ls:\n",
        "  ls_twice.append(e*2)\n",
        "ls_twice"
      ]
    },
    {
      "cell_type": "code",
      "source": [
        "import numpy as np\n",
        "arr = np.array(ls)\n",
        "arr_twice = arr*2\n",
        "arr_twice"
      ],
      "metadata": {
        "colab": {
          "base_uri": "https://localhost:8080/"
        },
        "id": "ghYfdPqjn_dG",
        "outputId": "70b1b1b6-e540-42fe-d76f-11856aaf5764"
      },
      "execution_count": 2,
      "outputs": [
        {
          "output_type": "execute_result",
          "data": {
            "text/plain": [
              "array([ 2,  4,  6,  8, 10])"
            ]
          },
          "metadata": {},
          "execution_count": 2
        }
      ]
    },
    {
      "cell_type": "markdown",
      "source": [
        "강한 wrapping"
      ],
      "metadata": {
        "id": "j-Uhi_B1oiM0"
      }
    },
    {
      "cell_type": "code",
      "source": [
        "arr = np.arange(10000)\n",
        "arr"
      ],
      "metadata": {
        "colab": {
          "base_uri": "https://localhost:8080/"
        },
        "id": "514vRc0EoVLG",
        "outputId": "1d245e4b-bbe5-489f-ca1b-c3710608052f"
      },
      "execution_count": 3,
      "outputs": [
        {
          "output_type": "execute_result",
          "data": {
            "text/plain": [
              "array([   0,    1,    2, ..., 9997, 9998, 9999])"
            ]
          },
          "metadata": {},
          "execution_count": 3
        }
      ]
    },
    {
      "cell_type": "code",
      "source": [
        "arr = np.array(range(10000))\n",
        "arr"
      ],
      "metadata": {
        "colab": {
          "base_uri": "https://localhost:8080/"
        },
        "id": "5kb2PnOiocjI",
        "outputId": "b3a572fd-1cb2-439e-e433-aeec2ed29ae8"
      },
      "execution_count": 4,
      "outputs": [
        {
          "output_type": "execute_result",
          "data": {
            "text/plain": [
              "array([   0,    1,    2, ..., 9997, 9998, 9999])"
            ]
          },
          "metadata": {},
          "execution_count": 4
        }
      ]
    },
    {
      "cell_type": "markdown",
      "source": [
        "wrapping 이란?"
      ],
      "metadata": {
        "id": "y-FJtadOoj55"
      }
    },
    {
      "cell_type": "code",
      "source": [
        "def madd(a,b):\n",
        "  return a+b"
      ],
      "metadata": {
        "id": "qYsEr9tnolW9"
      },
      "execution_count": 6,
      "outputs": []
    },
    {
      "cell_type": "code",
      "source": [
        "def msum(ls):\n",
        "  s = 0\n",
        "  for e in ls:\n",
        "    s = madd(s,e)\n",
        "  return s"
      ],
      "metadata": {
        "id": "0oG7v4R7op0V"
      },
      "execution_count": 7,
      "outputs": []
    },
    {
      "cell_type": "code",
      "source": [
        "def count(ls):\n",
        "  cnt = 0\n",
        "  for _ in ls:\n",
        "    cnt += 1\n",
        "  return cnt"
      ],
      "metadata": {
        "id": "6O_qU6uro4SQ"
      },
      "execution_count": 9,
      "outputs": []
    },
    {
      "cell_type": "code",
      "source": [
        "ls=[1,2,3,8,4]\n",
        "s = msum(ls)\n",
        "l = count(ls)\n",
        "print(f\"평균:{s/l:.2f}\")"
      ],
      "metadata": {
        "colab": {
          "base_uri": "https://localhost:8080/"
        },
        "id": "_d5pnkK4o_Tt",
        "outputId": "81d10400-d297-43f7-c693-99887a89dc40"
      },
      "execution_count": 11,
      "outputs": [
        {
          "output_type": "stream",
          "name": "stdout",
          "text": [
            "평균:3.60\n"
          ]
        }
      ]
    },
    {
      "cell_type": "code",
      "source": [
        "def average(ls):\n",
        "  return msum(ls)/count(ls)"
      ],
      "metadata": {
        "id": "h-kaXfs-ox1k"
      },
      "execution_count": 10,
      "outputs": []
    },
    {
      "cell_type": "code",
      "source": [
        ""
      ],
      "metadata": {
        "id": "1Pn73EMNo-Tu"
      },
      "execution_count": null,
      "outputs": []
    }
  ]
}